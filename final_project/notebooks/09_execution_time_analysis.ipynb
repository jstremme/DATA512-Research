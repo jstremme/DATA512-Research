{
 "cells": [
  {
   "cell_type": "markdown",
   "metadata": {},
   "source": [
    "# Execution Time Analysis for Logistic Regression Training\n",
    "This notebook analyzes the execution times from `07_spark_logistic_regression_food_inspections` to provide comparisons between:\n",
    "\n",
    "1. A from-scratch Python implementation which uses looping to compute gradients on individual samples\n",
    "2. A from-scratch Spark implementation which leverages distributed map and reduce operations to compute gradients on individual samples\n",
    "3. The Spark MLlib implementation of Logistic Regression\n",
    "\n",
    "**Notes:**\n",
    "\n",
    "1. Logistic Regression Algorithm for Spark RDD from M. Zaharia, M. Chowdhury, T. Das, A. Dave, J. Ma, M. McCauley, M. J. Franklin, S. Shenker, and I. Stoica. Resilient distributed datasets: A fault-tolerant abstraction for in-memory cluster computing. In Proceedings of NSDI, pages 15–28, 2012.\n",
    "2. Raw Python Version based on https://github.com/jstremme/l2-regularized-logistic-regression but without regularization and vectorization of matrix operations.  Instead `py_lr_grad_descent` computes the gradient on each sample sequentially, unlike Spark which will compute the gradient on each sample but in parallel.\n",
    "3. Spark MLlib: https://spark.apache.org/docs/latest/ml-guide.html."
   ]
  },
  {
   "cell_type": "markdown",
   "metadata": {},
   "source": [
    "### Imports"
   ]
  },
  {
   "cell_type": "code",
   "execution_count": 1,
   "metadata": {},
   "outputs": [],
   "source": [
    "import numpy as np\n",
    "import pandas as pd\n",
    "import matplotlib.pyplot as plt"
   ]
  },
  {
   "cell_type": "markdown",
   "metadata": {},
   "source": [
    "### Record Fit Times by Instance"
   ]
  },
  {
   "cell_type": "code",
   "execution_count": 2,
   "metadata": {},
   "outputs": [],
   "source": [
    "fit_times_df = pd.DataFrame(\n",
    "    {'instances': [2, 2, 2, 2, 2, 4, 4, 4, 4, 4, 8, 8, 8, 8, 8],\n",
    "     'scratch_python_fit_time_seconds': [60*1 + 30, 60*1 + 28, 60*1 + 24, 60*1 + 32, 60*1 + 27, 60*1 + 44, 60*1 + 52, 60*1 + 41, 60*1 + 49, 60*1 + 54, 99, 99, 99, 99, 99],\n",
    "     'scratch_spark_fit_time_seconds': [60*1 + 49, 60*1 + 52, 60*1 + 47, 60*1 + 49, 60*1 + 51, 48, 45, 42, 42, 52, 99, 99, 99, 99, 99],\n",
    "     'mllib_spark_fit_time_seconds': [24, 23, 22, 23, 21, 19, 18, 18, 17, 19, 99, 99, 99, 99, 99]\n",
    "    })"
   ]
  },
  {
   "cell_type": "markdown",
   "metadata": {},
   "source": [
    "### Create Plotting Functions"
   ]
  },
  {
   "cell_type": "code",
   "execution_count": 3,
   "metadata": {},
   "outputs": [],
   "source": [
    "def mean_r(x):\n",
    "    return round(np.mean(x), 3)"
   ]
  },
  {
   "cell_type": "code",
   "execution_count": 4,
   "metadata": {},
   "outputs": [],
   "source": [
    "def min_r(x):\n",
    "    return round(min(x), 3)"
   ]
  },
  {
   "cell_type": "code",
   "execution_count": 5,
   "metadata": {},
   "outputs": [],
   "source": [
    "def max_r(x):\n",
    "    return round(max(x), 3)"
   ]
  },
  {
   "cell_type": "code",
   "execution_count": 6,
   "metadata": {},
   "outputs": [],
   "source": [
    "def plot_mean_times(mean_times, algos, title, color):\n",
    "    \n",
    "    plt.clf()\n",
    "    \n",
    "    plt.figure(figsize=(6,6))\n",
    "    ypos = range(len(algos))\n",
    "    plt.barh(ypos, mean_times, color=color)\n",
    "\n",
    "    plt.title(title)\n",
    "    plt.yticks(ypos, algos)\n",
    "    plt.ylabel('AWS m5.xlarge Instances')\n",
    "    plt.xlabel('Execution Time (Seconds) - Mean of 5 Runs')\n",
    "    \n",
    "    plt.show()"
   ]
  },
  {
   "cell_type": "markdown",
   "metadata": {},
   "source": [
    "### Split Data by Number of Instances"
   ]
  },
  {
   "cell_type": "code",
   "execution_count": 7,
   "metadata": {},
   "outputs": [],
   "source": [
    "two_instance_df = fit_times_df[fit_times_df['instances'] == 2]\n",
    "four_instance_df = fit_times_df[fit_times_df['instances'] == 4]"
   ]
  },
  {
   "cell_type": "markdown",
   "metadata": {},
   "source": [
    "### Compute Summary Statistics"
   ]
  },
  {
   "cell_type": "code",
   "execution_count": 8,
   "metadata": {},
   "outputs": [],
   "source": [
    "all_algos = ['Scratch Sequential Python - 2 Instances', 'Scratch Spark - 2 Instances', 'MLlib Spark - 2 Instances',\n",
    "             'Scratch Sequential Python - 4 Instances', 'Scratch Spark - 4 Instances', 'MLlib Spark - 4 Instances']"
   ]
  },
  {
   "cell_type": "code",
   "execution_count": 9,
   "metadata": {},
   "outputs": [],
   "source": [
    "all_times = [two_instance_df['scratch_python_fit_time_seconds'].tolist(),\n",
    "             two_instance_df['scratch_spark_fit_time_seconds'].tolist(),\n",
    "             two_instance_df['mllib_spark_fit_time_seconds'].tolist(),\n",
    "             four_instance_df['scratch_python_fit_time_seconds'].tolist(),\n",
    "             four_instance_df['scratch_spark_fit_time_seconds'].tolist(),\n",
    "             four_instance_df['mllib_spark_fit_time_seconds'].tolist()]"
   ]
  },
  {
   "cell_type": "code",
   "execution_count": 10,
   "metadata": {},
   "outputs": [],
   "source": [
    "mean_times = list(map(mean_r, all_times))\n",
    "min_times = list(map(min_r, all_times))\n",
    "max_times = list(map(max_r, all_times))"
   ]
  },
  {
   "cell_type": "code",
   "execution_count": 11,
   "metadata": {},
   "outputs": [],
   "source": [
    "summary_df = pd.DataFrame(\n",
    "        {'Algorithm': all_algos,\n",
    "         'Mean': mean_times,\n",
    "         'Min': min_times,\n",
    "         'Max': max_times,\n",
    "        })"
   ]
  },
  {
   "cell_type": "code",
   "execution_count": 12,
   "metadata": {},
   "outputs": [
    {
     "data": {
      "text/html": [
       "<div>\n",
       "<style scoped>\n",
       "    .dataframe tbody tr th:only-of-type {\n",
       "        vertical-align: middle;\n",
       "    }\n",
       "\n",
       "    .dataframe tbody tr th {\n",
       "        vertical-align: top;\n",
       "    }\n",
       "\n",
       "    .dataframe thead th {\n",
       "        text-align: right;\n",
       "    }\n",
       "</style>\n",
       "<table border=\"1\" class=\"dataframe\">\n",
       "  <thead>\n",
       "    <tr style=\"text-align: right;\">\n",
       "      <th></th>\n",
       "      <th>Algorithm</th>\n",
       "      <th>Mean</th>\n",
       "      <th>Min</th>\n",
       "      <th>Max</th>\n",
       "    </tr>\n",
       "  </thead>\n",
       "  <tbody>\n",
       "    <tr>\n",
       "      <td>0</td>\n",
       "      <td>Scratch Sequential Python - 2 Instances</td>\n",
       "      <td>88.2</td>\n",
       "      <td>84</td>\n",
       "      <td>92</td>\n",
       "    </tr>\n",
       "    <tr>\n",
       "      <td>1</td>\n",
       "      <td>Scratch Spark - 2 Instances</td>\n",
       "      <td>109.6</td>\n",
       "      <td>107</td>\n",
       "      <td>112</td>\n",
       "    </tr>\n",
       "    <tr>\n",
       "      <td>2</td>\n",
       "      <td>MLlib Spark - 2 Instances</td>\n",
       "      <td>22.6</td>\n",
       "      <td>21</td>\n",
       "      <td>24</td>\n",
       "    </tr>\n",
       "    <tr>\n",
       "      <td>3</td>\n",
       "      <td>Scratch Sequential Python - 4 Instances</td>\n",
       "      <td>108.0</td>\n",
       "      <td>101</td>\n",
       "      <td>114</td>\n",
       "    </tr>\n",
       "    <tr>\n",
       "      <td>4</td>\n",
       "      <td>Scratch Spark - 4 Instances</td>\n",
       "      <td>45.8</td>\n",
       "      <td>42</td>\n",
       "      <td>52</td>\n",
       "    </tr>\n",
       "    <tr>\n",
       "      <td>5</td>\n",
       "      <td>MLlib Spark - 4 Instances</td>\n",
       "      <td>18.2</td>\n",
       "      <td>17</td>\n",
       "      <td>19</td>\n",
       "    </tr>\n",
       "  </tbody>\n",
       "</table>\n",
       "</div>"
      ],
      "text/plain": [
       "                                 Algorithm   Mean  Min  Max\n",
       "0  Scratch Sequential Python - 2 Instances   88.2   84   92\n",
       "1              Scratch Spark - 2 Instances  109.6  107  112\n",
       "2                MLlib Spark - 2 Instances   22.6   21   24\n",
       "3  Scratch Sequential Python - 4 Instances  108.0  101  114\n",
       "4              Scratch Spark - 4 Instances   45.8   42   52\n",
       "5                MLlib Spark - 4 Instances   18.2   17   19"
      ]
     },
     "execution_count": 12,
     "metadata": {},
     "output_type": "execute_result"
    }
   ],
   "source": [
    "summary_df"
   ]
  },
  {
   "cell_type": "markdown",
   "metadata": {},
   "source": [
    "### Plot Mean Times by Algorithm Type"
   ]
  },
  {
   "cell_type": "code",
   "execution_count": 13,
   "metadata": {},
   "outputs": [],
   "source": [
    "algos = ['2 Nodes', '4 Nodes', '8 Nodes']"
   ]
  },
  {
   "cell_type": "code",
   "execution_count": 14,
   "metadata": {},
   "outputs": [
    {
     "data": {
      "text/plain": [
       "<Figure size 432x288 with 0 Axes>"
      ]
     },
     "metadata": {},
     "output_type": "display_data"
    },
    {
     "data": {
      "image/png": "[encoded data removed]",
      "text/plain": [
       "<Figure size 432x432 with 1 Axes>"
      ]
     },
     "metadata": {
      "needs_background": "light"
     },
     "output_type": "display_data"
    }
   ],
   "source": [
    "means = [88.2, 108.0, 99]\n",
    "plot_mean_times(means, algos, title='Scratch Sequential Python', color='orange')"
   ]
  },
  {
   "cell_type": "code",
   "execution_count": 15,
   "metadata": {},
   "outputs": [
    {
     "data": {
      "text/plain": [
       "<Figure size 432x288 with 0 Axes>"
      ]
     },
     "metadata": {},
     "output_type": "display_data"
    },
    {
     "data": {
      "image/png": "[encoded data removed]",
      "text/plain": [
       "<Figure size 432x432 with 1 Axes>"
      ]
     },
     "metadata": {
      "needs_background": "light"
     },
     "output_type": "display_data"
    }
   ],
   "source": [
    "means = [109.6, 45.8, 99]\n",
    "plot_mean_times(means, algos, title='Scratch Spark', color='orange')"
   ]
  },
  {
   "cell_type": "code",
   "execution_count": 16,
   "metadata": {},
   "outputs": [
    {
     "data": {
      "text/plain": [
       "<Figure size 432x288 with 0 Axes>"
      ]
     },
     "metadata": {},
     "output_type": "display_data"
    },
    {
     "data": {
      "image/png": "[encoded data removed]",
      "text/plain": [
       "<Figure size 432x432 with 1 Axes>"
      ]
     },
     "metadata": {
      "needs_background": "light"
     },
     "output_type": "display_data"
    }
   ],
   "source": [
    "means = [22.6, 18.2, 99]\n",
    "plot_mean_times(means, algos, title='MLlib Spark', color='orange')"
   ]
  },
  {
   "cell_type": "code",
   "execution_count": null,
   "metadata": {},
   "outputs": [],
   "source": []
  },
  {
   "cell_type": "code",
   "execution_count": null,
   "metadata": {},
   "outputs": [],
   "source": []
  }
 ],
 "metadata": {
  "kernelspec": {
   "display_name": "Python 3",
   "language": "python",
   "name": "python3"
  },
  "language_info": {
   "codemirror_mode": {
    "name": "ipython",
    "version": 3
   },
   "file_extension": ".py",
   "mimetype": "text/x-python",
   "name": "python",
   "nbconvert_exporter": "python",
   "pygments_lexer": "ipython3",
   "version": "3.7.4"
  }
 },
 "nbformat": 4,
 "nbformat_minor": 2
}
