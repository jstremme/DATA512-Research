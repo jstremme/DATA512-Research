{
 "cells": [
  {
   "cell_type": "markdown",
   "metadata": {},
   "source": [
    "# Spark Logistic Regression\n",
    "This notebook reads the data splits from `04_create_data_splits` to apply a Logistic Regression model in Python and a from-scratch Logistic Regression model in Spark (with a homemade implementation of Gradient Descent).\n",
    "\n",
    "See the `01_food_inspections_data_prep` notebook for information about the Chicago Food Inspections Data, the license, and the various data attributes.  See the `02_census_data_prep` notebook for the US Census API terms of use.\n",
    "\n",
    "### Analysis and Models in this Notebook\n",
    "\n",
    "- Simple Logistic Regression model using scikit-learn\n",
    "- From-scratch Logistic Regression model using homemade implementation of Gradient Descent\n",
    "- Spark MLlib Logistic Regression"
   ]
  },
  {
   "cell_type": "markdown",
   "metadata": {},
   "source": [
    "### Set Global Seed"
   ]
  },
  {
   "cell_type": "code",
   "execution_count": 1,
   "metadata": {},
   "outputs": [],
   "source": [
    "SEED = 666"
   ]
  },
  {
   "cell_type": "markdown",
   "metadata": {},
   "source": [
    "### Imports"
   ]
  },
  {
   "cell_type": "code",
   "execution_count": 2,
   "metadata": {},
   "outputs": [],
   "source": [
    "import numpy as np\n",
    "import pandas as pd\n",
    "import matplotlib.pyplot as plt\n",
    "from sklearn.preprocessing import MinMaxScaler\n",
    "from sklearn.linear_model import LogisticRegression as SklearnLogisticRegression\n",
    "\n",
    "from pyspark import SparkContext\n",
    "from pyspark.sql.types import FloatType, StructType, StructField, LongType\n",
    "from pyspark.ml.feature import VectorAssembler\n",
    "from pyspark.sql import SparkSession\n",
    "from pyspark.ml.classification import LogisticRegression as SparkLogisticRegression\n",
    "\n",
    "import l2_regularized_logistic_regression as nplr"
   ]
  },
  {
   "cell_type": "markdown",
   "metadata": {},
   "source": [
    "### Read Train and Test Splits"
   ]
  },
  {
   "cell_type": "code",
   "execution_count": 3,
   "metadata": {},
   "outputs": [],
   "source": [
    "X_train = pd.read_csv('../data/X_train.gz', compression='gzip')\n",
    "X_test = pd.read_csv('../data/X_test.gz', compression='gzip')\n",
    "y_train = pd.read_csv('../data/y_train.gz', compression='gzip').values.flatten()\n",
    "y_test = pd.read_csv('../data/y_test.gz', compression='gzip').values.flatten()"
   ]
  },
  {
   "cell_type": "code",
   "execution_count": 4,
   "metadata": {},
   "outputs": [],
   "source": [
    "features = X_train.columns"
   ]
  },
  {
   "cell_type": "markdown",
   "metadata": {},
   "source": [
    "### Scale Train and Test Sets"
   ]
  },
  {
   "cell_type": "code",
   "execution_count": 5,
   "metadata": {},
   "outputs": [],
   "source": [
    "minmax_scaler = MinMaxScaler(feature_range=(0, 1))\n",
    "X_train_scaled = minmax_scaler.fit_transform(X_train.values)\n",
    "X_test_scaled = minmax_scaler.transform(X_test.values)"
   ]
  },
  {
   "cell_type": "markdown",
   "metadata": {},
   "source": [
    "### Check Performance of scikit-learn Logistic Regression with No Regularization\n",
    "Setting the regularization parameter to `1e8` we get effectively no regularization, as in the statsmodel API Logit model.  See this issue for details: https://github.com/scikit-learn/scikit-learn/issues/6738"
   ]
  },
  {
   "cell_type": "code",
   "execution_count": 6,
   "metadata": {},
   "outputs": [],
   "source": [
    "sklearn_clf = SklearnLogisticRegression(C=1e8, # https://github.com/scikit-learn/scikit-learn/issues/6738\n",
    "                                        penalty='l2',\n",
    "                                        solver='liblinear',\n",
    "                                        fit_intercept=True,\n",
    "                                        max_iter=1000)"
   ]
  },
  {
   "cell_type": "code",
   "execution_count": 7,
   "metadata": {},
   "outputs": [
    {
     "name": "stdout",
     "output_type": "stream",
     "text": [
      "CPU times: user 735 ms, sys: 16.5 ms, total: 751 ms\n",
      "Wall time: 751 ms\n"
     ]
    },
    {
     "data": {
      "text/plain": [
       "LogisticRegression(C=100000000.0, class_weight=None, dual=False,\n",
       "                   fit_intercept=True, intercept_scaling=1, l1_ratio=None,\n",
       "                   max_iter=1000, multi_class='auto', n_jobs=None, penalty='l2',\n",
       "                   random_state=None, solver='liblinear', tol=0.0001, verbose=0,\n",
       "                   warm_start=False)"
      ]
     },
     "execution_count": 7,
     "metadata": {},
     "output_type": "execute_result"
    }
   ],
   "source": [
    "%%time\n",
    "sklearn_clf.fit(X_train_scaled, y_train)"
   ]
  },
  {
   "cell_type": "markdown",
   "metadata": {},
   "source": [
    "### Compute Accuracy at 0.5 Threshold"
   ]
  },
  {
   "cell_type": "code",
   "execution_count": 8,
   "metadata": {},
   "outputs": [],
   "source": [
    "y_prob = sklearn_clf.predict_proba(X_test_scaled)[:, 1]"
   ]
  },
  {
   "cell_type": "code",
   "execution_count": 9,
   "metadata": {},
   "outputs": [
    {
     "data": {
      "text/plain": [
       "0.7761797752808989"
      ]
     },
     "execution_count": 9,
     "metadata": {},
     "output_type": "execute_result"
    }
   ],
   "source": [
    "y_pred = [1 if x > 0.5 else 0 for x in y_prob]\n",
    "np.mean(y_test == y_pred)"
   ]
  },
  {
   "cell_type": "markdown",
   "metadata": {},
   "source": [
    "### Initialize Spark"
   ]
  },
  {
   "cell_type": "code",
   "execution_count": 10,
   "metadata": {},
   "outputs": [],
   "source": [
    "sc = SparkContext.getOrCreate()\n",
    "spark = SparkSession.builder.appName('lr').getOrCreate()"
   ]
  },
  {
   "cell_type": "markdown",
   "metadata": {},
   "source": [
    "### Logistic Regression Algorithm for Spark RDD\n",
    "M. Zaharia, M. Chowdhury, T. Das, A. Dave, J. Ma,\n",
    "M. McCauley, M. J. Franklin, S. Shenker, and I. Stoica. Resilient distributed datasets: A fault-tolerant\n",
    "abstraction for in-memory cluster computing.\n",
    "In Proceedings of NSDI, pages 15–28, 2012."
   ]
  },
  {
   "cell_type": "markdown",
   "metadata": {},
   "source": [
    "### Create new X and Ys for From-Scratch Training"
   ]
  },
  {
   "cell_type": "code",
   "execution_count": 11,
   "metadata": {},
   "outputs": [],
   "source": [
    "Xt = X_train_scaled.copy()\n",
    "Xt_test = X_test_scaled.copy()\n",
    "yt = nplr.transform_target(y_train)\n",
    "yt_test = nplr.transform_target(y_test)"
   ]
  },
  {
   "cell_type": "markdown",
   "metadata": {},
   "source": [
    "### Training Functions"
   ]
  },
  {
   "cell_type": "code",
   "execution_count": 12,
   "metadata": {},
   "outputs": [],
   "source": [
    "def spark_lr_grad(d):\n",
    "    \n",
    "    import numpy as np\n",
    "    \n",
    "    x = np.array(d.x)\n",
    "    y = d.y\n",
    "    \n",
    "    return x * (1 / (1 + np.exp(-y * np.dot(w, x))) - 1) * y"
   ]
  },
  {
   "cell_type": "code",
   "execution_count": 13,
   "metadata": {},
   "outputs": [],
   "source": [
    "def spark_lr_grad_descent(w, samples, n, learning_rate, n_iter):\n",
    "    \n",
    "    ws = [w.copy()]\n",
    "    for i in range(0, n_iter):\n",
    "        gradient = samples.map(spark_lr_grad).reduce(lambda a, b: a + b)\n",
    "        w -= learning_rate * gradient * 1/n\n",
    "        ws.append(w.copy())\n",
    "    \n",
    "    return ws"
   ]
  },
  {
   "cell_type": "markdown",
   "metadata": {},
   "source": [
    "### Create a Spark Dataframe of X Vectors and y Targets\n",
    "Transform the target variable to [1, -1] instead of [1, 0]."
   ]
  },
  {
   "cell_type": "code",
   "execution_count": 14,
   "metadata": {},
   "outputs": [],
   "source": [
    "pd_df = pd.DataFrame(yt, columns=['y'])\n",
    "pd_df['x'] = Xt.tolist()\n",
    "df = spark.createDataFrame(pd_df)"
   ]
  },
  {
   "cell_type": "markdown",
   "metadata": {},
   "source": [
    "### Initialize Parameters"
   ]
  },
  {
   "cell_type": "code",
   "execution_count": 15,
   "metadata": {},
   "outputs": [
    {
     "data": {
      "text/plain": [
       "MapPartitionsRDD[7] at javaToPython at NativeMethodAccessorImpl.java:0"
      ]
     },
     "execution_count": 15,
     "metadata": {},
     "output_type": "execute_result"
    }
   ],
   "source": [
    "samples = df.rdd\n",
    "samples.cache()"
   ]
  },
  {
   "cell_type": "code",
   "execution_count": 16,
   "metadata": {},
   "outputs": [],
   "source": [
    "# w = np.zeros(Xt.shape[1])\n",
    "w = np.random.uniform(-1, 1, (Xt.shape[1]))\n",
    "n = samples.count()\n",
    "learning_rate = 1.0\n",
    "n_iter = 50"
   ]
  },
  {
   "cell_type": "markdown",
   "metadata": {},
   "source": [
    "### Run Gradient Descent"
   ]
  },
  {
   "cell_type": "code",
   "execution_count": 17,
   "metadata": {},
   "outputs": [
    {
     "name": "stdout",
     "output_type": "stream",
     "text": [
      "CPU times: user 276 ms, sys: 49.5 ms, total: 326 ms\n",
      "Wall time: 51.7 s\n"
     ]
    }
   ],
   "source": [
    "%%time\n",
    "ws = spark_lr_grad_descent(w, samples, n, learning_rate, n_iter)"
   ]
  },
  {
   "cell_type": "markdown",
   "metadata": {},
   "source": [
    "### Predict"
   ]
  },
  {
   "cell_type": "code",
   "execution_count": 18,
   "metadata": {},
   "outputs": [
    {
     "data": {
      "image/png": "[encoded data removed]",
      "text/plain": [
       "<Figure size 432x288 with 1 Axes>"
      ]
     },
     "metadata": {
      "needs_background": "light"
     },
     "output_type": "display_data"
    }
   ],
   "source": [
    "preds = nplr.predict_all(ws, Xt_test)\n",
    "nplr.plot_accuracies(preds, yt_test)"
   ]
  },
  {
   "cell_type": "markdown",
   "metadata": {},
   "source": [
    "### Raw Python Version\n",
    "Based on https://github.com/jstremme/l2-regularized-logistic-regression but without regularization and vectorization of matrix operations.  Instead `py_lr_grad_descent` computes the gradient on each sample sequentially, unlike Spark which will compute the gradient on each sample but in parallel."
   ]
  },
  {
   "cell_type": "markdown",
   "metadata": {},
   "source": [
    "### Training Functions"
   ]
  },
  {
   "cell_type": "code",
   "execution_count": 19,
   "metadata": {},
   "outputs": [],
   "source": [
    "def py_lr_grad(w, x, y):\n",
    "    \n",
    "    import numpy as np\n",
    "    \n",
    "    x = np.array(x)\n",
    "    y = y.copy()\n",
    "    \n",
    "    return x * (1 / (1 + np.exp(-y * np.dot(w, x))) - 1) * y"
   ]
  },
  {
   "cell_type": "code",
   "execution_count": 20,
   "metadata": {},
   "outputs": [],
   "source": [
    "def py_lr_grad_descent(w, X, y, n, learning_rate, n_iter, v):\n",
    "    \n",
    "    ws = [w.copy()]\n",
    "    for i in range(0, n_iter):\n",
    "    \n",
    "        gradient_total = 0\n",
    "        for j in range(0, n, 1): # replaced with map and reduce in spark\n",
    "            x_j = X[j]\n",
    "            y_j = y[j]\n",
    "            gradient_total += py_lr_grad(w, x_j, y_j)\n",
    "\n",
    "        w -= learning_rate * gradient_total * 1/n\n",
    "        ws.append(w.copy())\n",
    "        \n",
    "        if v:\n",
    "            print('Objective function at iteration {}: {}'.format(i, nplr.obj(X, y, beta=w, lambda_penalty=0)))\n",
    "    \n",
    "    return ws"
   ]
  },
  {
   "cell_type": "markdown",
   "metadata": {},
   "source": [
    "### Initialized_parameters"
   ]
  },
  {
   "cell_type": "code",
   "execution_count": 21,
   "metadata": {},
   "outputs": [],
   "source": [
    "# w = np.zeros(Xt.shape[1])\n",
    "w = np.random.uniform(-1, 1, (Xt.shape[1]))\n",
    "n = Xt.shape[0]\n",
    "learning_rate = 1.0\n",
    "n_iter = 50\n",
    "v = 1"
   ]
  },
  {
   "cell_type": "markdown",
   "metadata": {},
   "source": [
    "### Run Gradient Descent"
   ]
  },
  {
   "cell_type": "code",
   "execution_count": 22,
   "metadata": {},
   "outputs": [
    {
     "name": "stdout",
     "output_type": "stream",
     "text": [
      "Objective function at iteration 0: 0.6241417328734871\n",
      "Objective function at iteration 1: 0.5996024323598801\n",
      "Objective function at iteration 2: 0.5880229756846582\n",
      "Objective function at iteration 3: 0.5817037022522922\n",
      "Objective function at iteration 4: 0.5777234292508943\n",
      "Objective function at iteration 5: 0.5748608861939382\n",
      "Objective function at iteration 6: 0.5725681859141362\n",
      "Objective function at iteration 7: 0.5705866685338662\n",
      "Objective function at iteration 8: 0.5687894331223489\n",
      "Objective function at iteration 9: 0.567112209089851\n",
      "Objective function at iteration 10: 0.5655214274591317\n",
      "Objective function at iteration 11: 0.5639989141019021\n",
      "Objective function at iteration 12: 0.5625343502465291\n",
      "Objective function at iteration 13: 0.5611214856876636\n",
      "Objective function at iteration 14: 0.5597562100598201\n",
      "Objective function at iteration 15: 0.5584355605112022\n",
      "Objective function at iteration 16: 0.5571572072364026\n",
      "Objective function at iteration 17: 0.555919184982448\n",
      "Objective function at iteration 18: 0.554719751900178\n",
      "Objective function at iteration 19: 0.5535573145721349\n",
      "Objective function at iteration 20: 0.5524303875147378\n",
      "Objective function at iteration 21: 0.5513375706752771\n",
      "Objective function at iteration 22: 0.5502775363456724\n",
      "Objective function at iteration 23: 0.5492490210271792\n",
      "Objective function at iteration 24: 0.5482508199226829\n",
      "Objective function at iteration 25: 0.5472817828491963\n",
      "Objective function at iteration 26: 0.5463408109436727\n",
      "Objective function at iteration 27: 0.5454268538365417\n",
      "Objective function at iteration 28: 0.5445389071232242\n",
      "Objective function at iteration 29: 0.5436760100442221\n",
      "Objective function at iteration 30: 0.5428372433255718\n",
      "Objective function at iteration 31: 0.5420217271525245\n",
      "Objective function at iteration 32: 0.5412286192600245\n",
      "Objective function at iteration 33: 0.5404571131290575\n",
      "Objective function at iteration 34: 0.5397064362807628\n",
      "Objective function at iteration 35: 0.5389758486617253\n",
      "Objective function at iteration 36: 0.5382646411147401\n",
      "Objective function at iteration 37: 0.5375721339298859\n",
      "Objective function at iteration 38: 0.5368976754711612\n",
      "Objective function at iteration 39: 0.5362406408742534\n",
      "Objective function at iteration 40: 0.5356004308113068\n",
      "Objective function at iteration 41: 0.5349764703188185\n",
      "Objective function at iteration 42: 0.5343682076850407\n",
      "Objective function at iteration 43: 0.5337751133934954\n",
      "Objective function at iteration 44: 0.5331966791194347\n",
      "Objective function at iteration 45: 0.5326324167762756\n",
      "Objective function at iteration 46: 0.5320818576092333\n",
      "Objective function at iteration 47: 0.5315445513335564\n",
      "Objective function at iteration 48: 0.5310200653149275\n",
      "Objective function at iteration 49: 0.5305079837897478\n",
      "CPU times: user 2min 1s, sys: 7.84 s, total: 2min 9s\n",
      "Wall time: 1min 54s\n"
     ]
    }
   ],
   "source": [
    "%%time\n",
    "ws = py_lr_grad_descent(w, Xt, yt, n, learning_rate, n_iter, v)"
   ]
  },
  {
   "cell_type": "markdown",
   "metadata": {},
   "source": [
    "### Predict"
   ]
  },
  {
   "cell_type": "code",
   "execution_count": 23,
   "metadata": {},
   "outputs": [
    {
     "data": {
      "image/png": "[encoded data removed]",
      "text/plain": [
       "<Figure size 432x288 with 1 Axes>"
      ]
     },
     "metadata": {
      "needs_background": "light"
     },
     "output_type": "display_data"
    }
   ],
   "source": [
    "preds = nplr.predict_all(ws, Xt_test)\n",
    "nplr.plot_accuracies(preds, yt_test)"
   ]
  },
  {
   "cell_type": "markdown",
   "metadata": {},
   "source": [
    "### Parallelized Numpy Version\n",
    "Implementation from https://github.com/jstremme/l2-regularized-logistic-regression.  "
   ]
  },
  {
   "cell_type": "markdown",
   "metadata": {},
   "source": [
    "### Run Gradient Descent"
   ]
  },
  {
   "cell_type": "code",
   "execution_count": 24,
   "metadata": {},
   "outputs": [
    {
     "name": "stdout",
     "output_type": "stream",
     "text": [
      "CPU times: user 2min 5s, sys: 1min 27s, total: 3min 33s\n",
      "Wall time: 1min 1s\n"
     ]
    }
   ],
   "source": [
    "%%time\n",
    "ws = nplr.l2_log_reg(Xt, yt, lambda_penalty=0, eps=0.001, v=0)"
   ]
  },
  {
   "cell_type": "markdown",
   "metadata": {},
   "source": [
    "### Predict"
   ]
  },
  {
   "cell_type": "code",
   "execution_count": 25,
   "metadata": {},
   "outputs": [
    {
     "data": {
      "image/png": "[encoded data removed]",
      "text/plain": [
       "<Figure size 432x288 with 1 Axes>"
      ]
     },
     "metadata": {
      "needs_background": "light"
     },
     "output_type": "display_data"
    }
   ],
   "source": [
    "preds = nplr.predict_all(ws, Xt_test)\n",
    "nplr.plot_accuracies(preds, yt_test)"
   ]
  },
  {
   "cell_type": "markdown",
   "metadata": {},
   "source": [
    "### Spark MLlib Version"
   ]
  },
  {
   "cell_type": "code",
   "execution_count": 26,
   "metadata": {},
   "outputs": [],
   "source": [
    "train_df = spark.createDataFrame(nplr.to_df_with_class(X_train_scaled, y_train))\n",
    "test_df = spark.createDataFrame(nplr.to_df_with_class(X_test_scaled, y_test))\n",
    "target_column = 'class'"
   ]
  },
  {
   "cell_type": "code",
   "execution_count": 27,
   "metadata": {},
   "outputs": [],
   "source": [
    "to_assemble = [item for item in train_df.columns if item != target_column]\n",
    "assembler = VectorAssembler(inputCols=to_assemble, outputCol='features')\n",
    "train_vector = assembler.transform(train_df)\n",
    "test_vector = assembler.transform(test_df)"
   ]
  },
  {
   "cell_type": "code",
   "execution_count": 28,
   "metadata": {},
   "outputs": [
    {
     "data": {
      "text/plain": [
       "133496"
      ]
     },
     "execution_count": 28,
     "metadata": {},
     "output_type": "execute_result"
    }
   ],
   "source": [
    "train_vector.cache().count()"
   ]
  },
  {
   "cell_type": "code",
   "execution_count": 29,
   "metadata": {},
   "outputs": [],
   "source": [
    "lr = SparkLogisticRegression(labelCol=target_column, featuresCol='features', regParam=0,\n",
    "                             tol=0.001, standardization=False, fitIntercept=True)"
   ]
  },
  {
   "cell_type": "code",
   "execution_count": 30,
   "metadata": {},
   "outputs": [
    {
     "name": "stdout",
     "output_type": "stream",
     "text": [
      "CPU times: user 36.1 ms, sys: 18.4 ms, total: 54.5 ms\n",
      "Wall time: 19.3 s\n"
     ]
    }
   ],
   "source": [
    "%%time\n",
    "lr = lr.fit(train_vector)"
   ]
  },
  {
   "cell_type": "code",
   "execution_count": 31,
   "metadata": {},
   "outputs": [
    {
     "data": {
      "text/plain": [
       "0.7759101123595505"
      ]
     },
     "execution_count": 31,
     "metadata": {},
     "output_type": "execute_result"
    }
   ],
   "source": [
    "y_pred = lr.transform(test_vector).select('prediction').rdd.map(lambda x: x.prediction).collect()\n",
    "np.mean(y_test == y_pred)"
   ]
  },
  {
   "cell_type": "markdown",
   "metadata": {},
   "source": [
    "# Project does three things:\n",
    "\n",
    "# 1 \n",
    "one test, from-scratch lr in spark,\n",
    "comparing to two versions of from-scratch lr in python and numpy\n",
    "and an sklearn implementation\n",
    "\n",
    "- try 2 instance spark cluster, then maybe 4 \n",
    "- record training times of spark vs from-scratch python\n",
    "\n",
    "# 2\n",
    "try replicating the dataset (and maybe adding noise)\n",
    "\n",
    "- record training times of spark vs from-scratch python as dataset size increases\n",
    "\n",
    "# 3\n",
    "create a pipeline for data processing and feature engineering in \n",
    "pandas and in spark to compare and contrast"
   ]
  },
  {
   "cell_type": "code",
   "execution_count": 32,
   "metadata": {},
   "outputs": [],
   "source": [
    "# Consider an end to end pipeline implementation for working with this data in spark\n",
    "# Run performance comparisons to local processing\n",
    "# Potentially compare performance of logistic regression on multiple platforms"
   ]
  }
 ],
 "metadata": {
  "kernelspec": {
   "display_name": "Python 3.6.8",
   "language": "python",
   "name": "py368"
  },
  "language_info": {
   "codemirror_mode": {
    "name": "ipython",
    "version": 3
   },
   "file_extension": ".py",
   "mimetype": "text/x-python",
   "name": "python",
   "nbconvert_exporter": "python",
   "pygments_lexer": "ipython3",
   "version": "3.6.8"
  }
 },
 "nbformat": 4,
 "nbformat_minor": 2
}
