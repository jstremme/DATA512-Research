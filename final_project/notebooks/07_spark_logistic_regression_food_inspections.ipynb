{
 "cells": [
  {
   "cell_type": "markdown",
   "metadata": {},
   "source": [
    "# Spark Logistic Regression\n",
    "This notebook reads the data splits from `04_create_data_splits` to apply a Logistic Regression model in Python and a from-scratch Logistic Regression model in Spark (with a homemade implementation of Gradient Descent).\n",
    "\n",
    "See the `01_food_inspections_data_prep` notebook for information about the Chicago Food Inspections Data, the license, and the various data attributes.  See the `02_census_data_prep` notebook for the US Census API terms of use.\n",
    "\n",
    "### Analysis and Models in this Notebook\n",
    "\n",
    "- Simple Logistic Regression model using scikit-learn\n",
    "- From-scratch Logistic Regression model using homemade implementation of Gradient Descent"
   ]
  },
  {
   "cell_type": "markdown",
   "metadata": {},
   "source": [
    "### Set Global Seed"
   ]
  },
  {
   "cell_type": "code",
   "execution_count": 1,
   "metadata": {},
   "outputs": [],
   "source": [
    "SEED = 666"
   ]
  },
  {
   "cell_type": "markdown",
   "metadata": {},
   "source": [
    "### Imports"
   ]
  },
  {
   "cell_type": "code",
   "execution_count": 2,
   "metadata": {},
   "outputs": [],
   "source": [
    "import numpy as np\n",
    "import pandas as pd\n",
    "import matplotlib.pyplot as plt\n",
    "from sklearn.preprocessing import MinMaxScaler\n",
    "from sklearn.linear_model import LogisticRegression\n",
    "\n",
    "from pyspark import SparkContext\n",
    "from pyspark.sql.types import FloatType, StructType, StructField, LongType\n",
    "from pyspark.ml.feature import VectorAssembler\n",
    "from pyspark.sql import SparkSession\n",
    "\n",
    "import l2_regularized_logistic_regression as nplr"
   ]
  },
  {
   "cell_type": "markdown",
   "metadata": {},
   "source": [
    "### Read Train and Test Splits"
   ]
  },
  {
   "cell_type": "code",
   "execution_count": 3,
   "metadata": {},
   "outputs": [],
   "source": [
    "X_train = pd.read_csv('../data/X_train.gz', compression='gzip')\n",
    "X_test = pd.read_csv('../data/X_test.gz', compression='gzip')\n",
    "y_train = pd.read_csv('../data/y_train.gz', compression='gzip').values.flatten()\n",
    "y_test = pd.read_csv('../data/y_test.gz', compression='gzip').values.flatten()"
   ]
  },
  {
   "cell_type": "code",
   "execution_count": 4,
   "metadata": {},
   "outputs": [],
   "source": [
    "features = X_train.columns"
   ]
  },
  {
   "cell_type": "markdown",
   "metadata": {},
   "source": [
    "### Scale Train and Test Sets"
   ]
  },
  {
   "cell_type": "code",
   "execution_count": 5,
   "metadata": {},
   "outputs": [],
   "source": [
    "minmax_scaler = MinMaxScaler(feature_range=(0, 1))\n",
    "X_train_scaled = minmax_scaler.fit_transform(X_train.values)\n",
    "X_test_scaled = minmax_scaler.transform(X_test.values)"
   ]
  },
  {
   "cell_type": "markdown",
   "metadata": {},
   "source": [
    "### Check Performance of scikit-learn Logistic Regression with No Regularization\n",
    "Setting the regularization parameter to `1e8` we get effectively no regularization, as in the statsmodel API Logit model.  See this issue for details: https://github.com/scikit-learn/scikit-learn/issues/6738"
   ]
  },
  {
   "cell_type": "code",
   "execution_count": 6,
   "metadata": {},
   "outputs": [],
   "source": [
    "sklearn_clf = LogisticRegression(C=1e8, # https://github.com/scikit-learn/scikit-learn/issues/6738\n",
    "                                 penalty='l2',\n",
    "                                 solver='liblinear',\n",
    "                                 fit_intercept=True,\n",
    "                                 max_iter=1000)"
   ]
  },
  {
   "cell_type": "code",
   "execution_count": 7,
   "metadata": {},
   "outputs": [
    {
     "name": "stdout",
     "output_type": "stream",
     "text": [
      "CPU times: user 1.51 s, sys: 38.8 ms, total: 1.55 s\n",
      "Wall time: 1.08 s\n"
     ]
    },
    {
     "data": {
      "text/plain": [
       "LogisticRegression(C=100000000.0, class_weight=None, dual=False,\n",
       "                   fit_intercept=True, intercept_scaling=1, l1_ratio=None,\n",
       "                   max_iter=1000, multi_class='warn', n_jobs=None, penalty='l2',\n",
       "                   random_state=None, solver='liblinear', tol=0.0001, verbose=0,\n",
       "                   warm_start=False)"
      ]
     },
     "execution_count": 7,
     "metadata": {},
     "output_type": "execute_result"
    }
   ],
   "source": [
    "%%time\n",
    "sklearn_clf.fit(X_train_scaled, y_train)"
   ]
  },
  {
   "cell_type": "markdown",
   "metadata": {},
   "source": [
    "### Compute Accuracy at 0.5 Threshold"
   ]
  },
  {
   "cell_type": "code",
   "execution_count": 8,
   "metadata": {},
   "outputs": [],
   "source": [
    "y_prob = sklearn_clf.predict_proba(X_test_scaled)[:, 1]"
   ]
  },
  {
   "cell_type": "code",
   "execution_count": 9,
   "metadata": {},
   "outputs": [
    {
     "data": {
      "text/plain": [
       "0.7761797752808989"
      ]
     },
     "execution_count": 9,
     "metadata": {},
     "output_type": "execute_result"
    }
   ],
   "source": [
    "y_pred = [1 if x > 0.5 else 0 for x in y_prob]\n",
    "np.mean(y_test == y_pred)"
   ]
  },
  {
   "cell_type": "markdown",
   "metadata": {},
   "source": [
    "### Initialize Spark"
   ]
  },
  {
   "cell_type": "code",
   "execution_count": 10,
   "metadata": {},
   "outputs": [],
   "source": [
    "sc = SparkContext.getOrCreate()\n",
    "spark = SparkSession.builder.appName('lr').getOrCreate()"
   ]
  },
  {
   "cell_type": "markdown",
   "metadata": {},
   "source": [
    "### Logistic Regression Algorithm for Spark RDD\n",
    "M. Zaharia, M. Chowdhury, T. Das, A. Dave, J. Ma,\n",
    "M. McCauley, M. J. Franklin, S. Shenker, and I. Stoica. Resilient distributed datasets: A fault-tolerant\n",
    "abstraction for in-memory cluster computing.\n",
    "In Proceedings of NSDI, pages 15–28, 2012."
   ]
  },
  {
   "cell_type": "markdown",
   "metadata": {},
   "source": [
    "### Create new X and Ys for From-Scratch Training"
   ]
  },
  {
   "cell_type": "code",
   "execution_count": 11,
   "metadata": {},
   "outputs": [],
   "source": [
    "Xt = X_train_scaled.copy()\n",
    "Xt_test = X_test_scaled.copy()\n",
    "yt = nplr.transform_target(y_train)\n",
    "yt_test = nplr.transform_target(y_test)"
   ]
  },
  {
   "cell_type": "markdown",
   "metadata": {},
   "source": [
    "### Training Functions"
   ]
  },
  {
   "cell_type": "code",
   "execution_count": 12,
   "metadata": {},
   "outputs": [],
   "source": [
    "def spark_lr_grad(d):\n",
    "    \n",
    "    import numpy as np\n",
    "    \n",
    "    x = np.array(d.x)\n",
    "    y = d.y\n",
    "    \n",
    "    return x * (1 / (1 + np.exp(-y * np.dot(w, x))) - 1) * y"
   ]
  },
  {
   "cell_type": "code",
   "execution_count": 13,
   "metadata": {},
   "outputs": [],
   "source": [
    "def spark_lr_grad_descent(w, samples, n, learning_rate, n_iter):\n",
    "    \n",
    "    ws = [w.copy()]\n",
    "    for i in range(0, n_iter):\n",
    "        gradient = samples.map(spark_lr_grad).reduce(lambda a, b: a + b)\n",
    "        w -= learning_rate * gradient * 1/n # set equal to minus instead of subtracting?\n",
    "        ws.append(w.copy())\n",
    "    \n",
    "    return ws"
   ]
  },
  {
   "cell_type": "markdown",
   "metadata": {},
   "source": [
    "### Create a Spark Dataframe of X Vectors and y Targets\n",
    "Transform the target variable to [1, -1] instead of [1, 0]."
   ]
  },
  {
   "cell_type": "code",
   "execution_count": 14,
   "metadata": {},
   "outputs": [],
   "source": [
    "pd_df = pd.DataFrame(yt, columns=['y'])\n",
    "pd_df['x'] = Xt.tolist()\n",
    "df = spark.createDataFrame(pd_df)"
   ]
  },
  {
   "cell_type": "markdown",
   "metadata": {},
   "source": [
    "### Initialize Parameters"
   ]
  },
  {
   "cell_type": "code",
   "execution_count": 15,
   "metadata": {},
   "outputs": [],
   "source": [
    "# w = np.zeros(Xt.shape[1])\n",
    "w = np.random.uniform(-1, 1, (Xt.shape[1]))\n",
    "samples = df.rdd\n",
    "n = df.count()\n",
    "learning_rate = 0.1\n",
    "n_iter = 200"
   ]
  },
  {
   "cell_type": "markdown",
   "metadata": {},
   "source": [
    "### Run Gradient Descent"
   ]
  },
  {
   "cell_type": "code",
   "execution_count": 16,
   "metadata": {},
   "outputs": [
    {
     "name": "stdout",
     "output_type": "stream",
     "text": [
      "CPU times: user 1.17 s, sys: 403 ms, total: 1.57 s\n",
      "Wall time: 8min 55s\n"
     ]
    }
   ],
   "source": [
    "%%time\n",
    "ws = spark_lr_grad_descent(w, samples, n, learning_rate, n_iter)"
   ]
  },
  {
   "cell_type": "markdown",
   "metadata": {},
   "source": [
    "### Predict"
   ]
  },
  {
   "cell_type": "code",
   "execution_count": 17,
   "metadata": {},
   "outputs": [
    {
     "data": {
      "image/png": "[encoded data removed]",
      "text/plain": [
       "<Figure size 432x288 with 1 Axes>"
      ]
     },
     "metadata": {
      "needs_background": "light"
     },
     "output_type": "display_data"
    }
   ],
   "source": [
    "preds = nplr.predict_all(ws, Xt_test)\n",
    "nplr.plot_accuracies(preds, yt_test)"
   ]
  },
  {
   "cell_type": "markdown",
   "metadata": {},
   "source": [
    "### Raw Python Version\n",
    "Based on https://github.com/jstremme/l2-regularized-logistic-regression but without regularization and vectorization of matrix operations.  Instead `py_lr_grad_descent` computes the gradient on each sample sequentially, unlike spark which will compute the gradient on each sample but in parallel."
   ]
  },
  {
   "cell_type": "markdown",
   "metadata": {},
   "source": [
    "### Training Functions"
   ]
  },
  {
   "cell_type": "code",
   "execution_count": 18,
   "metadata": {},
   "outputs": [],
   "source": [
    "def py_lr_grad(w, x, y):\n",
    "    \n",
    "    return x * (1 / (1 + np.exp(-y * np.dot(w, x))) - 1) * y"
   ]
  },
  {
   "cell_type": "code",
   "execution_count": 19,
   "metadata": {},
   "outputs": [],
   "source": [
    "def py_lr_grad_descent(w, X, y, n, learning_rate, n_iter, v):\n",
    "    \n",
    "    ws = [w.copy()]\n",
    "    for i in range(0, n_iter):\n",
    "    \n",
    "        gradient_total = 0\n",
    "        for j in range(0, n, 1): # replaced with map and reduce in spark\n",
    "            x_j = X[j]\n",
    "            y_j = y[j]\n",
    "            gradient_total += py_lr_grad(w, x_j, y_j)\n",
    "\n",
    "        w -= learning_rate * gradient_total * 1/n # set equal to minus instead of subtracting?\n",
    "        ws.append(w.copy())\n",
    "        \n",
    "        if v:\n",
    "            print('Objective function at iteration {}: {}'.format(i, nplr.obj(X, y, beta=w, lambda_penalty=0)))\n",
    "    \n",
    "    return ws"
   ]
  },
  {
   "cell_type": "markdown",
   "metadata": {},
   "source": [
    "### Initialized_parameters"
   ]
  },
  {
   "cell_type": "code",
   "execution_count": 20,
   "metadata": {},
   "outputs": [],
   "source": [
    "# w = np.zeros(Xt.shape[1])\n",
    "w = np.random.uniform(-1, 1, (Xt.shape[1]))\n",
    "n = Xt.shape[0]\n",
    "learning_rate = 0.1\n",
    "n_iter = 200\n",
    "v = 1"
   ]
  },
  {
   "cell_type": "markdown",
   "metadata": {},
   "source": [
    "### Run Gradient Descent"
   ]
  },
  {
   "cell_type": "code",
   "execution_count": 21,
   "metadata": {},
   "outputs": [
    {
     "name": "stdout",
     "output_type": "stream",
     "text": [
      "Objective function at iteration 0: 1.3885981783348273\n",
      "Objective function at iteration 1: 1.3331775507995645\n",
      "Objective function at iteration 2: 1.2806752619108774\n",
      "Objective function at iteration 3: 1.2310795570108015\n",
      "Objective function at iteration 4: 1.184358641544159\n",
      "Objective function at iteration 5: 1.1404617969486517\n",
      "Objective function at iteration 6: 1.0993210063178922\n",
      "Objective function at iteration 7: 1.0608529826657873\n",
      "Objective function at iteration 8: 1.0249614766346717\n",
      "Objective function at iteration 9: 0.9915397366909376\n",
      "Objective function at iteration 10: 0.9604730018869495\n",
      "Objective function at iteration 11: 0.9316409226039449\n",
      "Objective function at iteration 12: 0.9049198252562984\n",
      "Objective function at iteration 13: 0.8801847597085815\n",
      "Objective function at iteration 14: 0.8573112905765423\n",
      "Objective function at iteration 15: 0.8361770137841481\n",
      "Objective function at iteration 16: 0.8166627965978813\n",
      "Objective function at iteration 17: 0.7986537523765379\n",
      "Objective function at iteration 18: 0.7820399704857551\n",
      "Objective function at iteration 19: 0.7667170275978279\n",
      "Objective function at iteration 20: 0.75258630948486\n",
      "Objective function at iteration 21: 0.7395551730420071\n",
      "Objective function at iteration 22: 0.7275369772574447\n",
      "Objective function at iteration 23: 0.7164510097197258\n",
      "Objective function at iteration 24: 0.7062223324720862\n",
      "Objective function at iteration 25: 0.696781567938824\n",
      "Objective function at iteration 26: 0.6880646425196818\n",
      "Objective function at iteration 27: 0.6800125024515694\n",
      "Objective function at iteration 28: 0.6725708137843487\n",
      "Objective function at iteration 29: 0.6656896558689968\n",
      "Objective function at iteration 30: 0.6593232156351855\n",
      "Objective function at iteration 31: 0.653429488138309\n",
      "Objective function at iteration 32: 0.6479699873638138\n",
      "Objective function at iteration 33: 0.6429094700603999\n",
      "Objective function at iteration 34: 0.638215674399891\n",
      "Objective function at iteration 35: 0.6338590744960133\n",
      "Objective function at iteration 36: 0.6298126512239887\n",
      "Objective function at iteration 37: 0.6260516793375143\n",
      "Objective function at iteration 38: 0.6225535305523757\n",
      "Objective function at iteration 39: 0.6192974920333689\n",
      "Objective function at iteration 40: 0.616264599563512\n",
      "Objective function at iteration 41: 0.6134374845752296\n",
      "Objective function at iteration 42: 0.6108002341686111\n",
      "Objective function at iteration 43: 0.6083382632210389\n",
      "Objective function at iteration 44: 0.6060381976964881\n",
      "Objective function at iteration 45: 0.6038877682846984\n",
      "Objective function at iteration 46: 0.6018757135346661\n",
      "Objective function at iteration 47: 0.5999916916892647\n",
      "Objective function at iteration 48: 0.5982262004750515\n",
      "Objective function at iteration 49: 0.5965705041509896\n",
      "Objective function at iteration 50: 0.5950165671701466\n",
      "Objective function at iteration 51: 0.5935569938580874\n",
      "Objective function at iteration 52: 0.5921849735597737\n",
      "Objective function at iteration 53: 0.5908942307527079\n",
      "Objective function at iteration 54: 0.5896789796673886\n",
      "Objective function at iteration 55: 0.5885338829967376\n",
      "Objective function at iteration 56: 0.5874540143138487\n",
      "Objective function at iteration 57: 0.5864348238522509\n",
      "Objective function at iteration 58: 0.585472107334927\n",
      "Objective function at iteration 59: 0.5845619775676816\n",
      "Objective function at iteration 60: 0.5837008385392688\n",
      "Objective function at iteration 61: 0.582885361795118\n",
      "Objective function at iteration 62: 0.5821124648736917\n",
      "Objective function at iteration 63: 0.581379291614663\n",
      "Objective function at iteration 64: 0.5806831941663423\n",
      "Objective function at iteration 65: 0.5800217165363103\n",
      "Objective function at iteration 66: 0.5793925795441434\n",
      "Objective function at iteration 67: 0.5787936670486059\n",
      "Objective function at iteration 68: 0.5782230133338766\n",
      "Objective function at iteration 69: 0.5776787915503605\n",
      "Objective function at iteration 70: 0.5771593031155627\n",
      "Objective function at iteration 71: 0.5766629679894596\n",
      "Objective function at iteration 72: 0.5761883157468557\n",
      "Objective function at iteration 73: 0.5757339773765231\n",
      "Objective function at iteration 74: 0.5752986777434704\n",
      "Objective function at iteration 75: 0.574881228656628\n",
      "Objective function at iteration 76: 0.5744805224895868\n",
      "Objective function at iteration 77: 0.574095526306851\n",
      "Objective function at iteration 78: 0.5737252764524393\n",
      "Objective function at iteration 79: 0.5733688735615937\n",
      "Objective function at iteration 80: 0.5730254779599385\n",
      "Objective function at iteration 81: 0.5726943054176221\n",
      "Objective function at iteration 82: 0.5723746232289209\n",
      "Objective function at iteration 83: 0.5720657465903828\n",
      "Objective function at iteration 84: 0.5717670352530116\n",
      "Objective function at iteration 85: 0.5714778904261167\n",
      "Objective function at iteration 86: 0.5711977519124459\n",
      "Objective function at iteration 87: 0.5709260954559681\n",
      "Objective function at iteration 88: 0.5706624302852991\n",
      "Objective function at iteration 89: 0.5704062968372221\n",
      "Objective function at iteration 90: 0.5701572646460815\n",
      "Objective function at iteration 91: 0.5699149303860376\n",
      "Objective function at iteration 92: 0.5696789160542687\n",
      "Objective function at iteration 93: 0.5694488672842\n",
      "Objective function at iteration 94: 0.5692244517787602\n",
      "Objective function at iteration 95: 0.5690053578544787\n",
      "Objective function at iteration 96: 0.5687912930880042\n",
      "Objective function at iteration 97: 0.5685819830573104\n",
      "Objective function at iteration 98: 0.5683771701704782\n",
      "Objective function at iteration 99: 0.5681766125755223\n",
      "Objective function at iteration 100: 0.5679800831452537\n",
      "Objective function at iteration 101: 0.5677873685316452\n",
      "Objective function at iteration 102: 0.5675982682846087\n",
      "Objective function at iteration 103: 0.5674125940304893\n",
      "Objective function at iteration 104: 0.5672301687059564\n",
      "Objective function at iteration 105: 0.5670508258432976\n",
      "Objective function at iteration 106: 0.5668744089034372\n",
      "Objective function at iteration 107: 0.5667007706532815\n",
      "Objective function at iteration 108: 0.5665297725842507\n",
      "Objective function at iteration 109: 0.5663612843690983\n",
      "Objective function at iteration 110: 0.5661951833543358\n",
      "Objective function at iteration 111: 0.5660313540857814\n",
      "Objective function at iteration 112: 0.5658696878649375\n",
      "Objective function at iteration 113: 0.5657100823340714\n",
      "Objective function at iteration 114: 0.5655524410880298\n",
      "Objective function at iteration 115: 0.5653966733109639\n",
      "Objective function at iteration 116: 0.565242693436269\n",
      "Objective function at iteration 117: 0.5650904208281763\n",
      "Objective function at iteration 118: 0.5649397794835339\n",
      "Objective function at iteration 119: 0.5647906977524301\n",
      "Objective function at iteration 120: 0.564643108076401\n",
      "Objective function at iteration 121: 0.5644969467430557\n",
      "Objective function at iteration 122: 0.5643521536560387\n",
      "Objective function at iteration 123: 0.5642086721193157\n",
      "Objective function at iteration 124: 0.5640664486348491\n",
      "Objective function at iteration 125: 0.5639254327127902\n",
      "Objective function at iteration 126: 0.5637855766933737\n",
      "Objective function at iteration 127: 0.5636468355797613\n",
      "Objective function at iteration 128: 0.5635091668811246\n",
      "Objective function at iteration 129: 0.5633725304653172\n",
      "Objective function at iteration 130: 0.5632368884205184\n",
      "Objective function at iteration 131: 0.5631022049252787\n",
      "Objective function at iteration 132: 0.5629684461264377\n",
      "Objective function at iteration 133: 0.5628355800244121\n",
      "Objective function at iteration 134: 0.5627035763653951\n",
      "Objective function at iteration 135: 0.5625724065400294\n",
      "Objective function at iteration 136: 0.5624420434881524\n",
      "Objective function at iteration 137: 0.5623124616092353\n",
      "Objective function at iteration 138: 0.5621836366781592\n",
      "Objective function at iteration 139: 0.5620555457660036\n",
      "Objective function at iteration 140: 0.5619281671655318\n",
      "Objective function at iteration 141: 0.5618014803210925\n",
      "Objective function at iteration 142: 0.5616754657626564\n",
      "Objective function at iteration 143: 0.5615501050437456\n",
      "Objective function at iteration 144: 0.5614253806830135\n",
      "Objective function at iteration 145: 0.5613012761092496\n",
      "Objective function at iteration 146: 0.5611777756096128\n",
      "Objective function at iteration 147: 0.5610548642808851\n",
      "Objective function at iteration 148: 0.5609325279835741\n"
     ]
    },
    {
     "name": "stdout",
     "output_type": "stream",
     "text": [
      "Objective function at iteration 149: 0.5608107532986861\n",
      "Objective function at iteration 150: 0.5606895274870151\n",
      "Objective function at iteration 151: 0.5605688384507921\n",
      "Objective function at iteration 152: 0.5604486746975582\n",
      "Objective function at iteration 153: 0.5603290253061268\n",
      "Objective function at iteration 154: 0.5602098798945115\n",
      "Objective function at iteration 155: 0.5600912285897023\n",
      "Objective function at iteration 156: 0.5599730619991838\n",
      "Objective function at iteration 157: 0.5598553711840882\n",
      "Objective function at iteration 158: 0.5597381476338914\n",
      "Objective function at iteration 159: 0.5596213832425563\n",
      "Objective function at iteration 160: 0.5595050702860466\n",
      "Objective function at iteration 161: 0.5593892014011191\n",
      "Objective function at iteration 162: 0.5592737695653339\n",
      "Objective function at iteration 163: 0.5591587680781976\n",
      "Objective function at iteration 164: 0.5590441905433843\n",
      "Objective function at iteration 165: 0.5589300308519665\n",
      "Objective function at iteration 166: 0.5588162831665973\n",
      "Objective function at iteration 167: 0.5587029419065916\n",
      "Objective function at iteration 168: 0.5585900017338528\n",
      "Objective function at iteration 169: 0.5584774575395931\n",
      "Objective function at iteration 170: 0.5583653044318092\n",
      "Objective function at iteration 171: 0.5582535377234621\n",
      "Objective function at iteration 172: 0.558142152921324\n",
      "Objective function at iteration 173: 0.5580311457154566\n",
      "Objective function at iteration 174: 0.5579205119692782\n",
      "Objective function at iteration 175: 0.5578102477101918\n",
      "Objective function at iteration 176: 0.5577003491207403\n",
      "Objective function at iteration 177: 0.5575908125302557\n",
      "Objective function at iteration 178: 0.5574816344069802\n",
      "Objective function at iteration 179: 0.5573728113506258\n",
      "Objective function at iteration 180: 0.5572643400853529\n",
      "Objective function at iteration 181: 0.5571562174531406\n",
      "Objective function at iteration 182: 0.5570484404075261\n",
      "Objective function at iteration 183: 0.556941006007698\n",
      "Objective function at iteration 184: 0.556833911412914\n",
      "Objective function at iteration 185: 0.556727153877234\n",
      "Objective function at iteration 186: 0.5566207307445442\n",
      "Objective function at iteration 187: 0.5565146394438596\n",
      "Objective function at iteration 188: 0.556408877484886\n",
      "Objective function at iteration 189: 0.5563034424538311\n",
      "Objective function at iteration 190: 0.5561983320094455\n",
      "Objective function at iteration 191: 0.5560935438792861\n",
      "Objective function at iteration 192: 0.5559890758561838\n",
      "Objective function at iteration 193: 0.5558849257949091\n",
      "Objective function at iteration 194: 0.5557810916090211\n",
      "Objective function at iteration 195: 0.5556775712678907\n",
      "Objective function at iteration 196: 0.5555743627938895\n",
      "Objective function at iteration 197: 0.5554714642597318\n",
      "Objective function at iteration 198: 0.5553688737859654\n",
      "Objective function at iteration 199: 0.5552665895385986\n",
      "CPU times: user 7min 36s, sys: 6.78 s, total: 7min 43s\n",
      "Wall time: 5min 52s\n"
     ]
    }
   ],
   "source": [
    "%%time\n",
    "ws = py_lr_grad_descent(w, Xt, yt, n, learning_rate, n_iter, v)"
   ]
  },
  {
   "cell_type": "markdown",
   "metadata": {},
   "source": [
    "### Predict"
   ]
  },
  {
   "cell_type": "code",
   "execution_count": 22,
   "metadata": {},
   "outputs": [
    {
     "data": {
      "image/png": "[encoded data removed]",
      "text/plain": [
       "<Figure size 432x288 with 1 Axes>"
      ]
     },
     "metadata": {
      "needs_background": "light"
     },
     "output_type": "display_data"
    }
   ],
   "source": [
    "preds = nplr.predict_all(ws, Xt_test)\n",
    "nplr.plot_accuracies(preds, yt_test)"
   ]
  },
  {
   "cell_type": "markdown",
   "metadata": {},
   "source": [
    "### Parallelized Numpy Version\n",
    "Implementation from https://github.com/jstremme/l2-regularized-logistic-regression.  "
   ]
  },
  {
   "cell_type": "markdown",
   "metadata": {},
   "source": [
    "### Run Gradient Descent"
   ]
  },
  {
   "cell_type": "code",
   "execution_count": 23,
   "metadata": {},
   "outputs": [
    {
     "name": "stdout",
     "output_type": "stream",
     "text": [
      "CPU times: user 2min 27s, sys: 14.6 s, total: 2min 42s\n",
      "Wall time: 41.3 s\n"
     ]
    }
   ],
   "source": [
    "%%time\n",
    "ws = nplr.l2_log_reg(Xt, yt, lambda_penalty=0, eps=0.001, v=0)"
   ]
  },
  {
   "cell_type": "markdown",
   "metadata": {},
   "source": [
    "### Predict"
   ]
  },
  {
   "cell_type": "code",
   "execution_count": 24,
   "metadata": {},
   "outputs": [
    {
     "data": {
      "image/png": "[encoded data removed]",
      "text/plain": [
       "<Figure size 432x288 with 1 Axes>"
      ]
     },
     "metadata": {
      "needs_background": "light"
     },
     "output_type": "display_data"
    }
   ],
   "source": [
    "preds = nplr.predict_all(ws, Xt_test)\n",
    "nplr.plot_accuracies(preds, yt_test)"
   ]
  },
  {
   "cell_type": "code",
   "execution_count": null,
   "metadata": {},
   "outputs": [],
   "source": []
  },
  {
   "cell_type": "code",
   "execution_count": null,
   "metadata": {},
   "outputs": [],
   "source": []
  },
  {
   "cell_type": "markdown",
   "metadata": {},
   "source": [
    "# Project does three things:\n",
    "\n",
    "# 1 \n",
    "one test, from-scratch lr in spark,\n",
    "comparing to two versions of from-scratch lr in python and numpy\n",
    "and an sklearn implementation\n",
    "\n",
    "- try 2 instance spark cluster, then maybe 4 \n",
    "- record training times of spark vs from-scratch python\n",
    "\n",
    "# 2\n",
    "try replicating the dataset (and maybe adding noise)\n",
    "\n",
    "- record training times of spark vs from-scratch python as dataset size increases\n",
    "\n",
    "# 3\n",
    "create a pipeline for data processing and feature engineering in \n",
    "pandas and in spark to compare and contrast"
   ]
  },
  {
   "cell_type": "code",
   "execution_count": 25,
   "metadata": {},
   "outputs": [],
   "source": [
    "# Consider an end to end pipeline implementation for working with this data in spark\n",
    "# Run performance comparisons to local processing\n",
    "# Potentially compare performance of logistic regression on multiple platforms"
   ]
  }
 ],
 "metadata": {
  "kernelspec": {
   "display_name": "Python 3",
   "language": "python",
   "name": "python3"
  },
  "language_info": {
   "codemirror_mode": {
    "name": "ipython",
    "version": 3
   },
   "file_extension": ".py",
   "mimetype": "text/x-python",
   "name": "python",
   "nbconvert_exporter": "python",
   "pygments_lexer": "ipython3",
   "version": "3.7.4"
  }
 },
 "nbformat": 4,
 "nbformat_minor": 2
}
