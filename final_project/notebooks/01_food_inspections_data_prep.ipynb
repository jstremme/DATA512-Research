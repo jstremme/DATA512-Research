{
 "cells": [
  {
   "cell_type": "markdown",
   "metadata": {},
   "source": [
    "# Data Prep of Chicago Food Inspections Data\n",
    "This notebook reads in the food inspections dataset containing records of food inspections in Chicago since 2010.  This dataset is freely available through healthdata.gov, but must be provided with the odbl license linked below and provided within this repository.  This notebook prepares the data for statistical analysis and modeling by creating features from categorical variables and enforcing a prevalence threshold for these categories.  Note that in this way, rare features are not analyzed or used to create a model (to encourage generalizability), though the code is designed so that it would be easy to change or eliminate the prevalence threshold to run downstream analysis with a different feature set.\n",
    "\n",
    "### References\n",
    "- Data Source: https://healthdata.gov/dataset/food-inspections\n",
    "- License: http://opendefinition.org/licenses/odc-odbl/"
   ]
  },
  {
   "cell_type": "markdown",
   "metadata": {},
   "source": [
    "### Set Global Seed"
   ]
  },
  {
   "cell_type": "code",
   "execution_count": 1,
   "metadata": {},
   "outputs": [],
   "source": [
    "SEED = 666"
   ]
  },
  {
   "cell_type": "markdown",
   "metadata": {},
   "source": [
    "### Imports"
   ]
  },
  {
   "cell_type": "code",
   "execution_count": 2,
   "metadata": {},
   "outputs": [],
   "source": [
    "import pandas as pd"
   ]
  },
  {
   "cell_type": "markdown",
   "metadata": {},
   "source": [
    "### Read Chicago Food Inspections Data\n",
    "Count records and columns."
   ]
  },
  {
   "cell_type": "code",
   "execution_count": 3,
   "metadata": {},
   "outputs": [],
   "source": [
    "food_inspections_df = pd.read_csv('../data/Food_Inspections.gz', compression='gzip')"
   ]
  },
  {
   "cell_type": "code",
   "execution_count": 4,
   "metadata": {},
   "outputs": [
    {
     "data": {
      "text/plain": [
       "(195116, 17)"
      ]
     },
     "execution_count": 4,
     "metadata": {},
     "output_type": "execute_result"
    }
   ],
   "source": [
    "food_inspections_df.shape"
   ]
  },
  {
   "cell_type": "markdown",
   "metadata": {},
   "source": [
    "### Rename Columns"
   ]
  },
  {
   "cell_type": "code",
   "execution_count": 5,
   "metadata": {},
   "outputs": [
    {
     "data": {
      "text/plain": [
       "['Inspection ID',\n",
       " 'DBA Name',\n",
       " 'AKA Name',\n",
       " 'License #',\n",
       " 'Facility Type',\n",
       " 'Risk',\n",
       " 'Address',\n",
       " 'City',\n",
       " 'State',\n",
       " 'Zip',\n",
       " 'Inspection Date',\n",
       " 'Inspection Type',\n",
       " 'Results',\n",
       " 'Violations',\n",
       " 'Latitude',\n",
       " 'Longitude',\n",
       " 'Location']"
      ]
     },
     "execution_count": 5,
     "metadata": {},
     "output_type": "execute_result"
    }
   ],
   "source": [
    "food_inspections_df.columns.tolist()"
   ]
  },
  {
   "cell_type": "code",
   "execution_count": 6,
   "metadata": {},
   "outputs": [],
   "source": [
    "columns = ['inspection_id', 'dba_name', 'aka_name', 'license_number', 'facility_type',\n",
    "           'risk', 'address', 'city', 'state', 'zip', 'inspection_date', 'inspection_type',\n",
    "           'result', 'violation', 'latitude', 'longitude', 'location']"
   ]
  },
  {
   "cell_type": "code",
   "execution_count": 7,
   "metadata": {},
   "outputs": [],
   "source": [
    "food_inspections_df.columns = columns"
   ]
  },
  {
   "cell_type": "markdown",
   "metadata": {},
   "source": [
    "### Convert Zip Code to String\n",
    "And take only the first five digits, chopping off the decimal from reading the column as a float."
   ]
  },
  {
   "cell_type": "code",
   "execution_count": 8,
   "metadata": {},
   "outputs": [],
   "source": [
    "food_inspections_df['zip'] = food_inspections_df['zip'].astype(str).apply(lambda x: x.split('.')[0])"
   ]
  },
  {
   "cell_type": "markdown",
   "metadata": {},
   "source": [
    "### Normalize Casing of Chicago\n",
    "Accept only proper spellings of the word Chicago with mixed casing accepted."
   ]
  },
  {
   "cell_type": "code",
   "execution_count": 9,
   "metadata": {},
   "outputs": [],
   "source": [
    "food_inspections_df['city'] = food_inspections_df['city'].apply(lambda x: 'CHICAGO'\n",
    "                                                                if str(x).upper() == 'CHICAGO'\n",
    "                                                                else x)"
   ]
  },
  {
   "cell_type": "markdown",
   "metadata": {},
   "source": [
    "### Filter for Facilities in Chicago Illinois"
   ]
  },
  {
   "cell_type": "code",
   "execution_count": 10,
   "metadata": {},
   "outputs": [],
   "source": [
    "loc_condition = (food_inspections_df['city'] == 'CHICAGO') & (food_inspections_df['state'] == 'IL')"
   ]
  },
  {
   "cell_type": "markdown",
   "metadata": {},
   "source": [
    "### Drop Redundant Information\n",
    "- Only Chicago is considered\n",
    "- Only Illinois is considered\n",
    "- Location is encoded as separate latitute and longitude columns"
   ]
  },
  {
   "cell_type": "code",
   "execution_count": 11,
   "metadata": {},
   "outputs": [],
   "source": [
    "food_inspections_df = food_inspections_df[loc_condition].drop(['city', 'state', 'location'], 1)"
   ]
  },
  {
   "cell_type": "code",
   "execution_count": 12,
   "metadata": {},
   "outputs": [
    {
     "data": {
      "text/plain": [
       "(194684, 14)"
      ]
     },
     "execution_count": 12,
     "metadata": {},
     "output_type": "execute_result"
    }
   ],
   "source": [
    "food_inspections_df.shape"
   ]
  },
  {
   "cell_type": "markdown",
   "metadata": {},
   "source": [
    "### Create Codes Corresponding to Each Violation Type by Parsing Violation Text"
   ]
  },
  {
   "cell_type": "code",
   "execution_count": 13,
   "metadata": {},
   "outputs": [],
   "source": [
    "def create_violation_code(violation_text):\n",
    "    \n",
    "    if violation_text != violation_text:\n",
    "        return -1\n",
    "    else:\n",
    "        return int(violation_text.split('.')[0])"
   ]
  },
  {
   "cell_type": "code",
   "execution_count": 14,
   "metadata": {},
   "outputs": [],
   "source": [
    "food_inspections_df['violation_code'] = food_inspections_df['violation'].apply(create_violation_code)"
   ]
  },
  {
   "cell_type": "markdown",
   "metadata": {},
   "source": [
    "### Create Attribute Dataframes with the Unique Inspection ID for Lookups if Needed\n",
    "- Names\n",
    "- Licenses\n",
    "- Locations\n",
    "- Violations\n",
    "- Dates"
   ]
  },
  {
   "cell_type": "code",
   "execution_count": 15,
   "metadata": {},
   "outputs": [],
   "source": [
    "names = ['inspection_id', 'dba_name', 'aka_name']\n",
    "names_df = food_inspections_df[names]"
   ]
  },
  {
   "cell_type": "code",
   "execution_count": 16,
   "metadata": {},
   "outputs": [],
   "source": [
    "licenses = ['inspection_id', 'license_number']\n",
    "licenses_df = food_inspections_df[licenses]"
   ]
  },
  {
   "cell_type": "code",
   "execution_count": 17,
   "metadata": {},
   "outputs": [],
   "source": [
    "locations = ['inspection_id', 'address', 'latitude', 'longitude']\n",
    "locations_df = food_inspections_df[locations]"
   ]
  },
  {
   "cell_type": "code",
   "execution_count": 18,
   "metadata": {},
   "outputs": [],
   "source": [
    "violations = ['inspection_id', 'violation', 'violation_code']\n",
    "violations_df = food_inspections_df[violations]"
   ]
  },
  {
   "cell_type": "code",
   "execution_count": 19,
   "metadata": {},
   "outputs": [],
   "source": [
    "dates = ['inspection_id', 'inspection_date']\n",
    "dates_df = food_inspections_df[dates]"
   ]
  },
  {
   "cell_type": "markdown",
   "metadata": {},
   "source": [
    "### Drop Features Not Used in Statistical Analysis\n",
    "Features such as:\n",
    "\n",
    "- `DBA Name`\n",
    "- `AKA Name`\n",
    "- `License #`\n",
    "- `Address`\n",
    "- `Violations`\n",
    "- `Inspection Date`\n",
    "\n",
    "May be examined following statistical analysis by joining on `Inspection ID`.  **Note:** future iterations of this work may wish to consider:\n",
    "\n",
    "- Text from the the facility name\n",
    "- Street level information from the facility address\n",
    "- Prior inspections of the same facility by performing a temporal analysis of the data using `Inspection Date`"
   ]
  },
  {
   "cell_type": "code",
   "execution_count": 20,
   "metadata": {},
   "outputs": [],
   "source": [
    "not_considered = ['dba_name', 'aka_name', 'license_number', 'address', 'violation', 'inspection_date']\n",
    "food_inspections_df = food_inspections_df.drop(not_considered, 1)"
   ]
  },
  {
   "cell_type": "markdown",
   "metadata": {},
   "source": [
    "### Create Dataframes of Count and Prevalence for Categorical Features\n",
    "- Facility types\n",
    "- Violation codes\n",
    "- Zip codes\n",
    "- Inspection types"
   ]
  },
  {
   "cell_type": "code",
   "execution_count": 21,
   "metadata": {},
   "outputs": [],
   "source": [
    "facilities = food_inspections_df['facility_type'].value_counts()\n",
    "facilities_df = pd.DataFrame({'facility_type':facilities.index, 'count':facilities.values})\n",
    "facilities_df['prevalence'] = facilities_df['count'] / food_inspections_df.shape[0]"
   ]
  },
  {
   "cell_type": "code",
   "execution_count": 22,
   "metadata": {},
   "outputs": [
    {
     "data": {
      "text/html": [
       "<div>\n",
       "<style scoped>\n",
       "    .dataframe tbody tr th:only-of-type {\n",
       "        vertical-align: middle;\n",
       "    }\n",
       "\n",
       "    .dataframe tbody tr th {\n",
       "        vertical-align: top;\n",
       "    }\n",
       "\n",
       "    .dataframe thead th {\n",
       "        text-align: right;\n",
       "    }\n",
       "</style>\n",
       "<table border=\"1\" class=\"dataframe\">\n",
       "  <thead>\n",
       "    <tr style=\"text-align: right;\">\n",
       "      <th></th>\n",
       "      <th>facility_type</th>\n",
       "      <th>count</th>\n",
       "      <th>prevalence</th>\n",
       "    </tr>\n",
       "  </thead>\n",
       "  <tbody>\n",
       "    <tr>\n",
       "      <td>0</td>\n",
       "      <td>Restaurant</td>\n",
       "      <td>129938</td>\n",
       "      <td>0.667430</td>\n",
       "    </tr>\n",
       "    <tr>\n",
       "      <td>1</td>\n",
       "      <td>Grocery Store</td>\n",
       "      <td>24829</td>\n",
       "      <td>0.127535</td>\n",
       "    </tr>\n",
       "    <tr>\n",
       "      <td>2</td>\n",
       "      <td>School</td>\n",
       "      <td>12062</td>\n",
       "      <td>0.061957</td>\n",
       "    </tr>\n",
       "    <tr>\n",
       "      <td>3</td>\n",
       "      <td>Children's Services Facility</td>\n",
       "      <td>3031</td>\n",
       "      <td>0.015569</td>\n",
       "    </tr>\n",
       "    <tr>\n",
       "      <td>4</td>\n",
       "      <td>Bakery</td>\n",
       "      <td>2837</td>\n",
       "      <td>0.014572</td>\n",
       "    </tr>\n",
       "    <tr>\n",
       "      <td>5</td>\n",
       "      <td>Daycare (2 - 6 Years)</td>\n",
       "      <td>2682</td>\n",
       "      <td>0.013776</td>\n",
       "    </tr>\n",
       "    <tr>\n",
       "      <td>6</td>\n",
       "      <td>Daycare Above and Under 2 Years</td>\n",
       "      <td>2355</td>\n",
       "      <td>0.012097</td>\n",
       "    </tr>\n",
       "    <tr>\n",
       "      <td>7</td>\n",
       "      <td>Long Term Care</td>\n",
       "      <td>1340</td>\n",
       "      <td>0.006883</td>\n",
       "    </tr>\n",
       "    <tr>\n",
       "      <td>8</td>\n",
       "      <td>Catering</td>\n",
       "      <td>1190</td>\n",
       "      <td>0.006112</td>\n",
       "    </tr>\n",
       "    <tr>\n",
       "      <td>9</td>\n",
       "      <td>Liquor</td>\n",
       "      <td>847</td>\n",
       "      <td>0.004351</td>\n",
       "    </tr>\n",
       "  </tbody>\n",
       "</table>\n",
       "</div>"
      ],
      "text/plain": [
       "                     facility_type   count  prevalence\n",
       "0                       Restaurant  129938    0.667430\n",
       "1                    Grocery Store   24829    0.127535\n",
       "2                           School   12062    0.061957\n",
       "3     Children's Services Facility    3031    0.015569\n",
       "4                           Bakery    2837    0.014572\n",
       "5            Daycare (2 - 6 Years)    2682    0.013776\n",
       "6  Daycare Above and Under 2 Years    2355    0.012097\n",
       "7                   Long Term Care    1340    0.006883\n",
       "8                         Catering    1190    0.006112\n",
       "9                           Liquor     847    0.004351"
      ]
     },
     "execution_count": 22,
     "metadata": {},
     "output_type": "execute_result"
    }
   ],
   "source": [
    "facilities_df.nlargest(10, 'count')"
   ]
  },
  {
   "cell_type": "code",
   "execution_count": 23,
   "metadata": {},
   "outputs": [
    {
     "data": {
      "text/html": [
       "<div>\n",
       "<style scoped>\n",
       "    .dataframe tbody tr th:only-of-type {\n",
       "        vertical-align: middle;\n",
       "    }\n",
       "\n",
       "    .dataframe tbody tr th {\n",
       "        vertical-align: top;\n",
       "    }\n",
       "\n",
       "    .dataframe thead th {\n",
       "        text-align: right;\n",
       "    }\n",
       "</style>\n",
       "<table border=\"1\" class=\"dataframe\">\n",
       "  <thead>\n",
       "    <tr style=\"text-align: right;\">\n",
       "      <th></th>\n",
       "      <th>facility_type</th>\n",
       "      <th>count</th>\n",
       "      <th>prevalence</th>\n",
       "    </tr>\n",
       "  </thead>\n",
       "  <tbody>\n",
       "    <tr>\n",
       "      <td>401</td>\n",
       "      <td>TAVERN/RESTAURANT</td>\n",
       "      <td>1</td>\n",
       "      <td>0.000005</td>\n",
       "    </tr>\n",
       "    <tr>\n",
       "      <td>402</td>\n",
       "      <td>MOBILE DESSERT VENDOR</td>\n",
       "      <td>1</td>\n",
       "      <td>0.000005</td>\n",
       "    </tr>\n",
       "    <tr>\n",
       "      <td>403</td>\n",
       "      <td>religious</td>\n",
       "      <td>1</td>\n",
       "      <td>0.000005</td>\n",
       "    </tr>\n",
       "    <tr>\n",
       "      <td>404</td>\n",
       "      <td>ART GALLERY</td>\n",
       "      <td>1</td>\n",
       "      <td>0.000005</td>\n",
       "    </tr>\n",
       "    <tr>\n",
       "      <td>405</td>\n",
       "      <td>MOBILE FROZEN DESSERTS DISPENSER-NON- MOTORIZED</td>\n",
       "      <td>1</td>\n",
       "      <td>0.000005</td>\n",
       "    </tr>\n",
       "    <tr>\n",
       "      <td>406</td>\n",
       "      <td>FROZEN DESSERTS DISPENSER -NON MOTORIZED</td>\n",
       "      <td>1</td>\n",
       "      <td>0.000005</td>\n",
       "    </tr>\n",
       "    <tr>\n",
       "      <td>407</td>\n",
       "      <td>PEDDLER</td>\n",
       "      <td>1</td>\n",
       "      <td>0.000005</td>\n",
       "    </tr>\n",
       "    <tr>\n",
       "      <td>408</td>\n",
       "      <td>PREPACKAGE MEAL DISTRIBUTOR (1006 Retail)</td>\n",
       "      <td>1</td>\n",
       "      <td>0.000005</td>\n",
       "    </tr>\n",
       "    <tr>\n",
       "      <td>409</td>\n",
       "      <td>KIDS CAFE</td>\n",
       "      <td>1</td>\n",
       "      <td>0.000005</td>\n",
       "    </tr>\n",
       "    <tr>\n",
       "      <td>410</td>\n",
       "      <td>GIFT/CARD SHOP WITH CANDY</td>\n",
       "      <td>1</td>\n",
       "      <td>0.000005</td>\n",
       "    </tr>\n",
       "  </tbody>\n",
       "</table>\n",
       "</div>"
      ],
      "text/plain": [
       "                                       facility_type  count  prevalence\n",
       "401                                TAVERN/RESTAURANT      1    0.000005\n",
       "402                            MOBILE DESSERT VENDOR      1    0.000005\n",
       "403                                        religious      1    0.000005\n",
       "404                                      ART GALLERY      1    0.000005\n",
       "405  MOBILE FROZEN DESSERTS DISPENSER-NON- MOTORIZED      1    0.000005\n",
       "406         FROZEN DESSERTS DISPENSER -NON MOTORIZED      1    0.000005\n",
       "407                                          PEDDLER      1    0.000005\n",
       "408        PREPACKAGE MEAL DISTRIBUTOR (1006 Retail)      1    0.000005\n",
       "409                                        KIDS CAFE      1    0.000005\n",
       "410                        GIFT/CARD SHOP WITH CANDY      1    0.000005"
      ]
     },
     "execution_count": 23,
     "metadata": {},
     "output_type": "execute_result"
    }
   ],
   "source": [
    "facilities_df.nsmallest(10, 'count')"
   ]
  },
  {
   "cell_type": "code",
   "execution_count": 24,
   "metadata": {},
   "outputs": [],
   "source": [
    "violations = food_inspections_df['violation_code'].value_counts()\n",
    "violations_df = pd.DataFrame({'violation_code':violations.index, 'count':violations.values})\n",
    "violations_df['prevalence'] = violations_df['count'] / food_inspections_df.shape[0]"
   ]
  },
  {
   "cell_type": "code",
   "execution_count": 25,
   "metadata": {},
   "outputs": [
    {
     "data": {
      "text/html": [
       "<div>\n",
       "<style scoped>\n",
       "    .dataframe tbody tr th:only-of-type {\n",
       "        vertical-align: middle;\n",
       "    }\n",
       "\n",
       "    .dataframe tbody tr th {\n",
       "        vertical-align: top;\n",
       "    }\n",
       "\n",
       "    .dataframe thead th {\n",
       "        text-align: right;\n",
       "    }\n",
       "</style>\n",
       "<table border=\"1\" class=\"dataframe\">\n",
       "  <thead>\n",
       "    <tr style=\"text-align: right;\">\n",
       "      <th></th>\n",
       "      <th>violation_code</th>\n",
       "      <th>count</th>\n",
       "      <th>prevalence</th>\n",
       "    </tr>\n",
       "  </thead>\n",
       "  <tbody>\n",
       "    <tr>\n",
       "      <td>0</td>\n",
       "      <td>-1</td>\n",
       "      <td>51543</td>\n",
       "      <td>0.264752</td>\n",
       "    </tr>\n",
       "    <tr>\n",
       "      <td>1</td>\n",
       "      <td>32</td>\n",
       "      <td>25408</td>\n",
       "      <td>0.130509</td>\n",
       "    </tr>\n",
       "    <tr>\n",
       "      <td>2</td>\n",
       "      <td>33</td>\n",
       "      <td>17449</td>\n",
       "      <td>0.089627</td>\n",
       "    </tr>\n",
       "    <tr>\n",
       "      <td>3</td>\n",
       "      <td>3</td>\n",
       "      <td>13609</td>\n",
       "      <td>0.069903</td>\n",
       "    </tr>\n",
       "    <tr>\n",
       "      <td>4</td>\n",
       "      <td>34</td>\n",
       "      <td>10576</td>\n",
       "      <td>0.054324</td>\n",
       "    </tr>\n",
       "    <tr>\n",
       "      <td>5</td>\n",
       "      <td>18</td>\n",
       "      <td>9989</td>\n",
       "      <td>0.051309</td>\n",
       "    </tr>\n",
       "    <tr>\n",
       "      <td>6</td>\n",
       "      <td>30</td>\n",
       "      <td>9441</td>\n",
       "      <td>0.048494</td>\n",
       "    </tr>\n",
       "    <tr>\n",
       "      <td>7</td>\n",
       "      <td>2</td>\n",
       "      <td>7166</td>\n",
       "      <td>0.036808</td>\n",
       "    </tr>\n",
       "    <tr>\n",
       "      <td>8</td>\n",
       "      <td>35</td>\n",
       "      <td>5631</td>\n",
       "      <td>0.028924</td>\n",
       "    </tr>\n",
       "    <tr>\n",
       "      <td>9</td>\n",
       "      <td>21</td>\n",
       "      <td>4582</td>\n",
       "      <td>0.023536</td>\n",
       "    </tr>\n",
       "  </tbody>\n",
       "</table>\n",
       "</div>"
      ],
      "text/plain": [
       "   violation_code  count  prevalence\n",
       "0              -1  51543    0.264752\n",
       "1              32  25408    0.130509\n",
       "2              33  17449    0.089627\n",
       "3               3  13609    0.069903\n",
       "4              34  10576    0.054324\n",
       "5              18   9989    0.051309\n",
       "6              30   9441    0.048494\n",
       "7               2   7166    0.036808\n",
       "8              35   5631    0.028924\n",
       "9              21   4582    0.023536"
      ]
     },
     "execution_count": 25,
     "metadata": {},
     "output_type": "execute_result"
    }
   ],
   "source": [
    "violations_df.nlargest(10, 'count')"
   ]
  },
  {
   "cell_type": "code",
   "execution_count": 26,
   "metadata": {},
   "outputs": [
    {
     "data": {
      "text/html": [
       "<div>\n",
       "<style scoped>\n",
       "    .dataframe tbody tr th:only-of-type {\n",
       "        vertical-align: middle;\n",
       "    }\n",
       "\n",
       "    .dataframe tbody tr th {\n",
       "        vertical-align: top;\n",
       "    }\n",
       "\n",
       "    .dataframe thead th {\n",
       "        text-align: right;\n",
       "    }\n",
       "</style>\n",
       "<table border=\"1\" class=\"dataframe\">\n",
       "  <thead>\n",
       "    <tr style=\"text-align: right;\">\n",
       "      <th></th>\n",
       "      <th>violation_code</th>\n",
       "      <th>count</th>\n",
       "      <th>prevalence</th>\n",
       "    </tr>\n",
       "  </thead>\n",
       "  <tbody>\n",
       "    <tr>\n",
       "      <td>61</td>\n",
       "      <td>61</td>\n",
       "      <td>1</td>\n",
       "      <td>0.000005</td>\n",
       "    </tr>\n",
       "    <tr>\n",
       "      <td>62</td>\n",
       "      <td>63</td>\n",
       "      <td>1</td>\n",
       "      <td>0.000005</td>\n",
       "    </tr>\n",
       "    <tr>\n",
       "      <td>60</td>\n",
       "      <td>70</td>\n",
       "      <td>6</td>\n",
       "      <td>0.000031</td>\n",
       "    </tr>\n",
       "    <tr>\n",
       "      <td>58</td>\n",
       "      <td>15</td>\n",
       "      <td>11</td>\n",
       "      <td>0.000057</td>\n",
       "    </tr>\n",
       "    <tr>\n",
       "      <td>59</td>\n",
       "      <td>60</td>\n",
       "      <td>11</td>\n",
       "      <td>0.000057</td>\n",
       "    </tr>\n",
       "    <tr>\n",
       "      <td>57</td>\n",
       "      <td>59</td>\n",
       "      <td>13</td>\n",
       "      <td>0.000067</td>\n",
       "    </tr>\n",
       "    <tr>\n",
       "      <td>56</td>\n",
       "      <td>50</td>\n",
       "      <td>17</td>\n",
       "      <td>0.000087</td>\n",
       "    </tr>\n",
       "    <tr>\n",
       "      <td>55</td>\n",
       "      <td>20</td>\n",
       "      <td>18</td>\n",
       "      <td>0.000092</td>\n",
       "    </tr>\n",
       "    <tr>\n",
       "      <td>54</td>\n",
       "      <td>52</td>\n",
       "      <td>19</td>\n",
       "      <td>0.000098</td>\n",
       "    </tr>\n",
       "    <tr>\n",
       "      <td>53</td>\n",
       "      <td>54</td>\n",
       "      <td>25</td>\n",
       "      <td>0.000128</td>\n",
       "    </tr>\n",
       "  </tbody>\n",
       "</table>\n",
       "</div>"
      ],
      "text/plain": [
       "    violation_code  count  prevalence\n",
       "61              61      1    0.000005\n",
       "62              63      1    0.000005\n",
       "60              70      6    0.000031\n",
       "58              15     11    0.000057\n",
       "59              60     11    0.000057\n",
       "57              59     13    0.000067\n",
       "56              50     17    0.000087\n",
       "55              20     18    0.000092\n",
       "54              52     19    0.000098\n",
       "53              54     25    0.000128"
      ]
     },
     "execution_count": 26,
     "metadata": {},
     "output_type": "execute_result"
    }
   ],
   "source": [
    "violations_df.nsmallest(10, 'count')"
   ]
  },
  {
   "cell_type": "code",
   "execution_count": 27,
   "metadata": {},
   "outputs": [],
   "source": [
    "zips = food_inspections_df['zip'].value_counts()\n",
    "zips_df = pd.DataFrame({'zip':zips.index, 'count':zips.values})\n",
    "zips_df['prevalence'] = zips_df['count'] / food_inspections_df.shape[0]"
   ]
  },
  {
   "cell_type": "code",
   "execution_count": 28,
   "metadata": {},
   "outputs": [
    {
     "data": {
      "text/html": [
       "<div>\n",
       "<style scoped>\n",
       "    .dataframe tbody tr th:only-of-type {\n",
       "        vertical-align: middle;\n",
       "    }\n",
       "\n",
       "    .dataframe tbody tr th {\n",
       "        vertical-align: top;\n",
       "    }\n",
       "\n",
       "    .dataframe thead th {\n",
       "        text-align: right;\n",
       "    }\n",
       "</style>\n",
       "<table border=\"1\" class=\"dataframe\">\n",
       "  <thead>\n",
       "    <tr style=\"text-align: right;\">\n",
       "      <th></th>\n",
       "      <th>zip</th>\n",
       "      <th>count</th>\n",
       "      <th>prevalence</th>\n",
       "    </tr>\n",
       "  </thead>\n",
       "  <tbody>\n",
       "    <tr>\n",
       "      <td>0</td>\n",
       "      <td>60614</td>\n",
       "      <td>7284</td>\n",
       "      <td>0.037414</td>\n",
       "    </tr>\n",
       "    <tr>\n",
       "      <td>1</td>\n",
       "      <td>60647</td>\n",
       "      <td>7088</td>\n",
       "      <td>0.036408</td>\n",
       "    </tr>\n",
       "    <tr>\n",
       "      <td>2</td>\n",
       "      <td>60657</td>\n",
       "      <td>6824</td>\n",
       "      <td>0.035052</td>\n",
       "    </tr>\n",
       "    <tr>\n",
       "      <td>3</td>\n",
       "      <td>60622</td>\n",
       "      <td>6108</td>\n",
       "      <td>0.031374</td>\n",
       "    </tr>\n",
       "    <tr>\n",
       "      <td>4</td>\n",
       "      <td>60611</td>\n",
       "      <td>6094</td>\n",
       "      <td>0.031302</td>\n",
       "    </tr>\n",
       "    <tr>\n",
       "      <td>5</td>\n",
       "      <td>60608</td>\n",
       "      <td>5925</td>\n",
       "      <td>0.030434</td>\n",
       "    </tr>\n",
       "    <tr>\n",
       "      <td>6</td>\n",
       "      <td>60618</td>\n",
       "      <td>5923</td>\n",
       "      <td>0.030424</td>\n",
       "    </tr>\n",
       "    <tr>\n",
       "      <td>7</td>\n",
       "      <td>60625</td>\n",
       "      <td>5387</td>\n",
       "      <td>0.027670</td>\n",
       "    </tr>\n",
       "    <tr>\n",
       "      <td>8</td>\n",
       "      <td>60639</td>\n",
       "      <td>5208</td>\n",
       "      <td>0.026751</td>\n",
       "    </tr>\n",
       "    <tr>\n",
       "      <td>9</td>\n",
       "      <td>60607</td>\n",
       "      <td>5145</td>\n",
       "      <td>0.026427</td>\n",
       "    </tr>\n",
       "  </tbody>\n",
       "</table>\n",
       "</div>"
      ],
      "text/plain": [
       "     zip  count  prevalence\n",
       "0  60614   7284    0.037414\n",
       "1  60647   7088    0.036408\n",
       "2  60657   6824    0.035052\n",
       "3  60622   6108    0.031374\n",
       "4  60611   6094    0.031302\n",
       "5  60608   5925    0.030434\n",
       "6  60618   5923    0.030424\n",
       "7  60625   5387    0.027670\n",
       "8  60639   5208    0.026751\n",
       "9  60607   5145    0.026427"
      ]
     },
     "execution_count": 28,
     "metadata": {},
     "output_type": "execute_result"
    }
   ],
   "source": [
    "zips_df.nlargest(10, 'count')"
   ]
  },
  {
   "cell_type": "code",
   "execution_count": 29,
   "metadata": {},
   "outputs": [
    {
     "data": {
      "text/html": [
       "<div>\n",
       "<style scoped>\n",
       "    .dataframe tbody tr th:only-of-type {\n",
       "        vertical-align: middle;\n",
       "    }\n",
       "\n",
       "    .dataframe tbody tr th {\n",
       "        vertical-align: top;\n",
       "    }\n",
       "\n",
       "    .dataframe thead th {\n",
       "        text-align: right;\n",
       "    }\n",
       "</style>\n",
       "<table border=\"1\" class=\"dataframe\">\n",
       "  <thead>\n",
       "    <tr style=\"text-align: right;\">\n",
       "      <th></th>\n",
       "      <th>zip</th>\n",
       "      <th>count</th>\n",
       "      <th>prevalence</th>\n",
       "    </tr>\n",
       "  </thead>\n",
       "  <tbody>\n",
       "    <tr>\n",
       "      <td>60</td>\n",
       "      <td>60627</td>\n",
       "      <td>2</td>\n",
       "      <td>0.000010</td>\n",
       "    </tr>\n",
       "    <tr>\n",
       "      <td>61</td>\n",
       "      <td>60805</td>\n",
       "      <td>2</td>\n",
       "      <td>0.000010</td>\n",
       "    </tr>\n",
       "    <tr>\n",
       "      <td>59</td>\n",
       "      <td>nan</td>\n",
       "      <td>3</td>\n",
       "      <td>0.000015</td>\n",
       "    </tr>\n",
       "    <tr>\n",
       "      <td>58</td>\n",
       "      <td>60827</td>\n",
       "      <td>134</td>\n",
       "      <td>0.000688</td>\n",
       "    </tr>\n",
       "    <tr>\n",
       "      <td>57</td>\n",
       "      <td>60633</td>\n",
       "      <td>341</td>\n",
       "      <td>0.001752</td>\n",
       "    </tr>\n",
       "    <tr>\n",
       "      <td>56</td>\n",
       "      <td>60656</td>\n",
       "      <td>814</td>\n",
       "      <td>0.004181</td>\n",
       "    </tr>\n",
       "    <tr>\n",
       "      <td>55</td>\n",
       "      <td>60655</td>\n",
       "      <td>816</td>\n",
       "      <td>0.004191</td>\n",
       "    </tr>\n",
       "    <tr>\n",
       "      <td>54</td>\n",
       "      <td>60707</td>\n",
       "      <td>1125</td>\n",
       "      <td>0.005779</td>\n",
       "    </tr>\n",
       "    <tr>\n",
       "      <td>53</td>\n",
       "      <td>60604</td>\n",
       "      <td>1290</td>\n",
       "      <td>0.006626</td>\n",
       "    </tr>\n",
       "    <tr>\n",
       "      <td>52</td>\n",
       "      <td>60602</td>\n",
       "      <td>1409</td>\n",
       "      <td>0.007237</td>\n",
       "    </tr>\n",
       "  </tbody>\n",
       "</table>\n",
       "</div>"
      ],
      "text/plain": [
       "      zip  count  prevalence\n",
       "60  60627      2    0.000010\n",
       "61  60805      2    0.000010\n",
       "59    nan      3    0.000015\n",
       "58  60827    134    0.000688\n",
       "57  60633    341    0.001752\n",
       "56  60656    814    0.004181\n",
       "55  60655    816    0.004191\n",
       "54  60707   1125    0.005779\n",
       "53  60604   1290    0.006626\n",
       "52  60602   1409    0.007237"
      ]
     },
     "execution_count": 29,
     "metadata": {},
     "output_type": "execute_result"
    }
   ],
   "source": [
    "zips_df.nsmallest(10, 'count')"
   ]
  },
  {
   "cell_type": "code",
   "execution_count": 30,
   "metadata": {},
   "outputs": [],
   "source": [
    "inspections = food_inspections_df['inspection_type'].value_counts()\n",
    "inspections_df = pd.DataFrame({'inspection_type':inspections.index, 'count':inspections.values})\n",
    "inspections_df['prevalence'] = inspections_df['count'] / food_inspections_df.shape[0]"
   ]
  },
  {
   "cell_type": "code",
   "execution_count": 31,
   "metadata": {},
   "outputs": [
    {
     "data": {
      "text/html": [
       "<div>\n",
       "<style scoped>\n",
       "    .dataframe tbody tr th:only-of-type {\n",
       "        vertical-align: middle;\n",
       "    }\n",
       "\n",
       "    .dataframe tbody tr th {\n",
       "        vertical-align: top;\n",
       "    }\n",
       "\n",
       "    .dataframe thead th {\n",
       "        text-align: right;\n",
       "    }\n",
       "</style>\n",
       "<table border=\"1\" class=\"dataframe\">\n",
       "  <thead>\n",
       "    <tr style=\"text-align: right;\">\n",
       "      <th></th>\n",
       "      <th>inspection_type</th>\n",
       "      <th>count</th>\n",
       "      <th>prevalence</th>\n",
       "    </tr>\n",
       "  </thead>\n",
       "  <tbody>\n",
       "    <tr>\n",
       "      <td>0</td>\n",
       "      <td>Canvass</td>\n",
       "      <td>102944</td>\n",
       "      <td>0.528775</td>\n",
       "    </tr>\n",
       "    <tr>\n",
       "      <td>1</td>\n",
       "      <td>License</td>\n",
       "      <td>25614</td>\n",
       "      <td>0.131567</td>\n",
       "    </tr>\n",
       "    <tr>\n",
       "      <td>2</td>\n",
       "      <td>Canvass Re-Inspection</td>\n",
       "      <td>20457</td>\n",
       "      <td>0.105078</td>\n",
       "    </tr>\n",
       "    <tr>\n",
       "      <td>3</td>\n",
       "      <td>Complaint</td>\n",
       "      <td>18093</td>\n",
       "      <td>0.092935</td>\n",
       "    </tr>\n",
       "    <tr>\n",
       "      <td>4</td>\n",
       "      <td>License Re-Inspection</td>\n",
       "      <td>8899</td>\n",
       "      <td>0.045710</td>\n",
       "    </tr>\n",
       "    <tr>\n",
       "      <td>5</td>\n",
       "      <td>Complaint Re-Inspection</td>\n",
       "      <td>7499</td>\n",
       "      <td>0.038519</td>\n",
       "    </tr>\n",
       "    <tr>\n",
       "      <td>6</td>\n",
       "      <td>Short Form Complaint</td>\n",
       "      <td>6717</td>\n",
       "      <td>0.034502</td>\n",
       "    </tr>\n",
       "    <tr>\n",
       "      <td>7</td>\n",
       "      <td>Suspected Food Poisoning</td>\n",
       "      <td>850</td>\n",
       "      <td>0.004366</td>\n",
       "    </tr>\n",
       "    <tr>\n",
       "      <td>8</td>\n",
       "      <td>Consultation</td>\n",
       "      <td>669</td>\n",
       "      <td>0.003436</td>\n",
       "    </tr>\n",
       "    <tr>\n",
       "      <td>9</td>\n",
       "      <td>License-Task Force</td>\n",
       "      <td>604</td>\n",
       "      <td>0.003102</td>\n",
       "    </tr>\n",
       "  </tbody>\n",
       "</table>\n",
       "</div>"
      ],
      "text/plain": [
       "            inspection_type   count  prevalence\n",
       "0                   Canvass  102944    0.528775\n",
       "1                   License   25614    0.131567\n",
       "2     Canvass Re-Inspection   20457    0.105078\n",
       "3                 Complaint   18093    0.092935\n",
       "4     License Re-Inspection    8899    0.045710\n",
       "5   Complaint Re-Inspection    7499    0.038519\n",
       "6      Short Form Complaint    6717    0.034502\n",
       "7  Suspected Food Poisoning     850    0.004366\n",
       "8              Consultation     669    0.003436\n",
       "9        License-Task Force     604    0.003102"
      ]
     },
     "execution_count": 31,
     "metadata": {},
     "output_type": "execute_result"
    }
   ],
   "source": [
    "inspections_df.nlargest(10, 'count')"
   ]
  },
  {
   "cell_type": "code",
   "execution_count": 32,
   "metadata": {},
   "outputs": [
    {
     "data": {
      "text/html": [
       "<div>\n",
       "<style scoped>\n",
       "    .dataframe tbody tr th:only-of-type {\n",
       "        vertical-align: middle;\n",
       "    }\n",
       "\n",
       "    .dataframe tbody tr th {\n",
       "        vertical-align: top;\n",
       "    }\n",
       "\n",
       "    .dataframe thead th {\n",
       "        text-align: right;\n",
       "    }\n",
       "</style>\n",
       "<table border=\"1\" class=\"dataframe\">\n",
       "  <thead>\n",
       "    <tr style=\"text-align: right;\">\n",
       "      <th></th>\n",
       "      <th>inspection_type</th>\n",
       "      <th>count</th>\n",
       "      <th>prevalence</th>\n",
       "    </tr>\n",
       "  </thead>\n",
       "  <tbody>\n",
       "    <tr>\n",
       "      <td>41</td>\n",
       "      <td>TAVERN 1470</td>\n",
       "      <td>1</td>\n",
       "      <td>0.000005</td>\n",
       "    </tr>\n",
       "    <tr>\n",
       "      <td>42</td>\n",
       "      <td>RE-INSPECTION OF CLOSE-UP</td>\n",
       "      <td>1</td>\n",
       "      <td>0.000005</td>\n",
       "    </tr>\n",
       "    <tr>\n",
       "      <td>43</td>\n",
       "      <td>TASK FORCE LIQUOR (1481)</td>\n",
       "      <td>1</td>\n",
       "      <td>0.000005</td>\n",
       "    </tr>\n",
       "    <tr>\n",
       "      <td>44</td>\n",
       "      <td>CANVASS RE INSPECTION OF CLOSE UP</td>\n",
       "      <td>1</td>\n",
       "      <td>0.000005</td>\n",
       "    </tr>\n",
       "    <tr>\n",
       "      <td>45</td>\n",
       "      <td>O.B.</td>\n",
       "      <td>1</td>\n",
       "      <td>0.000005</td>\n",
       "    </tr>\n",
       "    <tr>\n",
       "      <td>46</td>\n",
       "      <td>DAY CARE LICENSE RENEWAL</td>\n",
       "      <td>1</td>\n",
       "      <td>0.000005</td>\n",
       "    </tr>\n",
       "    <tr>\n",
       "      <td>47</td>\n",
       "      <td>LICENSE DAYCARE 1586</td>\n",
       "      <td>1</td>\n",
       "      <td>0.000005</td>\n",
       "    </tr>\n",
       "    <tr>\n",
       "      <td>48</td>\n",
       "      <td>Task force liquor inspection 1474</td>\n",
       "      <td>1</td>\n",
       "      <td>0.000005</td>\n",
       "    </tr>\n",
       "    <tr>\n",
       "      <td>49</td>\n",
       "      <td>Summer Feeding</td>\n",
       "      <td>1</td>\n",
       "      <td>0.000005</td>\n",
       "    </tr>\n",
       "    <tr>\n",
       "      <td>50</td>\n",
       "      <td>out ofbusiness</td>\n",
       "      <td>1</td>\n",
       "      <td>0.000005</td>\n",
       "    </tr>\n",
       "  </tbody>\n",
       "</table>\n",
       "</div>"
      ],
      "text/plain": [
       "                      inspection_type  count  prevalence\n",
       "41                        TAVERN 1470      1    0.000005\n",
       "42          RE-INSPECTION OF CLOSE-UP      1    0.000005\n",
       "43           TASK FORCE LIQUOR (1481)      1    0.000005\n",
       "44  CANVASS RE INSPECTION OF CLOSE UP      1    0.000005\n",
       "45                               O.B.      1    0.000005\n",
       "46           DAY CARE LICENSE RENEWAL      1    0.000005\n",
       "47               LICENSE DAYCARE 1586      1    0.000005\n",
       "48  Task force liquor inspection 1474      1    0.000005\n",
       "49                     Summer Feeding      1    0.000005\n",
       "50                     out ofbusiness      1    0.000005"
      ]
     },
     "execution_count": 32,
     "metadata": {},
     "output_type": "execute_result"
    }
   ],
   "source": [
    "inspections_df.nsmallest(10, 'count')"
   ]
  },
  {
   "cell_type": "code",
   "execution_count": 33,
   "metadata": {},
   "outputs": [],
   "source": [
    "results = food_inspections_df['result'].value_counts()\n",
    "results_df = pd.DataFrame({'result':results.index, 'count':results.values})\n",
    "results_df['prevalence'] = results_df['count'] / food_inspections_df.shape[0]"
   ]
  },
  {
   "cell_type": "code",
   "execution_count": 34,
   "metadata": {},
   "outputs": [
    {
     "data": {
      "text/html": [
       "<div>\n",
       "<style scoped>\n",
       "    .dataframe tbody tr th:only-of-type {\n",
       "        vertical-align: middle;\n",
       "    }\n",
       "\n",
       "    .dataframe tbody tr th {\n",
       "        vertical-align: top;\n",
       "    }\n",
       "\n",
       "    .dataframe thead th {\n",
       "        text-align: right;\n",
       "    }\n",
       "</style>\n",
       "<table border=\"1\" class=\"dataframe\">\n",
       "  <thead>\n",
       "    <tr style=\"text-align: right;\">\n",
       "      <th></th>\n",
       "      <th>result</th>\n",
       "      <th>count</th>\n",
       "      <th>prevalence</th>\n",
       "    </tr>\n",
       "  </thead>\n",
       "  <tbody>\n",
       "    <tr>\n",
       "      <td>0</td>\n",
       "      <td>Pass</td>\n",
       "      <td>105369</td>\n",
       "      <td>0.541231</td>\n",
       "    </tr>\n",
       "    <tr>\n",
       "      <td>1</td>\n",
       "      <td>Fail</td>\n",
       "      <td>37658</td>\n",
       "      <td>0.193431</td>\n",
       "    </tr>\n",
       "    <tr>\n",
       "      <td>2</td>\n",
       "      <td>Pass w/ Conditions</td>\n",
       "      <td>26795</td>\n",
       "      <td>0.137633</td>\n",
       "    </tr>\n",
       "    <tr>\n",
       "      <td>3</td>\n",
       "      <td>Out of Business</td>\n",
       "      <td>16757</td>\n",
       "      <td>0.086073</td>\n",
       "    </tr>\n",
       "    <tr>\n",
       "      <td>4</td>\n",
       "      <td>No Entry</td>\n",
       "      <td>6198</td>\n",
       "      <td>0.031836</td>\n",
       "    </tr>\n",
       "    <tr>\n",
       "      <td>5</td>\n",
       "      <td>Not Ready</td>\n",
       "      <td>1843</td>\n",
       "      <td>0.009467</td>\n",
       "    </tr>\n",
       "    <tr>\n",
       "      <td>6</td>\n",
       "      <td>Business Not Located</td>\n",
       "      <td>64</td>\n",
       "      <td>0.000329</td>\n",
       "    </tr>\n",
       "  </tbody>\n",
       "</table>\n",
       "</div>"
      ],
      "text/plain": [
       "                 result   count  prevalence\n",
       "0                  Pass  105369    0.541231\n",
       "1                  Fail   37658    0.193431\n",
       "2    Pass w/ Conditions   26795    0.137633\n",
       "3       Out of Business   16757    0.086073\n",
       "4              No Entry    6198    0.031836\n",
       "5             Not Ready    1843    0.009467\n",
       "6  Business Not Located      64    0.000329"
      ]
     },
     "execution_count": 34,
     "metadata": {},
     "output_type": "execute_result"
    }
   ],
   "source": [
    "results_df.nlargest(10, 'count')"
   ]
  },
  {
   "cell_type": "markdown",
   "metadata": {},
   "source": [
    "### Drop Violation Code for Now\n",
    "We can join back using the Inspection ID to learn about types of violations, but we don't want to use any information about the violation itself to predict if a food inspection will pass or fail."
   ]
  },
  {
   "cell_type": "code",
   "execution_count": 35,
   "metadata": {},
   "outputs": [],
   "source": [
    "food_inspections_df = food_inspections_df.drop('violation_code', 1)"
   ]
  },
  {
   "cell_type": "markdown",
   "metadata": {},
   "source": [
    "### Create Risk Group Feature\n",
    "If the feature cannot be found in the middle of the text string as a value 1-3, return -1."
   ]
  },
  {
   "cell_type": "code",
   "execution_count": 36,
   "metadata": {},
   "outputs": [],
   "source": [
    "def create_risk_groups(risk_text):\n",
    "    \n",
    "    try: \n",
    "        risk = int(risk_text.split(' ')[1])\n",
    "        return risk\n",
    "    except:\n",
    "        return -1"
   ]
  },
  {
   "cell_type": "code",
   "execution_count": 37,
   "metadata": {},
   "outputs": [],
   "source": [
    "food_inspections_df['risk'] = food_inspections_df['risk'].apply(create_risk_groups)"
   ]
  },
  {
   "cell_type": "markdown",
   "metadata": {},
   "source": [
    "### Format Result\n",
    "- Encode Pass and Pass w/ Conditions as 0\n",
    "- Encode Fail as 1\n",
    "- Encode all others as -1 and filter out these results"
   ]
  },
  {
   "cell_type": "code",
   "execution_count": 38,
   "metadata": {},
   "outputs": [],
   "source": [
    "def format_results(result):\n",
    "    \n",
    "    if result == 'Pass':\n",
    "        return 0\n",
    "    elif result == 'Pass w/ Conditions':\n",
    "        return 0\n",
    "    elif result == 'Fail':\n",
    "        return 1\n",
    "    else:\n",
    "        return -1"
   ]
  },
  {
   "cell_type": "code",
   "execution_count": 39,
   "metadata": {},
   "outputs": [],
   "source": [
    "food_inspections_df['result'] = food_inspections_df['result'].apply(format_results)\n",
    "food_inspections_df = food_inspections_df[food_inspections_df['result'] != -1]"
   ]
  },
  {
   "cell_type": "code",
   "execution_count": 40,
   "metadata": {},
   "outputs": [
    {
     "data": {
      "text/plain": [
       "(169822, 8)"
      ]
     },
     "execution_count": 40,
     "metadata": {},
     "output_type": "execute_result"
    }
   ],
   "source": [
    "food_inspections_df.shape"
   ]
  },
  {
   "cell_type": "markdown",
   "metadata": {},
   "source": [
    "### Filter for Categorical Features that Pass some Prevalence Threshold\n",
    "This way we only consider fairly common attributes of historical food establishments and inspections so that our analysis will generalize to new establishments and inspections.  **Note:** the prevalence threshold is set to **0.1%**."
   ]
  },
  {
   "cell_type": "code",
   "execution_count": 41,
   "metadata": {},
   "outputs": [],
   "source": [
    "categorical_features = ['facility_type', 'zip', 'inspection_type']"
   ]
  },
  {
   "cell_type": "code",
   "execution_count": 42,
   "metadata": {},
   "outputs": [],
   "source": [
    "def prev_filter(df, feature, prevalence='prevalence', prevalence_threshold=0.001):\n",
    "    \n",
    "    return df[df[prevalence] > prevalence_threshold][feature].tolist()"
   ]
  },
  {
   "cell_type": "code",
   "execution_count": 43,
   "metadata": {},
   "outputs": [],
   "source": [
    "feature_dict = dict(zip(categorical_features, [prev_filter(facilities_df, 'facility_type'),\n",
    "                                               prev_filter(zips_df, 'zip'),\n",
    "                                               prev_filter(inspections_df, 'inspection_type')]))"
   ]
  },
  {
   "cell_type": "markdown",
   "metadata": {},
   "source": [
    "### Encode Rare Features with the 'DROP' String, to be Removed Later\n",
    "Note that by mapping all rare features to the 'DROP' attribute, we avoid having to one-hot-encode all rare features and then drop them after the fact.  That would create an unnecessarily large feature matrix.  Instead we one-hot encode features passing the prevalence threshold and then drop all rare features that were tagged with the 'DROP' string."
   ]
  },
  {
   "cell_type": "code",
   "execution_count": 44,
   "metadata": {},
   "outputs": [],
   "source": [
    "for feature in categorical_features:\n",
    "    food_inspections_df[feature] = food_inspections_df[feature].apply(lambda x: \n",
    "                                                                      x if x in feature_dict[feature]\n",
    "                                                                      else 'DROP')"
   ]
  },
  {
   "cell_type": "code",
   "execution_count": 45,
   "metadata": {},
   "outputs": [],
   "source": [
    "feature_df = pd.get_dummies(food_inspections_df,\n",
    "                            prefix=['{}'.format(feature) for feature in categorical_features],\n",
    "                            columns=categorical_features)"
   ]
  },
  {
   "cell_type": "code",
   "execution_count": 46,
   "metadata": {},
   "outputs": [],
   "source": [
    "feature_df = feature_df[[col for col in feature_df.columns if 'DROP' not in col]]"
   ]
  },
  {
   "cell_type": "code",
   "execution_count": 47,
   "metadata": {
    "scrolled": true
   },
   "outputs": [
    {
     "data": {
      "text/plain": [
       "(169822, 96)"
      ]
     },
     "execution_count": 47,
     "metadata": {},
     "output_type": "execute_result"
    }
   ],
   "source": [
    "feature_df.shape"
   ]
  },
  {
   "cell_type": "markdown",
   "metadata": {},
   "source": [
    "### Drop Features with:\n",
    "- Risk level not recorded as 1, 2, or 3\n",
    "- Result not recorded as Pass, Pass w/ Conditions, or Fail\n",
    "- NA values (Some latitudes and longitudes are NA)"
   ]
  },
  {
   "cell_type": "code",
   "execution_count": 48,
   "metadata": {},
   "outputs": [],
   "source": [
    "feature_df = feature_df[feature_df['risk'] != -1]\n",
    "feature_df = feature_df[feature_df['result'] != -1]\n",
    "feature_df = feature_df.dropna()"
   ]
  },
  {
   "cell_type": "code",
   "execution_count": 49,
   "metadata": {},
   "outputs": [
    {
     "data": {
      "text/plain": [
       "(169305, 96)"
      ]
     },
     "execution_count": 49,
     "metadata": {},
     "output_type": "execute_result"
    }
   ],
   "source": [
    "feature_df.shape"
   ]
  },
  {
   "cell_type": "markdown",
   "metadata": {},
   "source": [
    "### Write the Feature Set to a Compressed CSV File to Load for Modeling and Analysis"
   ]
  },
  {
   "cell_type": "code",
   "execution_count": null,
   "metadata": {},
   "outputs": [],
   "source": [
    "feature_df.to_csv('../data/Food_Inspection_Features.gz', compression='gzip', index=False)"
   ]
  },
  {
   "cell_type": "markdown",
   "metadata": {},
   "source": [
    "### Write off Zip Codes to Join with Census Data"
   ]
  },
  {
   "cell_type": "code",
   "execution_count": null,
   "metadata": {},
   "outputs": [],
   "source": [
    "zips_df.to_csv('../data/Zips.csv', index=False)"
   ]
  },
  {
   "cell_type": "code",
   "execution_count": null,
   "metadata": {},
   "outputs": [],
   "source": []
  }
 ],
 "metadata": {
  "kernelspec": {
   "display_name": "Python 3",
   "language": "python",
   "name": "python3"
  },
  "language_info": {
   "codemirror_mode": {
    "name": "ipython",
    "version": 3
   },
   "file_extension": ".py",
   "mimetype": "text/x-python",
   "name": "python",
   "nbconvert_exporter": "python",
   "pygments_lexer": "ipython3",
   "version": "3.7.4"
  }
 },
 "nbformat": 4,
 "nbformat_minor": 2
}
