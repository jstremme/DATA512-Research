{
 "cells": [
  {
   "cell_type": "markdown",
   "metadata": {},
   "source": [
    "# Execution Time Analysis for Logistic Regression Training with Replicated Data\n",
    "This notebook analyzes the execution times from `08_replicated_data_spark_logistic_regression_food_inspections` to provide comparisons between:\n",
    "\n",
    "1. A from-scratch Python implementation which uses looping to compute gradients on individual samples\n",
    "2. A from-scratch Spark implementation which leverages distributed map and reduce operations to compute gradients on individual samples\n",
    "\n",
    "**Notes:**\n",
    "\n",
    "1. Logistic Regression Algorithm for Spark RDD from M. Zaharia, M. Chowdhury, T. Das, A. Dave, J. Ma, M. McCauley, M. J. Franklin, S. Shenker, and I. Stoica. Resilient distributed datasets: A fault-tolerant abstraction for in-memory cluster computing. In Proceedings of NSDI, pages 15–28, 2012.\n",
    "2. Raw Python Version based on https://github.com/jstremme/l2-regularized-logistic-regression but without regularization and vectorization of matrix operations.  Instead `py_lr_grad_descent` computes the gradient on each sample sequentially, unlike Spark which will compute the gradient on each sample but in parallel."
   ]
  },
  {
   "cell_type": "markdown",
   "metadata": {},
   "source": [
    "### Imports"
   ]
  },
  {
   "cell_type": "code",
   "execution_count": 2,
   "metadata": {},
   "outputs": [],
   "source": [
    "import numpy as np\n",
    "import pandas as pd\n",
    "import matplotlib.pyplot as plt"
   ]
  },
  {
   "cell_type": "markdown",
   "metadata": {},
   "source": [
    "### Record Fit Times by Instance"
   ]
  },
  {
   "cell_type": "code",
   "execution_count": null,
   "metadata": {},
   "outputs": [],
   "source": [
    "fit_times_df = pd.DataFrame(\n",
    "    {'instances': [2, 4],\n",
    "     'raw_python_fit_time_seconds': [N, N, N, N, N, N]\n",
    "     'spark_fit_time_seconds': [N, N, N, N, N, N]\n",
    "    })"
   ]
  },
  {
   "cell_type": "markdown",
   "metadata": {},
   "source": [
    "### Create Plotting Functions"
   ]
  },
  {
   "cell_type": "code",
   "execution_count": null,
   "metadata": {},
   "outputs": [],
   "source": [
    "def mean_r(x):\n",
    "    return round(np.mean(x), 3)"
   ]
  },
  {
   "cell_type": "code",
   "execution_count": null,
   "metadata": {},
   "outputs": [],
   "source": [
    "def min_r(x):\n",
    "    return round(min(x), 3)"
   ]
  },
  {
   "cell_type": "code",
   "execution_count": null,
   "metadata": {},
   "outputs": [],
   "source": [
    "def max_r(x):\n",
    "    return round(max(x), 3)"
   ]
  },
  {
   "cell_type": "code",
   "execution_count": null,
   "metadata": {},
   "outputs": [],
   "source": [
    "def plot_execution_time(df, algo, title):\n",
    "    \n",
    "    plt.figure(figsize=(8,8))\n",
    "    xpos=np.arange(len(algo))\n",
    "    plt.barh(xpos-0.2, df['Min'], height=0.2, label='Min', color='yellow')\n",
    "    plt.barh(xpos, df['Mean'], height=0.2, label='Mean', color='orange')\n",
    "    plt.barh(xpos+0.2, df['Max'], height=0.2, label='Max', color='red')\n",
    "\n",
    "    plt.title(title)\n",
    "    plt.yticks(xpos, algo)\n",
    "    plt.xlabel('Execution Time (Seconds)')\n",
    "    plt.ylabel('Algorithm and Number of Instances')\n",
    "    plt.legend()\n",
    "    \n",
    "    pylab.xlim([0,2.5])\n",
    "    plt.show()"
   ]
  },
  {
   "cell_type": "markdown",
   "metadata": {},
   "source": [
    "### Split Data by Number of Instances"
   ]
  },
  {
   "cell_type": "code",
   "execution_count": null,
   "metadata": {},
   "outputs": [],
   "source": [
    "two_instance_df = fit_times_df[fit_times_df['instances'] == 2]\n",
    "four_instance_df = fit_times_df[fit_times_df['instances'] == 4]"
   ]
  },
  {
   "cell_type": "markdown",
   "metadata": {},
   "source": [
    "### Compute Summary Statistics"
   ]
  },
  {
   "cell_type": "code",
   "execution_count": null,
   "metadata": {},
   "outputs": [],
   "source": [
    "algos = ['Raw Python 2 Instances', 'Spark 2 Instances', 'Raw Python 4 Instances', 'Spark 4 Instances']"
   ]
  },
  {
   "cell_type": "code",
   "execution_count": null,
   "metadata": {},
   "outputs": [],
   "source": [
    "all_times = [two_instance_df['raw_python_fit_time_seconds'].tolist(),\n",
    "             two_instance_df['spark_fit_time_seconds'].tolist(),\n",
    "             four_instance_df['raw_python_fit_time_seconds'].tolist(),\n",
    "             four_instance_df['spark_fit_time_seconds'].tolist()]"
   ]
  },
  {
   "cell_type": "code",
   "execution_count": null,
   "metadata": {},
   "outputs": [],
   "source": [
    "mean_times = list(map(mean_r, all_times))\n",
    "min_times = list(map(min_r, all_times))\n",
    "max_times = list(map(max_r, all_times))"
   ]
  },
  {
   "cell_type": "code",
   "execution_count": null,
   "metadata": {},
   "outputs": [],
   "source": [
    "summary_df = pd.DataFrame(\n",
    "        {'Mean': mean_times,\n",
    "         'Min': min_times,\n",
    "         'Max': max_times,\n",
    "        })"
   ]
  },
  {
   "cell_type": "markdown",
   "metadata": {},
   "source": [
    "### Plot Execution Times"
   ]
  },
  {
   "cell_type": "code",
   "execution_count": null,
   "metadata": {},
   "outputs": [],
   "source": [
    "plot_execution_time(summary_df, algos,\n",
    "                    title='Logistic Regression Execution Times for Gradient Descent with Batch Size = 1')"
   ]
  }
 ],
 "metadata": {
  "kernelspec": {
   "display_name": "Python 3",
   "language": "python",
   "name": "python3"
  },
  "language_info": {
   "codemirror_mode": {
    "name": "ipython",
    "version": 3
   },
   "file_extension": ".py",
   "mimetype": "text/x-python",
   "name": "python",
   "nbconvert_exporter": "python",
   "pygments_lexer": "ipython3",
   "version": "3.7.4"
  }
 },
 "nbformat": 4,
 "nbformat_minor": 2
}
