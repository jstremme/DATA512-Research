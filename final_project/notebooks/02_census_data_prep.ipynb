{
 "cells": [
  {
   "cell_type": "markdown",
   "metadata": {},
   "source": [
    "# Census Data Prep\n",
    "This notebook reads in the zip codes CSV from the `01_food_inspections_data_prep` notebook as well as an API Key for the US Census Data which I have stored in the directory above this git repository.  It then uses the US Census API to query for the median household income of the zip codes pulled from the Chicago Food Inspections Data detailed in `01_food_inspections_data_prep`.\n",
    "\n",
    "To understand how to use the US Census API, I read through the references linked below.  This analysis could be replicated or augmented with additional census data by swapping out or adding to the tables and fields queried.  I indicate where in the code this could be done.\n",
    "\n",
    "### Disclaimer\n",
    "As required by census.gov: \"This product uses the Census Bureau Data API but is not endorsed or certified by the Census Bureau.\"\n",
    "\n",
    "### References\n",
    "- US Census Data API Terms of Service: https://www.census.gov/data/developers/about/terms-of-service.html\n",
    "- API Key Signup: https://api.census.gov/data/key_signup.html\n",
    "- API User Guide: https://www.census.gov/data/developers/guidance/api-user-guide.html\n",
    "- American Community and Five Year Survey: https://www.census.gov/data/developers/data-sets/acs-5year.html\n",
    "- American Community and Five Year Survey Variables: https://api.census.gov/data/2017/acs/acs5/variables.html\n",
    "- Blogpost I Read to Help with Setup: https://towardsdatascience.com/getting-census-data-in-5-easy-steps-a08eeb63995d"
   ]
  },
  {
   "cell_type": "markdown",
   "metadata": {},
   "source": [
    "### Set Global Seed"
   ]
  },
  {
   "cell_type": "code",
   "execution_count": 1,
   "metadata": {},
   "outputs": [],
   "source": [
    "SEED = 666"
   ]
  },
  {
   "cell_type": "markdown",
   "metadata": {},
   "source": [
    "### Imports"
   ]
  },
  {
   "cell_type": "code",
   "execution_count": 2,
   "metadata": {},
   "outputs": [],
   "source": [
    "import numpy as np\n",
    "import pandas as pd\n",
    "import requests\n",
    "import json"
   ]
  },
  {
   "cell_type": "markdown",
   "metadata": {},
   "source": [
    "### Read Census Data API Key\n",
    "Stored in the directory one level up from this git repository."
   ]
  },
  {
   "cell_type": "code",
   "execution_count": 3,
   "metadata": {},
   "outputs": [],
   "source": [
    "with open('../../../us_census_api_key.txt') as f:\n",
    "    api_key = f.readline()"
   ]
  },
  {
   "cell_type": "markdown",
   "metadata": {},
   "source": [
    "### Read Zip Codes from Chicago Food Inspections Data"
   ]
  },
  {
   "cell_type": "code",
   "execution_count": 4,
   "metadata": {},
   "outputs": [],
   "source": [
    "zips_df = pd.read_csv('../data/Zips.csv')"
   ]
  },
  {
   "cell_type": "markdown",
   "metadata": {},
   "source": [
    "### Remove NaNs, Cast to String, and Create Comma Separated String of All Zips"
   ]
  },
  {
   "cell_type": "code",
   "execution_count": 5,
   "metadata": {},
   "outputs": [],
   "source": [
    "zips = zips_df['zip'].values\n",
    "zips_array = zips[~np.isnan(zips)].astype(np.int64).astype(str)\n",
    "zips_string = ','.join(zips_array)"
   ]
  },
  {
   "cell_type": "markdown",
   "metadata": {},
   "source": [
    "### Call the Census.gov API by Passing:\n",
    "- The API key\n",
    "- The string of zip codes\n",
    "- The code representing the field of interest, in this case: B19013_001E for Median Household Income\n",
    "\n",
    "**Note:** this `api_base` string could be used with a different `api_key` and `zips_string` to pull median household income for other zip codes.  It could also be modified to pull other fields by changing parameters in the string, such as the census table at \"&get=\" where I have passed the Median Household Income table: B19013_001E."
   ]
  },
  {
   "cell_type": "code",
   "execution_count": 6,
   "metadata": {},
   "outputs": [],
   "source": [
    "api_base = \"https://api.census.gov/data/2017/acs/acs5?key=%s&get=B19013_001E&for=zip%%20code%%20tabulation%%20area:%s\"\n",
    "api_call = api_base % (api_key, zips_string)"
   ]
  },
  {
   "cell_type": "code",
   "execution_count": 7,
   "metadata": {},
   "outputs": [],
   "source": [
    "response = requests.get(api_call)"
   ]
  },
  {
   "cell_type": "markdown",
   "metadata": {},
   "source": [
    "### Parse the Response\n",
    "Note that the first element is the the name of the fields returned."
   ]
  },
  {
   "cell_type": "code",
   "execution_count": 8,
   "metadata": {},
   "outputs": [],
   "source": [
    "parsed_response = json.loads(response.text)[1:]\n",
    "median_household_income_df = pd.DataFrame(columns=['median_household_income', 'zip'], data=parsed_response)"
   ]
  },
  {
   "cell_type": "markdown",
   "metadata": {},
   "source": [
    "### Write the Dataframe of Median Household Income and Zip Code to CSV"
   ]
  },
  {
   "cell_type": "code",
   "execution_count": 9,
   "metadata": {},
   "outputs": [],
   "source": [
    "median_household_income_df.to_csv('../data/Census_Features.csv', index=False)"
   ]
  },
  {
   "cell_type": "code",
   "execution_count": null,
   "metadata": {},
   "outputs": [],
   "source": []
  }
 ],
 "metadata": {
  "kernelspec": {
   "display_name": "Python 3",
   "language": "python",
   "name": "python3"
  },
  "language_info": {
   "codemirror_mode": {
    "name": "ipython",
    "version": 3
   },
   "file_extension": ".py",
   "mimetype": "text/x-python",
   "name": "python",
   "nbconvert_exporter": "python",
   "pygments_lexer": "ipython3",
   "version": "3.7.4"
  }
 },
 "nbformat": 4,
 "nbformat_minor": 2
}
