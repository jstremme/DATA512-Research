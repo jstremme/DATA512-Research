{
 "cells": [
  {
   "cell_type": "markdown",
   "metadata": {},
   "source": [
    "# Execution Time Analysis for Logistic Regression Training with Replicated Data\n",
    "This notebook analyzes the execution times from `08_replicated_data_spark_logistic_regression_food_inspections` to provide comparisons between:\n",
    "\n",
    "1. A from-scratch Python implementation which uses looping to compute gradients on individual samples\n",
    "2. A from-scratch Spark implementation which leverages distributed map and reduce operations to compute gradients on individual samples\n",
    "3. The Spark MLlib implementation of Logistic Regression\n",
    "\n",
    "**Notes:**\n",
    "\n",
    "1. Logistic Regression Algorithm for Spark RDD from M. Zaharia, M. Chowdhury, T. Das, A. Dave, J. Ma, M. McCauley, M. J. Franklin, S. Shenker, and I. Stoica. Resilient distributed datasets: A fault-tolerant abstraction for in-memory cluster computing. In Proceedings of NSDI, pages 15–28, 2012.\n",
    "2. Raw Python Version based on https://github.com/jstremme/l2-regularized-logistic-regression but without regularization and vectorization of matrix operations.  Instead `py_lr_grad_descent` computes the gradient on each sample sequentially, unlike Spark which will compute the gradient on each sample but in parallel.\n",
    "3. Spark MLlib: https://spark.apache.org/docs/latest/ml-guide.html."
   ]
  },
  {
   "cell_type": "markdown",
   "metadata": {},
   "source": [
    "### Imports"
   ]
  },
  {
   "cell_type": "code",
   "execution_count": 1,
   "metadata": {},
   "outputs": [],
   "source": [
    "import numpy as np\n",
    "import pandas as pd\n",
    "import matplotlib.pyplot as plt"
   ]
  },
  {
   "cell_type": "markdown",
   "metadata": {},
   "source": [
    "### Record Fit Times by Instance"
   ]
  },
  {
   "cell_type": "code",
   "execution_count": 2,
   "metadata": {},
   "outputs": [],
   "source": [
    "fit_times_df = pd.DataFrame(\n",
    "    {'instances': [2, 2, 2, 2, 2, 4, 4, 4, 4, 4, 8, 8, 8, 8, 8],\n",
    "     'scratch_python_fit_time_seconds': [60*6 + 17, 60*5 + 40, 60*5 + 47, 60*5 + 55, 60*5 + 41, 60*7 + 21, 60*6 + 22, 60*6 + 36, 60*6 + 49, 60*6 + 29, 60*6 + 17, 60*5 + 46, 60*5 + 52, 60*5 + 57, 60*6 + 2],\n",
    "     'scratch_spark_fit_time_seconds': [60*4 + 34, 60*4 + 29, 60*4 + 29, 60*4 + 31, 60*4 + 40, 60*2 + 50, 60*2 + 47, 60*2 + 47, 60*2 + 46, 60*2 + 44, 60*1 + 53, 60*1 + 53, 60*1 + 55, 60*1 + 49, 60*1 + 45],\n",
    "     'mllib_spark_fit_time_seconds': [60*1 + 48, 60*1 + 40, 60*1 + 35, 60*1 + 56, 60*1 + 30, 55, 49, 58, 55, 60, 54, 49, 49, 48, 50]\n",
    "    })"
   ]
  },
  {
   "cell_type": "markdown",
   "metadata": {},
   "source": [
    "### Create Plotting Functions"
   ]
  },
  {
   "cell_type": "code",
   "execution_count": 3,
   "metadata": {},
   "outputs": [],
   "source": [
    "def mean_r(x):\n",
    "    return round(np.mean(x), 3)"
   ]
  },
  {
   "cell_type": "code",
   "execution_count": 4,
   "metadata": {},
   "outputs": [],
   "source": [
    "def min_r(x):\n",
    "    return round(min(x), 3)"
   ]
  },
  {
   "cell_type": "code",
   "execution_count": 5,
   "metadata": {},
   "outputs": [],
   "source": [
    "def max_r(x):\n",
    "    return round(max(x), 3)"
   ]
  },
  {
   "cell_type": "code",
   "execution_count": 6,
   "metadata": {},
   "outputs": [],
   "source": [
    "def plot_mean_times(mean_times, algos, title, color):\n",
    "    \n",
    "    plt.clf()\n",
    "    \n",
    "    plt.figure(figsize=(6,6))\n",
    "    ypos = range(len(algos))\n",
    "    plt.barh(ypos, mean_times, color=color)\n",
    "\n",
    "    plt.title(title)\n",
    "    plt.yticks(ypos, algos)\n",
    "    plt.ylabel('AWS m5.xlarge Instances')\n",
    "    plt.xlabel('Execution Time (Seconds) - Mean of 5 Runs')\n",
    "    \n",
    "    plt.show()"
   ]
  },
  {
   "cell_type": "markdown",
   "metadata": {},
   "source": [
    "### Split Data by Number of Instances"
   ]
  },
  {
   "cell_type": "code",
   "execution_count": 7,
   "metadata": {},
   "outputs": [],
   "source": [
    "two_instance_df = fit_times_df[fit_times_df['instances'] == 2]\n",
    "four_instance_df = fit_times_df[fit_times_df['instances'] == 4]\n",
    "eight_instance_df = fit_times_df[fit_times_df['instances'] == 8]"
   ]
  },
  {
   "cell_type": "markdown",
   "metadata": {},
   "source": [
    "### Compute Summary Statistics"
   ]
  },
  {
   "cell_type": "code",
   "execution_count": 8,
   "metadata": {},
   "outputs": [],
   "source": [
    "all_algos = ['Scratch Sequential Python - 2 Instances', 'Scratch Spark - 2 Instances', 'MLlib Spark - 2 Instances',\n",
    "             'Scratch Sequential Python - 4 Instances', 'Scratch Spark - 4 Instances', 'MLlib Spark - 4 Instances',\n",
    "             'Scratch Sequential Python - 8 Instances', 'Scratch Spark - 8 Instances', 'MLlib Spark - 8 Instances']"
   ]
  },
  {
   "cell_type": "code",
   "execution_count": 9,
   "metadata": {},
   "outputs": [],
   "source": [
    "all_times = [two_instance_df['scratch_python_fit_time_seconds'].tolist(),\n",
    "             two_instance_df['scratch_spark_fit_time_seconds'].tolist(),\n",
    "             two_instance_df['mllib_spark_fit_time_seconds'].tolist(),\n",
    "             four_instance_df['scratch_python_fit_time_seconds'].tolist(),\n",
    "             four_instance_df['scratch_spark_fit_time_seconds'].tolist(),\n",
    "             four_instance_df['mllib_spark_fit_time_seconds'].tolist(),\n",
    "             eight_instance_df['scratch_python_fit_time_seconds'].tolist(),\n",
    "             eight_instance_df['scratch_spark_fit_time_seconds'].tolist(),\n",
    "             eight_instance_df['mllib_spark_fit_time_seconds'].tolist()]"
   ]
  },
  {
   "cell_type": "code",
   "execution_count": 10,
   "metadata": {},
   "outputs": [],
   "source": [
    "mean_times = list(map(mean_r, all_times))\n",
    "min_times = list(map(min_r, all_times))\n",
    "max_times = list(map(max_r, all_times))"
   ]
  },
  {
   "cell_type": "code",
   "execution_count": 11,
   "metadata": {},
   "outputs": [],
   "source": [
    "summary_df = pd.DataFrame(\n",
    "        {'Algorithm': all_algos,\n",
    "         'Mean': mean_times,\n",
    "         'Min': min_times,\n",
    "         'Max': max_times,\n",
    "        })"
   ]
  },
  {
   "cell_type": "code",
   "execution_count": 12,
   "metadata": {},
   "outputs": [
    {
     "data": {
      "text/html": [
       "<div>\n",
       "<style scoped>\n",
       "    .dataframe tbody tr th:only-of-type {\n",
       "        vertical-align: middle;\n",
       "    }\n",
       "\n",
       "    .dataframe tbody tr th {\n",
       "        vertical-align: top;\n",
       "    }\n",
       "\n",
       "    .dataframe thead th {\n",
       "        text-align: right;\n",
       "    }\n",
       "</style>\n",
       "<table border=\"1\" class=\"dataframe\">\n",
       "  <thead>\n",
       "    <tr style=\"text-align: right;\">\n",
       "      <th></th>\n",
       "      <th>Algorithm</th>\n",
       "      <th>Mean</th>\n",
       "      <th>Min</th>\n",
       "      <th>Max</th>\n",
       "    </tr>\n",
       "  </thead>\n",
       "  <tbody>\n",
       "    <tr>\n",
       "      <th>0</th>\n",
       "      <td>Scratch Sequential Python - 2 Instances</td>\n",
       "      <td>352.0</td>\n",
       "      <td>340</td>\n",
       "      <td>377</td>\n",
       "    </tr>\n",
       "    <tr>\n",
       "      <th>1</th>\n",
       "      <td>Scratch Spark - 2 Instances</td>\n",
       "      <td>272.6</td>\n",
       "      <td>269</td>\n",
       "      <td>280</td>\n",
       "    </tr>\n",
       "    <tr>\n",
       "      <th>2</th>\n",
       "      <td>MLlib Spark - 2 Instances</td>\n",
       "      <td>101.8</td>\n",
       "      <td>90</td>\n",
       "      <td>116</td>\n",
       "    </tr>\n",
       "    <tr>\n",
       "      <th>3</th>\n",
       "      <td>Scratch Sequential Python - 4 Instances</td>\n",
       "      <td>403.4</td>\n",
       "      <td>382</td>\n",
       "      <td>441</td>\n",
       "    </tr>\n",
       "    <tr>\n",
       "      <th>4</th>\n",
       "      <td>Scratch Spark - 4 Instances</td>\n",
       "      <td>166.8</td>\n",
       "      <td>164</td>\n",
       "      <td>170</td>\n",
       "    </tr>\n",
       "    <tr>\n",
       "      <th>5</th>\n",
       "      <td>MLlib Spark - 4 Instances</td>\n",
       "      <td>55.4</td>\n",
       "      <td>49</td>\n",
       "      <td>60</td>\n",
       "    </tr>\n",
       "    <tr>\n",
       "      <th>6</th>\n",
       "      <td>Scratch Sequential Python - 8 Instances</td>\n",
       "      <td>358.8</td>\n",
       "      <td>346</td>\n",
       "      <td>377</td>\n",
       "    </tr>\n",
       "    <tr>\n",
       "      <th>7</th>\n",
       "      <td>Scratch Spark - 8 Instances</td>\n",
       "      <td>111.0</td>\n",
       "      <td>105</td>\n",
       "      <td>115</td>\n",
       "    </tr>\n",
       "    <tr>\n",
       "      <th>8</th>\n",
       "      <td>MLlib Spark - 8 Instances</td>\n",
       "      <td>50.0</td>\n",
       "      <td>48</td>\n",
       "      <td>54</td>\n",
       "    </tr>\n",
       "  </tbody>\n",
       "</table>\n",
       "</div>"
      ],
      "text/plain": [
       "                                 Algorithm   Mean  Min  Max\n",
       "0  Scratch Sequential Python - 2 Instances  352.0  340  377\n",
       "1              Scratch Spark - 2 Instances  272.6  269  280\n",
       "2                MLlib Spark - 2 Instances  101.8   90  116\n",
       "3  Scratch Sequential Python - 4 Instances  403.4  382  441\n",
       "4              Scratch Spark - 4 Instances  166.8  164  170\n",
       "5                MLlib Spark - 4 Instances   55.4   49   60\n",
       "6  Scratch Sequential Python - 8 Instances  358.8  346  377\n",
       "7              Scratch Spark - 8 Instances  111.0  105  115\n",
       "8                MLlib Spark - 8 Instances   50.0   48   54"
      ]
     },
     "execution_count": 12,
     "metadata": {},
     "output_type": "execute_result"
    }
   ],
   "source": [
    "summary_df"
   ]
  },
  {
   "cell_type": "markdown",
   "metadata": {},
   "source": [
    "### Plot Mean Times by Algorithm Type"
   ]
  },
  {
   "cell_type": "code",
   "execution_count": 13,
   "metadata": {},
   "outputs": [],
   "source": [
    "algos = ['2 Nodes', '4 Nodes', '8 Nodes']"
   ]
  },
  {
   "cell_type": "code",
   "execution_count": 14,
   "metadata": {},
   "outputs": [
    {
     "data": {
      "text/plain": [
       "<Figure size 432x288 with 0 Axes>"
      ]
     },
     "metadata": {},
     "output_type": "display_data"
    },
    {
     "data": {
      "image/png": "[encoded data removed]",
      "text/plain": [
       "<Figure size 432x432 with 1 Axes>"
      ]
     },
     "metadata": {
      "needs_background": "light"
     },
     "output_type": "display_data"
    }
   ],
   "source": [
    "means = summary_df['Mean'].values[[0, 3, 6]]\n",
    "plot_mean_times(means, algos, title='Scratch Sequential Python', color='navy')"
   ]
  },
  {
   "cell_type": "code",
   "execution_count": 15,
   "metadata": {},
   "outputs": [
    {
     "data": {
      "text/plain": [
       "<Figure size 432x288 with 0 Axes>"
      ]
     },
     "metadata": {},
     "output_type": "display_data"
    },
    {
     "data": {
      "image/png": "[encoded data removed]",
      "text/plain": [
       "<Figure size 432x432 with 1 Axes>"
      ]
     },
     "metadata": {
      "needs_background": "light"
     },
     "output_type": "display_data"
    }
   ],
   "source": [
    "means = summary_df['Mean'].values[[1, 4, 7]]\n",
    "plot_mean_times(means, algos, title='Scratch Spark', color='navy')"
   ]
  },
  {
   "cell_type": "code",
   "execution_count": 16,
   "metadata": {},
   "outputs": [
    {
     "data": {
      "text/plain": [
       "<Figure size 432x288 with 0 Axes>"
      ]
     },
     "metadata": {},
     "output_type": "display_data"
    },
    {
     "data": {
      "image/png": "[encoded data removed]",
      "text/plain": [
       "<Figure size 432x432 with 1 Axes>"
      ]
     },
     "metadata": {
      "needs_background": "light"
     },
     "output_type": "display_data"
    }
   ],
   "source": [
    "means = summary_df['Mean'].values[[2, 5, 8]]\n",
    "plot_mean_times(means, algos, title='MLlib Spark', color='navy')"
   ]
  },
  {
   "cell_type": "code",
   "execution_count": null,
   "metadata": {},
   "outputs": [],
   "source": []
  }
 ],
 "metadata": {
  "kernelspec": {
   "display_name": "Python 3",
   "language": "python",
   "name": "python3"
  },
  "language_info": {
   "codemirror_mode": {
    "name": "ipython",
    "version": 3
   },
   "file_extension": ".py",
   "mimetype": "text/x-python",
   "name": "python",
   "nbconvert_exporter": "python",
   "pygments_lexer": "ipython3",
   "version": "3.6.8"
  }
 },
 "nbformat": 4,
 "nbformat_minor": 2
}
