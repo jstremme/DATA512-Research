{
 "cells": [
  {
   "cell_type": "markdown",
   "metadata": {},
   "source": [
    "# Execution Time Analysis for Logistic Regression Training with Replicated Data\n",
    "This notebook analyzes the execution times from `08_replicated_data_spark_logistic_regression_food_inspections` to provide comparisons between:\n",
    "\n",
    "1. A from-scratch Python implementation which uses looping to compute gradients on individual samples\n",
    "2. A from-scratch Spark implementation which leverages distributed map and reduce operations to compute gradients on individual samples\n",
    "3. The Spark MLlib implementation of Logistic Regression\n",
    "\n",
    "**Notes:**\n",
    "\n",
    "1. Logistic Regression Algorithm for Spark RDD from M. Zaharia, M. Chowdhury, T. Das, A. Dave, J. Ma, M. McCauley, M. J. Franklin, S. Shenker, and I. Stoica. Resilient distributed datasets: A fault-tolerant abstraction for in-memory cluster computing. In Proceedings of NSDI, pages 15–28, 2012.\n",
    "2. Raw Python Version based on https://github.com/jstremme/l2-regularized-logistic-regression but without regularization and vectorization of matrix operations.  Instead `py_lr_grad_descent` computes the gradient on each sample sequentially, unlike Spark which will compute the gradient on each sample but in parallel.\n",
    "3. Spark MLlib: https://spark.apache.org/docs/latest/ml-guide.html."
   ]
  },
  {
   "cell_type": "markdown",
   "metadata": {},
   "source": [
    "### Imports"
   ]
  },
  {
   "cell_type": "code",
   "execution_count": 2,
   "metadata": {},
   "outputs": [],
   "source": [
    "import numpy as np\n",
    "import pandas as pd\n",
    "import matplotlib.pyplot as plt"
   ]
  },
  {
   "cell_type": "markdown",
   "metadata": {},
   "source": [
    "### Record Fit Times by Instance"
   ]
  },
  {
   "cell_type": "code",
   "execution_count": null,
   "metadata": {},
   "outputs": [],
   "source": [
    "fit_times_df = pd.DataFrame(\n",
    "    {'instances': [2, 2, 2, 2, 2, 4, 4, 4, 4, 4],\n",
    "     'scratch_python_fit_time_seconds': [60*7 + 4, N, N, N, N],\n",
    "     'scratch_spark_fit_time_seconds': [60*5 + 29, N, N, N, N],\n",
    "     'mllib_spark_fit_time_seconds': [N, N, N, N, N]\n",
    "    })"
   ]
  },
  {
   "cell_type": "markdown",
   "metadata": {},
   "source": [
    "### Create Plotting Functions"
   ]
  },
  {
   "cell_type": "code",
   "execution_count": null,
   "metadata": {},
   "outputs": [],
   "source": [
    "def mean_r(x):\n",
    "    return round(np.mean(x), 3)"
   ]
  },
  {
   "cell_type": "code",
   "execution_count": null,
   "metadata": {},
   "outputs": [],
   "source": [
    "def min_r(x):\n",
    "    return round(min(x), 3)"
   ]
  },
  {
   "cell_type": "code",
   "execution_count": null,
   "metadata": {},
   "outputs": [],
   "source": [
    "def max_r(x):\n",
    "    return round(max(x), 3)"
   ]
  },
  {
   "cell_type": "code",
   "execution_count": null,
   "metadata": {},
   "outputs": [],
   "source": [
    "def plot_execution_time(df, algos, title, subtitle):\n",
    "    \n",
    "    plt.figure(figsize=(8,8))\n",
    "    xpos=np.arange(len(algos))\n",
    "    plt.barh(xpos-0.2, df['Min'], height=0.2, label='Min', color='yellow')\n",
    "    plt.barh(xpos, df['Mean'], height=0.2, label='Mean', color='orange')\n",
    "    plt.barh(xpos+0.2, df['Max'], height=0.2, label='Max', color='red')\n",
    "\n",
    "    plt.title(title)\n",
    "    plt.suptitle(subtitle)\n",
    "    plt.yticks(xpos, algos)\n",
    "    plt.xlabel('Execution Time (Seconds)')\n",
    "    plt.ylabel('Algorithm and Number of Instances')\n",
    "    plt.legend(loc='best')\n",
    "    \n",
    "    plt.show()"
   ]
  },
  {
   "cell_type": "markdown",
   "metadata": {},
   "source": [
    "### Split Data by Number of Instances"
   ]
  },
  {
   "cell_type": "code",
   "execution_count": null,
   "metadata": {},
   "outputs": [],
   "source": [
    "two_instance_df = fit_times_df[fit_times_df['instances'] == 2]\n",
    "four_instance_df = fit_times_df[fit_times_df['instances'] == 4]"
   ]
  },
  {
   "cell_type": "markdown",
   "metadata": {},
   "source": [
    "### Compute Summary Statistics"
   ]
  },
  {
   "cell_type": "code",
   "execution_count": null,
   "metadata": {},
   "outputs": [],
   "source": [
    "algos = ['Scratch Python - 2 Instances', 'Scratch Spark - 2 Instances', 'MLlib Spark - 2 Instances',\n",
    "         'Scratch Python - 4 Instances', 'Scratch Spark - 4 Instances', 'MLlib Spark - 4 Instances']"
   ]
  },
  {
   "cell_type": "code",
   "execution_count": null,
   "metadata": {},
   "outputs": [],
   "source": [
    "all_times = [two_instance_df['scratch_python_fit_time_seconds'].tolist(),\n",
    "             two_instance_df['scratch_spark_fit_time_seconds'].tolist(),\n",
    "             two_instance_df['mllib_spark_fit_time_seconds'].tolist(),\n",
    "             four_instance_df['scratch_python_fit_time_seconds'].tolist(),\n",
    "             four_instance_df['scratch_spark_fit_time_seconds'].tolist(),\n",
    "             four_instance_df['mllib_spark_fit_time_seconds'].tolist()]"
   ]
  },
  {
   "cell_type": "code",
   "execution_count": null,
   "metadata": {},
   "outputs": [],
   "source": [
    "mean_times = list(map(mean_r, all_times))\n",
    "min_times = list(map(min_r, all_times))\n",
    "max_times = list(map(max_r, all_times))"
   ]
  },
  {
   "cell_type": "code",
   "execution_count": null,
   "metadata": {},
   "outputs": [],
   "source": [
    "summary_df = pd.DataFrame(\n",
    "        {'Mean': mean_times,\n",
    "         'Min': min_times,\n",
    "         'Max': max_times,\n",
    "        })"
   ]
  },
  {
   "cell_type": "markdown",
   "metadata": {},
   "source": [
    "### Plot Execution Times\n",
    "Note the from-scratch implementations run with batch size = 1 as in the 2012 RDD paper."
   ]
  },
  {
   "cell_type": "code",
   "execution_count": null,
   "metadata": {},
   "outputs": [],
   "source": [
    "plot_execution_time(summary_df, algos,\n",
    "                    title='Logistic Regression Execution Times',\n",
    "                    subtitle='Note the from-scratch implementations run with batch size = 1 as in the 2012 RDD paper')"
   ]
  }
 ],
 "metadata": {
  "kernelspec": {
   "display_name": "Python 3",
   "language": "python",
   "name": "python3"
  },
  "language_info": {
   "codemirror_mode": {
    "name": "ipython",
    "version": 3
   },
   "file_extension": ".py",
   "mimetype": "text/x-python",
   "name": "python",
   "nbconvert_exporter": "python",
   "pygments_lexer": "ipython3",
   "version": "3.6.8"
  }
 },
 "nbformat": 4,
 "nbformat_minor": 2
}
