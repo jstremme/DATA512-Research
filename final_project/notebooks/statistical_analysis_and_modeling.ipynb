{
 "cells": [
  {
   "cell_type": "markdown",
   "metadata": {},
   "source": [
    "# Statistical Analysis and Modeling of the Chicago Food Inspections Data\n",
    "This notebook loads the feature set created in the `data_prep` notebook and applies a variety of statistical methods and models to analyze the data.  See the `data_prep` notebook for information about the Chicago Food Inspections Data, the license, and the various data attributes.  "
   ]
  },
  {
   "cell_type": "markdown",
   "metadata": {},
   "source": [
    "**Analysis and Models in this notebook:**\n",
    "\n",
    "- Descriptive analysis of types of food establishments that fail inspections at the highest rates\n",
    "- K Means++ on risk scores to see if data points actually cluster according to these 3 risk groupings\n",
    "- Comparison of ML models for predicting a failure\n",
    "- Analysis of predictive variables from Lasso logistic regression model"
   ]
  },
  {
   "cell_type": "markdown",
   "metadata": {},
   "source": [
    "### Set Global Seed"
   ]
  },
  {
   "cell_type": "code",
   "execution_count": 1,
   "metadata": {},
   "outputs": [],
   "source": [
    "SEED = 666"
   ]
  },
  {
   "cell_type": "markdown",
   "metadata": {},
   "source": [
    "### Imports"
   ]
  },
  {
   "cell_type": "code",
   "execution_count": 2,
   "metadata": {},
   "outputs": [],
   "source": [
    "from collections import Counter, OrderedDict\n",
    "\n",
    "import numpy as np\n",
    "import pandas as pd\n",
    "\n",
    "import matplotlib.pyplot as plt\n",
    "import seaborn as sns\n",
    "\n",
    "from mpl_toolkits.mplot3d import Axes3D\n",
    "from pylab import figure\n",
    "\n",
    "from scipy.stats.stats import ttest_ind\n",
    "\n",
    "from sklearn.model_selection import train_test_split\n",
    "from sklearn.model_selection import GridSearchCV, RandomizedSearchCV, StratifiedKFold\n",
    "from sklearn.pipeline import Pipeline\n",
    "from sklearn.preprocessing import MinMaxScaler\n",
    "from sklearn.compose import ColumnTransformer\n",
    "from sklearn.metrics import average_precision_score, precision_recall_curve, roc_curve, auc\n",
    "from sklearn.cluster import KMeans\n",
    "from sklearn.decomposition import PCA\n",
    "from sklearn.neighbors import KNeighborsClassifier\n",
    "from sklearn.linear_model import LogisticRegression\n",
    "\n",
    "import xgboost as xgb"
   ]
  },
  {
   "cell_type": "markdown",
   "metadata": {},
   "source": [
    "### Read Chicago Food Inspections Feature Dataset from the Data Prep Notebook"
   ]
  },
  {
   "cell_type": "code",
   "execution_count": 3,
   "metadata": {},
   "outputs": [],
   "source": [
    "feature_df = pd.read_csv('../data/Feature_Dataset.gz', compression='gzip')"
   ]
  },
  {
   "cell_type": "code",
   "execution_count": 4,
   "metadata": {},
   "outputs": [
    {
     "data": {
      "text/plain": [
       "(169305, 96)"
      ]
     },
     "execution_count": 4,
     "metadata": {},
     "output_type": "execute_result"
    }
   ],
   "source": [
    "feature_df.shape"
   ]
  },
  {
   "cell_type": "markdown",
   "metadata": {},
   "source": [
    "### Descriptive Analysis of Failures Rates by Category\n",
    "- By risk group\n",
    "- By facility type\n",
    "- By inspection type\n",
    "- By zip"
   ]
  },
  {
   "cell_type": "code",
   "execution_count": 5,
   "metadata": {},
   "outputs": [],
   "source": [
    "def get_failure_rates(feature_df, category):\n",
    "    \n",
    "    groups_df = (feature_df.groupby([category])[['result']].sum() / \n",
    "                 feature_df.groupby([category])[['result']].count()\n",
    "                ).reset_index()\n",
    "    \n",
    "    return Counter(dict(zip(groups_df[category].tolist(), groups_df['result'].tolist())))"
   ]
  },
  {
   "cell_type": "code",
   "execution_count": 6,
   "metadata": {},
   "outputs": [],
   "source": [
    "def plot_failure_rates(count_dict, category, n=20, x_size=8, y_size=8, color='orange'):\n",
    "    \n",
    "    top_words = OrderedDict(sorted(count_dict.most_common(n), key=lambda x: x[1]))\n",
    "    \n",
    "    \n",
    "    plt.figure(figsize=(x_size, y_size))\n",
    "    plt.barh(range(len(top_words)), top_words.values(), align='center', color=color)\n",
    "    plt.yticks(range(len(top_words)), list(top_words.keys()))\n",
    "    \n",
    "    plt.title('Failure Rate by Food Establishment: {}'.format(category), size=18)\n",
    "    plt.xlabel('Failure Rate', size=18)\n",
    "    plt.ylabel('Groups', size=18)\n",
    "\n",
    "    plt.show()"
   ]
  },
  {
   "cell_type": "markdown",
   "metadata": {},
   "source": [
    "### Create Categorical Columns by \"Un-One-Hot-Encoding\" via the \"idxmax\" Method"
   ]
  },
  {
   "cell_type": "code",
   "execution_count": 7,
   "metadata": {},
   "outputs": [],
   "source": [
    "cols = feature_df.columns\n",
    "feature_df['facility_type'] = feature_df[[col for col in cols if 'facility_type' in col]].idxmax(axis=1)\n",
    "feature_df['inspection_type'] = feature_df[[col for col in cols if 'inspection_type' in col]].idxmax(axis=1)\n",
    "feature_df['zip'] = feature_df[[col for col in cols if 'zip' in col]].idxmax(axis=1)"
   ]
  },
  {
   "cell_type": "markdown",
   "metadata": {},
   "source": [
    "### Create Dictionaries of Failure Rates"
   ]
  },
  {
   "cell_type": "code",
   "execution_count": 8,
   "metadata": {},
   "outputs": [],
   "source": [
    "risk_dict = get_failure_rates(feature_df, 'risk')\n",
    "facility_type_dict = get_failure_rates(feature_df, 'facility_type')\n",
    "inspection_type_dict = get_failure_rates(feature_df, 'inspection_type')\n",
    "zip_dict = get_failure_rates(feature_df, 'zip')"
   ]
  },
  {
   "cell_type": "markdown",
   "metadata": {},
   "source": [
    "### Plot Failure Rates by Risk Group"
   ]
  },
  {
   "cell_type": "code",
   "execution_count": 9,
   "metadata": {},
   "outputs": [
    {
     "data": {
      "image/png": "[encoded data removed]",
      "text/plain": [
       "<Figure size 360x360 with 1 Axes>"
      ]
     },
     "metadata": {
      "needs_background": "light"
     },
     "output_type": "display_data"
    }
   ],
   "source": [
    "plot_failure_rates(risk_dict, category='Risk Group', n=30, x_size=5, y_size=5, color='magenta')"
   ]
  },
  {
   "cell_type": "markdown",
   "metadata": {},
   "source": [
    "### Check if there is a Significant Difference in Failure Rates between Groups 1 and 2\n",
    "Null hypothesis is that there is no difference in failure rate between the two groups.  By convention, we use a significance level of 0.05.  Here we use the Welch Test to avoid assuming constant variance, though we do assume independence of samples, which we would expect, as it seems unlikely that the same establishment was evaluated as being both a 1 and a 2."
   ]
  },
  {
   "cell_type": "code",
   "execution_count": 10,
   "metadata": {},
   "outputs": [],
   "source": [
    "t, p = ttest_ind(feature_df['result'][feature_df['risk'] == 1].values,\n",
    "                 feature_df['result'][feature_df['risk'] == 2].values,\n",
    "                 equal_var=False)"
   ]
  },
  {
   "cell_type": "code",
   "execution_count": 11,
   "metadata": {},
   "outputs": [
    {
     "data": {
      "text/plain": [
       "6.887847836227513e-05"
      ]
     },
     "execution_count": 11,
     "metadata": {},
     "output_type": "execute_result"
    }
   ],
   "source": [
    "p"
   ]
  },
  {
   "cell_type": "markdown",
   "metadata": {},
   "source": [
    "### Plot Failure Rates by Facility Type"
   ]
  },
  {
   "cell_type": "code",
   "execution_count": 12,
   "metadata": {},
   "outputs": [
    {
     "data": {
      "image/png": "[encoded data removed]",
      "text/plain": [
       "<Figure size 432x432 with 1 Axes>"
      ]
     },
     "metadata": {
      "needs_background": "light"
     },
     "output_type": "display_data"
    }
   ],
   "source": [
    "plot_failure_rates(facility_type_dict, category='Facility Type', n=30, x_size=6, y_size=6, color='orange')"
   ]
  },
  {
   "cell_type": "code",
   "execution_count": 13,
   "metadata": {},
   "outputs": [
    {
     "data": {
      "image/png": "[encoded data removed]",
      "text/plain": [
       "<Figure size 432x432 with 1 Axes>"
      ]
     },
     "metadata": {
      "needs_background": "light"
     },
     "output_type": "display_data"
    }
   ],
   "source": [
    "plot_failure_rates(inspection_type_dict, category='Inspection Type', n=30, x_size=6, y_size=6, color='navy')"
   ]
  },
  {
   "cell_type": "code",
   "execution_count": 14,
   "metadata": {},
   "outputs": [
    {
     "data": {
      "image/png": "[encoded data removed]",
      "text/plain": [
       "<Figure size 432x720 with 1 Axes>"
      ]
     },
     "metadata": {
      "needs_background": "light"
     },
     "output_type": "display_data"
    }
   ],
   "source": [
    "plot_failure_rates(zip_dict, category='Zip', n=30, x_size=6, y_size=10, color='green')"
   ]
  },
  {
   "cell_type": "markdown",
   "metadata": {},
   "source": [
    "### Drop Extra Columns from Failure Rate Analysis"
   ]
  },
  {
   "cell_type": "code",
   "execution_count": 15,
   "metadata": {},
   "outputs": [],
   "source": [
    "feature_df = feature_df.drop(['facility_type', 'inspection_type', 'zip'], 1)"
   ]
  },
  {
   "cell_type": "markdown",
   "metadata": {},
   "source": [
    "### Split Dataset into Train and Test"
   ]
  },
  {
   "cell_type": "code",
   "execution_count": 16,
   "metadata": {},
   "outputs": [],
   "source": [
    "train_df, test_df = train_test_split(feature_df,\n",
    "                                     test_size=0.20,\n",
    "                                     shuffle=True,\n",
    "                                     random_state=SEED)"
   ]
  },
  {
   "cell_type": "code",
   "execution_count": 17,
   "metadata": {},
   "outputs": [
    {
     "data": {
      "text/plain": [
       "(135444, 96)"
      ]
     },
     "execution_count": 17,
     "metadata": {},
     "output_type": "execute_result"
    }
   ],
   "source": [
    "train_df.shape"
   ]
  },
  {
   "cell_type": "code",
   "execution_count": 18,
   "metadata": {},
   "outputs": [
    {
     "data": {
      "text/plain": [
       "(33861, 96)"
      ]
     },
     "execution_count": 18,
     "metadata": {},
     "output_type": "execute_result"
    }
   ],
   "source": [
    "test_df.shape"
   ]
  },
  {
   "cell_type": "markdown",
   "metadata": {},
   "source": [
    "### Drop ID and Target Columns in Feature Matrix and Select Target Vector for Training"
   ]
  },
  {
   "cell_type": "code",
   "execution_count": 19,
   "metadata": {},
   "outputs": [],
   "source": [
    "X_train = train_df.drop(['inspection_id', 'result'], 1)\n",
    "X_test = test_df.drop(['inspection_id', 'result'], 1)\n",
    "y_train = train_df['result']\n",
    "y_test = test_df['result']"
   ]
  },
  {
   "cell_type": "markdown",
   "metadata": {},
   "source": [
    "### Define Function to Analyze Variance Explained per Number of Principle Components"
   ]
  },
  {
   "cell_type": "code",
   "execution_count": 20,
   "metadata": {},
   "outputs": [],
   "source": [
    "def plot_pca(X):\n",
    "    \"\"\"\n",
    "    Plots variance explained per number of principle components.\n",
    "    \"\"\"\n",
    "    \n",
    "    pca_full = PCA(n_components=min(X.shape[0], X.shape[1]))\n",
    "    pca_full.fit(X)\n",
    "\n",
    "    plt.clf()\n",
    "    plt.plot(np.cumsum(pca_full.explained_variance_ratio_))\n",
    "    plt.xlabel('Number of Components')\n",
    "    plt.ylabel('Cumulative Explained Variance')\n",
    "    plt.title('Variance Explained by Principal Components')\n",
    "    plt.show()"
   ]
  },
  {
   "cell_type": "markdown",
   "metadata": {},
   "source": [
    "### Define Function to Plot the Value of the K Means++ Objective Function per Number of Clusters"
   ]
  },
  {
   "cell_type": "code",
   "execution_count": 21,
   "metadata": {},
   "outputs": [],
   "source": [
    "def plot_kmeans(X, upper=20):\n",
    "    \"\"\"\n",
    "    Plots value of K Means++ objective function per number of clusters.\n",
    "    \"\"\"\n",
    "    \n",
    "    distorsions = []\n",
    "    for k in range(1, upper):\n",
    "        kmeans = KMeans(n_clusters=k, init='k-means++', random_state=SEED, n_jobs=-1)\n",
    "        kmeans.fit(X)\n",
    "        distorsions.append(kmeans.inertia_)\n",
    "\n",
    "    plt.plot(range(1, upper), distorsions)\n",
    "    plt.title('K Means++ Elbow Curve')\n",
    "    plt.xlabel('Number of Clusters')\n",
    "    plt.ylabel('Value of Objective Function')\n",
    "    plt.show()"
   ]
  },
  {
   "cell_type": "markdown",
   "metadata": {},
   "source": [
    "### Define Function to Plot K Means++ Clusters"
   ]
  },
  {
   "cell_type": "code",
   "execution_count": 22,
   "metadata": {},
   "outputs": [],
   "source": [
    "def plot_clusters(X, num_clusters):\n",
    "    \"\"\"\n",
    "    Plots datapoints and cluster assignments in 3D space.\n",
    "    \"\"\"\n",
    "\n",
    "    kmeans = KMeans(n_clusters=num_clusters, init='k-means++', random_state=SEED, n_jobs=-1)\n",
    "    kmeans.fit(X)\n",
    "\n",
    "    centroids = kmeans.cluster_centers_\n",
    "    labels = kmeans.labels_\n",
    "\n",
    "    print('Centroids: \\n')\n",
    "    print(centroids)\n",
    "    print()\n",
    "\n",
    "    color_options = ['g', 'r', 'b', 'y', 'c', 'm', 'b', 'w']\n",
    "    colors = color_options[0:num_clusters]\n",
    "\n",
    "    c = Counter(labels)\n",
    "    fig = figure(figsize=(12, 12))\n",
    "    ax = fig.gca(projection='3d')\n",
    "\n",
    "    for i in range(len(X)):\n",
    "        ax.scatter(X[i][0], X[i][1], X[i][2], c=colors[labels[i]], s=10)\n",
    "\n",
    "    for cluster in range(0, num_clusters):\n",
    "        print('Cluster {} contains {} samples'.format(cluster, c[cluster]))\n",
    "        \n",
    "    ax.scatter(centroids[:, 0], centroids[:, 1], centroids[:, 2],\\\n",
    "               marker='x', s=100, linewidths=5, zorder=100, c=colors)\n",
    "\n",
    "    plt.title('Projected K Means++ Clusters', fontsize=20)\n",
    "    plt.show()\n",
    "    \n",
    "    return kmeans"
   ]
  },
  {
   "cell_type": "markdown",
   "metadata": {},
   "source": [
    "### See if We Can Reproduce Risk Clusters for the Establishments Identified by Three Risk Levels\n",
    "Scale the data to make the distance comparisons equal across features."
   ]
  },
  {
   "cell_type": "code",
   "execution_count": 23,
   "metadata": {},
   "outputs": [],
   "source": [
    "minmax_scaler = MinMaxScaler(feature_range=(0, 1))\n",
    "col_subset_scaler = ColumnTransformer(remainder='passthrough', # passthrough features not listed\n",
    "                                      transformers=[('mm', minmax_scaler, ['latitude', 'longitude'])])\n",
    "Xt = col_subset_scaler.fit_transform(X_train.drop('risk', 1))"
   ]
  },
  {
   "cell_type": "markdown",
   "metadata": {},
   "source": [
    "### Plot the Variance Explained per Number of Principle Components"
   ]
  },
  {
   "cell_type": "code",
   "execution_count": 24,
   "metadata": {},
   "outputs": [
    {
     "data": {
      "image/png": "[encoded data removed]",
      "text/plain": [
       "<Figure size 432x288 with 1 Axes>"
      ]
     },
     "metadata": {
      "needs_background": "light"
     },
     "output_type": "display_data"
    }
   ],
   "source": [
    "plot_pca(Xt)"
   ]
  },
  {
   "cell_type": "markdown",
   "metadata": {},
   "source": [
    "### Plot the KMeans Objective Function for a Feature Set of Three Principle Components\n",
    "It is clear that more components are needed to explain the variance in the dataset, but it's difficult to visualize more than three features in a plot."
   ]
  },
  {
   "cell_type": "code",
   "execution_count": 25,
   "metadata": {},
   "outputs": [],
   "source": [
    "pca = PCA(n_components=3)\n",
    "X_PCA = pca.fit_transform(Xt)"
   ]
  },
  {
   "cell_type": "code",
   "execution_count": 26,
   "metadata": {},
   "outputs": [
    {
     "data": {
      "image/png": "[encoded data removed]",
      "text/plain": [
       "<Figure size 432x288 with 1 Axes>"
      ]
     },
     "metadata": {
      "needs_background": "light"
     },
     "output_type": "display_data"
    },
    {
     "name": "stdout",
     "output_type": "stream",
     "text": [
      "CPU times: user 1.35 s, sys: 442 ms, total: 1.79 s\n",
      "Wall time: 13.1 s\n"
     ]
    }
   ],
   "source": [
    "%%time\n",
    "plot_kmeans(X_PCA)"
   ]
  },
  {
   "cell_type": "markdown",
   "metadata": {},
   "source": [
    "### Plot Three Clusters (for the Three Risk Groups We Might Expect) in Three Dimensions (for Easy Inspection)"
   ]
  },
  {
   "cell_type": "code",
   "execution_count": null,
   "metadata": {},
   "outputs": [
    {
     "name": "stdout",
     "output_type": "stream",
     "text": [
      "Centroids: \n",
      "\n",
      "[[-0.65737967 -0.06938306 -0.05605089]\n",
      " [ 0.35712193  0.65788338  0.02280861]\n",
      " [ 0.3023369  -0.55404925  0.03299781]]\n",
      "\n"
     ]
    }
   ],
   "source": [
    "%%time\n",
    "plot_clusters(X_PCA, 3)"
   ]
  },
  {
   "cell_type": "markdown",
   "metadata": {},
   "source": [
    "### Summary of K Means++ Findings\n",
    "1. With the small amount of variance explained by three principle components, we are unlikely to have meaningful clusters when projecting them into three dimensions.\n",
    "2. It's clear by visualizing the clusters in three dimensions that there are more than three distinct clusters."
   ]
  },
  {
   "cell_type": "markdown",
   "metadata": {},
   "source": [
    "### View Prevalence of Failing an Inspection to Select a Classification Metric of Interest\n",
    "Either ROC AUC or PR AUC could be useful metrics for model comparison given the prevalence of the target variable (failing an inspection).  I will preference PR AUC for model comparison, as my main interest as a user of such a model would be to balance\n",
    "- **Recall:** the number of food establishments that were correctly predicted by the model to fail over the total number of food establishmets that fail.\n",
    "- **Precision:** the number of food establishments that were correctly predicted by the model to fail over the number of food establishments predicted by the model to fail."
   ]
  },
  {
   "cell_type": "code",
   "execution_count": null,
   "metadata": {},
   "outputs": [],
   "source": [
    "np.mean(y_train)"
   ]
  },
  {
   "cell_type": "markdown",
   "metadata": {},
   "source": [
    "### Define K Fold Cross-Validation Grid with Scaling to Fit Classifiers and Identify Best Hyperparameters\n",
    "This function is used to select hyperparameters for all models considered and appropriately scales continuous features in fold and out of fold for each of K folds.  The number of folds K is fixed across models considered, but for XGBoost, I use the random search options"
   ]
  },
  {
   "cell_type": "code",
   "execution_count": null,
   "metadata": {},
   "outputs": [],
   "source": [
    "def fit_grid(clf, param_grid, features_to_scale=['risk', 'latitude', 'longitude'],\n",
    "             n_splits=3, r_search_iters=0, scoring='average_precision'):\n",
    "    \"\"\"\n",
    "    Uses an sklearn pipeline to scale selected columns at each iteration of K Fold CV\n",
    "    and fits models using the parameters in the grid passed to identify the model\n",
    "    with the best mean test score based on the scoring metric supplied which\n",
    "    defaults to 'average_precision'.  Uses random grid search if desired.\n",
    "    \"\"\"\n",
    "    \n",
    "    minmax_scaler = MinMaxScaler(feature_range=(0, 1))\n",
    "    col_subset_scaler = ColumnTransformer(remainder='passthrough', # passthrough features not listed\n",
    "                                          transformers=[('mm', minmax_scaler, features_to_scale)])\n",
    "    \n",
    "    pipeline = Pipeline([('scaler', col_subset_scaler),\n",
    "                         ('clf', clf)])\n",
    "    \n",
    "    cv = StratifiedKFold(n_splits=n_splits,\n",
    "                         shuffle=True,\n",
    "                         random_state=SEED)\n",
    "    \n",
    "    if r_search_iters:\n",
    "        gs = RandomizedSearchCV(estimator=pipeline,\n",
    "                                param_distributions=param_grid,\n",
    "                                scoring=scoring,\n",
    "                                cv=cv,\n",
    "                                n_iter=r_search_iters,\n",
    "                                refit=True,\n",
    "                                n_jobs=-1,\n",
    "                                random_state=SEED,\n",
    "                                verbose=2)\n",
    "    else:\n",
    "        gs = GridSearchCV(estimator=pipeline,\n",
    "                          cv=cv,\n",
    "                          param_grid=param_grid,\n",
    "                          scoring=scoring,\n",
    "                          n_jobs=-1,\n",
    "                          refit=True,\n",
    "                          verbose=2)\n",
    "    \n",
    "    gs.fit(X_train, y_train)\n",
    "    \n",
    "    scores = gs.cv_results_['mean_test_score']\n",
    "    best_score = round(gs.best_score_, 5)\n",
    "    best_params = gs.best_params_\n",
    "    best_clf = gs.best_estimator_\n",
    "    \n",
    "    print(\"Best score: {}\".format(best_score))\n",
    "    print(\"Best parameters: {}\".format(best_params))\n",
    "    \n",
    "    return best_clf"
   ]
  },
  {
   "cell_type": "markdown",
   "metadata": {},
   "source": [
    "### Define Lasso Logistic Regression Model"
   ]
  },
  {
   "cell_type": "code",
   "execution_count": null,
   "metadata": {},
   "outputs": [],
   "source": [
    "clf = LogisticRegression(penalty='l1',\n",
    "                         solver='liblinear',\n",
    "                         fit_intercept=True,\n",
    "                         max_iter=1000)"
   ]
  },
  {
   "cell_type": "markdown",
   "metadata": {},
   "source": [
    "### Define Lasso Hyperparameter Space"
   ]
  },
  {
   "cell_type": "code",
   "execution_count": null,
   "metadata": {},
   "outputs": [],
   "source": [
    "param_grid = {'clf__C': [0.0001, 0.001, 0.01, 0.1, 1, 10]}"
   ]
  },
  {
   "cell_type": "markdown",
   "metadata": {},
   "source": [
    "### Fit Lasso Model with Grid Search"
   ]
  },
  {
   "cell_type": "code",
   "execution_count": null,
   "metadata": {},
   "outputs": [],
   "source": [
    "%%time\n",
    "lasso_clf = fit_grid(clf, param_grid, features_to_scale=['risk', 'latitude', 'longitude'], n_splits=3)"
   ]
  },
  {
   "cell_type": "markdown",
   "metadata": {},
   "source": [
    "### Define K Nearest Neighbors Model"
   ]
  },
  {
   "cell_type": "code",
   "execution_count": null,
   "metadata": {},
   "outputs": [],
   "source": [
    "clf = KNeighborsClassifier()"
   ]
  },
  {
   "cell_type": "markdown",
   "metadata": {},
   "source": [
    "### Define KNN Hyperparameter Space"
   ]
  },
  {
   "cell_type": "code",
   "execution_count": null,
   "metadata": {},
   "outputs": [],
   "source": [
    "param_grid = {'clf__n_neighbors': [7, 15, 25]}"
   ]
  },
  {
   "cell_type": "markdown",
   "metadata": {},
   "source": [
    "### Fit KNN Model with Grid Search"
   ]
  },
  {
   "cell_type": "code",
   "execution_count": null,
   "metadata": {},
   "outputs": [],
   "source": [
    "%%time\n",
    "knn_clf = fit_grid(clf, param_grid, features_to_scale=['risk', 'latitude', 'longitude'], n_splits=3)"
   ]
  },
  {
   "cell_type": "markdown",
   "metadata": {},
   "source": [
    "### Define XGBoost Model"
   ]
  },
  {
   "cell_type": "code",
   "execution_count": null,
   "metadata": {},
   "outputs": [],
   "source": [
    "clf = xgb.XGBClassifier(objective='binary:logistic',\n",
    "                        tree_method='hist',\n",
    "                        predictor='cpu_predictor')"
   ]
  },
  {
   "cell_type": "markdown",
   "metadata": {},
   "source": [
    "### Define XGBoost Hyperparameter Space"
   ]
  },
  {
   "cell_type": "code",
   "execution_count": null,
   "metadata": {},
   "outputs": [],
   "source": [
    "param_grid = {'clf__n_estimators': [100, 200, 400, 600],\n",
    "              'clf__learning_rate': [0.02, 0.05, 0.1, 0.2],\n",
    "              'clf__max_depth': [3, 4, 5, 6, 7],\n",
    "              'clf__subsample': [0.3, 0.5, 0.7],\n",
    "              'clf__colsample_bytree': [0.3, 0.5, 0.7],\n",
    "              'clf__min_child_weight': [3, 5, 7]}"
   ]
  },
  {
   "cell_type": "markdown",
   "metadata": {},
   "source": [
    "### Fit XGBoost Model with Random Grid Search"
   ]
  },
  {
   "cell_type": "code",
   "execution_count": null,
   "metadata": {},
   "outputs": [],
   "source": [
    "%%time\n",
    "xgb_clf = fit_grid(clf, param_grid, features_to_scale=['risk', 'latitude', 'longitude'],\n",
    "                   n_splits=3, r_search_iters=40)"
   ]
  },
  {
   "cell_type": "markdown",
   "metadata": {},
   "source": [
    "### Evaluate Classifiers on Test Set"
   ]
  },
  {
   "cell_type": "code",
   "execution_count": null,
   "metadata": {},
   "outputs": [],
   "source": [
    "def plot_hist(labels, scores, bins=30):\n",
    "    \"\"\"\n",
    "    Plot two histograms: one of\n",
    "    the actual binary labels\n",
    "    and one of the model scores\n",
    "    \"\"\"\n",
    "    \n",
    "    plt.clf()\n",
    "    plt.figure(figsize=(10, 10))\n",
    "    \n",
    "    plt.subplot(221)\n",
    "    sns.distplot(labels, kde=False, color='orange')\n",
    "    plt.xlabel('Actual Label', fontsize=12)\n",
    "    plt.xticks([0, 1])\n",
    "    plt.subplot(222)\n",
    "    sns.distplot(scores, bins=bins, kde=False, color='orange')\n",
    "    plt.xlabel('Scores', fontsize=12)\n",
    "    plt.xticks([0, 0.25, 0.5, 0.75, 1])\n",
    "    plt.subplots_adjust(hspace=0.5)\n",
    "    plt.subplot(223)\n",
    "    sns.distplot(scores[labels == 0], bins=bins, kde=False, color='orange')\n",
    "    plt.xlabel('Actual Label = 0', fontsize=12)\n",
    "    plt.subplot(224)\n",
    "    sns.distplot(scores[labels == 1], bins=bins, kde=False, color='orange')\n",
    "    plt.xlabel('Actual Label = 1', fontsize=12)\n",
    "    plt.suptitle('Histograms of Model Scores by Actual Label', fontsize=16)\n",
    "    plt.show()"
   ]
  },
  {
   "cell_type": "code",
   "execution_count": null,
   "metadata": {},
   "outputs": [],
   "source": [
    "def plot_roc(labels, scores):\n",
    "    \"\"\"\n",
    "    Plots the true positive rate vs. the false positive rate\n",
    "    \"\"\"\n",
    "\n",
    "    fpr, tpr, thresholds = roc_curve(labels, scores)\n",
    "    roc_auc = auc(fpr, tpr)\n",
    "\n",
    "    plt.clf()\n",
    "    plt.plot(fpr, tpr, color='darkgreen', lw=2,\n",
    "             label='AUC = %0.3f' % (roc_auc))\n",
    "    plt.plot([0, 1], [0, 1], color='red', lw=2, linestyle='--')\n",
    "    plt.xlim([0.0, 1.0])\n",
    "    plt.ylim([0.0, 1.05])\n",
    "    plt.xlabel('False Positive Rate', fontsize=14)\n",
    "    plt.ylabel('True Positive Rate', fontsize=14)\n",
    "    plt.suptitle('Receiver Operating Characteristic', fontsize=16)\n",
    "    plt.legend(loc=\"lower right\")\n",
    "\n",
    "    plt.show()"
   ]
  },
  {
   "cell_type": "code",
   "execution_count": null,
   "metadata": {},
   "outputs": [],
   "source": [
    "def plot_pr_by_threshold(labels, scores):\n",
    "    \"\"\"\n",
    "    Plots model precision and recall\n",
    "    by threshold, using matplotlib and seaborn\n",
    "    allowing a user to visualize model performance\n",
    "    at various thresholds\n",
    "    \"\"\"\n",
    "    \n",
    "    auc = round(average_precision_score(y_true=labels, y_score=scores), 3)\n",
    "    precision, recall, thresholds = precision_recall_curve(labels, scores)\n",
    "    thresholds = np.append(thresholds, 1)\n",
    "\n",
    "    plt.clf()\n",
    "    plt.plot(thresholds, precision, color=sns.color_palette()[0])\n",
    "    plt.plot(thresholds, recall, color=sns.color_palette()[1])\n",
    "\n",
    "    leg = plt.legend(('Precision', 'Recall'), frameon=True)\n",
    "    leg.get_frame().set_edgecolor('k')\n",
    "\n",
    "    plt.xlabel('Threshold', fontsize=14)\n",
    "    plt.ylabel('Value', fontsize=14)\n",
    "    plt.suptitle('Precision and Recall by Model Threshold - AUC: {}'.format(auc), fontsize=16)\n",
    "\n",
    "    plt.show()"
   ]
  },
  {
   "cell_type": "markdown",
   "metadata": {},
   "source": [
    "### View Lasso Model Performance"
   ]
  },
  {
   "cell_type": "code",
   "execution_count": null,
   "metadata": {},
   "outputs": [],
   "source": [
    "y_prob = lasso_clf.predict_proba(X_test)[:, 1]"
   ]
  },
  {
   "cell_type": "code",
   "execution_count": null,
   "metadata": {},
   "outputs": [],
   "source": [
    "plot_hist(y_test, y_prob)"
   ]
  },
  {
   "cell_type": "code",
   "execution_count": null,
   "metadata": {},
   "outputs": [],
   "source": [
    "plot_roc(y_test, y_prob)"
   ]
  },
  {
   "cell_type": "code",
   "execution_count": null,
   "metadata": {},
   "outputs": [],
   "source": [
    "plot_pr_by_threshold(y_test, y_prob)"
   ]
  },
  {
   "cell_type": "markdown",
   "metadata": {},
   "source": [
    "### View KNN Model Performance"
   ]
  },
  {
   "cell_type": "code",
   "execution_count": null,
   "metadata": {},
   "outputs": [],
   "source": [
    "y_prob = knn_clf.predict_proba(X_test)[:, 1]"
   ]
  },
  {
   "cell_type": "code",
   "execution_count": null,
   "metadata": {},
   "outputs": [],
   "source": [
    "plot_hist(y_test, y_prob)"
   ]
  },
  {
   "cell_type": "code",
   "execution_count": null,
   "metadata": {},
   "outputs": [],
   "source": [
    "plot_roc(y_test, y_prob)"
   ]
  },
  {
   "cell_type": "code",
   "execution_count": null,
   "metadata": {},
   "outputs": [],
   "source": [
    "plot_pr_by_threshold(y_test, y_prob)"
   ]
  },
  {
   "cell_type": "markdown",
   "metadata": {},
   "source": [
    "### View XGBoost Model Performance"
   ]
  },
  {
   "cell_type": "code",
   "execution_count": null,
   "metadata": {},
   "outputs": [],
   "source": [
    "y_prob = xgb_clf.predict_proba(X_test)[:, 1]"
   ]
  },
  {
   "cell_type": "code",
   "execution_count": null,
   "metadata": {},
   "outputs": [],
   "source": [
    "plot_hist(y_test, y_prob)"
   ]
  },
  {
   "cell_type": "code",
   "execution_count": null,
   "metadata": {},
   "outputs": [],
   "source": [
    "plot_roc(y_test, y_prob)"
   ]
  },
  {
   "cell_type": "code",
   "execution_count": null,
   "metadata": {},
   "outputs": [],
   "source": [
    "plot_pr_by_threshold(y_test, y_prob)"
   ]
  },
  {
   "cell_type": "markdown",
   "metadata": {},
   "source": [
    "### Model Summary\n",
    "Fitting all three models is informative because it demonstrates how effective we might reasonably expect an ML model to be at classifying food establishments as expected to fail or pass an inspection.  That said, we see that no model achieves particularly high AUC, and that we are forced to have either low recall or low precision when choosing a threshold for model scores.  Because the Lasso model is about as performant as the XGBoost model, there is good reason to prefer the Lasso model for its interpretability."
   ]
  },
  {
   "cell_type": "markdown",
   "metadata": {},
   "source": [
    "### Interpreting Features\n",
    "For the purpose of this analysis, we are particularly concerned with understanding the factors associated with passing or failing an inspection, and the Lasso logistic regression model provides a nice way to understand these factors by examining the odds of passing or failing an inspection per unit change in each individual predictor, controlling for all other features in the model.  Because all predictors are either binary or on the scale of 0 to 1, we can interpret the bars for each feature as:\n",
    "- The odds of failure if the feature is present vs absent for binary features\n",
    "- The odds of failure if the feature achieves its max vs min value for continuous features with in between values corresponding to less severe changes in the odds of the response."
   ]
  },
  {
   "cell_type": "code",
   "execution_count": null,
   "metadata": {},
   "outputs": [],
   "source": [
    "def plot_coef_effect_size(clf, features, zero_threshold=0.01, x_size=12, y_size=12):\n",
    "    \"\"\"\n",
    "    Plots the change in the odds of the response per unit change \n",
    "    in the predictor for each feature given a logistic\n",
    "    regression model and array of features.  Uses the zero \n",
    "    threshold to only plot features with coefficient value\n",
    "    greater than the threshold.\n",
    "    \"\"\"\n",
    "\n",
    "    features_and_intercept = np.concatenate((features, ['intercept']), 0)\n",
    "    coefficients = np.concatenate((clf.coef_[0], clf.intercept_), 0)\n",
    "\n",
    "    coefficients[np.abs(coefficients) < zero_threshold] = 0\n",
    "    coefficients = np.exp(coefficients)\n",
    "\n",
    "    idx1 = coefficients.argsort()\n",
    "    all_effects = coefficients[idx1]\n",
    "\n",
    "    idx2 = np.nonzero(all_effects-1.0)\n",
    "    effects = all_effects[idx2]\n",
    "    labels = features_and_intercept[idx1][idx2]\n",
    "    \n",
    "    plt.clf()\n",
    "    plt.figure(figsize=(x_size, y_size))\n",
    "\n",
    "    plt.title('Exponentiated Logistic Regression Coefficients')\n",
    "    plt.barh(range(len(effects)), effects, color='navy', align='center')\n",
    "    plt.axvline(x=1, color='red', linestyle='--')\n",
    "    plt.yticks(range(len(effects)), labels)\n",
    "    plt.xlabel('Change in Odds of Response per Unit Change in Predictor')\n",
    "    plt.ylabel('Feature')\n",
    "    \n",
    "    plt.legend(['No Change', 'Change in Odds of Response per Unit Change in Predictor'])\n",
    "\n",
    "    plt.show()"
   ]
  },
  {
   "cell_type": "markdown",
   "metadata": {},
   "source": [
    "### Plot the Effect Sizes for Features for which the Raw Coefficient is < -0.5 or > 0.5\n",
    "The effect sizes are the exponentiated coefficients which detail the change in the odds of the response per unit change in the predictor."
   ]
  },
  {
   "cell_type": "code",
   "execution_count": null,
   "metadata": {},
   "outputs": [],
   "source": [
    "plot_coef_effect_size(lasso_clf['clf'], X_train.columns, zero_threshold=0.5, x_size=8, y_size=10)"
   ]
  },
  {
   "cell_type": "code",
   "execution_count": null,
   "metadata": {},
   "outputs": [],
   "source": []
  },
  {
   "cell_type": "code",
   "execution_count": null,
   "metadata": {},
   "outputs": [],
   "source": []
  }
 ],
 "metadata": {
  "kernelspec": {
   "display_name": "Python 3",
   "language": "python",
   "name": "python3"
  },
  "language_info": {
   "codemirror_mode": {
    "name": "ipython",
    "version": 3
   },
   "file_extension": ".py",
   "mimetype": "text/x-python",
   "name": "python",
   "nbconvert_exporter": "python",
   "pygments_lexer": "ipython3",
   "version": "3.7.4"
  }
 },
 "nbformat": 4,
 "nbformat_minor": 2
}
