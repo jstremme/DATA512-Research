{
 "cells": [
  {
   "cell_type": "code",
   "execution_count": null,
   "metadata": {},
   "outputs": [],
   "source": []
  },
  {
   "cell_type": "code",
   "execution_count": null,
   "metadata": {},
   "outputs": [],
   "source": []
  },
  {
   "cell_type": "markdown",
   "metadata": {},
   "source": [
    "### Imports"
   ]
  },
  {
   "cell_type": "code",
   "execution_count": 1,
   "metadata": {},
   "outputs": [],
   "source": [
    "import pandas as pd\n",
    "import matplotlib.pyplot as plt"
   ]
  },
  {
   "cell_type": "markdown",
   "metadata": {},
   "source": [
    "### Read Chicago Food Inspections Data\n",
    "Count records and columns."
   ]
  },
  {
   "cell_type": "code",
   "execution_count": 2,
   "metadata": {},
   "outputs": [],
   "source": [
    "food_inspections_df = pd.read_csv('../../Food_Inspections.csv')"
   ]
  },
  {
   "cell_type": "code",
   "execution_count": 3,
   "metadata": {},
   "outputs": [
    {
     "data": {
      "text/plain": [
       "(195116, 17)"
      ]
     },
     "execution_count": 3,
     "metadata": {},
     "output_type": "execute_result"
    }
   ],
   "source": [
    "food_inspections_df.shape"
   ]
  },
  {
   "cell_type": "markdown",
   "metadata": {},
   "source": [
    "### Rename Columns"
   ]
  },
  {
   "cell_type": "code",
   "execution_count": 4,
   "metadata": {},
   "outputs": [
    {
     "data": {
      "text/plain": [
       "['Inspection ID',\n",
       " 'DBA Name',\n",
       " 'AKA Name',\n",
       " 'License #',\n",
       " 'Facility Type',\n",
       " 'Risk',\n",
       " 'Address',\n",
       " 'City',\n",
       " 'State',\n",
       " 'Zip',\n",
       " 'Inspection Date',\n",
       " 'Inspection Type',\n",
       " 'Results',\n",
       " 'Violations',\n",
       " 'Latitude',\n",
       " 'Longitude',\n",
       " 'Location']"
      ]
     },
     "execution_count": 4,
     "metadata": {},
     "output_type": "execute_result"
    }
   ],
   "source": [
    "food_inspections_df.columns.tolist()"
   ]
  },
  {
   "cell_type": "code",
   "execution_count": 5,
   "metadata": {},
   "outputs": [],
   "source": [
    "columns = ['inspection_id', 'dba_name', 'aka_name', 'license_number', 'facility_type',\n",
    "           'risk', 'address', 'city', 'state', 'zip', 'inspection_date', 'inspection_type',\n",
    "           'result', 'violation', 'latitude', 'longitude', 'location']"
   ]
  },
  {
   "cell_type": "code",
   "execution_count": 6,
   "metadata": {},
   "outputs": [],
   "source": [
    "food_inspections_df.columns = columns"
   ]
  },
  {
   "cell_type": "markdown",
   "metadata": {},
   "source": [
    "### Normalize Casing of Chicago\n",
    "Accept only proper spellings of the word Chicago with mixed casing accepted"
   ]
  },
  {
   "cell_type": "code",
   "execution_count": 7,
   "metadata": {},
   "outputs": [],
   "source": [
    "food_inspections_df['city'] = food_inspections_df['city'].apply(lambda x: 'CHICAGO'\n",
    "                                                                if str(x).upper() == 'CHICAGO'\n",
    "                                                                else x)"
   ]
  },
  {
   "cell_type": "markdown",
   "metadata": {},
   "source": [
    "### Filter for Facilities in Chicago Illinois"
   ]
  },
  {
   "cell_type": "code",
   "execution_count": 8,
   "metadata": {},
   "outputs": [],
   "source": [
    "loc_condition = (food_inspections_df['city'] == 'CHICAGO') & (food_inspections_df['state'] == 'IL')"
   ]
  },
  {
   "cell_type": "markdown",
   "metadata": {},
   "source": [
    "### Drop Redundant Information\n",
    "- Only Chicago is considered\n",
    "- Only Illinois is considered\n",
    "- Location is encoded as separate latitute and longitude columns"
   ]
  },
  {
   "cell_type": "code",
   "execution_count": 9,
   "metadata": {},
   "outputs": [],
   "source": [
    "food_inspections_df = food_inspections_df[loc_condition].drop(['city', 'state', 'location'], 1)"
   ]
  },
  {
   "cell_type": "code",
   "execution_count": 10,
   "metadata": {},
   "outputs": [
    {
     "data": {
      "text/plain": [
       "(194684, 14)"
      ]
     },
     "execution_count": 10,
     "metadata": {},
     "output_type": "execute_result"
    }
   ],
   "source": [
    "food_inspections_df.shape"
   ]
  },
  {
   "cell_type": "markdown",
   "metadata": {},
   "source": [
    "### Create Codes Corresponding to Each Violation Type by Parsing Violation Text"
   ]
  },
  {
   "cell_type": "code",
   "execution_count": 11,
   "metadata": {},
   "outputs": [],
   "source": [
    "def create_violation_code(violation_text):\n",
    "    \n",
    "    if violation_text != violation_text:\n",
    "        return -1\n",
    "    else:\n",
    "        return int(violation_text.split('.')[0])"
   ]
  },
  {
   "cell_type": "code",
   "execution_count": 12,
   "metadata": {},
   "outputs": [],
   "source": [
    "food_inspections_df['violation_code'] = food_inspections_df['violation'].apply(create_violation_code)"
   ]
  },
  {
   "cell_type": "markdown",
   "metadata": {},
   "source": [
    "### Create Attribute Dataframes with the Unique Inspection ID for Lookups Following Quantitative Analysis\n",
    "- Names\n",
    "- Licenses\n",
    "- Locations\n",
    "- Violations\n",
    "- Dates"
   ]
  },
  {
   "cell_type": "code",
   "execution_count": 13,
   "metadata": {},
   "outputs": [],
   "source": [
    "names = ['inspection_id', 'dba_name', 'aka_name']\n",
    "names_df = food_inspections_df[names]"
   ]
  },
  {
   "cell_type": "code",
   "execution_count": 14,
   "metadata": {},
   "outputs": [],
   "source": [
    "licenses = ['inspection_id', 'license_number']\n",
    "licenses_df = food_inspections_df[licenses]"
   ]
  },
  {
   "cell_type": "code",
   "execution_count": 15,
   "metadata": {},
   "outputs": [],
   "source": [
    "locations = ['inspection_id', 'address', 'latitude', 'longitude']\n",
    "locations_df = food_inspections_df[locations]"
   ]
  },
  {
   "cell_type": "code",
   "execution_count": 16,
   "metadata": {},
   "outputs": [],
   "source": [
    "violations = ['inspection_id', 'violation', 'violation_code']\n",
    "violations_df = food_inspections_df[violations]"
   ]
  },
  {
   "cell_type": "code",
   "execution_count": 17,
   "metadata": {},
   "outputs": [],
   "source": [
    "dates = ['inspection_id', 'inspection_date']\n",
    "dates_df = food_inspections_df[dates]"
   ]
  },
  {
   "cell_type": "markdown",
   "metadata": {},
   "source": [
    "### Drop Features Not Used in Statistical Analysis\n",
    "Features such as:\n",
    "\n",
    "- `DBA Name`\n",
    "- `AKA Name`\n",
    "- `License #`\n",
    "- `Address`\n",
    "- `Violations`\n",
    "- `Inspection Date`\n",
    "\n",
    "May be examined following statistical analysis by joining on `Inspection ID`.  **Note:** future iterations of this work may wish to consider:\n",
    "\n",
    "- Text from the the facility name\n",
    "- Street level information from the facility address\n",
    "- Prior inspections of the same facility by performing a temporal analysis of the data using `Inspection Date`"
   ]
  },
  {
   "cell_type": "code",
   "execution_count": 18,
   "metadata": {},
   "outputs": [],
   "source": [
    "not_considered = ['dba_name', 'aka_name', 'license_number', 'address', 'violation', 'inspection_date']\n",
    "food_inspections_df = food_inspections_df.drop(not_considered, 1)"
   ]
  },
  {
   "cell_type": "markdown",
   "metadata": {},
   "source": [
    "### Create Dataframes of Count and Prevalence for Categorical Features\n",
    "- Facility types\n",
    "- Violation codes\n",
    "- Zip codes\n",
    "- Inspection types"
   ]
  },
  {
   "cell_type": "code",
   "execution_count": 21,
   "metadata": {},
   "outputs": [],
   "source": [
    "facilities = food_inspections_df['facility_type'].value_counts()\n",
    "facilities_df = pd.DataFrame({'facility_type':facilities.index, 'count':facilities.values})\n",
    "facilities_df['prevalence'] = facilities_df['count'] / food_inspections_df.shape[0]"
   ]
  },
  {
   "cell_type": "code",
   "execution_count": 22,
   "metadata": {},
   "outputs": [
    {
     "data": {
      "text/html": [
       "<div>\n",
       "<style scoped>\n",
       "    .dataframe tbody tr th:only-of-type {\n",
       "        vertical-align: middle;\n",
       "    }\n",
       "\n",
       "    .dataframe tbody tr th {\n",
       "        vertical-align: top;\n",
       "    }\n",
       "\n",
       "    .dataframe thead th {\n",
       "        text-align: right;\n",
       "    }\n",
       "</style>\n",
       "<table border=\"1\" class=\"dataframe\">\n",
       "  <thead>\n",
       "    <tr style=\"text-align: right;\">\n",
       "      <th></th>\n",
       "      <th>facility_type</th>\n",
       "      <th>count</th>\n",
       "      <th>prevalence</th>\n",
       "    </tr>\n",
       "  </thead>\n",
       "  <tbody>\n",
       "    <tr>\n",
       "      <td>0</td>\n",
       "      <td>Restaurant</td>\n",
       "      <td>129938</td>\n",
       "      <td>0.667430</td>\n",
       "    </tr>\n",
       "    <tr>\n",
       "      <td>1</td>\n",
       "      <td>Grocery Store</td>\n",
       "      <td>24829</td>\n",
       "      <td>0.127535</td>\n",
       "    </tr>\n",
       "    <tr>\n",
       "      <td>2</td>\n",
       "      <td>School</td>\n",
       "      <td>12062</td>\n",
       "      <td>0.061957</td>\n",
       "    </tr>\n",
       "    <tr>\n",
       "      <td>3</td>\n",
       "      <td>Children's Services Facility</td>\n",
       "      <td>3031</td>\n",
       "      <td>0.015569</td>\n",
       "    </tr>\n",
       "    <tr>\n",
       "      <td>4</td>\n",
       "      <td>Bakery</td>\n",
       "      <td>2837</td>\n",
       "      <td>0.014572</td>\n",
       "    </tr>\n",
       "    <tr>\n",
       "      <td>5</td>\n",
       "      <td>Daycare (2 - 6 Years)</td>\n",
       "      <td>2682</td>\n",
       "      <td>0.013776</td>\n",
       "    </tr>\n",
       "    <tr>\n",
       "      <td>6</td>\n",
       "      <td>Daycare Above and Under 2 Years</td>\n",
       "      <td>2355</td>\n",
       "      <td>0.012097</td>\n",
       "    </tr>\n",
       "    <tr>\n",
       "      <td>7</td>\n",
       "      <td>Long Term Care</td>\n",
       "      <td>1340</td>\n",
       "      <td>0.006883</td>\n",
       "    </tr>\n",
       "    <tr>\n",
       "      <td>8</td>\n",
       "      <td>Catering</td>\n",
       "      <td>1190</td>\n",
       "      <td>0.006112</td>\n",
       "    </tr>\n",
       "    <tr>\n",
       "      <td>9</td>\n",
       "      <td>Liquor</td>\n",
       "      <td>847</td>\n",
       "      <td>0.004351</td>\n",
       "    </tr>\n",
       "  </tbody>\n",
       "</table>\n",
       "</div>"
      ],
      "text/plain": [
       "                     facility_type   count  prevalence\n",
       "0                       Restaurant  129938    0.667430\n",
       "1                    Grocery Store   24829    0.127535\n",
       "2                           School   12062    0.061957\n",
       "3     Children's Services Facility    3031    0.015569\n",
       "4                           Bakery    2837    0.014572\n",
       "5            Daycare (2 - 6 Years)    2682    0.013776\n",
       "6  Daycare Above and Under 2 Years    2355    0.012097\n",
       "7                   Long Term Care    1340    0.006883\n",
       "8                         Catering    1190    0.006112\n",
       "9                           Liquor     847    0.004351"
      ]
     },
     "execution_count": 22,
     "metadata": {},
     "output_type": "execute_result"
    }
   ],
   "source": [
    "facilities_df.nlargest(10, 'count')"
   ]
  },
  {
   "cell_type": "code",
   "execution_count": 23,
   "metadata": {},
   "outputs": [
    {
     "data": {
      "text/html": [
       "<div>\n",
       "<style scoped>\n",
       "    .dataframe tbody tr th:only-of-type {\n",
       "        vertical-align: middle;\n",
       "    }\n",
       "\n",
       "    .dataframe tbody tr th {\n",
       "        vertical-align: top;\n",
       "    }\n",
       "\n",
       "    .dataframe thead th {\n",
       "        text-align: right;\n",
       "    }\n",
       "</style>\n",
       "<table border=\"1\" class=\"dataframe\">\n",
       "  <thead>\n",
       "    <tr style=\"text-align: right;\">\n",
       "      <th></th>\n",
       "      <th>facility_type</th>\n",
       "      <th>count</th>\n",
       "      <th>prevalence</th>\n",
       "    </tr>\n",
       "  </thead>\n",
       "  <tbody>\n",
       "    <tr>\n",
       "      <td>401</td>\n",
       "      <td>COFFEE ROASTER</td>\n",
       "      <td>1</td>\n",
       "      <td>0.000005</td>\n",
       "    </tr>\n",
       "    <tr>\n",
       "      <td>402</td>\n",
       "      <td>GROCERY/LIQUOR</td>\n",
       "      <td>1</td>\n",
       "      <td>0.000005</td>\n",
       "    </tr>\n",
       "    <tr>\n",
       "      <td>403</td>\n",
       "      <td>SERVICE BAR/THEATRE</td>\n",
       "      <td>1</td>\n",
       "      <td>0.000005</td>\n",
       "    </tr>\n",
       "    <tr>\n",
       "      <td>404</td>\n",
       "      <td>CAT/LIQUOR</td>\n",
       "      <td>1</td>\n",
       "      <td>0.000005</td>\n",
       "    </tr>\n",
       "    <tr>\n",
       "      <td>405</td>\n",
       "      <td>NEWSSTAND</td>\n",
       "      <td>1</td>\n",
       "      <td>0.000005</td>\n",
       "    </tr>\n",
       "    <tr>\n",
       "      <td>406</td>\n",
       "      <td>FROZEN DESSERTS DISPENSER -NON MOTORIZED</td>\n",
       "      <td>1</td>\n",
       "      <td>0.000005</td>\n",
       "    </tr>\n",
       "    <tr>\n",
       "      <td>407</td>\n",
       "      <td>LONG TERM CARE FACILITY</td>\n",
       "      <td>1</td>\n",
       "      <td>0.000005</td>\n",
       "    </tr>\n",
       "    <tr>\n",
       "      <td>408</td>\n",
       "      <td>Pop-Up Food Establishment User-Tier II</td>\n",
       "      <td>1</td>\n",
       "      <td>0.000005</td>\n",
       "    </tr>\n",
       "    <tr>\n",
       "      <td>409</td>\n",
       "      <td>NP-KIOSK</td>\n",
       "      <td>1</td>\n",
       "      <td>0.000005</td>\n",
       "    </tr>\n",
       "    <tr>\n",
       "      <td>410</td>\n",
       "      <td>WHOLESALE BAKERY</td>\n",
       "      <td>1</td>\n",
       "      <td>0.000005</td>\n",
       "    </tr>\n",
       "  </tbody>\n",
       "</table>\n",
       "</div>"
      ],
      "text/plain": [
       "                                facility_type  count  prevalence\n",
       "401                            COFFEE ROASTER      1    0.000005\n",
       "402                            GROCERY/LIQUOR      1    0.000005\n",
       "403                       SERVICE BAR/THEATRE      1    0.000005\n",
       "404                                CAT/LIQUOR      1    0.000005\n",
       "405                                 NEWSSTAND      1    0.000005\n",
       "406  FROZEN DESSERTS DISPENSER -NON MOTORIZED      1    0.000005\n",
       "407                   LONG TERM CARE FACILITY      1    0.000005\n",
       "408    Pop-Up Food Establishment User-Tier II      1    0.000005\n",
       "409                                  NP-KIOSK      1    0.000005\n",
       "410                          WHOLESALE BAKERY      1    0.000005"
      ]
     },
     "execution_count": 23,
     "metadata": {},
     "output_type": "execute_result"
    }
   ],
   "source": [
    "facilities_df.nsmallest(10, 'count')"
   ]
  },
  {
   "cell_type": "code",
   "execution_count": 24,
   "metadata": {},
   "outputs": [],
   "source": [
    "violations = food_inspections_df['violation_code'].value_counts()\n",
    "violations_df = pd.DataFrame({'violation_code':violations.index, 'count':violations.values})\n",
    "violations_df['prevalence'] = violations_df['count'] / food_inspections_df.shape[0]"
   ]
  },
  {
   "cell_type": "code",
   "execution_count": 25,
   "metadata": {},
   "outputs": [
    {
     "data": {
      "text/html": [
       "<div>\n",
       "<style scoped>\n",
       "    .dataframe tbody tr th:only-of-type {\n",
       "        vertical-align: middle;\n",
       "    }\n",
       "\n",
       "    .dataframe tbody tr th {\n",
       "        vertical-align: top;\n",
       "    }\n",
       "\n",
       "    .dataframe thead th {\n",
       "        text-align: right;\n",
       "    }\n",
       "</style>\n",
       "<table border=\"1\" class=\"dataframe\">\n",
       "  <thead>\n",
       "    <tr style=\"text-align: right;\">\n",
       "      <th></th>\n",
       "      <th>violation_code</th>\n",
       "      <th>count</th>\n",
       "      <th>prevalence</th>\n",
       "    </tr>\n",
       "  </thead>\n",
       "  <tbody>\n",
       "    <tr>\n",
       "      <td>0</td>\n",
       "      <td>-1</td>\n",
       "      <td>51543</td>\n",
       "      <td>0.264752</td>\n",
       "    </tr>\n",
       "    <tr>\n",
       "      <td>1</td>\n",
       "      <td>32</td>\n",
       "      <td>25408</td>\n",
       "      <td>0.130509</td>\n",
       "    </tr>\n",
       "    <tr>\n",
       "      <td>2</td>\n",
       "      <td>33</td>\n",
       "      <td>17449</td>\n",
       "      <td>0.089627</td>\n",
       "    </tr>\n",
       "    <tr>\n",
       "      <td>3</td>\n",
       "      <td>3</td>\n",
       "      <td>13609</td>\n",
       "      <td>0.069903</td>\n",
       "    </tr>\n",
       "    <tr>\n",
       "      <td>4</td>\n",
       "      <td>34</td>\n",
       "      <td>10576</td>\n",
       "      <td>0.054324</td>\n",
       "    </tr>\n",
       "    <tr>\n",
       "      <td>5</td>\n",
       "      <td>18</td>\n",
       "      <td>9989</td>\n",
       "      <td>0.051309</td>\n",
       "    </tr>\n",
       "    <tr>\n",
       "      <td>6</td>\n",
       "      <td>30</td>\n",
       "      <td>9441</td>\n",
       "      <td>0.048494</td>\n",
       "    </tr>\n",
       "    <tr>\n",
       "      <td>7</td>\n",
       "      <td>2</td>\n",
       "      <td>7166</td>\n",
       "      <td>0.036808</td>\n",
       "    </tr>\n",
       "    <tr>\n",
       "      <td>8</td>\n",
       "      <td>35</td>\n",
       "      <td>5631</td>\n",
       "      <td>0.028924</td>\n",
       "    </tr>\n",
       "    <tr>\n",
       "      <td>9</td>\n",
       "      <td>21</td>\n",
       "      <td>4582</td>\n",
       "      <td>0.023536</td>\n",
       "    </tr>\n",
       "  </tbody>\n",
       "</table>\n",
       "</div>"
      ],
      "text/plain": [
       "   violation_code  count  prevalence\n",
       "0              -1  51543    0.264752\n",
       "1              32  25408    0.130509\n",
       "2              33  17449    0.089627\n",
       "3               3  13609    0.069903\n",
       "4              34  10576    0.054324\n",
       "5              18   9989    0.051309\n",
       "6              30   9441    0.048494\n",
       "7               2   7166    0.036808\n",
       "8              35   5631    0.028924\n",
       "9              21   4582    0.023536"
      ]
     },
     "execution_count": 25,
     "metadata": {},
     "output_type": "execute_result"
    }
   ],
   "source": [
    "violations_df.nlargest(10, 'count')"
   ]
  },
  {
   "cell_type": "code",
   "execution_count": 26,
   "metadata": {},
   "outputs": [
    {
     "data": {
      "text/html": [
       "<div>\n",
       "<style scoped>\n",
       "    .dataframe tbody tr th:only-of-type {\n",
       "        vertical-align: middle;\n",
       "    }\n",
       "\n",
       "    .dataframe tbody tr th {\n",
       "        vertical-align: top;\n",
       "    }\n",
       "\n",
       "    .dataframe thead th {\n",
       "        text-align: right;\n",
       "    }\n",
       "</style>\n",
       "<table border=\"1\" class=\"dataframe\">\n",
       "  <thead>\n",
       "    <tr style=\"text-align: right;\">\n",
       "      <th></th>\n",
       "      <th>violation_code</th>\n",
       "      <th>count</th>\n",
       "      <th>prevalence</th>\n",
       "    </tr>\n",
       "  </thead>\n",
       "  <tbody>\n",
       "    <tr>\n",
       "      <td>61</td>\n",
       "      <td>61</td>\n",
       "      <td>1</td>\n",
       "      <td>0.000005</td>\n",
       "    </tr>\n",
       "    <tr>\n",
       "      <td>62</td>\n",
       "      <td>63</td>\n",
       "      <td>1</td>\n",
       "      <td>0.000005</td>\n",
       "    </tr>\n",
       "    <tr>\n",
       "      <td>60</td>\n",
       "      <td>70</td>\n",
       "      <td>6</td>\n",
       "      <td>0.000031</td>\n",
       "    </tr>\n",
       "    <tr>\n",
       "      <td>58</td>\n",
       "      <td>15</td>\n",
       "      <td>11</td>\n",
       "      <td>0.000057</td>\n",
       "    </tr>\n",
       "    <tr>\n",
       "      <td>59</td>\n",
       "      <td>60</td>\n",
       "      <td>11</td>\n",
       "      <td>0.000057</td>\n",
       "    </tr>\n",
       "    <tr>\n",
       "      <td>57</td>\n",
       "      <td>59</td>\n",
       "      <td>13</td>\n",
       "      <td>0.000067</td>\n",
       "    </tr>\n",
       "    <tr>\n",
       "      <td>56</td>\n",
       "      <td>50</td>\n",
       "      <td>17</td>\n",
       "      <td>0.000087</td>\n",
       "    </tr>\n",
       "    <tr>\n",
       "      <td>55</td>\n",
       "      <td>20</td>\n",
       "      <td>18</td>\n",
       "      <td>0.000092</td>\n",
       "    </tr>\n",
       "    <tr>\n",
       "      <td>54</td>\n",
       "      <td>52</td>\n",
       "      <td>19</td>\n",
       "      <td>0.000098</td>\n",
       "    </tr>\n",
       "    <tr>\n",
       "      <td>53</td>\n",
       "      <td>54</td>\n",
       "      <td>25</td>\n",
       "      <td>0.000128</td>\n",
       "    </tr>\n",
       "  </tbody>\n",
       "</table>\n",
       "</div>"
      ],
      "text/plain": [
       "    violation_code  count  prevalence\n",
       "61              61      1    0.000005\n",
       "62              63      1    0.000005\n",
       "60              70      6    0.000031\n",
       "58              15     11    0.000057\n",
       "59              60     11    0.000057\n",
       "57              59     13    0.000067\n",
       "56              50     17    0.000087\n",
       "55              20     18    0.000092\n",
       "54              52     19    0.000098\n",
       "53              54     25    0.000128"
      ]
     },
     "execution_count": 26,
     "metadata": {},
     "output_type": "execute_result"
    }
   ],
   "source": [
    "violations_df.nsmallest(10, 'count')"
   ]
  },
  {
   "cell_type": "code",
   "execution_count": 27,
   "metadata": {},
   "outputs": [],
   "source": [
    "zips = food_inspections_df['zip'].value_counts()\n",
    "zips_df = pd.DataFrame({'zip':zips.index, 'count':zips.values})\n",
    "zips_df['prevalence'] = zips_df['count'] / food_inspections_df.shape[0]"
   ]
  },
  {
   "cell_type": "code",
   "execution_count": null,
   "metadata": {},
   "outputs": [],
   "source": [
    "zips_df.nlargest(10, 'count')"
   ]
  },
  {
   "cell_type": "code",
   "execution_count": null,
   "metadata": {},
   "outputs": [],
   "source": [
    "zips_df.nsmallest(10, 'count')"
   ]
  },
  {
   "cell_type": "code",
   "execution_count": 28,
   "metadata": {},
   "outputs": [],
   "source": [
    "inspections = food_inspections_df['inspection_type'].value_counts()\n",
    "inspections_df = pd.DataFrame({'inspection_type':inspections.index, 'count':inspections.values})\n",
    "inspections_df['prevalence'] = inspections_df['count'] / food_inspections_df.shape[0]"
   ]
  },
  {
   "cell_type": "code",
   "execution_count": 29,
   "metadata": {},
   "outputs": [
    {
     "data": {
      "text/html": [
       "<div>\n",
       "<style scoped>\n",
       "    .dataframe tbody tr th:only-of-type {\n",
       "        vertical-align: middle;\n",
       "    }\n",
       "\n",
       "    .dataframe tbody tr th {\n",
       "        vertical-align: top;\n",
       "    }\n",
       "\n",
       "    .dataframe thead th {\n",
       "        text-align: right;\n",
       "    }\n",
       "</style>\n",
       "<table border=\"1\" class=\"dataframe\">\n",
       "  <thead>\n",
       "    <tr style=\"text-align: right;\">\n",
       "      <th></th>\n",
       "      <th>inspection_type</th>\n",
       "      <th>count</th>\n",
       "      <th>prevalence</th>\n",
       "    </tr>\n",
       "  </thead>\n",
       "  <tbody>\n",
       "    <tr>\n",
       "      <td>0</td>\n",
       "      <td>Canvass</td>\n",
       "      <td>102944</td>\n",
       "      <td>0.528775</td>\n",
       "    </tr>\n",
       "    <tr>\n",
       "      <td>1</td>\n",
       "      <td>License</td>\n",
       "      <td>25614</td>\n",
       "      <td>0.131567</td>\n",
       "    </tr>\n",
       "    <tr>\n",
       "      <td>2</td>\n",
       "      <td>Canvass Re-Inspection</td>\n",
       "      <td>20457</td>\n",
       "      <td>0.105078</td>\n",
       "    </tr>\n",
       "    <tr>\n",
       "      <td>3</td>\n",
       "      <td>Complaint</td>\n",
       "      <td>18093</td>\n",
       "      <td>0.092935</td>\n",
       "    </tr>\n",
       "    <tr>\n",
       "      <td>4</td>\n",
       "      <td>License Re-Inspection</td>\n",
       "      <td>8899</td>\n",
       "      <td>0.045710</td>\n",
       "    </tr>\n",
       "    <tr>\n",
       "      <td>5</td>\n",
       "      <td>Complaint Re-Inspection</td>\n",
       "      <td>7499</td>\n",
       "      <td>0.038519</td>\n",
       "    </tr>\n",
       "    <tr>\n",
       "      <td>6</td>\n",
       "      <td>Short Form Complaint</td>\n",
       "      <td>6717</td>\n",
       "      <td>0.034502</td>\n",
       "    </tr>\n",
       "    <tr>\n",
       "      <td>7</td>\n",
       "      <td>Suspected Food Poisoning</td>\n",
       "      <td>850</td>\n",
       "      <td>0.004366</td>\n",
       "    </tr>\n",
       "    <tr>\n",
       "      <td>8</td>\n",
       "      <td>Consultation</td>\n",
       "      <td>669</td>\n",
       "      <td>0.003436</td>\n",
       "    </tr>\n",
       "    <tr>\n",
       "      <td>9</td>\n",
       "      <td>License-Task Force</td>\n",
       "      <td>604</td>\n",
       "      <td>0.003102</td>\n",
       "    </tr>\n",
       "  </tbody>\n",
       "</table>\n",
       "</div>"
      ],
      "text/plain": [
       "            inspection_type   count  prevalence\n",
       "0                   Canvass  102944    0.528775\n",
       "1                   License   25614    0.131567\n",
       "2     Canvass Re-Inspection   20457    0.105078\n",
       "3                 Complaint   18093    0.092935\n",
       "4     License Re-Inspection    8899    0.045710\n",
       "5   Complaint Re-Inspection    7499    0.038519\n",
       "6      Short Form Complaint    6717    0.034502\n",
       "7  Suspected Food Poisoning     850    0.004366\n",
       "8              Consultation     669    0.003436\n",
       "9        License-Task Force     604    0.003102"
      ]
     },
     "execution_count": 29,
     "metadata": {},
     "output_type": "execute_result"
    }
   ],
   "source": [
    "inspections_df.nlargest(10, 'count')"
   ]
  },
  {
   "cell_type": "code",
   "execution_count": 30,
   "metadata": {},
   "outputs": [
    {
     "data": {
      "text/html": [
       "<div>\n",
       "<style scoped>\n",
       "    .dataframe tbody tr th:only-of-type {\n",
       "        vertical-align: middle;\n",
       "    }\n",
       "\n",
       "    .dataframe tbody tr th {\n",
       "        vertical-align: top;\n",
       "    }\n",
       "\n",
       "    .dataframe thead th {\n",
       "        text-align: right;\n",
       "    }\n",
       "</style>\n",
       "<table border=\"1\" class=\"dataframe\">\n",
       "  <thead>\n",
       "    <tr style=\"text-align: right;\">\n",
       "      <th></th>\n",
       "      <th>inspection_type</th>\n",
       "      <th>count</th>\n",
       "      <th>prevalence</th>\n",
       "    </tr>\n",
       "  </thead>\n",
       "  <tbody>\n",
       "    <tr>\n",
       "      <td>41</td>\n",
       "      <td>CANVASS</td>\n",
       "      <td>1</td>\n",
       "      <td>0.000005</td>\n",
       "    </tr>\n",
       "    <tr>\n",
       "      <td>42</td>\n",
       "      <td>LICENSE WRONG ADDRESS</td>\n",
       "      <td>1</td>\n",
       "      <td>0.000005</td>\n",
       "    </tr>\n",
       "    <tr>\n",
       "      <td>43</td>\n",
       "      <td>CANVAS</td>\n",
       "      <td>1</td>\n",
       "      <td>0.000005</td>\n",
       "    </tr>\n",
       "    <tr>\n",
       "      <td>44</td>\n",
       "      <td>TASTE OF CHICAGO</td>\n",
       "      <td>1</td>\n",
       "      <td>0.000005</td>\n",
       "    </tr>\n",
       "    <tr>\n",
       "      <td>45</td>\n",
       "      <td>Recent inspection</td>\n",
       "      <td>1</td>\n",
       "      <td>0.000005</td>\n",
       "    </tr>\n",
       "    <tr>\n",
       "      <td>46</td>\n",
       "      <td>Sample Collection</td>\n",
       "      <td>1</td>\n",
       "      <td>0.000005</td>\n",
       "    </tr>\n",
       "    <tr>\n",
       "      <td>47</td>\n",
       "      <td>CANVASS SPECIAL EVENTS</td>\n",
       "      <td>1</td>\n",
       "      <td>0.000005</td>\n",
       "    </tr>\n",
       "    <tr>\n",
       "      <td>48</td>\n",
       "      <td>CANVASS SCHOOL/SPECIAL EVENT</td>\n",
       "      <td>1</td>\n",
       "      <td>0.000005</td>\n",
       "    </tr>\n",
       "    <tr>\n",
       "      <td>49</td>\n",
       "      <td>CITF</td>\n",
       "      <td>1</td>\n",
       "      <td>0.000005</td>\n",
       "    </tr>\n",
       "    <tr>\n",
       "      <td>50</td>\n",
       "      <td>FIRE/COMPLAIN</td>\n",
       "      <td>1</td>\n",
       "      <td>0.000005</td>\n",
       "    </tr>\n",
       "  </tbody>\n",
       "</table>\n",
       "</div>"
      ],
      "text/plain": [
       "                 inspection_type  count  prevalence\n",
       "41                       CANVASS      1    0.000005\n",
       "42         LICENSE WRONG ADDRESS      1    0.000005\n",
       "43                        CANVAS      1    0.000005\n",
       "44              TASTE OF CHICAGO      1    0.000005\n",
       "45             Recent inspection      1    0.000005\n",
       "46             Sample Collection      1    0.000005\n",
       "47        CANVASS SPECIAL EVENTS      1    0.000005\n",
       "48  CANVASS SCHOOL/SPECIAL EVENT      1    0.000005\n",
       "49                          CITF      1    0.000005\n",
       "50                 FIRE/COMPLAIN      1    0.000005"
      ]
     },
     "execution_count": 30,
     "metadata": {},
     "output_type": "execute_result"
    }
   ],
   "source": [
    "inspections_df.nsmallest(10, 'count')"
   ]
  },
  {
   "cell_type": "code",
   "execution_count": 31,
   "metadata": {},
   "outputs": [],
   "source": [
    "results = food_inspections_df['result'].value_counts()\n",
    "results_df = pd.DataFrame({'result':results.index, 'count':results.values})\n",
    "results_df['prevalence'] = results_df['count'] / food_inspections_df.shape[0]"
   ]
  },
  {
   "cell_type": "code",
   "execution_count": 32,
   "metadata": {},
   "outputs": [
    {
     "data": {
      "text/html": [
       "<div>\n",
       "<style scoped>\n",
       "    .dataframe tbody tr th:only-of-type {\n",
       "        vertical-align: middle;\n",
       "    }\n",
       "\n",
       "    .dataframe tbody tr th {\n",
       "        vertical-align: top;\n",
       "    }\n",
       "\n",
       "    .dataframe thead th {\n",
       "        text-align: right;\n",
       "    }\n",
       "</style>\n",
       "<table border=\"1\" class=\"dataframe\">\n",
       "  <thead>\n",
       "    <tr style=\"text-align: right;\">\n",
       "      <th></th>\n",
       "      <th>result</th>\n",
       "      <th>count</th>\n",
       "      <th>prevalence</th>\n",
       "    </tr>\n",
       "  </thead>\n",
       "  <tbody>\n",
       "    <tr>\n",
       "      <td>0</td>\n",
       "      <td>Pass</td>\n",
       "      <td>105369</td>\n",
       "      <td>0.541231</td>\n",
       "    </tr>\n",
       "    <tr>\n",
       "      <td>1</td>\n",
       "      <td>Fail</td>\n",
       "      <td>37658</td>\n",
       "      <td>0.193431</td>\n",
       "    </tr>\n",
       "    <tr>\n",
       "      <td>2</td>\n",
       "      <td>Pass w/ Conditions</td>\n",
       "      <td>26795</td>\n",
       "      <td>0.137633</td>\n",
       "    </tr>\n",
       "    <tr>\n",
       "      <td>3</td>\n",
       "      <td>Out of Business</td>\n",
       "      <td>16757</td>\n",
       "      <td>0.086073</td>\n",
       "    </tr>\n",
       "    <tr>\n",
       "      <td>4</td>\n",
       "      <td>No Entry</td>\n",
       "      <td>6198</td>\n",
       "      <td>0.031836</td>\n",
       "    </tr>\n",
       "    <tr>\n",
       "      <td>5</td>\n",
       "      <td>Not Ready</td>\n",
       "      <td>1843</td>\n",
       "      <td>0.009467</td>\n",
       "    </tr>\n",
       "    <tr>\n",
       "      <td>6</td>\n",
       "      <td>Business Not Located</td>\n",
       "      <td>64</td>\n",
       "      <td>0.000329</td>\n",
       "    </tr>\n",
       "  </tbody>\n",
       "</table>\n",
       "</div>"
      ],
      "text/plain": [
       "                 result   count  prevalence\n",
       "0                  Pass  105369    0.541231\n",
       "1                  Fail   37658    0.193431\n",
       "2    Pass w/ Conditions   26795    0.137633\n",
       "3       Out of Business   16757    0.086073\n",
       "4              No Entry    6198    0.031836\n",
       "5             Not Ready    1843    0.009467\n",
       "6  Business Not Located      64    0.000329"
      ]
     },
     "execution_count": 32,
     "metadata": {},
     "output_type": "execute_result"
    }
   ],
   "source": [
    "results_df.nlargest(10, 'count')"
   ]
  },
  {
   "cell_type": "markdown",
   "metadata": {},
   "source": [
    "### Create Risk Group Feature\n",
    "If the feature cannot be found in the middle of the text string as a value 1-3, return -1."
   ]
  },
  {
   "cell_type": "code",
   "execution_count": 33,
   "metadata": {},
   "outputs": [],
   "source": [
    "def create_risk_groups(risk_text):\n",
    "    \n",
    "    try: \n",
    "        risk = int(risk_text.split(' ')[1])\n",
    "        return risk\n",
    "    except:\n",
    "        return -1"
   ]
  },
  {
   "cell_type": "code",
   "execution_count": 34,
   "metadata": {},
   "outputs": [],
   "source": [
    "food_inspections_df['risk'] = food_inspections_df['risk'].apply(create_risk_groups)"
   ]
  },
  {
   "cell_type": "markdown",
   "metadata": {},
   "source": [
    "### Format Result\n",
    "- Encode Pass and Pass w/ Conditions as 0\n",
    "- Encode Fail as 1\n",
    "- Encode all others as -1 and filter out"
   ]
  },
  {
   "cell_type": "code",
   "execution_count": 35,
   "metadata": {},
   "outputs": [],
   "source": [
    "def format_results(result):\n",
    "    \n",
    "    if result == 'Pass':\n",
    "        return 0\n",
    "    elif result == 'Pass w/ Conditions':\n",
    "        return 0\n",
    "    elif result == 'Fail':\n",
    "        return 1\n",
    "    else:\n",
    "        return -1"
   ]
  },
  {
   "cell_type": "code",
   "execution_count": 36,
   "metadata": {},
   "outputs": [],
   "source": [
    "food_inspections_df['result'] = food_inspections_df['result'].apply(format_results)\n",
    "food_inspections_df = food_inspections_df[food_inspections_df['result'] != -1]"
   ]
  },
  {
   "cell_type": "code",
   "execution_count": 37,
   "metadata": {},
   "outputs": [
    {
     "data": {
      "text/plain": [
       "(169822, 9)"
      ]
     },
     "execution_count": 37,
     "metadata": {},
     "output_type": "execute_result"
    }
   ],
   "source": [
    "food_inspections_df.shape"
   ]
  },
  {
   "cell_type": "markdown",
   "metadata": {},
   "source": [
    "### Drop Violation Code"
   ]
  },
  {
   "cell_type": "code",
   "execution_count": 38,
   "metadata": {},
   "outputs": [],
   "source": [
    "food_inspections_df = food_inspections_df.drop('violation_code', 1)"
   ]
  },
  {
   "cell_type": "code",
   "execution_count": null,
   "metadata": {},
   "outputs": [],
   "source": []
  },
  {
   "cell_type": "code",
   "execution_count": 63,
   "metadata": {},
   "outputs": [],
   "source": [
    "# filter..."
   ]
  },
  {
   "cell_type": "code",
   "execution_count": 64,
   "metadata": {},
   "outputs": [],
   "source": [
    "def prev_filter(df, feature, prevalence='prevalence', prevalence_threshold=0.001):\n",
    "    return df[df[prevalence] > prevalence_threshold][feature].tolist()"
   ]
  },
  {
   "cell_type": "code",
   "execution_count": 65,
   "metadata": {},
   "outputs": [],
   "source": [
    "categorical_features = ['facility_type', 'zip', 'inspection_type']"
   ]
  },
  {
   "cell_type": "code",
   "execution_count": 66,
   "metadata": {},
   "outputs": [],
   "source": [
    "feature_dict = dict(zip(categorical_features, [prev_filter(facilities_df, 'facility_type'),\n",
    "                                               prev_filter(zips_df, 'zip'),\n",
    "                                               prev_filter(inspections_df, 'inspection_type')]))"
   ]
  },
  {
   "cell_type": "code",
   "execution_count": 67,
   "metadata": {},
   "outputs": [],
   "source": [
    "for feature in categorical_features:\n",
    "    food_inspections_df[feature] = food_inspections_df[feature].apply(lambda x: x \n",
    "                                                                      if x in feature_dict[feature]\n",
    "                                                                      else 'DROP')"
   ]
  },
  {
   "cell_type": "code",
   "execution_count": 68,
   "metadata": {},
   "outputs": [
    {
     "data": {
      "text/html": [
       "<div>\n",
       "<style scoped>\n",
       "    .dataframe tbody tr th:only-of-type {\n",
       "        vertical-align: middle;\n",
       "    }\n",
       "\n",
       "    .dataframe tbody tr th {\n",
       "        vertical-align: top;\n",
       "    }\n",
       "\n",
       "    .dataframe thead th {\n",
       "        text-align: right;\n",
       "    }\n",
       "</style>\n",
       "<table border=\"1\" class=\"dataframe\">\n",
       "  <thead>\n",
       "    <tr style=\"text-align: right;\">\n",
       "      <th></th>\n",
       "      <th>inspection_id</th>\n",
       "      <th>facility_type</th>\n",
       "      <th>risk</th>\n",
       "      <th>zip</th>\n",
       "      <th>inspection_type</th>\n",
       "      <th>result</th>\n",
       "      <th>latitude</th>\n",
       "      <th>longitude</th>\n",
       "    </tr>\n",
       "  </thead>\n",
       "  <tbody>\n",
       "    <tr>\n",
       "      <td>1</td>\n",
       "      <td>2320793</td>\n",
       "      <td>DROP</td>\n",
       "      <td>2</td>\n",
       "      <td>DROP</td>\n",
       "      <td>DROP</td>\n",
       "      <td>0</td>\n",
       "      <td>41.850451</td>\n",
       "      <td>-87.658798</td>\n",
       "    </tr>\n",
       "    <tr>\n",
       "      <td>2</td>\n",
       "      <td>2320830</td>\n",
       "      <td>DROP</td>\n",
       "      <td>2</td>\n",
       "      <td>DROP</td>\n",
       "      <td>DROP</td>\n",
       "      <td>0</td>\n",
       "      <td>41.885699</td>\n",
       "      <td>-87.648789</td>\n",
       "    </tr>\n",
       "    <tr>\n",
       "      <td>3</td>\n",
       "      <td>2320717</td>\n",
       "      <td>DROP</td>\n",
       "      <td>1</td>\n",
       "      <td>DROP</td>\n",
       "      <td>DROP</td>\n",
       "      <td>0</td>\n",
       "      <td>41.944974</td>\n",
       "      <td>-87.645660</td>\n",
       "    </tr>\n",
       "    <tr>\n",
       "      <td>6</td>\n",
       "      <td>2320574</td>\n",
       "      <td>DROP</td>\n",
       "      <td>1</td>\n",
       "      <td>DROP</td>\n",
       "      <td>DROP</td>\n",
       "      <td>0</td>\n",
       "      <td>41.811990</td>\n",
       "      <td>-87.743128</td>\n",
       "    </tr>\n",
       "    <tr>\n",
       "      <td>8</td>\n",
       "      <td>2320544</td>\n",
       "      <td>DROP</td>\n",
       "      <td>1</td>\n",
       "      <td>DROP</td>\n",
       "      <td>DROP</td>\n",
       "      <td>0</td>\n",
       "      <td>41.968336</td>\n",
       "      <td>-87.708783</td>\n",
       "    </tr>\n",
       "    <tr>\n",
       "      <td>...</td>\n",
       "      <td>...</td>\n",
       "      <td>...</td>\n",
       "      <td>...</td>\n",
       "      <td>...</td>\n",
       "      <td>...</td>\n",
       "      <td>...</td>\n",
       "      <td>...</td>\n",
       "      <td>...</td>\n",
       "    </tr>\n",
       "    <tr>\n",
       "      <td>195111</td>\n",
       "      <td>160276</td>\n",
       "      <td>DROP</td>\n",
       "      <td>1</td>\n",
       "      <td>DROP</td>\n",
       "      <td>DROP</td>\n",
       "      <td>0</td>\n",
       "      <td>41.897476</td>\n",
       "      <td>-87.628368</td>\n",
       "    </tr>\n",
       "    <tr>\n",
       "      <td>195112</td>\n",
       "      <td>120297</td>\n",
       "      <td>DROP</td>\n",
       "      <td>1</td>\n",
       "      <td>DROP</td>\n",
       "      <td>DROP</td>\n",
       "      <td>0</td>\n",
       "      <td>41.878307</td>\n",
       "      <td>-87.654440</td>\n",
       "    </tr>\n",
       "    <tr>\n",
       "      <td>195113</td>\n",
       "      <td>60325</td>\n",
       "      <td>DROP</td>\n",
       "      <td>1</td>\n",
       "      <td>DROP</td>\n",
       "      <td>DROP</td>\n",
       "      <td>1</td>\n",
       "      <td>41.807551</td>\n",
       "      <td>-87.740097</td>\n",
       "    </tr>\n",
       "    <tr>\n",
       "      <td>195114</td>\n",
       "      <td>197264</td>\n",
       "      <td>DROP</td>\n",
       "      <td>1</td>\n",
       "      <td>DROP</td>\n",
       "      <td>DROP</td>\n",
       "      <td>0</td>\n",
       "      <td>41.883237</td>\n",
       "      <td>-87.632556</td>\n",
       "    </tr>\n",
       "    <tr>\n",
       "      <td>195115</td>\n",
       "      <td>124307</td>\n",
       "      <td>DROP</td>\n",
       "      <td>1</td>\n",
       "      <td>DROP</td>\n",
       "      <td>DROP</td>\n",
       "      <td>0</td>\n",
       "      <td>41.967826</td>\n",
       "      <td>-87.767625</td>\n",
       "    </tr>\n",
       "  </tbody>\n",
       "</table>\n",
       "<p>169822 rows × 8 columns</p>\n",
       "</div>"
      ],
      "text/plain": [
       "        inspection_id facility_type  risk   zip inspection_type  result  \\\n",
       "1             2320793          DROP     2  DROP            DROP       0   \n",
       "2             2320830          DROP     2  DROP            DROP       0   \n",
       "3             2320717          DROP     1  DROP            DROP       0   \n",
       "6             2320574          DROP     1  DROP            DROP       0   \n",
       "8             2320544          DROP     1  DROP            DROP       0   \n",
       "...               ...           ...   ...   ...             ...     ...   \n",
       "195111         160276          DROP     1  DROP            DROP       0   \n",
       "195112         120297          DROP     1  DROP            DROP       0   \n",
       "195113          60325          DROP     1  DROP            DROP       1   \n",
       "195114         197264          DROP     1  DROP            DROP       0   \n",
       "195115         124307          DROP     1  DROP            DROP       0   \n",
       "\n",
       "         latitude  longitude  \n",
       "1       41.850451 -87.658798  \n",
       "2       41.885699 -87.648789  \n",
       "3       41.944974 -87.645660  \n",
       "6       41.811990 -87.743128  \n",
       "8       41.968336 -87.708783  \n",
       "...           ...        ...  \n",
       "195111  41.897476 -87.628368  \n",
       "195112  41.878307 -87.654440  \n",
       "195113  41.807551 -87.740097  \n",
       "195114  41.883237 -87.632556  \n",
       "195115  41.967826 -87.767625  \n",
       "\n",
       "[169822 rows x 8 columns]"
      ]
     },
     "execution_count": 68,
     "metadata": {},
     "output_type": "execute_result"
    }
   ],
   "source": [
    "food_inspections_df"
   ]
  },
  {
   "cell_type": "code",
   "execution_count": 69,
   "metadata": {},
   "outputs": [],
   "source": [
    "feature_df = pd.get_dummies(food_inspections_df,\n",
    "                            prefix=['{}_'.format(feature) for feature in categorical_features],\n",
    "                            columns=categorical_features)"
   ]
  },
  {
   "cell_type": "code",
   "execution_count": 70,
   "metadata": {},
   "outputs": [
    {
     "data": {
      "text/html": [
       "<div>\n",
       "<style scoped>\n",
       "    .dataframe tbody tr th:only-of-type {\n",
       "        vertical-align: middle;\n",
       "    }\n",
       "\n",
       "    .dataframe tbody tr th {\n",
       "        vertical-align: top;\n",
       "    }\n",
       "\n",
       "    .dataframe thead th {\n",
       "        text-align: right;\n",
       "    }\n",
       "</style>\n",
       "<table border=\"1\" class=\"dataframe\">\n",
       "  <thead>\n",
       "    <tr style=\"text-align: right;\">\n",
       "      <th></th>\n",
       "      <th>inspection_id</th>\n",
       "      <th>risk</th>\n",
       "      <th>result</th>\n",
       "      <th>latitude</th>\n",
       "      <th>longitude</th>\n",
       "      <th>facility_type__DROP</th>\n",
       "      <th>zip__DROP</th>\n",
       "      <th>inspection_type__DROP</th>\n",
       "    </tr>\n",
       "  </thead>\n",
       "  <tbody>\n",
       "    <tr>\n",
       "      <td>1</td>\n",
       "      <td>2320793</td>\n",
       "      <td>2</td>\n",
       "      <td>0</td>\n",
       "      <td>41.850451</td>\n",
       "      <td>-87.658798</td>\n",
       "      <td>1</td>\n",
       "      <td>1</td>\n",
       "      <td>1</td>\n",
       "    </tr>\n",
       "    <tr>\n",
       "      <td>2</td>\n",
       "      <td>2320830</td>\n",
       "      <td>2</td>\n",
       "      <td>0</td>\n",
       "      <td>41.885699</td>\n",
       "      <td>-87.648789</td>\n",
       "      <td>1</td>\n",
       "      <td>1</td>\n",
       "      <td>1</td>\n",
       "    </tr>\n",
       "    <tr>\n",
       "      <td>3</td>\n",
       "      <td>2320717</td>\n",
       "      <td>1</td>\n",
       "      <td>0</td>\n",
       "      <td>41.944974</td>\n",
       "      <td>-87.645660</td>\n",
       "      <td>1</td>\n",
       "      <td>1</td>\n",
       "      <td>1</td>\n",
       "    </tr>\n",
       "    <tr>\n",
       "      <td>6</td>\n",
       "      <td>2320574</td>\n",
       "      <td>1</td>\n",
       "      <td>0</td>\n",
       "      <td>41.811990</td>\n",
       "      <td>-87.743128</td>\n",
       "      <td>1</td>\n",
       "      <td>1</td>\n",
       "      <td>1</td>\n",
       "    </tr>\n",
       "    <tr>\n",
       "      <td>8</td>\n",
       "      <td>2320544</td>\n",
       "      <td>1</td>\n",
       "      <td>0</td>\n",
       "      <td>41.968336</td>\n",
       "      <td>-87.708783</td>\n",
       "      <td>1</td>\n",
       "      <td>1</td>\n",
       "      <td>1</td>\n",
       "    </tr>\n",
       "  </tbody>\n",
       "</table>\n",
       "</div>"
      ],
      "text/plain": [
       "   inspection_id  risk  result   latitude  longitude  facility_type__DROP  \\\n",
       "1        2320793     2       0  41.850451 -87.658798                    1   \n",
       "2        2320830     2       0  41.885699 -87.648789                    1   \n",
       "3        2320717     1       0  41.944974 -87.645660                    1   \n",
       "6        2320574     1       0  41.811990 -87.743128                    1   \n",
       "8        2320544     1       0  41.968336 -87.708783                    1   \n",
       "\n",
       "   zip__DROP  inspection_type__DROP  \n",
       "1          1                      1  \n",
       "2          1                      1  \n",
       "3          1                      1  \n",
       "6          1                      1  \n",
       "8          1                      1  "
      ]
     },
     "execution_count": 70,
     "metadata": {},
     "output_type": "execute_result"
    }
   ],
   "source": [
    "feature_df.head()"
   ]
  },
  {
   "cell_type": "code",
   "execution_count": null,
   "metadata": {},
   "outputs": [],
   "source": []
  },
  {
   "cell_type": "code",
   "execution_count": null,
   "metadata": {},
   "outputs": [],
   "source": []
  },
  {
   "cell_type": "code",
   "execution_count": null,
   "metadata": {},
   "outputs": [],
   "source": []
  },
  {
   "cell_type": "code",
   "execution_count": null,
   "metadata": {},
   "outputs": [],
   "source": [
    "def bar_count_plot(df, feature, count='count'):\n",
    "\n",
    "    plt.figure(figsize=(8,16))\n",
    "    plt.barh(range(len(df[feature])), df[count], align='center', alpha=0.5)\n",
    "    plt.yticks(range(len(df[feature])), df[feature])\n",
    "    plt.xlabel(feature)\n",
    "    plt.ylabel(count)\n",
    "    plt.title('Count of {}'.format(feature))\n",
    "    plt.show()"
   ]
  },
  {
   "cell_type": "code",
   "execution_count": null,
   "metadata": {},
   "outputs": [],
   "source": []
  },
  {
   "cell_type": "code",
   "execution_count": null,
   "metadata": {},
   "outputs": [],
   "source": []
  },
  {
   "cell_type": "code",
   "execution_count": null,
   "metadata": {},
   "outputs": [],
   "source": [
    "pd.get_dummies(food_inspections_df['Zip'][], )"
   ]
  },
  {
   "cell_type": "code",
   "execution_count": null,
   "metadata": {},
   "outputs": [],
   "source": []
  },
  {
   "cell_type": "code",
   "execution_count": null,
   "metadata": {},
   "outputs": [],
   "source": []
  },
  {
   "cell_type": "code",
   "execution_count": null,
   "metadata": {},
   "outputs": [],
   "source": []
  },
  {
   "cell_type": "code",
   "execution_count": null,
   "metadata": {},
   "outputs": [],
   "source": []
  }
 ],
 "metadata": {
  "kernelspec": {
   "display_name": "Python 3",
   "language": "python",
   "name": "python3"
  },
  "language_info": {
   "codemirror_mode": {
    "name": "ipython",
    "version": 3
   },
   "file_extension": ".py",
   "mimetype": "text/x-python",
   "name": "python",
   "nbconvert_exporter": "python",
   "pygments_lexer": "ipython3",
   "version": "3.7.4"
  }
 },
 "nbformat": 4,
 "nbformat_minor": 2
}
