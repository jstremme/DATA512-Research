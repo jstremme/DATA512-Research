{
 "cells": [
  {
   "cell_type": "code",
   "execution_count": null,
   "metadata": {},
   "outputs": [],
   "source": []
  },
  {
   "cell_type": "code",
   "execution_count": null,
   "metadata": {},
   "outputs": [],
   "source": []
  },
  {
   "cell_type": "markdown",
   "metadata": {},
   "source": [
    "### Imports"
   ]
  },
  {
   "cell_type": "code",
   "execution_count": 1,
   "metadata": {},
   "outputs": [],
   "source": [
    "import pandas as pd"
   ]
  },
  {
   "cell_type": "markdown",
   "metadata": {},
   "source": [
    "### Read Chicago Food Inspections Data\n",
    "Count records and columns."
   ]
  },
  {
   "cell_type": "code",
   "execution_count": 2,
   "metadata": {},
   "outputs": [],
   "source": [
    "food_inspections_df = pd.read_csv('../../Food_Inspections.csv')"
   ]
  },
  {
   "cell_type": "code",
   "execution_count": 3,
   "metadata": {},
   "outputs": [
    {
     "data": {
      "text/plain": [
       "(195116, 17)"
      ]
     },
     "execution_count": 3,
     "metadata": {},
     "output_type": "execute_result"
    }
   ],
   "source": [
    "food_inspections_df.shape"
   ]
  },
  {
   "cell_type": "markdown",
   "metadata": {},
   "source": [
    "### Normalize Casing of Chicago\n",
    "Accept only proper spellings of the word Chicago with mixed casing accepted"
   ]
  },
  {
   "cell_type": "code",
   "execution_count": 4,
   "metadata": {},
   "outputs": [],
   "source": [
    "food_inspections_df['City'] = food_inspections_df['City'].apply(lambda x: 'CHICAGO'\n",
    "                                                                if str(x).upper() == 'CHICAGO'\n",
    "                                                                else x)"
   ]
  },
  {
   "cell_type": "markdown",
   "metadata": {},
   "source": [
    "### Filter for Facilities in Chicago Illinois"
   ]
  },
  {
   "cell_type": "code",
   "execution_count": 5,
   "metadata": {},
   "outputs": [],
   "source": [
    "loc_condition = (food_inspections_df['City'] == 'CHICAGO') & (food_inspections_df['State'] == 'IL')"
   ]
  },
  {
   "cell_type": "markdown",
   "metadata": {},
   "source": [
    "### Drop Redundant Information\n",
    "- Only Chicago is considered\n",
    "- Only Illinois is considered\n",
    "- Location is encoded as separate latitute and longitude columns"
   ]
  },
  {
   "cell_type": "code",
   "execution_count": 6,
   "metadata": {},
   "outputs": [],
   "source": [
    "food_inspections_df = food_inspections_df[loc_condition].drop(['City', 'State', 'Location'], 1)"
   ]
  },
  {
   "cell_type": "code",
   "execution_count": 7,
   "metadata": {},
   "outputs": [
    {
     "data": {
      "text/plain": [
       "(194684, 14)"
      ]
     },
     "execution_count": 7,
     "metadata": {},
     "output_type": "execute_result"
    }
   ],
   "source": [
    "food_inspections_df.shape"
   ]
  },
  {
   "cell_type": "markdown",
   "metadata": {},
   "source": [
    "### Create Codes Corresponding to Each Violation Type by Parsing Violation Text"
   ]
  },
  {
   "cell_type": "code",
   "execution_count": 8,
   "metadata": {},
   "outputs": [],
   "source": [
    "def create_violation_code(violation_text):\n",
    "    \n",
    "    if violation_text != violation_text:\n",
    "        return -1\n",
    "    else:\n",
    "        return int(violation_text.split('.')[0])"
   ]
  },
  {
   "cell_type": "code",
   "execution_count": 9,
   "metadata": {},
   "outputs": [],
   "source": [
    "food_inspections_df['violation_code'] = food_inspections_df['Violations'].apply(create_violation_code)"
   ]
  },
  {
   "cell_type": "markdown",
   "metadata": {},
   "source": [
    "### Create Attribute Dataframes with the Unique Inspection ID for Lookups Following Quantitative Analysis\n",
    "- Names\n",
    "- Licenses\n",
    "- Locations\n",
    "- Violations\n",
    "- Dates"
   ]
  },
  {
   "cell_type": "code",
   "execution_count": 10,
   "metadata": {},
   "outputs": [],
   "source": [
    "names = ['Inspection ID', 'DBA Name', 'AKA Name']\n",
    "names_df = food_inspections_df[names]"
   ]
  },
  {
   "cell_type": "code",
   "execution_count": 11,
   "metadata": {},
   "outputs": [],
   "source": [
    "licenses = ['Inspection ID', 'License #']\n",
    "licenses_df = food_inspections_df[licenses]"
   ]
  },
  {
   "cell_type": "code",
   "execution_count": 12,
   "metadata": {},
   "outputs": [],
   "source": [
    "locations = ['Inspection ID', 'Address', 'Latitude', 'Longitude']\n",
    "locations_df = food_inspections_df[locations]"
   ]
  },
  {
   "cell_type": "code",
   "execution_count": 13,
   "metadata": {},
   "outputs": [],
   "source": [
    "violations = ['Inspection ID', 'Violations', 'violation_code']\n",
    "violations_df = food_inspections_df[violations]"
   ]
  },
  {
   "cell_type": "code",
   "execution_count": 14,
   "metadata": {},
   "outputs": [],
   "source": [
    "dates = ['Inspection ID', 'Inspection Date']\n",
    "dates_df = food_inspections_df[dates]"
   ]
  },
  {
   "cell_type": "markdown",
   "metadata": {},
   "source": [
    "### Drop Features Not Used in Statistical Analysis\n",
    "Features such as:\n",
    "\n",
    "- `DBA Name`\n",
    "- `AKA Name`\n",
    "- `License #`\n",
    "- `Address`\n",
    "- `Violations`\n",
    "- `Inspection Date`\n",
    "\n",
    "May be examined following statistical analysis by joining on `Inspection ID`.  **Note:** future iterations of this work may wish to consider:\n",
    "\n",
    "- Text from the the facility name\n",
    "- Street level information from the facility address\n",
    "- Prior inspections of the same facility by performing a temporal analysis of the data using `Inspection Date`"
   ]
  },
  {
   "cell_type": "code",
   "execution_count": 15,
   "metadata": {},
   "outputs": [],
   "source": [
    "not_considered = ['DBA Name', 'AKA Name', 'License #', 'Address', 'Violations', 'Inspection Date']\n",
    "food_inspections_df = food_inspections_df.drop(not_considered, 1)"
   ]
  },
  {
   "cell_type": "markdown",
   "metadata": {},
   "source": [
    "### Create Dataframes of Count and Prevalence for Categorical Features\n",
    "- Facility types\n",
    "- Violation codes\n",
    "- Zip codes\n",
    "- Inspection types"
   ]
  },
  {
   "cell_type": "code",
   "execution_count": 16,
   "metadata": {},
   "outputs": [
    {
     "data": {
      "text/html": [
       "<div>\n",
       "<style scoped>\n",
       "    .dataframe tbody tr th:only-of-type {\n",
       "        vertical-align: middle;\n",
       "    }\n",
       "\n",
       "    .dataframe tbody tr th {\n",
       "        vertical-align: top;\n",
       "    }\n",
       "\n",
       "    .dataframe thead th {\n",
       "        text-align: right;\n",
       "    }\n",
       "</style>\n",
       "<table border=\"1\" class=\"dataframe\">\n",
       "  <thead>\n",
       "    <tr style=\"text-align: right;\">\n",
       "      <th></th>\n",
       "      <th>facility</th>\n",
       "      <th>count</th>\n",
       "      <th>prevalence</th>\n",
       "    </tr>\n",
       "  </thead>\n",
       "  <tbody>\n",
       "    <tr>\n",
       "      <td>0</td>\n",
       "      <td>Restaurant</td>\n",
       "      <td>129938</td>\n",
       "      <td>0.667430</td>\n",
       "    </tr>\n",
       "    <tr>\n",
       "      <td>1</td>\n",
       "      <td>Grocery Store</td>\n",
       "      <td>24829</td>\n",
       "      <td>0.127535</td>\n",
       "    </tr>\n",
       "    <tr>\n",
       "      <td>2</td>\n",
       "      <td>School</td>\n",
       "      <td>12062</td>\n",
       "      <td>0.061957</td>\n",
       "    </tr>\n",
       "    <tr>\n",
       "      <td>3</td>\n",
       "      <td>Children's Services Facility</td>\n",
       "      <td>3031</td>\n",
       "      <td>0.015569</td>\n",
       "    </tr>\n",
       "    <tr>\n",
       "      <td>4</td>\n",
       "      <td>Bakery</td>\n",
       "      <td>2837</td>\n",
       "      <td>0.014572</td>\n",
       "    </tr>\n",
       "    <tr>\n",
       "      <td>5</td>\n",
       "      <td>Daycare (2 - 6 Years)</td>\n",
       "      <td>2682</td>\n",
       "      <td>0.013776</td>\n",
       "    </tr>\n",
       "    <tr>\n",
       "      <td>6</td>\n",
       "      <td>Daycare Above and Under 2 Years</td>\n",
       "      <td>2355</td>\n",
       "      <td>0.012097</td>\n",
       "    </tr>\n",
       "    <tr>\n",
       "      <td>7</td>\n",
       "      <td>Long Term Care</td>\n",
       "      <td>1340</td>\n",
       "      <td>0.006883</td>\n",
       "    </tr>\n",
       "    <tr>\n",
       "      <td>8</td>\n",
       "      <td>Catering</td>\n",
       "      <td>1190</td>\n",
       "      <td>0.006112</td>\n",
       "    </tr>\n",
       "    <tr>\n",
       "      <td>9</td>\n",
       "      <td>Liquor</td>\n",
       "      <td>847</td>\n",
       "      <td>0.004351</td>\n",
       "    </tr>\n",
       "  </tbody>\n",
       "</table>\n",
       "</div>"
      ],
      "text/plain": [
       "                          facility   count  prevalence\n",
       "0                       Restaurant  129938    0.667430\n",
       "1                    Grocery Store   24829    0.127535\n",
       "2                           School   12062    0.061957\n",
       "3     Children's Services Facility    3031    0.015569\n",
       "4                           Bakery    2837    0.014572\n",
       "5            Daycare (2 - 6 Years)    2682    0.013776\n",
       "6  Daycare Above and Under 2 Years    2355    0.012097\n",
       "7                   Long Term Care    1340    0.006883\n",
       "8                         Catering    1190    0.006112\n",
       "9                           Liquor     847    0.004351"
      ]
     },
     "execution_count": 16,
     "metadata": {},
     "output_type": "execute_result"
    }
   ],
   "source": [
    "facilities = food_inspections_df['Facility Type'].value_counts()\n",
    "facilities_df = pd.DataFrame({'facility':facilities.index, 'count':facilities.values})\n",
    "facilities_df['prevalence'] = facilities_df['count'] / food_inspections_df.shape[0]\n",
    "facilities_df.nlargest(10, 'count')"
   ]
  },
  {
   "cell_type": "code",
   "execution_count": 17,
   "metadata": {},
   "outputs": [
    {
     "data": {
      "text/html": [
       "<div>\n",
       "<style scoped>\n",
       "    .dataframe tbody tr th:only-of-type {\n",
       "        vertical-align: middle;\n",
       "    }\n",
       "\n",
       "    .dataframe tbody tr th {\n",
       "        vertical-align: top;\n",
       "    }\n",
       "\n",
       "    .dataframe thead th {\n",
       "        text-align: right;\n",
       "    }\n",
       "</style>\n",
       "<table border=\"1\" class=\"dataframe\">\n",
       "  <thead>\n",
       "    <tr style=\"text-align: right;\">\n",
       "      <th></th>\n",
       "      <th>violation_code</th>\n",
       "      <th>count</th>\n",
       "      <th>prevalence</th>\n",
       "    </tr>\n",
       "  </thead>\n",
       "  <tbody>\n",
       "    <tr>\n",
       "      <td>0</td>\n",
       "      <td>-1</td>\n",
       "      <td>51543</td>\n",
       "      <td>0.264752</td>\n",
       "    </tr>\n",
       "    <tr>\n",
       "      <td>1</td>\n",
       "      <td>32</td>\n",
       "      <td>25408</td>\n",
       "      <td>0.130509</td>\n",
       "    </tr>\n",
       "    <tr>\n",
       "      <td>2</td>\n",
       "      <td>33</td>\n",
       "      <td>17449</td>\n",
       "      <td>0.089627</td>\n",
       "    </tr>\n",
       "    <tr>\n",
       "      <td>3</td>\n",
       "      <td>3</td>\n",
       "      <td>13609</td>\n",
       "      <td>0.069903</td>\n",
       "    </tr>\n",
       "    <tr>\n",
       "      <td>4</td>\n",
       "      <td>34</td>\n",
       "      <td>10576</td>\n",
       "      <td>0.054324</td>\n",
       "    </tr>\n",
       "    <tr>\n",
       "      <td>5</td>\n",
       "      <td>18</td>\n",
       "      <td>9989</td>\n",
       "      <td>0.051309</td>\n",
       "    </tr>\n",
       "    <tr>\n",
       "      <td>6</td>\n",
       "      <td>30</td>\n",
       "      <td>9441</td>\n",
       "      <td>0.048494</td>\n",
       "    </tr>\n",
       "    <tr>\n",
       "      <td>7</td>\n",
       "      <td>2</td>\n",
       "      <td>7166</td>\n",
       "      <td>0.036808</td>\n",
       "    </tr>\n",
       "    <tr>\n",
       "      <td>8</td>\n",
       "      <td>35</td>\n",
       "      <td>5631</td>\n",
       "      <td>0.028924</td>\n",
       "    </tr>\n",
       "    <tr>\n",
       "      <td>9</td>\n",
       "      <td>21</td>\n",
       "      <td>4582</td>\n",
       "      <td>0.023536</td>\n",
       "    </tr>\n",
       "  </tbody>\n",
       "</table>\n",
       "</div>"
      ],
      "text/plain": [
       "   violation_code  count  prevalence\n",
       "0              -1  51543    0.264752\n",
       "1              32  25408    0.130509\n",
       "2              33  17449    0.089627\n",
       "3               3  13609    0.069903\n",
       "4              34  10576    0.054324\n",
       "5              18   9989    0.051309\n",
       "6              30   9441    0.048494\n",
       "7               2   7166    0.036808\n",
       "8              35   5631    0.028924\n",
       "9              21   4582    0.023536"
      ]
     },
     "execution_count": 17,
     "metadata": {},
     "output_type": "execute_result"
    }
   ],
   "source": [
    "violations = food_inspections_df['violation_code'].value_counts()\n",
    "violations_df = pd.DataFrame({'violation_code':violations.index, 'count':violations.values})\n",
    "violations_df['prevalence'] = violations_df['count'] / food_inspections_df.shape[0]\n",
    "violations_df.nlargest(10, 'count')"
   ]
  },
  {
   "cell_type": "code",
   "execution_count": 18,
   "metadata": {},
   "outputs": [
    {
     "data": {
      "text/html": [
       "<div>\n",
       "<style scoped>\n",
       "    .dataframe tbody tr th:only-of-type {\n",
       "        vertical-align: middle;\n",
       "    }\n",
       "\n",
       "    .dataframe tbody tr th {\n",
       "        vertical-align: top;\n",
       "    }\n",
       "\n",
       "    .dataframe thead th {\n",
       "        text-align: right;\n",
       "    }\n",
       "</style>\n",
       "<table border=\"1\" class=\"dataframe\">\n",
       "  <thead>\n",
       "    <tr style=\"text-align: right;\">\n",
       "      <th></th>\n",
       "      <th>zip</th>\n",
       "      <th>count</th>\n",
       "      <th>prevalence</th>\n",
       "    </tr>\n",
       "  </thead>\n",
       "  <tbody>\n",
       "    <tr>\n",
       "      <td>0</td>\n",
       "      <td>60614.0</td>\n",
       "      <td>7284</td>\n",
       "      <td>0.037414</td>\n",
       "    </tr>\n",
       "    <tr>\n",
       "      <td>1</td>\n",
       "      <td>60647.0</td>\n",
       "      <td>7088</td>\n",
       "      <td>0.036408</td>\n",
       "    </tr>\n",
       "    <tr>\n",
       "      <td>2</td>\n",
       "      <td>60657.0</td>\n",
       "      <td>6824</td>\n",
       "      <td>0.035052</td>\n",
       "    </tr>\n",
       "    <tr>\n",
       "      <td>3</td>\n",
       "      <td>60622.0</td>\n",
       "      <td>6108</td>\n",
       "      <td>0.031374</td>\n",
       "    </tr>\n",
       "    <tr>\n",
       "      <td>4</td>\n",
       "      <td>60611.0</td>\n",
       "      <td>6094</td>\n",
       "      <td>0.031302</td>\n",
       "    </tr>\n",
       "    <tr>\n",
       "      <td>5</td>\n",
       "      <td>60608.0</td>\n",
       "      <td>5925</td>\n",
       "      <td>0.030434</td>\n",
       "    </tr>\n",
       "    <tr>\n",
       "      <td>6</td>\n",
       "      <td>60618.0</td>\n",
       "      <td>5923</td>\n",
       "      <td>0.030424</td>\n",
       "    </tr>\n",
       "    <tr>\n",
       "      <td>7</td>\n",
       "      <td>60625.0</td>\n",
       "      <td>5387</td>\n",
       "      <td>0.027670</td>\n",
       "    </tr>\n",
       "    <tr>\n",
       "      <td>8</td>\n",
       "      <td>60639.0</td>\n",
       "      <td>5208</td>\n",
       "      <td>0.026751</td>\n",
       "    </tr>\n",
       "    <tr>\n",
       "      <td>9</td>\n",
       "      <td>60607.0</td>\n",
       "      <td>5145</td>\n",
       "      <td>0.026427</td>\n",
       "    </tr>\n",
       "  </tbody>\n",
       "</table>\n",
       "</div>"
      ],
      "text/plain": [
       "       zip  count  prevalence\n",
       "0  60614.0   7284    0.037414\n",
       "1  60647.0   7088    0.036408\n",
       "2  60657.0   6824    0.035052\n",
       "3  60622.0   6108    0.031374\n",
       "4  60611.0   6094    0.031302\n",
       "5  60608.0   5925    0.030434\n",
       "6  60618.0   5923    0.030424\n",
       "7  60625.0   5387    0.027670\n",
       "8  60639.0   5208    0.026751\n",
       "9  60607.0   5145    0.026427"
      ]
     },
     "execution_count": 18,
     "metadata": {},
     "output_type": "execute_result"
    }
   ],
   "source": [
    "zips = food_inspections_df['Zip'].value_counts()\n",
    "zips_df = pd.DataFrame({'zip':zips.index, 'count':zips.values})\n",
    "zips_df['prevalence'] = zips_df['count'] / food_inspections_df.shape[0]\n",
    "zips_df.nlargest(10, 'count')"
   ]
  },
  {
   "cell_type": "code",
   "execution_count": 19,
   "metadata": {},
   "outputs": [],
   "source": [
    "inspections = food_inspections_df['Inspection Type'].value_counts()\n",
    "inspections_df = pd.DataFrame({'inspection':inspections.index, 'count':inspections.values})\n",
    "inspections_df['prevalence'] = inspections_df['count'] / food_inspections_df.shape[0]"
   ]
  },
  {
   "cell_type": "code",
   "execution_count": 20,
   "metadata": {},
   "outputs": [
    {
     "data": {
      "text/html": [
       "<div>\n",
       "<style scoped>\n",
       "    .dataframe tbody tr th:only-of-type {\n",
       "        vertical-align: middle;\n",
       "    }\n",
       "\n",
       "    .dataframe tbody tr th {\n",
       "        vertical-align: top;\n",
       "    }\n",
       "\n",
       "    .dataframe thead th {\n",
       "        text-align: right;\n",
       "    }\n",
       "</style>\n",
       "<table border=\"1\" class=\"dataframe\">\n",
       "  <thead>\n",
       "    <tr style=\"text-align: right;\">\n",
       "      <th></th>\n",
       "      <th>inspection</th>\n",
       "      <th>count</th>\n",
       "      <th>prevalence</th>\n",
       "    </tr>\n",
       "  </thead>\n",
       "  <tbody>\n",
       "    <tr>\n",
       "      <td>0</td>\n",
       "      <td>Canvass</td>\n",
       "      <td>102944</td>\n",
       "      <td>0.528775</td>\n",
       "    </tr>\n",
       "    <tr>\n",
       "      <td>1</td>\n",
       "      <td>License</td>\n",
       "      <td>25614</td>\n",
       "      <td>0.131567</td>\n",
       "    </tr>\n",
       "    <tr>\n",
       "      <td>2</td>\n",
       "      <td>Canvass Re-Inspection</td>\n",
       "      <td>20457</td>\n",
       "      <td>0.105078</td>\n",
       "    </tr>\n",
       "    <tr>\n",
       "      <td>3</td>\n",
       "      <td>Complaint</td>\n",
       "      <td>18093</td>\n",
       "      <td>0.092935</td>\n",
       "    </tr>\n",
       "    <tr>\n",
       "      <td>4</td>\n",
       "      <td>License Re-Inspection</td>\n",
       "      <td>8899</td>\n",
       "      <td>0.045710</td>\n",
       "    </tr>\n",
       "    <tr>\n",
       "      <td>5</td>\n",
       "      <td>Complaint Re-Inspection</td>\n",
       "      <td>7499</td>\n",
       "      <td>0.038519</td>\n",
       "    </tr>\n",
       "    <tr>\n",
       "      <td>6</td>\n",
       "      <td>Short Form Complaint</td>\n",
       "      <td>6717</td>\n",
       "      <td>0.034502</td>\n",
       "    </tr>\n",
       "    <tr>\n",
       "      <td>7</td>\n",
       "      <td>Suspected Food Poisoning</td>\n",
       "      <td>850</td>\n",
       "      <td>0.004366</td>\n",
       "    </tr>\n",
       "    <tr>\n",
       "      <td>8</td>\n",
       "      <td>Consultation</td>\n",
       "      <td>669</td>\n",
       "      <td>0.003436</td>\n",
       "    </tr>\n",
       "    <tr>\n",
       "      <td>9</td>\n",
       "      <td>License-Task Force</td>\n",
       "      <td>604</td>\n",
       "      <td>0.003102</td>\n",
       "    </tr>\n",
       "  </tbody>\n",
       "</table>\n",
       "</div>"
      ],
      "text/plain": [
       "                 inspection   count  prevalence\n",
       "0                   Canvass  102944    0.528775\n",
       "1                   License   25614    0.131567\n",
       "2     Canvass Re-Inspection   20457    0.105078\n",
       "3                 Complaint   18093    0.092935\n",
       "4     License Re-Inspection    8899    0.045710\n",
       "5   Complaint Re-Inspection    7499    0.038519\n",
       "6      Short Form Complaint    6717    0.034502\n",
       "7  Suspected Food Poisoning     850    0.004366\n",
       "8              Consultation     669    0.003436\n",
       "9        License-Task Force     604    0.003102"
      ]
     },
     "execution_count": 20,
     "metadata": {},
     "output_type": "execute_result"
    }
   ],
   "source": [
    "inspections_df.nlargest(10, 'count')"
   ]
  },
  {
   "cell_type": "code",
   "execution_count": 21,
   "metadata": {},
   "outputs": [],
   "source": [
    "results = food_inspections_df['Results'].value_counts()\n",
    "results_df = pd.DataFrame({'result':results.index, 'count':results.values})\n",
    "results_df['prevalence'] = results_df['count'] / food_inspections_df.shape[0]"
   ]
  },
  {
   "cell_type": "code",
   "execution_count": 22,
   "metadata": {},
   "outputs": [
    {
     "data": {
      "text/html": [
       "<div>\n",
       "<style scoped>\n",
       "    .dataframe tbody tr th:only-of-type {\n",
       "        vertical-align: middle;\n",
       "    }\n",
       "\n",
       "    .dataframe tbody tr th {\n",
       "        vertical-align: top;\n",
       "    }\n",
       "\n",
       "    .dataframe thead th {\n",
       "        text-align: right;\n",
       "    }\n",
       "</style>\n",
       "<table border=\"1\" class=\"dataframe\">\n",
       "  <thead>\n",
       "    <tr style=\"text-align: right;\">\n",
       "      <th></th>\n",
       "      <th>result</th>\n",
       "      <th>count</th>\n",
       "      <th>prevalence</th>\n",
       "    </tr>\n",
       "  </thead>\n",
       "  <tbody>\n",
       "    <tr>\n",
       "      <td>0</td>\n",
       "      <td>Pass</td>\n",
       "      <td>105369</td>\n",
       "      <td>0.541231</td>\n",
       "    </tr>\n",
       "    <tr>\n",
       "      <td>1</td>\n",
       "      <td>Fail</td>\n",
       "      <td>37658</td>\n",
       "      <td>0.193431</td>\n",
       "    </tr>\n",
       "    <tr>\n",
       "      <td>2</td>\n",
       "      <td>Pass w/ Conditions</td>\n",
       "      <td>26795</td>\n",
       "      <td>0.137633</td>\n",
       "    </tr>\n",
       "    <tr>\n",
       "      <td>3</td>\n",
       "      <td>Out of Business</td>\n",
       "      <td>16757</td>\n",
       "      <td>0.086073</td>\n",
       "    </tr>\n",
       "    <tr>\n",
       "      <td>4</td>\n",
       "      <td>No Entry</td>\n",
       "      <td>6198</td>\n",
       "      <td>0.031836</td>\n",
       "    </tr>\n",
       "    <tr>\n",
       "      <td>5</td>\n",
       "      <td>Not Ready</td>\n",
       "      <td>1843</td>\n",
       "      <td>0.009467</td>\n",
       "    </tr>\n",
       "    <tr>\n",
       "      <td>6</td>\n",
       "      <td>Business Not Located</td>\n",
       "      <td>64</td>\n",
       "      <td>0.000329</td>\n",
       "    </tr>\n",
       "  </tbody>\n",
       "</table>\n",
       "</div>"
      ],
      "text/plain": [
       "                 result   count  prevalence\n",
       "0                  Pass  105369    0.541231\n",
       "1                  Fail   37658    0.193431\n",
       "2    Pass w/ Conditions   26795    0.137633\n",
       "3       Out of Business   16757    0.086073\n",
       "4              No Entry    6198    0.031836\n",
       "5             Not Ready    1843    0.009467\n",
       "6  Business Not Located      64    0.000329"
      ]
     },
     "execution_count": 22,
     "metadata": {},
     "output_type": "execute_result"
    }
   ],
   "source": [
    "results_df.nlargest(10, 'count')"
   ]
  },
  {
   "cell_type": "markdown",
   "metadata": {},
   "source": [
    "### Create Risk Group Feature\n",
    "If the feature cannot be found in the middle of the text string as a value 1-3, return -1."
   ]
  },
  {
   "cell_type": "code",
   "execution_count": 23,
   "metadata": {},
   "outputs": [],
   "source": [
    "def create_risk_groups(risk_text):\n",
    "    \n",
    "    try: \n",
    "        risk = int(x.split(' ')[1])\n",
    "        return risk\n",
    "    except:\n",
    "        return -1"
   ]
  },
  {
   "cell_type": "code",
   "execution_count": 24,
   "metadata": {},
   "outputs": [],
   "source": [
    "food_inspections_df['risk'] = food_inspections_df['Risk'].apply(create_risk_groups)\n",
    "food_inspections_df = food_inspections_df.drop('Risk', 1)"
   ]
  },
  {
   "cell_type": "markdown",
   "metadata": {},
   "source": [
    "### Encode Features"
   ]
  },
  {
   "cell_type": "code",
   "execution_count": 25,
   "metadata": {},
   "outputs": [
    {
     "data": {
      "text/html": [
       "<div>\n",
       "<style scoped>\n",
       "    .dataframe tbody tr th:only-of-type {\n",
       "        vertical-align: middle;\n",
       "    }\n",
       "\n",
       "    .dataframe tbody tr th {\n",
       "        vertical-align: top;\n",
       "    }\n",
       "\n",
       "    .dataframe thead th {\n",
       "        text-align: right;\n",
       "    }\n",
       "</style>\n",
       "<table border=\"1\" class=\"dataframe\">\n",
       "  <thead>\n",
       "    <tr style=\"text-align: right;\">\n",
       "      <th></th>\n",
       "      <th>Inspection ID</th>\n",
       "      <th>Facility Type</th>\n",
       "      <th>Zip</th>\n",
       "      <th>Inspection Type</th>\n",
       "      <th>Results</th>\n",
       "      <th>Latitude</th>\n",
       "      <th>Longitude</th>\n",
       "      <th>violation_code</th>\n",
       "      <th>risk</th>\n",
       "    </tr>\n",
       "  </thead>\n",
       "  <tbody>\n",
       "    <tr>\n",
       "      <td>0</td>\n",
       "      <td>2320831</td>\n",
       "      <td>Grocery Store</td>\n",
       "      <td>60623.0</td>\n",
       "      <td>Canvass</td>\n",
       "      <td>Out of Business</td>\n",
       "      <td>41.855266</td>\n",
       "      <td>-87.712402</td>\n",
       "      <td>-1</td>\n",
       "      <td>-1</td>\n",
       "    </tr>\n",
       "    <tr>\n",
       "      <td>1</td>\n",
       "      <td>2320793</td>\n",
       "      <td>Mobile Food Preparer</td>\n",
       "      <td>60608.0</td>\n",
       "      <td>License</td>\n",
       "      <td>Pass</td>\n",
       "      <td>41.850451</td>\n",
       "      <td>-87.658798</td>\n",
       "      <td>-1</td>\n",
       "      <td>-1</td>\n",
       "    </tr>\n",
       "    <tr>\n",
       "      <td>2</td>\n",
       "      <td>2320830</td>\n",
       "      <td>Restaurant</td>\n",
       "      <td>60607.0</td>\n",
       "      <td>License</td>\n",
       "      <td>Pass</td>\n",
       "      <td>41.885699</td>\n",
       "      <td>-87.648789</td>\n",
       "      <td>36</td>\n",
       "      <td>-1</td>\n",
       "    </tr>\n",
       "    <tr>\n",
       "      <td>3</td>\n",
       "      <td>2320717</td>\n",
       "      <td>Restaurant</td>\n",
       "      <td>60657.0</td>\n",
       "      <td>Canvass Re-Inspection</td>\n",
       "      <td>Pass</td>\n",
       "      <td>41.944974</td>\n",
       "      <td>-87.645660</td>\n",
       "      <td>47</td>\n",
       "      <td>-1</td>\n",
       "    </tr>\n",
       "    <tr>\n",
       "      <td>4</td>\n",
       "      <td>2320618</td>\n",
       "      <td>NaN</td>\n",
       "      <td>60647.0</td>\n",
       "      <td>License</td>\n",
       "      <td>Not Ready</td>\n",
       "      <td>41.921076</td>\n",
       "      <td>-87.694138</td>\n",
       "      <td>-1</td>\n",
       "      <td>-1</td>\n",
       "    </tr>\n",
       "    <tr>\n",
       "      <td>...</td>\n",
       "      <td>...</td>\n",
       "      <td>...</td>\n",
       "      <td>...</td>\n",
       "      <td>...</td>\n",
       "      <td>...</td>\n",
       "      <td>...</td>\n",
       "      <td>...</td>\n",
       "      <td>...</td>\n",
       "      <td>...</td>\n",
       "    </tr>\n",
       "    <tr>\n",
       "      <td>195111</td>\n",
       "      <td>160276</td>\n",
       "      <td>Restaurant</td>\n",
       "      <td>60610.0</td>\n",
       "      <td>Canvass</td>\n",
       "      <td>Pass</td>\n",
       "      <td>41.897476</td>\n",
       "      <td>-87.628368</td>\n",
       "      <td>32</td>\n",
       "      <td>-1</td>\n",
       "    </tr>\n",
       "    <tr>\n",
       "      <td>195112</td>\n",
       "      <td>120297</td>\n",
       "      <td>School</td>\n",
       "      <td>60607.0</td>\n",
       "      <td>Canvass</td>\n",
       "      <td>Pass</td>\n",
       "      <td>41.878307</td>\n",
       "      <td>-87.654440</td>\n",
       "      <td>33</td>\n",
       "      <td>-1</td>\n",
       "    </tr>\n",
       "    <tr>\n",
       "      <td>195113</td>\n",
       "      <td>60325</td>\n",
       "      <td>School</td>\n",
       "      <td>60632.0</td>\n",
       "      <td>Canvass</td>\n",
       "      <td>Fail</td>\n",
       "      <td>41.807551</td>\n",
       "      <td>-87.740097</td>\n",
       "      <td>9</td>\n",
       "      <td>-1</td>\n",
       "    </tr>\n",
       "    <tr>\n",
       "      <td>195114</td>\n",
       "      <td>197264</td>\n",
       "      <td>Restaurant</td>\n",
       "      <td>60602.0</td>\n",
       "      <td>Canvass</td>\n",
       "      <td>Pass</td>\n",
       "      <td>41.883237</td>\n",
       "      <td>-87.632556</td>\n",
       "      <td>30</td>\n",
       "      <td>-1</td>\n",
       "    </tr>\n",
       "    <tr>\n",
       "      <td>195115</td>\n",
       "      <td>124307</td>\n",
       "      <td>NaN</td>\n",
       "      <td>60630.0</td>\n",
       "      <td>Out of Business</td>\n",
       "      <td>Pass</td>\n",
       "      <td>41.967826</td>\n",
       "      <td>-87.767625</td>\n",
       "      <td>-1</td>\n",
       "      <td>-1</td>\n",
       "    </tr>\n",
       "  </tbody>\n",
       "</table>\n",
       "<p>194684 rows × 9 columns</p>\n",
       "</div>"
      ],
      "text/plain": [
       "        Inspection ID         Facility Type      Zip        Inspection Type  \\\n",
       "0             2320831         Grocery Store  60623.0                Canvass   \n",
       "1             2320793  Mobile Food Preparer  60608.0                License   \n",
       "2             2320830            Restaurant  60607.0                License   \n",
       "3             2320717            Restaurant  60657.0  Canvass Re-Inspection   \n",
       "4             2320618                   NaN  60647.0                License   \n",
       "...               ...                   ...      ...                    ...   \n",
       "195111         160276            Restaurant  60610.0                Canvass   \n",
       "195112         120297                School  60607.0                Canvass   \n",
       "195113          60325                School  60632.0                Canvass   \n",
       "195114         197264            Restaurant  60602.0                Canvass   \n",
       "195115         124307                   NaN  60630.0        Out of Business   \n",
       "\n",
       "                Results   Latitude  Longitude  violation_code  risk  \n",
       "0       Out of Business  41.855266 -87.712402              -1    -1  \n",
       "1                  Pass  41.850451 -87.658798              -1    -1  \n",
       "2                  Pass  41.885699 -87.648789              36    -1  \n",
       "3                  Pass  41.944974 -87.645660              47    -1  \n",
       "4             Not Ready  41.921076 -87.694138              -1    -1  \n",
       "...                 ...        ...        ...             ...   ...  \n",
       "195111             Pass  41.897476 -87.628368              32    -1  \n",
       "195112             Pass  41.878307 -87.654440              33    -1  \n",
       "195113             Fail  41.807551 -87.740097               9    -1  \n",
       "195114             Pass  41.883237 -87.632556              30    -1  \n",
       "195115             Pass  41.967826 -87.767625              -1    -1  \n",
       "\n",
       "[194684 rows x 9 columns]"
      ]
     },
     "execution_count": 25,
     "metadata": {},
     "output_type": "execute_result"
    }
   ],
   "source": [
    "food_inspections_df"
   ]
  },
  {
   "cell_type": "code",
   "execution_count": null,
   "metadata": {},
   "outputs": [],
   "source": []
  }
 ],
 "metadata": {
  "kernelspec": {
   "display_name": "Python 3",
   "language": "python",
   "name": "python3"
  },
  "language_info": {
   "codemirror_mode": {
    "name": "ipython",
    "version": 3
   },
   "file_extension": ".py",
   "mimetype": "text/x-python",
   "name": "python",
   "nbconvert_exporter": "python",
   "pygments_lexer": "ipython3",
   "version": "3.7.4"
  }
 },
 "nbformat": 4,
 "nbformat_minor": 2
}
