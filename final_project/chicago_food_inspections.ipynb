{
 "cells": [
  {
   "cell_type": "markdown",
   "metadata": {},
   "source": [
    "# Stuff here\n",
    "\n",
    "- Data Source: https://healthdata.gov/dataset/food-inspections\n",
    "- License: http://opendefinition.org/licenses/odc-odbl/"
   ]
  },
  {
   "cell_type": "code",
   "execution_count": null,
   "metadata": {},
   "outputs": [],
   "source": []
  },
  {
   "cell_type": "markdown",
   "metadata": {},
   "source": [
    "Things to try:\n",
    "    \n",
    "- Partial dependence plots\n",
    "- Anova\n",
    "- Log Reg\n",
    "- RF\n",
    "- XGB\n",
    "- DL\n",
    "- KNN\n",
    "- KMeans\n",
    "- Hierarchical Agglomerative Clustering\n",
    "- SHAP\n",
    "- Boruta\n",
    "- Join with socioeconimc data before or after\n",
    "\n",
    "**COULD** try KMeans on risk scores to see if data points actually cluster according to these 3 risk groupings"
   ]
  },
  {
   "cell_type": "code",
   "execution_count": null,
   "metadata": {},
   "outputs": [],
   "source": []
  },
  {
   "cell_type": "markdown",
   "metadata": {},
   "source": [
    "### Set Seed"
   ]
  },
  {
   "cell_type": "code",
   "execution_count": 1,
   "metadata": {},
   "outputs": [],
   "source": [
    "SEED = 666"
   ]
  },
  {
   "cell_type": "markdown",
   "metadata": {},
   "source": [
    "### Imports"
   ]
  },
  {
   "cell_type": "code",
   "execution_count": 2,
   "metadata": {},
   "outputs": [],
   "source": [
    "import numpy as np\n",
    "import pandas as pd\n",
    "import matplotlib.pyplot as plt\n",
    "import seaborn as sns\n",
    "\n",
    "from sklearn.model_selection import train_test_split\n",
    "from sklearn.model_selection import GridSearchCV, StratifiedKFold\n",
    "from sklearn.linear_model import LogisticRegression\n",
    "from sklearn.pipeline import Pipeline\n",
    "from sklearn.preprocessing import MinMaxScaler\n",
    "from sklearn.compose import ColumnTransformer\n",
    "from sklearn.metrics import average_precision_score, precision_recall_curve, roc_curve, auc\n",
    "\n",
    "from sklearn.cluster import KMeans\n",
    "from sklearn.decomposition import PCA\n",
    "\n",
    "from collections import Counter\n",
    "from mpl_toolkits.mplot3d import Axes3D\n",
    "from pylab import figure"
   ]
  },
  {
   "cell_type": "markdown",
   "metadata": {},
   "source": [
    "### Read Chicago Food Inspections Data\n",
    "Count records and columns."
   ]
  },
  {
   "cell_type": "code",
   "execution_count": 3,
   "metadata": {},
   "outputs": [],
   "source": [
    "food_inspections_df = pd.read_csv('data/Food_Inspections.gz', compression='gzip')"
   ]
  },
  {
   "cell_type": "code",
   "execution_count": 4,
   "metadata": {},
   "outputs": [
    {
     "data": {
      "text/plain": [
       "(195116, 17)"
      ]
     },
     "execution_count": 4,
     "metadata": {},
     "output_type": "execute_result"
    }
   ],
   "source": [
    "food_inspections_df.shape"
   ]
  },
  {
   "cell_type": "markdown",
   "metadata": {},
   "source": [
    "### Rename Columns"
   ]
  },
  {
   "cell_type": "code",
   "execution_count": 5,
   "metadata": {},
   "outputs": [
    {
     "data": {
      "text/plain": [
       "['Inspection ID',\n",
       " 'DBA Name',\n",
       " 'AKA Name',\n",
       " 'License #',\n",
       " 'Facility Type',\n",
       " 'Risk',\n",
       " 'Address',\n",
       " 'City',\n",
       " 'State',\n",
       " 'Zip',\n",
       " 'Inspection Date',\n",
       " 'Inspection Type',\n",
       " 'Results',\n",
       " 'Violations',\n",
       " 'Latitude',\n",
       " 'Longitude',\n",
       " 'Location']"
      ]
     },
     "execution_count": 5,
     "metadata": {},
     "output_type": "execute_result"
    }
   ],
   "source": [
    "food_inspections_df.columns.tolist()"
   ]
  },
  {
   "cell_type": "code",
   "execution_count": 6,
   "metadata": {},
   "outputs": [],
   "source": [
    "columns = ['inspection_id', 'dba_name', 'aka_name', 'license_number', 'facility_type',\n",
    "           'risk', 'address', 'city', 'state', 'zip', 'inspection_date', 'inspection_type',\n",
    "           'result', 'violation', 'latitude', 'longitude', 'location']"
   ]
  },
  {
   "cell_type": "code",
   "execution_count": 7,
   "metadata": {},
   "outputs": [],
   "source": [
    "food_inspections_df.columns = columns"
   ]
  },
  {
   "cell_type": "markdown",
   "metadata": {},
   "source": [
    "### Normalize Casing of Chicago\n",
    "Accept only proper spellings of the word Chicago with mixed casing accepted"
   ]
  },
  {
   "cell_type": "code",
   "execution_count": 8,
   "metadata": {},
   "outputs": [],
   "source": [
    "food_inspections_df['city'] = food_inspections_df['city'].apply(lambda x: 'CHICAGO'\n",
    "                                                                if str(x).upper() == 'CHICAGO'\n",
    "                                                                else x)"
   ]
  },
  {
   "cell_type": "markdown",
   "metadata": {},
   "source": [
    "### Filter for Facilities in Chicago Illinois"
   ]
  },
  {
   "cell_type": "code",
   "execution_count": 9,
   "metadata": {},
   "outputs": [],
   "source": [
    "loc_condition = (food_inspections_df['city'] == 'CHICAGO') & (food_inspections_df['state'] == 'IL')"
   ]
  },
  {
   "cell_type": "markdown",
   "metadata": {},
   "source": [
    "### Drop Redundant Information\n",
    "- Only Chicago is considered\n",
    "- Only Illinois is considered\n",
    "- Location is encoded as separate latitute and longitude columns"
   ]
  },
  {
   "cell_type": "code",
   "execution_count": 10,
   "metadata": {},
   "outputs": [],
   "source": [
    "food_inspections_df = food_inspections_df[loc_condition].drop(['city', 'state', 'location'], 1)"
   ]
  },
  {
   "cell_type": "code",
   "execution_count": 11,
   "metadata": {},
   "outputs": [
    {
     "data": {
      "text/plain": [
       "(194684, 14)"
      ]
     },
     "execution_count": 11,
     "metadata": {},
     "output_type": "execute_result"
    }
   ],
   "source": [
    "food_inspections_df.shape"
   ]
  },
  {
   "cell_type": "markdown",
   "metadata": {},
   "source": [
    "### Create Codes Corresponding to Each Violation Type by Parsing Violation Text"
   ]
  },
  {
   "cell_type": "code",
   "execution_count": 12,
   "metadata": {},
   "outputs": [],
   "source": [
    "def create_violation_code(violation_text):\n",
    "    \n",
    "    if violation_text != violation_text:\n",
    "        return -1\n",
    "    else:\n",
    "        return int(violation_text.split('.')[0])"
   ]
  },
  {
   "cell_type": "code",
   "execution_count": 13,
   "metadata": {},
   "outputs": [],
   "source": [
    "food_inspections_df['violation_code'] = food_inspections_df['violation'].apply(create_violation_code)"
   ]
  },
  {
   "cell_type": "markdown",
   "metadata": {},
   "source": [
    "### Create Attribute Dataframes with the Unique Inspection ID for Lookups Following Quantitative Analysis\n",
    "- Names\n",
    "- Licenses\n",
    "- Locations\n",
    "- Violations\n",
    "- Dates"
   ]
  },
  {
   "cell_type": "code",
   "execution_count": 14,
   "metadata": {},
   "outputs": [],
   "source": [
    "names = ['inspection_id', 'dba_name', 'aka_name']\n",
    "names_df = food_inspections_df[names]"
   ]
  },
  {
   "cell_type": "code",
   "execution_count": 15,
   "metadata": {},
   "outputs": [],
   "source": [
    "licenses = ['inspection_id', 'license_number']\n",
    "licenses_df = food_inspections_df[licenses]"
   ]
  },
  {
   "cell_type": "code",
   "execution_count": 16,
   "metadata": {},
   "outputs": [],
   "source": [
    "locations = ['inspection_id', 'address', 'latitude', 'longitude']\n",
    "locations_df = food_inspections_df[locations]"
   ]
  },
  {
   "cell_type": "code",
   "execution_count": 17,
   "metadata": {},
   "outputs": [],
   "source": [
    "violations = ['inspection_id', 'violation', 'violation_code']\n",
    "violations_df = food_inspections_df[violations]"
   ]
  },
  {
   "cell_type": "code",
   "execution_count": 18,
   "metadata": {},
   "outputs": [],
   "source": [
    "dates = ['inspection_id', 'inspection_date']\n",
    "dates_df = food_inspections_df[dates]"
   ]
  },
  {
   "cell_type": "markdown",
   "metadata": {},
   "source": [
    "### Drop Features Not Used in Statistical Analysis\n",
    "Features such as:\n",
    "\n",
    "- `DBA Name`\n",
    "- `AKA Name`\n",
    "- `License #`\n",
    "- `Address`\n",
    "- `Violations`\n",
    "- `Inspection Date`\n",
    "\n",
    "May be examined following statistical analysis by joining on `Inspection ID`.  **Note:** future iterations of this work may wish to consider:\n",
    "\n",
    "- Text from the the facility name\n",
    "- Street level information from the facility address\n",
    "- Prior inspections of the same facility by performing a temporal analysis of the data using `Inspection Date`"
   ]
  },
  {
   "cell_type": "code",
   "execution_count": 19,
   "metadata": {},
   "outputs": [],
   "source": [
    "not_considered = ['dba_name', 'aka_name', 'license_number', 'address', 'violation', 'inspection_date']\n",
    "food_inspections_df = food_inspections_df.drop(not_considered, 1)"
   ]
  },
  {
   "cell_type": "markdown",
   "metadata": {},
   "source": [
    "### Create Dataframes of Count and Prevalence for Categorical Features\n",
    "- Facility types\n",
    "- Violation codes\n",
    "- Zip codes\n",
    "- Inspection types"
   ]
  },
  {
   "cell_type": "code",
   "execution_count": 20,
   "metadata": {},
   "outputs": [],
   "source": [
    "facilities = food_inspections_df['facility_type'].value_counts()\n",
    "facilities_df = pd.DataFrame({'facility_type':facilities.index, 'count':facilities.values})\n",
    "facilities_df['prevalence'] = facilities_df['count'] / food_inspections_df.shape[0]"
   ]
  },
  {
   "cell_type": "code",
   "execution_count": 21,
   "metadata": {},
   "outputs": [
    {
     "data": {
      "text/html": [
       "<div>\n",
       "<style scoped>\n",
       "    .dataframe tbody tr th:only-of-type {\n",
       "        vertical-align: middle;\n",
       "    }\n",
       "\n",
       "    .dataframe tbody tr th {\n",
       "        vertical-align: top;\n",
       "    }\n",
       "\n",
       "    .dataframe thead th {\n",
       "        text-align: right;\n",
       "    }\n",
       "</style>\n",
       "<table border=\"1\" class=\"dataframe\">\n",
       "  <thead>\n",
       "    <tr style=\"text-align: right;\">\n",
       "      <th></th>\n",
       "      <th>facility_type</th>\n",
       "      <th>count</th>\n",
       "      <th>prevalence</th>\n",
       "    </tr>\n",
       "  </thead>\n",
       "  <tbody>\n",
       "    <tr>\n",
       "      <td>0</td>\n",
       "      <td>Restaurant</td>\n",
       "      <td>129938</td>\n",
       "      <td>0.667430</td>\n",
       "    </tr>\n",
       "    <tr>\n",
       "      <td>1</td>\n",
       "      <td>Grocery Store</td>\n",
       "      <td>24829</td>\n",
       "      <td>0.127535</td>\n",
       "    </tr>\n",
       "    <tr>\n",
       "      <td>2</td>\n",
       "      <td>School</td>\n",
       "      <td>12062</td>\n",
       "      <td>0.061957</td>\n",
       "    </tr>\n",
       "    <tr>\n",
       "      <td>3</td>\n",
       "      <td>Children's Services Facility</td>\n",
       "      <td>3031</td>\n",
       "      <td>0.015569</td>\n",
       "    </tr>\n",
       "    <tr>\n",
       "      <td>4</td>\n",
       "      <td>Bakery</td>\n",
       "      <td>2837</td>\n",
       "      <td>0.014572</td>\n",
       "    </tr>\n",
       "    <tr>\n",
       "      <td>5</td>\n",
       "      <td>Daycare (2 - 6 Years)</td>\n",
       "      <td>2682</td>\n",
       "      <td>0.013776</td>\n",
       "    </tr>\n",
       "    <tr>\n",
       "      <td>6</td>\n",
       "      <td>Daycare Above and Under 2 Years</td>\n",
       "      <td>2355</td>\n",
       "      <td>0.012097</td>\n",
       "    </tr>\n",
       "    <tr>\n",
       "      <td>7</td>\n",
       "      <td>Long Term Care</td>\n",
       "      <td>1340</td>\n",
       "      <td>0.006883</td>\n",
       "    </tr>\n",
       "    <tr>\n",
       "      <td>8</td>\n",
       "      <td>Catering</td>\n",
       "      <td>1190</td>\n",
       "      <td>0.006112</td>\n",
       "    </tr>\n",
       "    <tr>\n",
       "      <td>9</td>\n",
       "      <td>Liquor</td>\n",
       "      <td>847</td>\n",
       "      <td>0.004351</td>\n",
       "    </tr>\n",
       "  </tbody>\n",
       "</table>\n",
       "</div>"
      ],
      "text/plain": [
       "                     facility_type   count  prevalence\n",
       "0                       Restaurant  129938    0.667430\n",
       "1                    Grocery Store   24829    0.127535\n",
       "2                           School   12062    0.061957\n",
       "3     Children's Services Facility    3031    0.015569\n",
       "4                           Bakery    2837    0.014572\n",
       "5            Daycare (2 - 6 Years)    2682    0.013776\n",
       "6  Daycare Above and Under 2 Years    2355    0.012097\n",
       "7                   Long Term Care    1340    0.006883\n",
       "8                         Catering    1190    0.006112\n",
       "9                           Liquor     847    0.004351"
      ]
     },
     "execution_count": 21,
     "metadata": {},
     "output_type": "execute_result"
    }
   ],
   "source": [
    "facilities_df.nlargest(10, 'count')"
   ]
  },
  {
   "cell_type": "code",
   "execution_count": 22,
   "metadata": {},
   "outputs": [
    {
     "data": {
      "text/html": [
       "<div>\n",
       "<style scoped>\n",
       "    .dataframe tbody tr th:only-of-type {\n",
       "        vertical-align: middle;\n",
       "    }\n",
       "\n",
       "    .dataframe tbody tr th {\n",
       "        vertical-align: top;\n",
       "    }\n",
       "\n",
       "    .dataframe thead th {\n",
       "        text-align: right;\n",
       "    }\n",
       "</style>\n",
       "<table border=\"1\" class=\"dataframe\">\n",
       "  <thead>\n",
       "    <tr style=\"text-align: right;\">\n",
       "      <th></th>\n",
       "      <th>facility_type</th>\n",
       "      <th>count</th>\n",
       "      <th>prevalence</th>\n",
       "    </tr>\n",
       "  </thead>\n",
       "  <tbody>\n",
       "    <tr>\n",
       "      <td>401</td>\n",
       "      <td>HERBALIFE STORE</td>\n",
       "      <td>1</td>\n",
       "      <td>0.000005</td>\n",
       "    </tr>\n",
       "    <tr>\n",
       "      <td>402</td>\n",
       "      <td>GROCERY/LIQUOR</td>\n",
       "      <td>1</td>\n",
       "      <td>0.000005</td>\n",
       "    </tr>\n",
       "    <tr>\n",
       "      <td>403</td>\n",
       "      <td>drug treatment facility</td>\n",
       "      <td>1</td>\n",
       "      <td>0.000005</td>\n",
       "    </tr>\n",
       "    <tr>\n",
       "      <td>404</td>\n",
       "      <td>BOOK STORE</td>\n",
       "      <td>1</td>\n",
       "      <td>0.000005</td>\n",
       "    </tr>\n",
       "    <tr>\n",
       "      <td>405</td>\n",
       "      <td>CAT/LIQUOR</td>\n",
       "      <td>1</td>\n",
       "      <td>0.000005</td>\n",
       "    </tr>\n",
       "    <tr>\n",
       "      <td>406</td>\n",
       "      <td>PREPACAKAGED FOODS</td>\n",
       "      <td>1</td>\n",
       "      <td>0.000005</td>\n",
       "    </tr>\n",
       "    <tr>\n",
       "      <td>407</td>\n",
       "      <td>NON-FOR PROFIT BASEMENT KIT</td>\n",
       "      <td>1</td>\n",
       "      <td>0.000005</td>\n",
       "    </tr>\n",
       "    <tr>\n",
       "      <td>408</td>\n",
       "      <td>FARMER'S MARKET</td>\n",
       "      <td>1</td>\n",
       "      <td>0.000005</td>\n",
       "    </tr>\n",
       "    <tr>\n",
       "      <td>409</td>\n",
       "      <td>GAS STATION/GROCERY</td>\n",
       "      <td>1</td>\n",
       "      <td>0.000005</td>\n",
       "    </tr>\n",
       "    <tr>\n",
       "      <td>410</td>\n",
       "      <td>NAIL SHOP</td>\n",
       "      <td>1</td>\n",
       "      <td>0.000005</td>\n",
       "    </tr>\n",
       "  </tbody>\n",
       "</table>\n",
       "</div>"
      ],
      "text/plain": [
       "                   facility_type  count  prevalence\n",
       "401              HERBALIFE STORE      1    0.000005\n",
       "402               GROCERY/LIQUOR      1    0.000005\n",
       "403      drug treatment facility      1    0.000005\n",
       "404                   BOOK STORE      1    0.000005\n",
       "405                   CAT/LIQUOR      1    0.000005\n",
       "406           PREPACAKAGED FOODS      1    0.000005\n",
       "407  NON-FOR PROFIT BASEMENT KIT      1    0.000005\n",
       "408              FARMER'S MARKET      1    0.000005\n",
       "409          GAS STATION/GROCERY      1    0.000005\n",
       "410                    NAIL SHOP      1    0.000005"
      ]
     },
     "execution_count": 22,
     "metadata": {},
     "output_type": "execute_result"
    }
   ],
   "source": [
    "facilities_df.nsmallest(10, 'count')"
   ]
  },
  {
   "cell_type": "code",
   "execution_count": 23,
   "metadata": {},
   "outputs": [],
   "source": [
    "violations = food_inspections_df['violation_code'].value_counts()\n",
    "violations_df = pd.DataFrame({'violation_code':violations.index, 'count':violations.values})\n",
    "violations_df['prevalence'] = violations_df['count'] / food_inspections_df.shape[0]"
   ]
  },
  {
   "cell_type": "code",
   "execution_count": 24,
   "metadata": {},
   "outputs": [
    {
     "data": {
      "text/html": [
       "<div>\n",
       "<style scoped>\n",
       "    .dataframe tbody tr th:only-of-type {\n",
       "        vertical-align: middle;\n",
       "    }\n",
       "\n",
       "    .dataframe tbody tr th {\n",
       "        vertical-align: top;\n",
       "    }\n",
       "\n",
       "    .dataframe thead th {\n",
       "        text-align: right;\n",
       "    }\n",
       "</style>\n",
       "<table border=\"1\" class=\"dataframe\">\n",
       "  <thead>\n",
       "    <tr style=\"text-align: right;\">\n",
       "      <th></th>\n",
       "      <th>violation_code</th>\n",
       "      <th>count</th>\n",
       "      <th>prevalence</th>\n",
       "    </tr>\n",
       "  </thead>\n",
       "  <tbody>\n",
       "    <tr>\n",
       "      <td>0</td>\n",
       "      <td>-1</td>\n",
       "      <td>51543</td>\n",
       "      <td>0.264752</td>\n",
       "    </tr>\n",
       "    <tr>\n",
       "      <td>1</td>\n",
       "      <td>32</td>\n",
       "      <td>25408</td>\n",
       "      <td>0.130509</td>\n",
       "    </tr>\n",
       "    <tr>\n",
       "      <td>2</td>\n",
       "      <td>33</td>\n",
       "      <td>17449</td>\n",
       "      <td>0.089627</td>\n",
       "    </tr>\n",
       "    <tr>\n",
       "      <td>3</td>\n",
       "      <td>3</td>\n",
       "      <td>13609</td>\n",
       "      <td>0.069903</td>\n",
       "    </tr>\n",
       "    <tr>\n",
       "      <td>4</td>\n",
       "      <td>34</td>\n",
       "      <td>10576</td>\n",
       "      <td>0.054324</td>\n",
       "    </tr>\n",
       "    <tr>\n",
       "      <td>5</td>\n",
       "      <td>18</td>\n",
       "      <td>9989</td>\n",
       "      <td>0.051309</td>\n",
       "    </tr>\n",
       "    <tr>\n",
       "      <td>6</td>\n",
       "      <td>30</td>\n",
       "      <td>9441</td>\n",
       "      <td>0.048494</td>\n",
       "    </tr>\n",
       "    <tr>\n",
       "      <td>7</td>\n",
       "      <td>2</td>\n",
       "      <td>7166</td>\n",
       "      <td>0.036808</td>\n",
       "    </tr>\n",
       "    <tr>\n",
       "      <td>8</td>\n",
       "      <td>35</td>\n",
       "      <td>5631</td>\n",
       "      <td>0.028924</td>\n",
       "    </tr>\n",
       "    <tr>\n",
       "      <td>9</td>\n",
       "      <td>21</td>\n",
       "      <td>4582</td>\n",
       "      <td>0.023536</td>\n",
       "    </tr>\n",
       "  </tbody>\n",
       "</table>\n",
       "</div>"
      ],
      "text/plain": [
       "   violation_code  count  prevalence\n",
       "0              -1  51543    0.264752\n",
       "1              32  25408    0.130509\n",
       "2              33  17449    0.089627\n",
       "3               3  13609    0.069903\n",
       "4              34  10576    0.054324\n",
       "5              18   9989    0.051309\n",
       "6              30   9441    0.048494\n",
       "7               2   7166    0.036808\n",
       "8              35   5631    0.028924\n",
       "9              21   4582    0.023536"
      ]
     },
     "execution_count": 24,
     "metadata": {},
     "output_type": "execute_result"
    }
   ],
   "source": [
    "violations_df.nlargest(10, 'count')"
   ]
  },
  {
   "cell_type": "code",
   "execution_count": 25,
   "metadata": {},
   "outputs": [
    {
     "data": {
      "text/html": [
       "<div>\n",
       "<style scoped>\n",
       "    .dataframe tbody tr th:only-of-type {\n",
       "        vertical-align: middle;\n",
       "    }\n",
       "\n",
       "    .dataframe tbody tr th {\n",
       "        vertical-align: top;\n",
       "    }\n",
       "\n",
       "    .dataframe thead th {\n",
       "        text-align: right;\n",
       "    }\n",
       "</style>\n",
       "<table border=\"1\" class=\"dataframe\">\n",
       "  <thead>\n",
       "    <tr style=\"text-align: right;\">\n",
       "      <th></th>\n",
       "      <th>violation_code</th>\n",
       "      <th>count</th>\n",
       "      <th>prevalence</th>\n",
       "    </tr>\n",
       "  </thead>\n",
       "  <tbody>\n",
       "    <tr>\n",
       "      <td>61</td>\n",
       "      <td>61</td>\n",
       "      <td>1</td>\n",
       "      <td>0.000005</td>\n",
       "    </tr>\n",
       "    <tr>\n",
       "      <td>62</td>\n",
       "      <td>63</td>\n",
       "      <td>1</td>\n",
       "      <td>0.000005</td>\n",
       "    </tr>\n",
       "    <tr>\n",
       "      <td>60</td>\n",
       "      <td>70</td>\n",
       "      <td>6</td>\n",
       "      <td>0.000031</td>\n",
       "    </tr>\n",
       "    <tr>\n",
       "      <td>58</td>\n",
       "      <td>15</td>\n",
       "      <td>11</td>\n",
       "      <td>0.000057</td>\n",
       "    </tr>\n",
       "    <tr>\n",
       "      <td>59</td>\n",
       "      <td>60</td>\n",
       "      <td>11</td>\n",
       "      <td>0.000057</td>\n",
       "    </tr>\n",
       "    <tr>\n",
       "      <td>57</td>\n",
       "      <td>59</td>\n",
       "      <td>13</td>\n",
       "      <td>0.000067</td>\n",
       "    </tr>\n",
       "    <tr>\n",
       "      <td>56</td>\n",
       "      <td>50</td>\n",
       "      <td>17</td>\n",
       "      <td>0.000087</td>\n",
       "    </tr>\n",
       "    <tr>\n",
       "      <td>55</td>\n",
       "      <td>20</td>\n",
       "      <td>18</td>\n",
       "      <td>0.000092</td>\n",
       "    </tr>\n",
       "    <tr>\n",
       "      <td>54</td>\n",
       "      <td>52</td>\n",
       "      <td>19</td>\n",
       "      <td>0.000098</td>\n",
       "    </tr>\n",
       "    <tr>\n",
       "      <td>53</td>\n",
       "      <td>54</td>\n",
       "      <td>25</td>\n",
       "      <td>0.000128</td>\n",
       "    </tr>\n",
       "  </tbody>\n",
       "</table>\n",
       "</div>"
      ],
      "text/plain": [
       "    violation_code  count  prevalence\n",
       "61              61      1    0.000005\n",
       "62              63      1    0.000005\n",
       "60              70      6    0.000031\n",
       "58              15     11    0.000057\n",
       "59              60     11    0.000057\n",
       "57              59     13    0.000067\n",
       "56              50     17    0.000087\n",
       "55              20     18    0.000092\n",
       "54              52     19    0.000098\n",
       "53              54     25    0.000128"
      ]
     },
     "execution_count": 25,
     "metadata": {},
     "output_type": "execute_result"
    }
   ],
   "source": [
    "violations_df.nsmallest(10, 'count')"
   ]
  },
  {
   "cell_type": "code",
   "execution_count": 26,
   "metadata": {},
   "outputs": [],
   "source": [
    "zips = food_inspections_df['zip'].value_counts()\n",
    "zips_df = pd.DataFrame({'zip':zips.index, 'count':zips.values})\n",
    "zips_df['prevalence'] = zips_df['count'] / food_inspections_df.shape[0]"
   ]
  },
  {
   "cell_type": "code",
   "execution_count": 27,
   "metadata": {},
   "outputs": [
    {
     "data": {
      "text/html": [
       "<div>\n",
       "<style scoped>\n",
       "    .dataframe tbody tr th:only-of-type {\n",
       "        vertical-align: middle;\n",
       "    }\n",
       "\n",
       "    .dataframe tbody tr th {\n",
       "        vertical-align: top;\n",
       "    }\n",
       "\n",
       "    .dataframe thead th {\n",
       "        text-align: right;\n",
       "    }\n",
       "</style>\n",
       "<table border=\"1\" class=\"dataframe\">\n",
       "  <thead>\n",
       "    <tr style=\"text-align: right;\">\n",
       "      <th></th>\n",
       "      <th>zip</th>\n",
       "      <th>count</th>\n",
       "      <th>prevalence</th>\n",
       "    </tr>\n",
       "  </thead>\n",
       "  <tbody>\n",
       "    <tr>\n",
       "      <td>0</td>\n",
       "      <td>60614.0</td>\n",
       "      <td>7284</td>\n",
       "      <td>0.037414</td>\n",
       "    </tr>\n",
       "    <tr>\n",
       "      <td>1</td>\n",
       "      <td>60647.0</td>\n",
       "      <td>7088</td>\n",
       "      <td>0.036408</td>\n",
       "    </tr>\n",
       "    <tr>\n",
       "      <td>2</td>\n",
       "      <td>60657.0</td>\n",
       "      <td>6824</td>\n",
       "      <td>0.035052</td>\n",
       "    </tr>\n",
       "    <tr>\n",
       "      <td>3</td>\n",
       "      <td>60622.0</td>\n",
       "      <td>6108</td>\n",
       "      <td>0.031374</td>\n",
       "    </tr>\n",
       "    <tr>\n",
       "      <td>4</td>\n",
       "      <td>60611.0</td>\n",
       "      <td>6094</td>\n",
       "      <td>0.031302</td>\n",
       "    </tr>\n",
       "    <tr>\n",
       "      <td>5</td>\n",
       "      <td>60608.0</td>\n",
       "      <td>5925</td>\n",
       "      <td>0.030434</td>\n",
       "    </tr>\n",
       "    <tr>\n",
       "      <td>6</td>\n",
       "      <td>60618.0</td>\n",
       "      <td>5923</td>\n",
       "      <td>0.030424</td>\n",
       "    </tr>\n",
       "    <tr>\n",
       "      <td>7</td>\n",
       "      <td>60625.0</td>\n",
       "      <td>5387</td>\n",
       "      <td>0.027670</td>\n",
       "    </tr>\n",
       "    <tr>\n",
       "      <td>8</td>\n",
       "      <td>60639.0</td>\n",
       "      <td>5208</td>\n",
       "      <td>0.026751</td>\n",
       "    </tr>\n",
       "    <tr>\n",
       "      <td>9</td>\n",
       "      <td>60607.0</td>\n",
       "      <td>5145</td>\n",
       "      <td>0.026427</td>\n",
       "    </tr>\n",
       "  </tbody>\n",
       "</table>\n",
       "</div>"
      ],
      "text/plain": [
       "       zip  count  prevalence\n",
       "0  60614.0   7284    0.037414\n",
       "1  60647.0   7088    0.036408\n",
       "2  60657.0   6824    0.035052\n",
       "3  60622.0   6108    0.031374\n",
       "4  60611.0   6094    0.031302\n",
       "5  60608.0   5925    0.030434\n",
       "6  60618.0   5923    0.030424\n",
       "7  60625.0   5387    0.027670\n",
       "8  60639.0   5208    0.026751\n",
       "9  60607.0   5145    0.026427"
      ]
     },
     "execution_count": 27,
     "metadata": {},
     "output_type": "execute_result"
    }
   ],
   "source": [
    "zips_df.nlargest(10, 'count')"
   ]
  },
  {
   "cell_type": "code",
   "execution_count": 28,
   "metadata": {},
   "outputs": [
    {
     "data": {
      "text/html": [
       "<div>\n",
       "<style scoped>\n",
       "    .dataframe tbody tr th:only-of-type {\n",
       "        vertical-align: middle;\n",
       "    }\n",
       "\n",
       "    .dataframe tbody tr th {\n",
       "        vertical-align: top;\n",
       "    }\n",
       "\n",
       "    .dataframe thead th {\n",
       "        text-align: right;\n",
       "    }\n",
       "</style>\n",
       "<table border=\"1\" class=\"dataframe\">\n",
       "  <thead>\n",
       "    <tr style=\"text-align: right;\">\n",
       "      <th></th>\n",
       "      <th>zip</th>\n",
       "      <th>count</th>\n",
       "      <th>prevalence</th>\n",
       "    </tr>\n",
       "  </thead>\n",
       "  <tbody>\n",
       "    <tr>\n",
       "      <td>59</td>\n",
       "      <td>60627.0</td>\n",
       "      <td>2</td>\n",
       "      <td>0.000010</td>\n",
       "    </tr>\n",
       "    <tr>\n",
       "      <td>60</td>\n",
       "      <td>60805.0</td>\n",
       "      <td>2</td>\n",
       "      <td>0.000010</td>\n",
       "    </tr>\n",
       "    <tr>\n",
       "      <td>58</td>\n",
       "      <td>60827.0</td>\n",
       "      <td>134</td>\n",
       "      <td>0.000688</td>\n",
       "    </tr>\n",
       "    <tr>\n",
       "      <td>57</td>\n",
       "      <td>60633.0</td>\n",
       "      <td>341</td>\n",
       "      <td>0.001752</td>\n",
       "    </tr>\n",
       "    <tr>\n",
       "      <td>56</td>\n",
       "      <td>60656.0</td>\n",
       "      <td>814</td>\n",
       "      <td>0.004181</td>\n",
       "    </tr>\n",
       "    <tr>\n",
       "      <td>55</td>\n",
       "      <td>60655.0</td>\n",
       "      <td>816</td>\n",
       "      <td>0.004191</td>\n",
       "    </tr>\n",
       "    <tr>\n",
       "      <td>54</td>\n",
       "      <td>60707.0</td>\n",
       "      <td>1125</td>\n",
       "      <td>0.005779</td>\n",
       "    </tr>\n",
       "    <tr>\n",
       "      <td>53</td>\n",
       "      <td>60604.0</td>\n",
       "      <td>1290</td>\n",
       "      <td>0.006626</td>\n",
       "    </tr>\n",
       "    <tr>\n",
       "      <td>52</td>\n",
       "      <td>60602.0</td>\n",
       "      <td>1409</td>\n",
       "      <td>0.007237</td>\n",
       "    </tr>\n",
       "    <tr>\n",
       "      <td>51</td>\n",
       "      <td>60646.0</td>\n",
       "      <td>1411</td>\n",
       "      <td>0.007248</td>\n",
       "    </tr>\n",
       "  </tbody>\n",
       "</table>\n",
       "</div>"
      ],
      "text/plain": [
       "        zip  count  prevalence\n",
       "59  60627.0      2    0.000010\n",
       "60  60805.0      2    0.000010\n",
       "58  60827.0    134    0.000688\n",
       "57  60633.0    341    0.001752\n",
       "56  60656.0    814    0.004181\n",
       "55  60655.0    816    0.004191\n",
       "54  60707.0   1125    0.005779\n",
       "53  60604.0   1290    0.006626\n",
       "52  60602.0   1409    0.007237\n",
       "51  60646.0   1411    0.007248"
      ]
     },
     "execution_count": 28,
     "metadata": {},
     "output_type": "execute_result"
    }
   ],
   "source": [
    "zips_df.nsmallest(10, 'count')"
   ]
  },
  {
   "cell_type": "code",
   "execution_count": 29,
   "metadata": {},
   "outputs": [],
   "source": [
    "inspections = food_inspections_df['inspection_type'].value_counts()\n",
    "inspections_df = pd.DataFrame({'inspection_type':inspections.index, 'count':inspections.values})\n",
    "inspections_df['prevalence'] = inspections_df['count'] / food_inspections_df.shape[0]"
   ]
  },
  {
   "cell_type": "code",
   "execution_count": 30,
   "metadata": {},
   "outputs": [
    {
     "data": {
      "text/html": [
       "<div>\n",
       "<style scoped>\n",
       "    .dataframe tbody tr th:only-of-type {\n",
       "        vertical-align: middle;\n",
       "    }\n",
       "\n",
       "    .dataframe tbody tr th {\n",
       "        vertical-align: top;\n",
       "    }\n",
       "\n",
       "    .dataframe thead th {\n",
       "        text-align: right;\n",
       "    }\n",
       "</style>\n",
       "<table border=\"1\" class=\"dataframe\">\n",
       "  <thead>\n",
       "    <tr style=\"text-align: right;\">\n",
       "      <th></th>\n",
       "      <th>inspection_type</th>\n",
       "      <th>count</th>\n",
       "      <th>prevalence</th>\n",
       "    </tr>\n",
       "  </thead>\n",
       "  <tbody>\n",
       "    <tr>\n",
       "      <td>0</td>\n",
       "      <td>Canvass</td>\n",
       "      <td>102944</td>\n",
       "      <td>0.528775</td>\n",
       "    </tr>\n",
       "    <tr>\n",
       "      <td>1</td>\n",
       "      <td>License</td>\n",
       "      <td>25614</td>\n",
       "      <td>0.131567</td>\n",
       "    </tr>\n",
       "    <tr>\n",
       "      <td>2</td>\n",
       "      <td>Canvass Re-Inspection</td>\n",
       "      <td>20457</td>\n",
       "      <td>0.105078</td>\n",
       "    </tr>\n",
       "    <tr>\n",
       "      <td>3</td>\n",
       "      <td>Complaint</td>\n",
       "      <td>18093</td>\n",
       "      <td>0.092935</td>\n",
       "    </tr>\n",
       "    <tr>\n",
       "      <td>4</td>\n",
       "      <td>License Re-Inspection</td>\n",
       "      <td>8899</td>\n",
       "      <td>0.045710</td>\n",
       "    </tr>\n",
       "    <tr>\n",
       "      <td>5</td>\n",
       "      <td>Complaint Re-Inspection</td>\n",
       "      <td>7499</td>\n",
       "      <td>0.038519</td>\n",
       "    </tr>\n",
       "    <tr>\n",
       "      <td>6</td>\n",
       "      <td>Short Form Complaint</td>\n",
       "      <td>6717</td>\n",
       "      <td>0.034502</td>\n",
       "    </tr>\n",
       "    <tr>\n",
       "      <td>7</td>\n",
       "      <td>Suspected Food Poisoning</td>\n",
       "      <td>850</td>\n",
       "      <td>0.004366</td>\n",
       "    </tr>\n",
       "    <tr>\n",
       "      <td>8</td>\n",
       "      <td>Consultation</td>\n",
       "      <td>669</td>\n",
       "      <td>0.003436</td>\n",
       "    </tr>\n",
       "    <tr>\n",
       "      <td>9</td>\n",
       "      <td>License-Task Force</td>\n",
       "      <td>604</td>\n",
       "      <td>0.003102</td>\n",
       "    </tr>\n",
       "  </tbody>\n",
       "</table>\n",
       "</div>"
      ],
      "text/plain": [
       "            inspection_type   count  prevalence\n",
       "0                   Canvass  102944    0.528775\n",
       "1                   License   25614    0.131567\n",
       "2     Canvass Re-Inspection   20457    0.105078\n",
       "3                 Complaint   18093    0.092935\n",
       "4     License Re-Inspection    8899    0.045710\n",
       "5   Complaint Re-Inspection    7499    0.038519\n",
       "6      Short Form Complaint    6717    0.034502\n",
       "7  Suspected Food Poisoning     850    0.004366\n",
       "8              Consultation     669    0.003436\n",
       "9        License-Task Force     604    0.003102"
      ]
     },
     "execution_count": 30,
     "metadata": {},
     "output_type": "execute_result"
    }
   ],
   "source": [
    "inspections_df.nlargest(10, 'count')"
   ]
  },
  {
   "cell_type": "code",
   "execution_count": 31,
   "metadata": {},
   "outputs": [
    {
     "data": {
      "text/html": [
       "<div>\n",
       "<style scoped>\n",
       "    .dataframe tbody tr th:only-of-type {\n",
       "        vertical-align: middle;\n",
       "    }\n",
       "\n",
       "    .dataframe tbody tr th {\n",
       "        vertical-align: top;\n",
       "    }\n",
       "\n",
       "    .dataframe thead th {\n",
       "        text-align: right;\n",
       "    }\n",
       "</style>\n",
       "<table border=\"1\" class=\"dataframe\">\n",
       "  <thead>\n",
       "    <tr style=\"text-align: right;\">\n",
       "      <th></th>\n",
       "      <th>inspection_type</th>\n",
       "      <th>count</th>\n",
       "      <th>prevalence</th>\n",
       "    </tr>\n",
       "  </thead>\n",
       "  <tbody>\n",
       "    <tr>\n",
       "      <td>41</td>\n",
       "      <td>OWNER SUSPENDED OPERATION/LICENSE</td>\n",
       "      <td>1</td>\n",
       "      <td>0.000005</td>\n",
       "    </tr>\n",
       "    <tr>\n",
       "      <td>42</td>\n",
       "      <td>Summer Feeding</td>\n",
       "      <td>1</td>\n",
       "      <td>0.000005</td>\n",
       "    </tr>\n",
       "    <tr>\n",
       "      <td>43</td>\n",
       "      <td>KITCHEN CLOSED FOR RENOVATION</td>\n",
       "      <td>1</td>\n",
       "      <td>0.000005</td>\n",
       "    </tr>\n",
       "    <tr>\n",
       "      <td>44</td>\n",
       "      <td>LICENSE CANCELED BY OWNER</td>\n",
       "      <td>1</td>\n",
       "      <td>0.000005</td>\n",
       "    </tr>\n",
       "    <tr>\n",
       "      <td>45</td>\n",
       "      <td>DAY CARE LICENSE RENEWAL</td>\n",
       "      <td>1</td>\n",
       "      <td>0.000005</td>\n",
       "    </tr>\n",
       "    <tr>\n",
       "      <td>46</td>\n",
       "      <td>expansion</td>\n",
       "      <td>1</td>\n",
       "      <td>0.000005</td>\n",
       "    </tr>\n",
       "    <tr>\n",
       "      <td>47</td>\n",
       "      <td>Kids Cafe'</td>\n",
       "      <td>1</td>\n",
       "      <td>0.000005</td>\n",
       "    </tr>\n",
       "    <tr>\n",
       "      <td>48</td>\n",
       "      <td>LIQUOR CATERING</td>\n",
       "      <td>1</td>\n",
       "      <td>0.000005</td>\n",
       "    </tr>\n",
       "    <tr>\n",
       "      <td>49</td>\n",
       "      <td>KIDS CAFE</td>\n",
       "      <td>1</td>\n",
       "      <td>0.000005</td>\n",
       "    </tr>\n",
       "    <tr>\n",
       "      <td>50</td>\n",
       "      <td>ADDENDUM</td>\n",
       "      <td>1</td>\n",
       "      <td>0.000005</td>\n",
       "    </tr>\n",
       "  </tbody>\n",
       "</table>\n",
       "</div>"
      ],
      "text/plain": [
       "                      inspection_type  count  prevalence\n",
       "41  OWNER SUSPENDED OPERATION/LICENSE      1    0.000005\n",
       "42                     Summer Feeding      1    0.000005\n",
       "43      KITCHEN CLOSED FOR RENOVATION      1    0.000005\n",
       "44          LICENSE CANCELED BY OWNER      1    0.000005\n",
       "45           DAY CARE LICENSE RENEWAL      1    0.000005\n",
       "46                          expansion      1    0.000005\n",
       "47                         Kids Cafe'      1    0.000005\n",
       "48                    LIQUOR CATERING      1    0.000005\n",
       "49                          KIDS CAFE      1    0.000005\n",
       "50                           ADDENDUM      1    0.000005"
      ]
     },
     "execution_count": 31,
     "metadata": {},
     "output_type": "execute_result"
    }
   ],
   "source": [
    "inspections_df.nsmallest(10, 'count')"
   ]
  },
  {
   "cell_type": "code",
   "execution_count": 32,
   "metadata": {},
   "outputs": [],
   "source": [
    "results = food_inspections_df['result'].value_counts()\n",
    "results_df = pd.DataFrame({'result':results.index, 'count':results.values})\n",
    "results_df['prevalence'] = results_df['count'] / food_inspections_df.shape[0]"
   ]
  },
  {
   "cell_type": "code",
   "execution_count": 33,
   "metadata": {},
   "outputs": [
    {
     "data": {
      "text/html": [
       "<div>\n",
       "<style scoped>\n",
       "    .dataframe tbody tr th:only-of-type {\n",
       "        vertical-align: middle;\n",
       "    }\n",
       "\n",
       "    .dataframe tbody tr th {\n",
       "        vertical-align: top;\n",
       "    }\n",
       "\n",
       "    .dataframe thead th {\n",
       "        text-align: right;\n",
       "    }\n",
       "</style>\n",
       "<table border=\"1\" class=\"dataframe\">\n",
       "  <thead>\n",
       "    <tr style=\"text-align: right;\">\n",
       "      <th></th>\n",
       "      <th>result</th>\n",
       "      <th>count</th>\n",
       "      <th>prevalence</th>\n",
       "    </tr>\n",
       "  </thead>\n",
       "  <tbody>\n",
       "    <tr>\n",
       "      <td>0</td>\n",
       "      <td>Pass</td>\n",
       "      <td>105369</td>\n",
       "      <td>0.541231</td>\n",
       "    </tr>\n",
       "    <tr>\n",
       "      <td>1</td>\n",
       "      <td>Fail</td>\n",
       "      <td>37658</td>\n",
       "      <td>0.193431</td>\n",
       "    </tr>\n",
       "    <tr>\n",
       "      <td>2</td>\n",
       "      <td>Pass w/ Conditions</td>\n",
       "      <td>26795</td>\n",
       "      <td>0.137633</td>\n",
       "    </tr>\n",
       "    <tr>\n",
       "      <td>3</td>\n",
       "      <td>Out of Business</td>\n",
       "      <td>16757</td>\n",
       "      <td>0.086073</td>\n",
       "    </tr>\n",
       "    <tr>\n",
       "      <td>4</td>\n",
       "      <td>No Entry</td>\n",
       "      <td>6198</td>\n",
       "      <td>0.031836</td>\n",
       "    </tr>\n",
       "    <tr>\n",
       "      <td>5</td>\n",
       "      <td>Not Ready</td>\n",
       "      <td>1843</td>\n",
       "      <td>0.009467</td>\n",
       "    </tr>\n",
       "    <tr>\n",
       "      <td>6</td>\n",
       "      <td>Business Not Located</td>\n",
       "      <td>64</td>\n",
       "      <td>0.000329</td>\n",
       "    </tr>\n",
       "  </tbody>\n",
       "</table>\n",
       "</div>"
      ],
      "text/plain": [
       "                 result   count  prevalence\n",
       "0                  Pass  105369    0.541231\n",
       "1                  Fail   37658    0.193431\n",
       "2    Pass w/ Conditions   26795    0.137633\n",
       "3       Out of Business   16757    0.086073\n",
       "4              No Entry    6198    0.031836\n",
       "5             Not Ready    1843    0.009467\n",
       "6  Business Not Located      64    0.000329"
      ]
     },
     "execution_count": 33,
     "metadata": {},
     "output_type": "execute_result"
    }
   ],
   "source": [
    "results_df.nlargest(10, 'count')"
   ]
  },
  {
   "cell_type": "markdown",
   "metadata": {},
   "source": [
    "### Drop Violation Code for Now\n",
    "We can join back using the Inspection ID to learn about types of violations, but we don't want to use any information about the violation itself to predict if a food inspection will pass or fail."
   ]
  },
  {
   "cell_type": "code",
   "execution_count": 34,
   "metadata": {},
   "outputs": [],
   "source": [
    "food_inspections_df = food_inspections_df.drop('violation_code', 1)"
   ]
  },
  {
   "cell_type": "markdown",
   "metadata": {},
   "source": [
    "### Create Risk Group Feature\n",
    "If the feature cannot be found in the middle of the text string as a value 1-3, return -1."
   ]
  },
  {
   "cell_type": "code",
   "execution_count": 35,
   "metadata": {},
   "outputs": [],
   "source": [
    "def create_risk_groups(risk_text):\n",
    "    \n",
    "    try: \n",
    "        risk = int(risk_text.split(' ')[1])\n",
    "        return risk\n",
    "    except:\n",
    "        return -1"
   ]
  },
  {
   "cell_type": "code",
   "execution_count": 36,
   "metadata": {},
   "outputs": [],
   "source": [
    "food_inspections_df['risk'] = food_inspections_df['risk'].apply(create_risk_groups)"
   ]
  },
  {
   "cell_type": "markdown",
   "metadata": {},
   "source": [
    "### Format Result\n",
    "- Encode Pass and Pass w/ Conditions as 0\n",
    "- Encode Fail as 1\n",
    "- Encode all others as -1 and filter out"
   ]
  },
  {
   "cell_type": "code",
   "execution_count": 37,
   "metadata": {},
   "outputs": [],
   "source": [
    "def format_results(result):\n",
    "    \n",
    "    if result == 'Pass':\n",
    "        return 0\n",
    "    elif result == 'Pass w/ Conditions':\n",
    "        return 0\n",
    "    elif result == 'Fail':\n",
    "        return 1\n",
    "    else:\n",
    "        return -1"
   ]
  },
  {
   "cell_type": "code",
   "execution_count": 38,
   "metadata": {},
   "outputs": [],
   "source": [
    "food_inspections_df['result'] = food_inspections_df['result'].apply(format_results)\n",
    "food_inspections_df = food_inspections_df[food_inspections_df['result'] != -1]"
   ]
  },
  {
   "cell_type": "code",
   "execution_count": 39,
   "metadata": {},
   "outputs": [
    {
     "data": {
      "text/plain": [
       "(169822, 8)"
      ]
     },
     "execution_count": 39,
     "metadata": {},
     "output_type": "execute_result"
    }
   ],
   "source": [
    "food_inspections_df.shape"
   ]
  },
  {
   "cell_type": "markdown",
   "metadata": {},
   "source": [
    "### Filter for Categorical Features that Pass some Prevalence Threshold\n",
    "This way we only consider fairly common attributes of historical food establishments and inspections so that our analysis will generalize to new establishments and inspections."
   ]
  },
  {
   "cell_type": "code",
   "execution_count": 40,
   "metadata": {},
   "outputs": [],
   "source": [
    "categorical_features = ['facility_type', 'zip', 'inspection_type']"
   ]
  },
  {
   "cell_type": "code",
   "execution_count": 41,
   "metadata": {},
   "outputs": [],
   "source": [
    "def prev_filter(df, feature, prevalence='prevalence', prevalence_threshold=0.001):\n",
    "    \n",
    "    return df[df[prevalence] > prevalence_threshold][feature].tolist()"
   ]
  },
  {
   "cell_type": "code",
   "execution_count": 42,
   "metadata": {},
   "outputs": [],
   "source": [
    "feature_dict = dict(zip(categorical_features, [prev_filter(facilities_df, 'facility_type'),\n",
    "                                               prev_filter(zips_df, 'zip'),\n",
    "                                               prev_filter(inspections_df, 'inspection_type')]))"
   ]
  },
  {
   "cell_type": "markdown",
   "metadata": {},
   "source": [
    "### Encode Rare Features with the 'DROP' String, to be Removed Later\n",
    "Note that by mapping all rare features to the 'DROP' attribute, we avoid having to one-hot-encode all rare features and then drop them after the fact.  That would create an unnecessarily large feature matrix.  Instead we one-hot encode features passing the prevalence threshold and then drop all rare features that were tagged with the 'DROP' string."
   ]
  },
  {
   "cell_type": "code",
   "execution_count": 43,
   "metadata": {},
   "outputs": [],
   "source": [
    "for feature in categorical_features:\n",
    "    food_inspections_df[feature] = food_inspections_df[feature].apply(lambda x: \n",
    "                                                                      x if x in feature_dict[feature]\n",
    "                                                                      else 'DROP')"
   ]
  },
  {
   "cell_type": "code",
   "execution_count": 44,
   "metadata": {},
   "outputs": [],
   "source": [
    "feature_df = pd.get_dummies(food_inspections_df,\n",
    "                            prefix=['{}_'.format(feature) for feature in categorical_features],\n",
    "                            columns=categorical_features)"
   ]
  },
  {
   "cell_type": "code",
   "execution_count": 45,
   "metadata": {},
   "outputs": [],
   "source": [
    "feature_df = feature_df[[col for col in feature_df.columns if 'DROP' not in col]]"
   ]
  },
  {
   "cell_type": "code",
   "execution_count": 46,
   "metadata": {
    "scrolled": true
   },
   "outputs": [
    {
     "data": {
      "text/plain": [
       "(169822, 96)"
      ]
     },
     "execution_count": 46,
     "metadata": {},
     "output_type": "execute_result"
    }
   ],
   "source": [
    "feature_df.shape"
   ]
  },
  {
   "cell_type": "code",
   "execution_count": null,
   "metadata": {},
   "outputs": [],
   "source": []
  },
  {
   "cell_type": "markdown",
   "metadata": {},
   "source": [
    "### Drop Features with:\n",
    "- Risk level not recorded as 1, 2, or 3\n",
    "- Result not recorded as Pass, Pass w/ Conditions, or Fail\n",
    "- NA values (Some latitudes and longitudes were NA)"
   ]
  },
  {
   "cell_type": "code",
   "execution_count": 47,
   "metadata": {},
   "outputs": [],
   "source": [
    "feature_df = feature_df[feature_df['risk'] != -1]\n",
    "feature_df = feature_df[feature_df['result'] != -1]\n",
    "feature_df = feature_df.dropna()"
   ]
  },
  {
   "cell_type": "code",
   "execution_count": 48,
   "metadata": {},
   "outputs": [
    {
     "data": {
      "text/plain": [
       "(169305, 96)"
      ]
     },
     "execution_count": 48,
     "metadata": {},
     "output_type": "execute_result"
    }
   ],
   "source": [
    "feature_df.shape"
   ]
  },
  {
   "cell_type": "code",
   "execution_count": null,
   "metadata": {},
   "outputs": [],
   "source": []
  },
  {
   "cell_type": "code",
   "execution_count": null,
   "metadata": {},
   "outputs": [],
   "source": []
  },
  {
   "cell_type": "code",
   "execution_count": null,
   "metadata": {},
   "outputs": [],
   "source": []
  },
  {
   "cell_type": "markdown",
   "metadata": {},
   "source": [
    "### Split Dataset into Train and Test"
   ]
  },
  {
   "cell_type": "code",
   "execution_count": 49,
   "metadata": {},
   "outputs": [],
   "source": [
    "train_df, test_df = train_test_split(feature_df,\n",
    "                                     test_size=0.20,\n",
    "                                     shuffle=True,\n",
    "                                     random_state=SEED)"
   ]
  },
  {
   "cell_type": "code",
   "execution_count": 50,
   "metadata": {},
   "outputs": [
    {
     "data": {
      "text/plain": [
       "(135444, 96)"
      ]
     },
     "execution_count": 50,
     "metadata": {},
     "output_type": "execute_result"
    }
   ],
   "source": [
    "train_df.shape"
   ]
  },
  {
   "cell_type": "code",
   "execution_count": 51,
   "metadata": {},
   "outputs": [
    {
     "data": {
      "text/plain": [
       "(33861, 96)"
      ]
     },
     "execution_count": 51,
     "metadata": {},
     "output_type": "execute_result"
    }
   ],
   "source": [
    "test_df.shape"
   ]
  },
  {
   "cell_type": "code",
   "execution_count": 52,
   "metadata": {},
   "outputs": [],
   "source": [
    "X_train = train_df.drop(['inspection_id', 'result'], 1)\n",
    "X_test = test_df.drop(['inspection_id', 'result'], 1)\n",
    "y_train = train_df['result']\n",
    "y_test = test_df['result']"
   ]
  },
  {
   "cell_type": "code",
   "execution_count": null,
   "metadata": {},
   "outputs": [],
   "source": []
  },
  {
   "cell_type": "code",
   "execution_count": null,
   "metadata": {},
   "outputs": [],
   "source": []
  },
  {
   "cell_type": "code",
   "execution_count": null,
   "metadata": {},
   "outputs": [],
   "source": []
  },
  {
   "cell_type": "code",
   "execution_count": 53,
   "metadata": {},
   "outputs": [],
   "source": [
    "def plot_pca(X):\n",
    "    '''\n",
    "    Plots variance explained per number of principle components.\n",
    "    '''\n",
    "    \n",
    "    pca_full = PCA(n_components=min(X.shape[0], X.shape[1]))\n",
    "    pca_full.fit(X)\n",
    "\n",
    "    plt.clf()\n",
    "    plt.plot(np.cumsum(pca_full.explained_variance_ratio_))\n",
    "    plt.xlabel('Number of Components')\n",
    "    plt.ylabel('Cumulative Explained Variance')\n",
    "    plt.title('Variance Explained by Principal Components')\n",
    "    plt.show()"
   ]
  },
  {
   "cell_type": "code",
   "execution_count": 54,
   "metadata": {},
   "outputs": [],
   "source": [
    "def plot_kmeans(X, upper=20):\n",
    "    '''\n",
    "    Plots value of K Means objective function per number of clusters.\n",
    "    '''\n",
    "    \n",
    "    distorsions = []\n",
    "    for k in range(1, upper):\n",
    "        kmeans = KMeans(n_clusters=k, init='k-means++', random_state=SEED)\n",
    "        kmeans.fit(X)\n",
    "        distorsions.append(kmeans.inertia_)\n",
    "\n",
    "    plt.plot(range(1, upper), distorsions)\n",
    "    plt.title('K Means++ Elbow Curve')\n",
    "    plt.xlabel('Number of Clusters')\n",
    "    plt.ylabel('Value of Objective Function')\n",
    "    plt.show()"
   ]
  },
  {
   "cell_type": "code",
   "execution_count": 55,
   "metadata": {},
   "outputs": [],
   "source": [
    "def scatter_points(X, ax, colors, labels, dependent_vars, mark_dependent_vars):\n",
    "    '''\n",
    "    Logs datapoint positions and cluster assignments in 3D space.\n",
    "    '''\n",
    "\n",
    "    for i in range(len(X)):\n",
    "        marker = None\n",
    "        if mark_dependent_vars:\n",
    "            if dependent_vars[i] == 1:\n",
    "                marker = '+'\n",
    "            elif dependent_vars[i] == 2:\n",
    "                marker = 'o'\n",
    "            elif dependent_vars[i] == 3:\n",
    "                marker = '-'\n",
    "            else:\n",
    "                marker = None\n",
    "\n",
    "        ax.scatter(X[i][0], X[i][1], X[i][2], c=colors[labels[i]], marker=marker, s=80)"
   ]
  },
  {
   "cell_type": "code",
   "execution_count": 56,
   "metadata": {},
   "outputs": [],
   "source": [
    "def plot_clusters(X, num_clusters, dependent_vars, mark_dependent_vars):\n",
    "    '''\n",
    "    Plots datapoints and cluster assignments in 3D space.\n",
    "    '''\n",
    "\n",
    "    kmeans = KMeans(n_clusters=num_clusters, init='k-means++', random_state=SEED)\n",
    "    kmeans.fit(X)\n",
    "\n",
    "    centroids = kmeans.cluster_centers_\n",
    "    labels = kmeans.labels_\n",
    "\n",
    "    print('Centroids: \\n')\n",
    "    print(centroids)\n",
    "    print()\n",
    "\n",
    "    color_options = ['g', 'r', 'b', 'y', 'c', 'm', 'b', 'w']\n",
    "    colors = color_options[0:num_clusters]\n",
    "\n",
    "    c = Counter(labels)\n",
    "    fig = figure(figsize=(12, 12))\n",
    "    ax = fig.gca(projection='3d')\n",
    "\n",
    "    scatter_points(X, ax, colors, labels, dependent_vars, mark_dependent_vars)\n",
    "\n",
    "    for cluster in range(0, num_clusters):\n",
    "        print('Cluster {} contains {} samples'.format(cluster, c[cluster]))\n",
    "        \n",
    "    print()\n",
    "    ax.scatter(centroids[:, 0], centroids[:, 1], centroids[:, 2],\\\n",
    "               marker='x', s=100, linewidths=5, zorder=100, c=colors)\n",
    "\n",
    "    plt.title('Projected K Means++ Clusters', fontsize=20)\n",
    "    plt.show()\n",
    "    \n",
    "    return kmeans"
   ]
  },
  {
   "cell_type": "code",
   "execution_count": 57,
   "metadata": {},
   "outputs": [],
   "source": [
    "def plot_3D_clusters(plot_df, results, color_map):\n",
    "    \"\"\"\n",
    "    Given 1) a pandas dataframe of sample sky survey image points\n",
    "    and the predictions from the GMM model 2) the results\n",
    "    dataframe from the GMM model containing the cluster means,\n",
    "    and 3) a color map defining the way to color each numbered \n",
    "    cluster, generate a 3D plot of the cluster means and\n",
    "    sky survey image points in the sample, colored according\n",
    "    to how each data point was clustered.\n",
    "    \"\"\"\n",
    "    \n",
    "    fig = plt.figure(1, figsize=(8, 8))\n",
    "    ax = Axes3D(fig, rect=[0, 0, .95, 1], elev=40, azim=134)\n",
    "\n",
    "    scatter = ax.scatter(plot_df['X'], plot_df['Y'], plot_df['Z'],\n",
    "                         c=plot_df['color'],\n",
    "                         edgecolor='k',\n",
    "                         alpha=0.3)\n",
    "\n",
    "    ax.set_xlabel('X Dimension', size=16)\n",
    "    ax.set_ylabel('Y Dimension', size=16)\n",
    "    ax.set_zlabel('Z Dimension', size=16)\n",
    "    ax.set_title('GMM Clusters of Sky Survey Images', size=20)\n",
    "\n",
    "    for mean, color in zip(np.array(results['mean'].tolist()), color_map.values()):\n",
    "        ax.scatter(mean[0], mean[1], mean[2],\\\n",
    "                   marker = \"o\",\n",
    "                   s=100,\n",
    "                   linewidths=10,\n",
    "                   alpha=0.9,\n",
    "                   c=color)\n",
    "\n",
    "    patches = [mpatches.Patch(color=item[1], label='Cluster {}'.format(item[0]))\n",
    "               for item in color_map.items()]\n",
    "    ax.legend(handles=patches)\n",
    "    fig.show()"
   ]
  },
  {
   "cell_type": "code",
   "execution_count": null,
   "metadata": {},
   "outputs": [],
   "source": []
  },
  {
   "cell_type": "code",
   "execution_count": null,
   "metadata": {},
   "outputs": [],
   "source": []
  },
  {
   "cell_type": "code",
   "execution_count": null,
   "metadata": {},
   "outputs": [],
   "source": []
  },
  {
   "cell_type": "code",
   "execution_count": null,
   "metadata": {},
   "outputs": [],
   "source": []
  },
  {
   "cell_type": "markdown",
   "metadata": {},
   "source": [
    "### See if We Can Reproduce Risk clusters"
   ]
  },
  {
   "cell_type": "code",
   "execution_count": 58,
   "metadata": {},
   "outputs": [],
   "source": [
    "minmax_scaler = MinMaxScaler(feature_range=(0, 1))\n",
    "col_subset_scaler = ColumnTransformer(remainder='passthrough', # passthrough features not listed\n",
    "                                      transformers=[('mm', minmax_scaler, ['latitude', 'longitude'])])"
   ]
  },
  {
   "cell_type": "code",
   "execution_count": 59,
   "metadata": {},
   "outputs": [],
   "source": [
    "Xt = col_subset_scaler.fit_transform(X_train.drop('risk', 1))"
   ]
  },
  {
   "cell_type": "code",
   "execution_count": 60,
   "metadata": {},
   "outputs": [
    {
     "data": {
      "image/png": "[encoded data removed]",
      "text/plain": [
       "<Figure size 432x288 with 1 Axes>"
      ]
     },
     "metadata": {
      "needs_background": "light"
     },
     "output_type": "display_data"
    }
   ],
   "source": [
    "plot_pca(Xt)"
   ]
  },
  {
   "cell_type": "code",
   "execution_count": 61,
   "metadata": {},
   "outputs": [],
   "source": [
    "pca = PCA(n_components=3)\n",
    "X_PCA = pca.fit_transform(Xt)"
   ]
  },
  {
   "cell_type": "code",
   "execution_count": 62,
   "metadata": {},
   "outputs": [
    {
     "data": {
      "image/png": "[encoded data removed]",
      "text/plain": [
       "<Figure size 432x288 with 1 Axes>"
      ]
     },
     "metadata": {
      "needs_background": "light"
     },
     "output_type": "display_data"
    }
   ],
   "source": [
    "plot_kmeans(X_PCA)"
   ]
  },
  {
   "cell_type": "code",
   "execution_count": 63,
   "metadata": {},
   "outputs": [
    {
     "name": "stdout",
     "output_type": "stream",
     "text": [
      "Centroids: \n",
      "\n",
      "[[ 0.35712193  0.65788338  0.02280991]\n",
      " [ 0.3023369  -0.55404925  0.03299703]\n",
      " [-0.65737967 -0.06938306 -0.05605136]]\n",
      "\n",
      "Cluster 0 contains 43855 samples\n",
      "Cluster 1 contains 46417 samples\n",
      "Cluster 2 contains 45172 samples\n",
      "\n"
     ]
    },
    {
     "data": {
      "image/png": "[encoded data removed]",
      "text/plain": [
       "<Figure size 864x864 with 1 Axes>"
      ]
     },
     "metadata": {
      "needs_background": "light"
     },
     "output_type": "display_data"
    },
    {
     "data": {
      "text/plain": [
       "KMeans(algorithm='auto', copy_x=True, init='k-means++', max_iter=300,\n",
       "       n_clusters=3, n_init=10, n_jobs=None, precompute_distances='auto',\n",
       "       random_state=666, tol=0.0001, verbose=0)"
      ]
     },
     "execution_count": 63,
     "metadata": {},
     "output_type": "execute_result"
    }
   ],
   "source": [
    "plot_clusters(X_PCA, 3, X_train['risk'].values, mark_dependent_vars=False)"
   ]
  },
  {
   "cell_type": "markdown",
   "metadata": {},
   "source": [
    "### Build a Classifier "
   ]
  },
  {
   "cell_type": "markdown",
   "metadata": {},
   "source": [
    "### View Prevalence to Select Classification Metric of Interest"
   ]
  },
  {
   "cell_type": "code",
   "execution_count": 64,
   "metadata": {},
   "outputs": [
    {
     "data": {
      "text/plain": [
       "0.222"
      ]
     },
     "execution_count": 64,
     "metadata": {},
     "output_type": "execute_result"
    }
   ],
   "source": [
    "round(np.mean(y_train), 3)"
   ]
  },
  {
   "cell_type": "code",
   "execution_count": 65,
   "metadata": {},
   "outputs": [],
   "source": [
    "minmax_scaler = MinMaxScaler(feature_range=(0, 1))\n",
    "col_subset_scaler = ColumnTransformer(remainder='passthrough', # passthrough features not listed\n",
    "                                      transformers=[('mm', minmax_scaler, ['risk', 'latitude', 'longitude'])])"
   ]
  },
  {
   "cell_type": "code",
   "execution_count": 66,
   "metadata": {},
   "outputs": [],
   "source": [
    "clf = LogisticRegression(penalty='l1',\n",
    "                         solver='liblinear',\n",
    "                         fit_intercept=True,\n",
    "                         max_iter=1000)"
   ]
  },
  {
   "cell_type": "code",
   "execution_count": 67,
   "metadata": {},
   "outputs": [],
   "source": [
    "pipeline = Pipeline([('scaler', col_subset_scaler),\n",
    "                     ('clf', clf)])"
   ]
  },
  {
   "cell_type": "code",
   "execution_count": 68,
   "metadata": {},
   "outputs": [],
   "source": [
    "cv = StratifiedKFold(n_splits=3,\n",
    "                     shuffle=True,\n",
    "                     random_state=SEED)"
   ]
  },
  {
   "cell_type": "code",
   "execution_count": 69,
   "metadata": {},
   "outputs": [],
   "source": [
    "param_grid = {'clf__C': [0.0001, 0.001, 0.01, 0.1, 1, 10]}"
   ]
  },
  {
   "cell_type": "code",
   "execution_count": 70,
   "metadata": {},
   "outputs": [],
   "source": [
    "gs = GridSearchCV(estimator=pipeline,\n",
    "                  cv=cv,\n",
    "                  param_grid=param_grid,\n",
    "                  scoring='average_precision',\n",
    "                  n_jobs=-2,\n",
    "                  refit=True,\n",
    "                  verbose=2)"
   ]
  },
  {
   "cell_type": "code",
   "execution_count": 71,
   "metadata": {},
   "outputs": [
    {
     "name": "stdout",
     "output_type": "stream",
     "text": [
      "Fitting 3 folds for each of 6 candidates, totalling 18 fits\n"
     ]
    },
    {
     "name": "stderr",
     "output_type": "stream",
     "text": [
      "[Parallel(n_jobs=-2)]: Using backend LokyBackend with 7 concurrent workers.\n",
      "[Parallel(n_jobs=-2)]: Done  15 out of  18 | elapsed:   24.0s remaining:    4.8s\n",
      "[Parallel(n_jobs=-2)]: Done  18 out of  18 | elapsed:   31.1s finished\n"
     ]
    },
    {
     "name": "stdout",
     "output_type": "stream",
     "text": [
      "CPU times: user 9.68 s, sys: 442 ms, total: 10.1 s\n",
      "Wall time: 40.2 s\n"
     ]
    }
   ],
   "source": [
    "%%time\n",
    "gs = gs.fit(X_train, y_train)"
   ]
  },
  {
   "cell_type": "code",
   "execution_count": 72,
   "metadata": {},
   "outputs": [
    {
     "name": "stdout",
     "output_type": "stream",
     "text": [
      "Best score: 0.37506\n",
      "Best parameters: {'clf__C': 1}\n"
     ]
    }
   ],
   "source": [
    "scores = gs.cv_results_['mean_test_score']\n",
    "best_score = round(gs.best_score_, 5)\n",
    "best_params = gs.best_params_\n",
    "best_clf = gs.best_estimator_\n",
    "print(\"Best score: {}\".format(best_score))\n",
    "print(\"Best parameters: {}\".format(best_params))"
   ]
  },
  {
   "cell_type": "code",
   "execution_count": null,
   "metadata": {},
   "outputs": [],
   "source": []
  },
  {
   "cell_type": "code",
   "execution_count": null,
   "metadata": {},
   "outputs": [],
   "source": []
  },
  {
   "cell_type": "markdown",
   "metadata": {},
   "source": [
    "### Evaluate Classifier on Test Set"
   ]
  },
  {
   "cell_type": "code",
   "execution_count": 73,
   "metadata": {},
   "outputs": [],
   "source": [
    "y_prob = best_clf.predict_proba(X_test)[:, 1]"
   ]
  },
  {
   "cell_type": "code",
   "execution_count": 74,
   "metadata": {},
   "outputs": [],
   "source": [
    "def plot_hist(labels, scores, bins=30):\n",
    "    \"\"\"\n",
    "    Plot two histograms: one of\n",
    "    the actual binary labels\n",
    "    and one of the model scores\n",
    "    \"\"\"\n",
    "    \n",
    "    plt.clf()\n",
    "    plt.figure(figsize=(10, 10))\n",
    "    \n",
    "    plt.subplot(221)\n",
    "    sns.distplot(labels, kde=False, color='orange')\n",
    "    plt.xlabel('Actual Label', fontsize=12)\n",
    "    plt.xticks([0, 1])\n",
    "    plt.subplot(222)\n",
    "    sns.distplot(scores, bins=bins, kde=False, color='orange')\n",
    "    plt.xlabel('Scores', fontsize=12)\n",
    "    plt.xticks([0, 0.25, 0.5, 0.75, 1])\n",
    "    plt.subplots_adjust(hspace=0.5)\n",
    "    plt.subplot(223)\n",
    "    sns.distplot(scores[labels == 0], bins=bins, kde=False, color='orange')\n",
    "    plt.xlabel('Actual Label = 0', fontsize=12)\n",
    "    plt.subplot(224)\n",
    "    sns.distplot(scores[labels == 1], bins=bins, kde=False, color='orange')\n",
    "    plt.xlabel('Actual Label = 1', fontsize=12)\n",
    "    plt.suptitle('Histograms of Model Scores by Actual Label', fontsize=16)\n",
    "    plt.show()"
   ]
  },
  {
   "cell_type": "code",
   "execution_count": 75,
   "metadata": {},
   "outputs": [
    {
     "data": {
      "text/plain": [
       "<Figure size 432x288 with 0 Axes>"
      ]
     },
     "metadata": {},
     "output_type": "display_data"
    },
    {
     "data": {
      "image/png": "[encoded data removed]",
      "text/plain": [
       "<Figure size 720x720 with 4 Axes>"
      ]
     },
     "metadata": {
      "needs_background": "light"
     },
     "output_type": "display_data"
    }
   ],
   "source": [
    "plot_hist(y_test, y_prob)"
   ]
  },
  {
   "cell_type": "code",
   "execution_count": 76,
   "metadata": {},
   "outputs": [],
   "source": [
    "def plot_roc(labels, scores):\n",
    "    \"\"\"\n",
    "    Plots the true positive rate vs. the false positive rate\n",
    "    \"\"\"\n",
    "\n",
    "    fpr, tpr, thresholds = roc_curve(labels, scores)\n",
    "    roc_auc = auc(fpr, tpr)\n",
    "\n",
    "    plt.clf()\n",
    "    plt.plot(fpr, tpr, color='darkgreen', lw=2,\n",
    "             label='AUC = %0.3f' % (roc_auc))\n",
    "    plt.plot([0, 1], [0, 1], color='red', lw=2, linestyle='--')\n",
    "    plt.xlim([0.0, 1.0])\n",
    "    plt.ylim([0.0, 1.05])\n",
    "    plt.xlabel('False Positive Rate', fontsize=14)\n",
    "    plt.ylabel('True Positive Rate', fontsize=14)\n",
    "    plt.suptitle('Receiver Operating Characteristic', fontsize=16)\n",
    "    plt.legend(loc=\"lower right\")\n",
    "\n",
    "    plt.show()"
   ]
  },
  {
   "cell_type": "code",
   "execution_count": 77,
   "metadata": {},
   "outputs": [
    {
     "data": {
      "image/png": "[encoded data removed]",
      "text/plain": [
       "<Figure size 432x288 with 1 Axes>"
      ]
     },
     "metadata": {
      "needs_background": "light"
     },
     "output_type": "display_data"
    }
   ],
   "source": [
    "plot_roc(y_test, y_prob)"
   ]
  },
  {
   "cell_type": "code",
   "execution_count": 78,
   "metadata": {},
   "outputs": [],
   "source": [
    "def plot_pr_by_threshold(labels, scores):\n",
    "    \"\"\"\n",
    "    Plots model precision and recall\n",
    "    by threshold, using matplotlib and seaborn\n",
    "    allowing a user to visualize model performance\n",
    "    at various thresholds\n",
    "    \"\"\"\n",
    "\n",
    "    precision, recall, thresholds = precision_recall_curve(labels, scores)\n",
    "    thresholds = np.append(thresholds, 1)\n",
    "\n",
    "    plt.clf()\n",
    "    plt.plot(thresholds, precision, color=sns.color_palette()[0])\n",
    "    plt.plot(thresholds, recall, color=sns.color_palette()[1])\n",
    "\n",
    "    leg = plt.legend(('Precision', 'Recall'), frameon=True)\n",
    "    leg.get_frame().set_edgecolor('k')\n",
    "\n",
    "    plt.xlabel('Threshold', fontsize=14)\n",
    "    plt.ylabel('Value', fontsize=14)\n",
    "    plt.suptitle('Precision and Recall by Model Threshold', fontsize=16)\n",
    "\n",
    "    plt.show()"
   ]
  },
  {
   "cell_type": "code",
   "execution_count": 79,
   "metadata": {},
   "outputs": [
    {
     "data": {
      "image/png": "[encoded data removed]",
      "text/plain": [
       "<Figure size 432x288 with 1 Axes>"
      ]
     },
     "metadata": {
      "needs_background": "light"
     },
     "output_type": "display_data"
    }
   ],
   "source": [
    "plot_pr_by_threshold(y_test, y_prob)"
   ]
  },
  {
   "cell_type": "code",
   "execution_count": 80,
   "metadata": {},
   "outputs": [],
   "source": [
    "def plot_coef_effect_size(clf, features, zero_threshold=0.01):\n",
    "    \"\"\"\n",
    "    Plots the change in the odds of the response per unit change \n",
    "    in the predictor for each feature given a logistic\n",
    "    regression model and array of features.  Uses the zero \n",
    "    threshold to only plot features with coefficient value\n",
    "    greater than the threshold.\n",
    "    \n",
    "    \"\"\"\n",
    "\n",
    "    features_and_intercept = np.concatenate((features, ['intercept']), 0)\n",
    "    coefficients = np.concatenate((clf.coef_[0], clf.intercept_), 0)\n",
    "\n",
    "    coefficients[np.abs(coefficients) < zero_threshold] = 0\n",
    "    coefficients = np.exp(coefficients)\n",
    "\n",
    "    idx1 = coefficients.argsort()\n",
    "    all_effects = coefficients[idx1]\n",
    "\n",
    "    idx2 = np.nonzero(all_effects-1.0)\n",
    "    effects = all_effects[idx2]\n",
    "    labels = features_and_intercept[idx1][idx2]\n",
    "    \n",
    "    plt.clf()\n",
    "    plt.figure(figsize=(12, 12))\n",
    "\n",
    "    plt.title('Exponentiated Logistic Regression Coefficients')\n",
    "    plt.barh(range(len(effects)), effects, color='navy', align='center')\n",
    "    plt.axvline(x=1, color='red', linestyle='--')\n",
    "    plt.yticks(range(len(effects)), labels)\n",
    "    plt.xlabel('Change in Odds of Response per Unit Change in Predictor')\n",
    "    plt.ylabel('Feature')\n",
    "\n",
    "    plt.show()"
   ]
  },
  {
   "cell_type": "code",
   "execution_count": 81,
   "metadata": {},
   "outputs": [
    {
     "data": {
      "text/plain": [
       "<Figure size 432x288 with 0 Axes>"
      ]
     },
     "metadata": {},
     "output_type": "display_data"
    },
    {
     "data": {
      "image/png": "[encoded data removed]",
      "text/plain": [
       "<Figure size 864x864 with 1 Axes>"
      ]
     },
     "metadata": {
      "needs_background": "light"
     },
     "output_type": "display_data"
    }
   ],
   "source": [
    "plot_coef_effect_size(best_clf['clf'], X_train.columns, zero_threshold=0.4)"
   ]
  },
  {
   "cell_type": "code",
   "execution_count": null,
   "metadata": {},
   "outputs": [],
   "source": []
  }
 ],
 "metadata": {
  "kernelspec": {
   "display_name": "Python 3",
   "language": "python",
   "name": "python3"
  },
  "language_info": {
   "codemirror_mode": {
    "name": "ipython",
    "version": 3
   },
   "file_extension": ".py",
   "mimetype": "text/x-python",
   "name": "python",
   "nbconvert_exporter": "python",
   "pygments_lexer": "ipython3",
   "version": "3.7.4"
  }
 },
 "nbformat": 4,
 "nbformat_minor": 2
}
