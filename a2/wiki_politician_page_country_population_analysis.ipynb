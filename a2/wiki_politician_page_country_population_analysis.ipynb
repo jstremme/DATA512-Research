{
 "cells": [
  {
   "cell_type": "code",
   "execution_count": null,
   "metadata": {},
   "outputs": [],
   "source": []
  },
  {
   "cell_type": "code",
   "execution_count": null,
   "metadata": {},
   "outputs": [],
   "source": []
  },
  {
   "cell_type": "markdown",
   "metadata": {},
   "source": [
    "- https://www.prb.org/international/indicator/population/table/\n",
    "- https://figshare.com/articles/Untitled_Item/5513449 Keyes, Os (2017): Politicians by Country from the English-language Wikipedia. figshare. Dataset. \n",
    "\n",
    "\"This project contains data on most English-language Wikipedia articles within the category \"Category:Politicians by nationality\" and subcategories, along with the code used to generate that data. Both are released under the CC-BY-SA 4.0 license.\"\n",
    "\n",
    "- ORES (\"Objective Revision Evaluation Service\"). ORES estimates the quality of an article (at a particular point in time), and assigns a series of probabilities that the article is in one of 6 quality categories. The options are, from best to worst:\n",
    "\n",
    "Use the ORES Python client available via pip.\n"
   ]
  },
  {
   "cell_type": "markdown",
   "metadata": {},
   "source": [
    "### Imports"
   ]
  },
  {
   "cell_type": "code",
   "execution_count": 1,
   "metadata": {},
   "outputs": [],
   "source": [
    "import pandas as pd\n",
    "from ores import api"
   ]
  },
  {
   "cell_type": "markdown",
   "metadata": {},
   "source": [
    "Both page_data.csv and WPDS_2018_data.csv contain some rows that you will need to filter out and/or ignore when you combine the datasets in the next step. In the case of page_data.csv, the dataset contains some page names that start with the string \"Template:\". These pages are not Wikipedia articles, and should not be included in your analysis.\n",
    "\n",
    "Similarly, WPDS_2018_data contains some rows that provide cumulative regional population counts, rather than country-level counts. These rows are distinguished by having ALL CAPS values in the 'geography' field (e.g. AFRICA, OCEANIA). These rows won't match the country values in page_data, but you will want to retain them (either in the original file, or a separate file) so that you can report coverage and quality by region in the analysis section."
   ]
  },
  {
   "cell_type": "markdown",
   "metadata": {},
   "source": [
    "# Load, Score, and Clean Wikipedia Page and Population Data"
   ]
  },
  {
   "cell_type": "markdown",
   "metadata": {},
   "source": [
    "### Read Datasets"
   ]
  },
  {
   "cell_type": "code",
   "execution_count": 2,
   "metadata": {},
   "outputs": [],
   "source": [
    "page_path = 'data/country/data/page_data.csv'\n",
    "wpds_path = 'data/WPDS_2018_data.csv'"
   ]
  },
  {
   "cell_type": "code",
   "execution_count": 3,
   "metadata": {},
   "outputs": [],
   "source": [
    "page_df = pd.read_csv(page_path)\n",
    "wpds_df = pd.read_csv(wpds_path)"
   ]
  },
  {
   "cell_type": "markdown",
   "metadata": {},
   "source": [
    "### Remove \"Template\" Articles from the Page Data"
   ]
  },
  {
   "cell_type": "code",
   "execution_count": 4,
   "metadata": {},
   "outputs": [],
   "source": [
    "page_df = page_df[~page_df['page'].str.contains('Template')]"
   ]
  },
  {
   "cell_type": "markdown",
   "metadata": {},
   "source": [
    "### Split out Regions and Countries"
   ]
  },
  {
   "cell_type": "code",
   "execution_count": 5,
   "metadata": {},
   "outputs": [],
   "source": [
    "region_df = wpds_df[wpds_df['Geography'].str.isupper()]\n",
    "country_df = wpds_df[~wpds_df['Geography'].str.isupper()]"
   ]
  },
  {
   "cell_type": "markdown",
   "metadata": {},
   "source": [
    "### Initiate ORES API Session\n",
    "The useragent string (second arg below) is used to help the ORES team track requests."
   ]
  },
  {
   "cell_type": "code",
   "execution_count": 6,
   "metadata": {},
   "outputs": [],
   "source": [
    "ores_session = api.Session(\"https://ores.wikimedia.org\", \"Class project <jmorgan@wikimedia.org>\")"
   ]
  },
  {
   "cell_type": "markdown",
   "metadata": {},
   "source": [
    "### Score Pages by  `rev_id`"
   ]
  },
  {
   "cell_type": "code",
   "execution_count": 7,
   "metadata": {},
   "outputs": [],
   "source": [
    "results = ores_session.score(\"enwiki\", [\"articlequality\"], page_df['rev_id'].tolist())"
   ]
  },
  {
   "cell_type": "markdown",
   "metadata": {},
   "source": [
    "### Extract Predictions and Catch Articles for which Predictions Cannot be Extracted"
   ]
  },
  {
   "cell_type": "code",
   "execution_count": 8,
   "metadata": {},
   "outputs": [],
   "source": [
    "predictions = []\n",
    "for score in results:\n",
    "    try:\n",
    "        predictions.append(score['articlequality']['score']['prediction'])\n",
    "    except:\n",
    "        predictions.append('None')"
   ]
  },
  {
   "cell_type": "markdown",
   "metadata": {},
   "source": [
    "### Add Predictions to Dataframe and Filter out Articles without Scores"
   ]
  },
  {
   "cell_type": "code",
   "execution_count": 9,
   "metadata": {},
   "outputs": [],
   "source": [
    "page_df['ores_score'] = predictions"
   ]
  },
  {
   "cell_type": "markdown",
   "metadata": {},
   "source": [
    "### Display Dataframe of Pages without Scores"
   ]
  },
  {
   "cell_type": "code",
   "execution_count": 10,
   "metadata": {},
   "outputs": [],
   "source": [
    "scoreless_df = page_df[page_df['ores_score'] == 'None']"
   ]
  },
  {
   "cell_type": "code",
   "execution_count": 11,
   "metadata": {},
   "outputs": [
    {
     "name": "stdout",
     "output_type": "stream",
     "text": [
      "                                          page               country     rev_id ores_score\n",
      "126              List of politicians in Poland                Poland  516633096       None\n",
      "222                                 Tingtingru               Vanuatu  550682925       None\n",
      "330                                Daud Arsala           Afghanistan  627547024       None\n",
      "539                                Bharat Saud                 Nepal  671484594       None\n",
      "643                                Robert Sych                Poland  684023803       None\n",
      "644                Marek Krzysztof Jeleniewski                Poland  684023859       None\n",
      "830                      Narayani Datt Chataut                 Nepal  698572327       None\n",
      "894                             Mohammad Amjad              Pakistan  699260156       None\n",
      "1084                         Gomez das Mariñas                 Spain  703773782       None\n",
      "1535                              Kamlesh Arya                  Fiji  706810694       None\n",
      "1980                         Khaled Aghbariyya                Israel  709508670       None\n",
      "2324                               Panu Laturi               Finland  711288191       None\n",
      "2587                           Łukasz Kowalski                Poland  712872338       None\n",
      "2588                          Blanka Olszewska                Poland  712872421       None\n",
      "2589                   Janusz Jerzy Drozdalski                Poland  712872473       None\n",
      "2590                      Piotr Michał Trzaska                Poland  712872531       None\n",
      "2591                    Anna Teresa Piórkowska                Poland  712873183       None\n",
      "2592                    Edward Ignacy Hartwich                Poland  712873308       None\n",
      "2593               Lech Andrzej Zagłoba-Zygler                Poland  712873386       None\n",
      "2599               Elżbieta Teresa Rusielewicz                Poland  712878000       None\n",
      "2600                   Adam Wojciech Fórmaniak                Poland  712878267       None\n",
      "2601                 Zbigniew Józef Sobociński                Poland  712878343       None\n",
      "2602       Bernadeta Aldona Różańska-Majchrzak                Poland  712878396       None\n",
      "2604                       Jarosław Wenderlich                Poland  712881543       None\n",
      "2605                       Ewa Joanna Starosta                Poland  712881676       None\n",
      "2606          Stanisław Grodzicki (politician)                Poland  712881741       None\n",
      "2607            Tadeusz Mirosław Kondrusiewicz                Poland  712881882       None\n",
      "2610                 Wojciech Hieronim Nowacki                Poland  712889562       None\n",
      "2611                               Jacek Rosół                Poland  712889594       None\n",
      "2612                           Tomasz Jan Rega                Poland  712889683       None\n",
      "2613                       Marek Henryk Gralik                Poland  712889781       None\n",
      "2614                      Michał Piotr Sztybel                Poland  712889809       None\n",
      "2615                    Jacek Andrzej Bukowski                Poland  712891291       None\n",
      "2616                           Kazimierz Drozd                Poland  712891354       None\n",
      "2617                Lech Stanisław Lewandowski                Poland  712891378       None\n",
      "2618                        Felicja Gwincińska                Poland  712891476       None\n",
      "2737                    Shah Seyyed Ali Kazemi                  Iran  713368646       None\n",
      "2926                           Fawzi al-Ghazzi                 Syria  714352602       None\n",
      "3239                           Armin Halitović    Bosnia-Herzegovina  715273866       None\n",
      "3335                          Gissur Petersson               Iceland  715534283       None\n",
      "4027                    Bakhtiar Mahmud Kasuri              Pakistan  717927381       None\n",
      "4398                            Friedrich Peus               Germany  719521006       None\n",
      "4415                     Talib Garingan Pawaki           Philippines  719581803       None\n",
      "4545                          Christian Raster               Germany  720054719       None\n",
      "4656               Kimball–Snow–Woolley family         United States  720356159       None\n",
      "4760              Malak Zmarak Khan Mandokhail              Pakistan  720688837       None\n",
      "5016                         Max Adolf Richter               Germany  721509220       None\n",
      "5709                           David J. Reimer                Canada  724052271       None\n",
      "6336                         Eistein Rajaonary            Madagascar  726600165       None\n",
      "6967                       Mahesh Kumar Malani              Pakistan  730950147       None\n",
      "7508                    Patrick Nwakamma Ottih              Cameroon  734957625       None\n",
      "7693                       Liam Mac an Ultaigh               Ireland  736660951       None\n",
      "7785                           Alois Buttinger               Austria  737123608       None\n",
      "8175                              Marcel Hatch                Canada  738514517       None\n",
      "8256                      Rajabboy Norkallayev            Tajikistan  738984692       None\n",
      "9688                              Bia Venâncio                Brazil  747688056       None\n",
      "9723                               Pat Bridson               Ireland  747922835       None\n",
      "10046                                 Wanmelbu               Vanuatu  749326717       None\n",
      "11034                        Diyar Khan Yaqubi              Pakistan  754739349       None\n",
      "11529                         Arthur Gregorian               Armenia  756697478       None\n",
      "12541                        Marcelo Cerqueira                Brazil  757313957       None\n",
      "13286                              Ahmad Balal              Pakistan  757961591       None\n",
      "13739                            Saleh Al Shal  United Arab Emirates  760194556       None\n",
      "13740                            Josef Siegele               Austria  760195376       None\n",
      "14359                           Elisha Shapiro         United States  763558111       None\n",
      "14494                           Lennox Farrell                Canada  764019224       None\n",
      "14674                      Obuobia Darko-Opoku                 Ghana  764911200       None\n",
      "14849                            Zeev Schwartz                Israel  765662083       None\n",
      "14973                      Giammarco Montanari                 Italy  766101638       None\n",
      "15423                     Muhammad Abdul Haque            Bangladesh  768013050       None\n",
      "15660                           Rajat Majumdar                 India  768871687       None\n",
      "16357                    Sheikh Zakaria Ansari                  Iran  771213598       None\n",
      "16455             Muhammad Yar Khan Mandokhail              Pakistan  771642775       None\n",
      "16890                         Hari Bahadur Rai                 Nepal  773355081       None\n",
      "17051                              Khaled Negm                 Egypt  774023957       None\n",
      "17135                              Phil Hobson        United Kingdom  774293013       None\n",
      "18000                              John Palino           New Zealand  777163201       None\n",
      "18684                  Jacek Maciej Wenderlich                Poland  779101752       None\n",
      "18696                     Mohamad Hamim Aliyas             Singapore  779135011       None\n",
      "19206            Chaudhry Zafar Iqbal Warraich              Pakistan  779954797       None\n",
      "19209                          Rana Assad Amin              Pakistan  779957437       None\n",
      "19874                            Batul Soltani                  Iran  782170063       None\n",
      "20445                               Rose Sales                Brazil  783382630       None\n",
      "21971                          Mariano Lazcano                 Spain  786721553       None\n",
      "22263                 Mian Fareed Abbas Kathia              Pakistan  787181453       None\n",
      "22541              Abdolmajid Pirzadeh Jahromi                  Iran  787391918       None\n",
      "22562                Abdul Latif Khalid Cheema              Pakistan  787398581       None\n",
      "23464                             Mahesh Kumar              Pakistan  788310383       None\n",
      "23897                            Vithal Chavan                 India  788722110       None\n",
      "24858                   Jaybahadur Hitan Magar                 Nepal  788844423       None\n",
      "26073                          Fernando Linera                 Spain  789080627       None\n",
      "26468               Harald Haas (Pirate Party)               Austria  789271422       None\n",
      "26579                             Zhang Yuhuan                 China  789281061       None\n",
      "26622                      Hameeda Waheeduddin              Pakistan  789285762       None\n",
      "26629                             Zheng Shekui                 China  789286413       None\n",
      "28644                            Farouk Sharif           Philippines  790028876       None\n",
      "28801        Idoia Zenarrutzabeitia Beldarrain                 Spain  790147995       None\n",
      "30095  Claybourn – Claiborne – Clayborn family         United States  791866288       None\n",
      "30432                          Marko Selakovic                Serbia  792400552       None\n",
      "30660                             Caleb Crosby         United States  792857662       None\n",
      "30706             Draft:John Johansson i Gränö                Sweden  792933603       None\n",
      "30952                     Tibor Gaal de Hatvan               Hungary  793280504       None\n",
      "31685                     Chukwuemeka Ihedioha               Nigeria  794311724       None\n",
      "32088      List of Ghana heads of state by age                 Ghana  794866848       None\n",
      "32233                Alfred Moungara Moussotsi                 Gabon  794990759       None\n",
      "32688                              Fraz Wahlah              Pakistan  795588781       None\n",
      "34161                               Dan Hilton                Canada  797311794       None\n",
      "35712                        Maria Hadjipavlou                Cyprus  798891126       None\n",
      "36136                             V. Sadasivan                 India  799263010       None\n",
      "36465                        Mohd Eekmal Ahmad              Malaysia  799540668       None\n",
      "36825                 Raja Muhammad Akbar Khan              Pakistan  799880073       None\n",
      "36895                            Rich Eychaner         United States  799933274       None\n",
      "37105                               Craig Huey         United States  800144885       None\n",
      "37431                     Donald Jeffrey Large         United States  800299837       None\n",
      "37617                            Dragan Klaric                Sweden  800471126       None\n",
      "37698                       Bashir Ahmed Sarki              Pakistan  800574730       None\n",
      "38578                               Anwara Ali        United Kingdom  801306872       None\n",
      "39097      Rashid bin Humaid Al Nuaimi (Ajman)  United Arab Emirates  801638735       None\n",
      "39267                               Ouyang Xiu                 China  801835819       None\n",
      "39596             Ali Asghar Khan (politician)              Pakistan  802148439       None\n",
      "40033                 Ananda Syahendar Perdana             Indonesia  802475516       None\n",
      "40067                        Ezatullah Mujahid           Afghanistan  802515929       None\n",
      "40379                    Maciej Filip Zegarski                Poland  802765034       None\n",
      "40526                     Bernard Binlin Dadié               Ivorian  802904214       None\n",
      "40576                                Than Htay               Myanmar  802937732       None\n",
      "40994                          Anatoliy Peshko               Ukraine  803413615       None\n",
      "41078                           Kevin Hardwick         United States  803484030       None\n",
      "41386                            David Sparrow                Canada  803784385       None\n",
      "41721          Iftikhar Ahmed (Swiss lawmaker)           Switzerland  804057093       None\n",
      "41815                       João Victor Guedes                Brazil  804118645       None\n",
      "41879                          Kampa Borgoyary                 India  804158476       None\n",
      "42256                  Lucia Lucchesi-Ghiselli                 Italy  804473605       None\n",
      "42510                                 Lib Peck        United Kingdom  804697858       None\n",
      "42605                   Dudley–Winthrop family         United States  804791599       None\n",
      "42851                       William M. Rainach         United States  804945338       None\n",
      "42864                           David J. Dwork         United States  804946658       None\n",
      "43058                     Lav Grigorije Pajkić                Serbia  805041930       None\n",
      "43304                    Richards–Young family         United States  805211553       None\n",
      "43598                                Ian Axton        United Kingdom  805420467       None\n",
      "44147      Political positions of Pat Buchanan         United States  805788048       None\n",
      "44392                    Hossein Khan Movaghar                  Iran  805936041       None\n",
      "44471                        Valeriy Panasenko               Moldova  805993160       None\n",
      "44529                  Edivaldo Holanda Júnior                Brazil  806030859       None\n",
      "44754                               Rajah Alon           Philippines  806179522       None\n",
      "44840                   Golam Mohammad Rabbani            Bangladesh  806223655       None\n",
      "45099                          Mohammed Naguib                 Egypt  806372496       None\n",
      "45628                            Rajah Gambang           Philippines  806695084       None\n",
      "45837                          Olajide Awosedo               Nigeria  806811023       None\n",
      "46416                             Dirtbag Left         United States  807161510       None\n",
      "46509                             Guy Georgias              Zimbabwe  807196681       None\n",
      "46782                   John Rose (Trotskyist)        United Kingdom  807336308       None\n",
      "46862                           Jalal Movaghar                  Iran  807367030       None\n",
      "46863                          Mohsen Movaghar                  Iran  807367166       None\n",
      "47182                           King Gutierrez           Philippines  807479587       None\n",
      "47196                          Ajay Kannoujiya                 India  807484325       None\n"
     ]
    }
   ],
   "source": [
    "print(scoreless_df.to_string())"
   ]
  },
  {
   "cell_type": "markdown",
   "metadata": {},
   "source": [
    "### Filter out Articles without Scores"
   ]
  },
  {
   "cell_type": "code",
   "execution_count": 12,
   "metadata": {},
   "outputs": [],
   "source": [
    "page_df = page_df[~(page_df['ores_score'] == 'None')]"
   ]
  },
  {
   "cell_type": "markdown",
   "metadata": {},
   "source": [
    "### Merge Wikipedia Page and Country Population Data"
   ]
  },
  {
   "cell_type": "code",
   "execution_count": 13,
   "metadata": {},
   "outputs": [],
   "source": [
    "wp_country_df = pd.merge(page_df, country_df,  how='inner', left_on='country', right_on='Geography')\\\n",
    "                  .drop(['Geography'], 1)"
   ]
  },
  {
   "cell_type": "markdown",
   "metadata": {},
   "source": [
    "### Collect and Save Wikipedia Page Records that do Not Match Population Data"
   ]
  },
  {
   "cell_type": "code",
   "execution_count": 14,
   "metadata": {},
   "outputs": [],
   "source": [
    "left_df = pd.merge(page_df, country_df,  how='left', left_on='country', right_on='Geography', indicator=True)\n",
    "no_match_df = left_df[left_df['_merge'] == 'left_only']"
   ]
  },
  {
   "cell_type": "code",
   "execution_count": 15,
   "metadata": {},
   "outputs": [],
   "source": [
    "no_match_df.to_csv('data/wp_wpds_countries-no_match.csv', index=False)"
   ]
  },
  {
   "cell_type": "markdown",
   "metadata": {},
   "source": [
    "### Save Merged Records with the Following Schema\n",
    "- **Column**\n",
    "- country\n",
    "- article_name\n",
    "- revision_id\n",
    "- article_quality\n",
    "- population"
   ]
  },
  {
   "cell_type": "code",
   "execution_count": 16,
   "metadata": {},
   "outputs": [],
   "source": [
    "wp_country_df.columns = ['article_name', 'country', 'revision_id', 'article_quality', 'population']\n",
    "wp_country_df.to_csv('data/wp_wpds_politicians_by_country.csv', index=False)"
   ]
  },
  {
   "cell_type": "markdown",
   "metadata": {},
   "source": [
    "# Compute Country Level Statistics"
   ]
  },
  {
   "cell_type": "markdown",
   "metadata": {},
   "source": [
    "### Compute Number of Articles per Country"
   ]
  },
  {
   "cell_type": "code",
   "execution_count": 17,
   "metadata": {},
   "outputs": [],
   "source": [
    "wp_country_df['articles_count'] = wp_country_df.groupby('country')['country'].transform('count')"
   ]
  },
  {
   "cell_type": "markdown",
   "metadata": {},
   "source": [
    "### Compute Article Coverage by Country Population (in Articles per Million)"
   ]
  },
  {
   "cell_type": "code",
   "execution_count": 18,
   "metadata": {},
   "outputs": [],
   "source": [
    "wp_country_df['population'] = pd.to_numeric(wp_country_df['population'].str.replace(',', ''))\n",
    "wp_country_df['articles_by_pop'] = wp_country_df['articles_count'] / wp_country_df['population']"
   ]
  },
  {
   "cell_type": "markdown",
   "metadata": {},
   "source": [
    "### Compute Number of GA or FA-Quality Articles"
   ]
  },
  {
   "cell_type": "code",
   "execution_count": 19,
   "metadata": {},
   "outputs": [],
   "source": [
    "wp_country_df['ga_fa_flag'] = wp_country_df['article_quality'].apply(lambda x: 1 if x in ['GA', 'FA'] else 0)\n",
    "wp_country_df['ga_fa_count'] = wp_country_df.groupby(['country'])['ga_fa_flag'].transform('sum')"
   ]
  },
  {
   "cell_type": "markdown",
   "metadata": {},
   "source": [
    "### Compute Proportion of GA or FA-Quality Articles"
   ]
  },
  {
   "cell_type": "code",
   "execution_count": 20,
   "metadata": {},
   "outputs": [],
   "source": [
    "wp_country_df['ga_fa_prop'] = wp_country_df['ga_fa_count'] / wp_country_df['articles_count']"
   ]
  },
  {
   "cell_type": "markdown",
   "metadata": {},
   "source": [
    "# Compute Region Level Statistics"
   ]
  },
  {
   "cell_type": "markdown",
   "metadata": {},
   "source": [
    "### Add Region Grouping\n",
    "The Geography column contains both regions and countries with regions always coming first in all caps, followed by the countries in that region.  As such, we can create a dictionary of countries and their regions by iterating until we get a new capitalized region, saving that region to a variable, and then mapping countries to the most recent region variable until we hit a new region and repeat the process until there are no more countries and regions to collect. **Note** that here we collect regions and countries from the wpds_df defined toward the beginning of the notebook by reading in `WPDS_2018_data.csv`."
   ]
  },
  {
   "cell_type": "code",
   "execution_count": 21,
   "metadata": {},
   "outputs": [],
   "source": [
    "region_dict = {}\n",
    "for item in wpds_df['Geography'].tolist():\n",
    "    if item.isupper():\n",
    "        current_country = item\n",
    "    else:\n",
    "        region_dict[item] = current_country"
   ]
  },
  {
   "cell_type": "code",
   "execution_count": 22,
   "metadata": {},
   "outputs": [],
   "source": [
    "wp_country_df['region'] = wp_country_df['country'].apply(lambda x: region_dict[x])"
   ]
  },
  {
   "cell_type": "markdown",
   "metadata": {},
   "source": [
    "### Compute Number of Articles per Region"
   ]
  },
  {
   "cell_type": "code",
   "execution_count": 23,
   "metadata": {},
   "outputs": [],
   "source": [
    "wp_country_df['region_articles_count'] = wp_country_df.groupby('region')['region'].transform('count')"
   ]
  },
  {
   "cell_type": "markdown",
   "metadata": {},
   "source": [
    "### Compute Article Coverage by Region Population (in Articles per Million)"
   ]
  },
  {
   "cell_type": "code",
   "execution_count": 24,
   "metadata": {},
   "outputs": [],
   "source": [
    "wp_country_df['region_population'] = wp_country_df.groupby('region')['population'].transform('sum')\n",
    "wp_country_df['region_articles_by_pop'] = wp_country_df['region_articles_count'] / wp_country_df['region_population']"
   ]
  },
  {
   "cell_type": "markdown",
   "metadata": {},
   "source": [
    "### Compute Number of GA or FA-Quality Articles by Region"
   ]
  },
  {
   "cell_type": "code",
   "execution_count": 25,
   "metadata": {},
   "outputs": [],
   "source": [
    "wp_country_df['ga_fa_flag'] = wp_country_df['article_quality'].apply(lambda x: 1 if x in ['GA', 'FA'] else 0)\n",
    "wp_country_df['region_ga_fa_count'] = wp_country_df.groupby(['region'])['ga_fa_flag'].transform('sum')"
   ]
  },
  {
   "cell_type": "markdown",
   "metadata": {},
   "source": [
    "### Compute Proportion of GA or FA-Quality Articles  by Region"
   ]
  },
  {
   "cell_type": "code",
   "execution_count": 26,
   "metadata": {},
   "outputs": [],
   "source": [
    "wp_country_df['region_ga_fa_prop'] = wp_country_df['region_ga_fa_count'] / wp_country_df['region_articles_count']"
   ]
  },
  {
   "cell_type": "markdown",
   "metadata": {},
   "source": [
    "# Display Deliverables"
   ]
  },
  {
   "cell_type": "markdown",
   "metadata": {},
   "source": [
    "### Table 1: Top 10 countries by coverage: 10 highest-ranked countries in terms of number of politician articles as a proportion of country population (in millions)"
   ]
  },
  {
   "cell_type": "code",
   "execution_count": 27,
   "metadata": {},
   "outputs": [
    {
     "data": {
      "text/html": [
       "<div>\n",
       "<style scoped>\n",
       "    .dataframe tbody tr th:only-of-type {\n",
       "        vertical-align: middle;\n",
       "    }\n",
       "\n",
       "    .dataframe tbody tr th {\n",
       "        vertical-align: top;\n",
       "    }\n",
       "\n",
       "    .dataframe thead th {\n",
       "        text-align: right;\n",
       "    }\n",
       "</style>\n",
       "<table border=\"1\" class=\"dataframe\">\n",
       "  <thead>\n",
       "    <tr style=\"text-align: right;\">\n",
       "      <th></th>\n",
       "      <th>country</th>\n",
       "      <th>articles_by_pop</th>\n",
       "    </tr>\n",
       "  </thead>\n",
       "  <tbody>\n",
       "    <tr>\n",
       "      <th>34526</th>\n",
       "      <td>Tuvalu</td>\n",
       "      <td>5400.000000</td>\n",
       "    </tr>\n",
       "    <tr>\n",
       "      <th>42833</th>\n",
       "      <td>Nauru</td>\n",
       "      <td>5200.000000</td>\n",
       "    </tr>\n",
       "    <tr>\n",
       "      <th>17694</th>\n",
       "      <td>San Marino</td>\n",
       "      <td>2700.000000</td>\n",
       "    </tr>\n",
       "    <tr>\n",
       "      <th>26598</th>\n",
       "      <td>Monaco</td>\n",
       "      <td>1000.000000</td>\n",
       "    </tr>\n",
       "    <tr>\n",
       "      <th>34498</th>\n",
       "      <td>Liechtenstein</td>\n",
       "      <td>700.000000</td>\n",
       "    </tr>\n",
       "    <tr>\n",
       "      <th>32777</th>\n",
       "      <td>Tonga</td>\n",
       "      <td>630.000000</td>\n",
       "    </tr>\n",
       "    <tr>\n",
       "      <th>34936</th>\n",
       "      <td>Marshall Islands</td>\n",
       "      <td>616.666667</td>\n",
       "    </tr>\n",
       "    <tr>\n",
       "      <th>27030</th>\n",
       "      <td>Iceland</td>\n",
       "      <td>502.500000</td>\n",
       "    </tr>\n",
       "    <tr>\n",
       "      <th>43880</th>\n",
       "      <td>Andorra</td>\n",
       "      <td>425.000000</td>\n",
       "    </tr>\n",
       "    <tr>\n",
       "      <th>30791</th>\n",
       "      <td>Grenada</td>\n",
       "      <td>360.000000</td>\n",
       "    </tr>\n",
       "  </tbody>\n",
       "</table>\n",
       "</div>"
      ],
      "text/plain": [
       "                country  articles_by_pop\n",
       "34526            Tuvalu      5400.000000\n",
       "42833             Nauru      5200.000000\n",
       "17694        San Marino      2700.000000\n",
       "26598            Monaco      1000.000000\n",
       "34498     Liechtenstein       700.000000\n",
       "32777             Tonga       630.000000\n",
       "34936  Marshall Islands       616.666667\n",
       "27030           Iceland       502.500000\n",
       "43880           Andorra       425.000000\n",
       "30791           Grenada       360.000000"
      ]
     },
     "execution_count": 27,
     "metadata": {},
     "output_type": "execute_result"
    }
   ],
   "source": [
    "wp_country_df[['country', 'articles_by_pop']].drop_duplicates()\\\n",
    "                                             .sort_values('articles_by_pop', ascending=False).head(10)"
   ]
  },
  {
   "cell_type": "markdown",
   "metadata": {},
   "source": [
    "### Table 2: Bottom 10 countries by coverage: 10 lowest-ranked countries in terms of number of politician articles as a proportion of country population (in millions)"
   ]
  },
  {
   "cell_type": "code",
   "execution_count": 28,
   "metadata": {},
   "outputs": [
    {
     "data": {
      "text/html": [
       "<div>\n",
       "<style scoped>\n",
       "    .dataframe tbody tr th:only-of-type {\n",
       "        vertical-align: middle;\n",
       "    }\n",
       "\n",
       "    .dataframe tbody tr th {\n",
       "        vertical-align: top;\n",
       "    }\n",
       "\n",
       "    .dataframe thead th {\n",
       "        text-align: right;\n",
       "    }\n",
       "</style>\n",
       "<table border=\"1\" class=\"dataframe\">\n",
       "  <thead>\n",
       "    <tr style=\"text-align: right;\">\n",
       "      <th></th>\n",
       "      <th>country</th>\n",
       "      <th>articles_by_pop</th>\n",
       "    </tr>\n",
       "  </thead>\n",
       "  <tbody>\n",
       "    <tr>\n",
       "      <th>3489</th>\n",
       "      <td>India</td>\n",
       "      <td>0.714650</td>\n",
       "    </tr>\n",
       "    <tr>\n",
       "      <th>24625</th>\n",
       "      <td>Indonesia</td>\n",
       "      <td>0.791855</td>\n",
       "    </tr>\n",
       "    <tr>\n",
       "      <th>9872</th>\n",
       "      <td>China</td>\n",
       "      <td>0.810733</td>\n",
       "    </tr>\n",
       "    <tr>\n",
       "      <th>42885</th>\n",
       "      <td>Uzbekistan</td>\n",
       "      <td>0.851064</td>\n",
       "    </tr>\n",
       "    <tr>\n",
       "      <th>36534</th>\n",
       "      <td>Ethiopia</td>\n",
       "      <td>0.939535</td>\n",
       "    </tr>\n",
       "    <tr>\n",
       "      <th>43761</th>\n",
       "      <td>Korea, North</td>\n",
       "      <td>1.406250</td>\n",
       "    </tr>\n",
       "    <tr>\n",
       "      <th>44418</th>\n",
       "      <td>Zambia</td>\n",
       "      <td>1.412429</td>\n",
       "    </tr>\n",
       "    <tr>\n",
       "      <th>39469</th>\n",
       "      <td>Thailand</td>\n",
       "      <td>1.691843</td>\n",
       "    </tr>\n",
       "    <tr>\n",
       "      <th>39411</th>\n",
       "      <td>Mozambique</td>\n",
       "      <td>1.901639</td>\n",
       "    </tr>\n",
       "    <tr>\n",
       "      <th>38161</th>\n",
       "      <td>Bangladesh</td>\n",
       "      <td>1.917067</td>\n",
       "    </tr>\n",
       "  </tbody>\n",
       "</table>\n",
       "</div>"
      ],
      "text/plain": [
       "            country  articles_by_pop\n",
       "3489          India         0.714650\n",
       "24625     Indonesia         0.791855\n",
       "9872          China         0.810733\n",
       "42885    Uzbekistan         0.851064\n",
       "36534      Ethiopia         0.939535\n",
       "43761  Korea, North         1.406250\n",
       "44418        Zambia         1.412429\n",
       "39469      Thailand         1.691843\n",
       "39411    Mozambique         1.901639\n",
       "38161    Bangladesh         1.917067"
      ]
     },
     "execution_count": 28,
     "metadata": {},
     "output_type": "execute_result"
    }
   ],
   "source": [
    "wp_country_df[['country', 'articles_by_pop']].drop_duplicates()\\\n",
    "                                             .sort_values('articles_by_pop', ascending=True).head(10)"
   ]
  },
  {
   "cell_type": "markdown",
   "metadata": {},
   "source": [
    "### Table 3: Top 10 countries by relative quality: 10 highest-ranked countries in terms of the relative proportion of politician articles that are of GA or FA-quality"
   ]
  },
  {
   "cell_type": "code",
   "execution_count": 29,
   "metadata": {},
   "outputs": [
    {
     "data": {
      "text/html": [
       "<div>\n",
       "<style scoped>\n",
       "    .dataframe tbody tr th:only-of-type {\n",
       "        vertical-align: middle;\n",
       "    }\n",
       "\n",
       "    .dataframe tbody tr th {\n",
       "        vertical-align: top;\n",
       "    }\n",
       "\n",
       "    .dataframe thead th {\n",
       "        text-align: right;\n",
       "    }\n",
       "</style>\n",
       "<table border=\"1\" class=\"dataframe\">\n",
       "  <thead>\n",
       "    <tr style=\"text-align: right;\">\n",
       "      <th></th>\n",
       "      <th>country</th>\n",
       "      <th>ga_fa_prop</th>\n",
       "    </tr>\n",
       "  </thead>\n",
       "  <tbody>\n",
       "    <tr>\n",
       "      <th>43761</th>\n",
       "      <td>Korea, North</td>\n",
       "      <td>0.194444</td>\n",
       "    </tr>\n",
       "    <tr>\n",
       "      <th>44072</th>\n",
       "      <td>Saudi Arabia</td>\n",
       "      <td>0.127119</td>\n",
       "    </tr>\n",
       "    <tr>\n",
       "      <th>41849</th>\n",
       "      <td>Mauritania</td>\n",
       "      <td>0.125000</td>\n",
       "    </tr>\n",
       "    <tr>\n",
       "      <th>43665</th>\n",
       "      <td>Central African Republic</td>\n",
       "      <td>0.121212</td>\n",
       "    </tr>\n",
       "    <tr>\n",
       "      <th>20455</th>\n",
       "      <td>Romania</td>\n",
       "      <td>0.113703</td>\n",
       "    </tr>\n",
       "    <tr>\n",
       "      <th>34526</th>\n",
       "      <td>Tuvalu</td>\n",
       "      <td>0.092593</td>\n",
       "    </tr>\n",
       "    <tr>\n",
       "      <th>39378</th>\n",
       "      <td>Bhutan</td>\n",
       "      <td>0.090909</td>\n",
       "    </tr>\n",
       "    <tr>\n",
       "      <th>44254</th>\n",
       "      <td>Dominica</td>\n",
       "      <td>0.083333</td>\n",
       "    </tr>\n",
       "    <tr>\n",
       "      <th>21259</th>\n",
       "      <td>Syria</td>\n",
       "      <td>0.078125</td>\n",
       "    </tr>\n",
       "    <tr>\n",
       "      <th>20364</th>\n",
       "      <td>Benin</td>\n",
       "      <td>0.076923</td>\n",
       "    </tr>\n",
       "  </tbody>\n",
       "</table>\n",
       "</div>"
      ],
      "text/plain": [
       "                        country  ga_fa_prop\n",
       "43761              Korea, North    0.194444\n",
       "44072              Saudi Arabia    0.127119\n",
       "41849                Mauritania    0.125000\n",
       "43665  Central African Republic    0.121212\n",
       "20455                   Romania    0.113703\n",
       "34526                    Tuvalu    0.092593\n",
       "39378                    Bhutan    0.090909\n",
       "44254                  Dominica    0.083333\n",
       "21259                     Syria    0.078125\n",
       "20364                     Benin    0.076923"
      ]
     },
     "execution_count": 29,
     "metadata": {},
     "output_type": "execute_result"
    }
   ],
   "source": [
    "wp_country_df[['country', 'ga_fa_prop']].drop_duplicates()\\\n",
    "                                        .sort_values('ga_fa_prop', ascending=False).head(10)"
   ]
  },
  {
   "cell_type": "markdown",
   "metadata": {},
   "source": [
    "### Table 4: Bottom 10 countries by relative quality: 10 lowest-ranked countries in terms of the relative proportion of politician articles that are of GA and FA-quality\n",
    "\n",
    "**Note:** Many countries tie for last."
   ]
  },
  {
   "cell_type": "code",
   "execution_count": 30,
   "metadata": {},
   "outputs": [
    {
     "data": {
      "text/html": [
       "<div>\n",
       "<style scoped>\n",
       "    .dataframe tbody tr th:only-of-type {\n",
       "        vertical-align: middle;\n",
       "    }\n",
       "\n",
       "    .dataframe tbody tr th {\n",
       "        vertical-align: top;\n",
       "    }\n",
       "\n",
       "    .dataframe thead th {\n",
       "        text-align: right;\n",
       "    }\n",
       "</style>\n",
       "<table border=\"1\" class=\"dataframe\">\n",
       "  <thead>\n",
       "    <tr style=\"text-align: right;\">\n",
       "      <th></th>\n",
       "      <th>country</th>\n",
       "      <th>ga_fa_prop</th>\n",
       "    </tr>\n",
       "  </thead>\n",
       "  <tbody>\n",
       "    <tr>\n",
       "      <th>44443</th>\n",
       "      <td>Seychelles</td>\n",
       "      <td>0.0</td>\n",
       "    </tr>\n",
       "    <tr>\n",
       "      <th>43141</th>\n",
       "      <td>Eritrea</td>\n",
       "      <td>0.0</td>\n",
       "    </tr>\n",
       "    <tr>\n",
       "      <th>43117</th>\n",
       "      <td>Antigua and Barbuda</td>\n",
       "      <td>0.0</td>\n",
       "    </tr>\n",
       "    <tr>\n",
       "      <th>15507</th>\n",
       "      <td>Tunisia</td>\n",
       "      <td>0.0</td>\n",
       "    </tr>\n",
       "    <tr>\n",
       "      <th>42913</th>\n",
       "      <td>Namibia</td>\n",
       "      <td>0.0</td>\n",
       "    </tr>\n",
       "    <tr>\n",
       "      <th>17694</th>\n",
       "      <td>San Marino</td>\n",
       "      <td>0.0</td>\n",
       "    </tr>\n",
       "    <tr>\n",
       "      <th>42833</th>\n",
       "      <td>Nauru</td>\n",
       "      <td>0.0</td>\n",
       "    </tr>\n",
       "    <tr>\n",
       "      <th>22449</th>\n",
       "      <td>Uganda</td>\n",
       "      <td>0.0</td>\n",
       "    </tr>\n",
       "    <tr>\n",
       "      <th>42000</th>\n",
       "      <td>Lesotho</td>\n",
       "      <td>0.0</td>\n",
       "    </tr>\n",
       "    <tr>\n",
       "      <th>41897</th>\n",
       "      <td>Cameroon</td>\n",
       "      <td>0.0</td>\n",
       "    </tr>\n",
       "  </tbody>\n",
       "</table>\n",
       "</div>"
      ],
      "text/plain": [
       "                   country  ga_fa_prop\n",
       "44443           Seychelles         0.0\n",
       "43141              Eritrea         0.0\n",
       "43117  Antigua and Barbuda         0.0\n",
       "15507              Tunisia         0.0\n",
       "42913              Namibia         0.0\n",
       "17694           San Marino         0.0\n",
       "42833                Nauru         0.0\n",
       "22449               Uganda         0.0\n",
       "42000              Lesotho         0.0\n",
       "41897             Cameroon         0.0"
      ]
     },
     "execution_count": 30,
     "metadata": {},
     "output_type": "execute_result"
    }
   ],
   "source": [
    "wp_country_df[['country', 'ga_fa_prop']].drop_duplicates()\\\n",
    "                                        .sort_values('ga_fa_prop', ascending=True).head(10)"
   ]
  },
  {
   "cell_type": "markdown",
   "metadata": {},
   "source": [
    "### Table 5: Geographic regions by coverage: Ranking of geographic regions (in descending order) in terms of the total count of politician articles from countries in each region as a proportion of total regional population (in millions)"
   ]
  },
  {
   "cell_type": "code",
   "execution_count": 31,
   "metadata": {},
   "outputs": [
    {
     "data": {
      "text/html": [
       "<div>\n",
       "<style scoped>\n",
       "    .dataframe tbody tr th:only-of-type {\n",
       "        vertical-align: middle;\n",
       "    }\n",
       "\n",
       "    .dataframe tbody tr th {\n",
       "        vertical-align: top;\n",
       "    }\n",
       "\n",
       "    .dataframe thead th {\n",
       "        text-align: right;\n",
       "    }\n",
       "</style>\n",
       "<table border=\"1\" class=\"dataframe\">\n",
       "  <thead>\n",
       "    <tr style=\"text-align: right;\">\n",
       "      <th></th>\n",
       "      <th>region</th>\n",
       "      <th>region_articles_by_pop</th>\n",
       "    </tr>\n",
       "  </thead>\n",
       "  <tbody>\n",
       "    <tr>\n",
       "      <th>23598</th>\n",
       "      <td>OCEANIA</td>\n",
       "      <td>0.072583</td>\n",
       "    </tr>\n",
       "    <tr>\n",
       "      <th>4973</th>\n",
       "      <td>EUROPE</td>\n",
       "      <td>0.028684</td>\n",
       "    </tr>\n",
       "    <tr>\n",
       "      <th>0</th>\n",
       "      <td>AFRICA</td>\n",
       "      <td>0.021919</td>\n",
       "    </tr>\n",
       "    <tr>\n",
       "      <th>5783</th>\n",
       "      <td>LATIN AMERICA AND THE CARIBBEAN</td>\n",
       "      <td>0.015731</td>\n",
       "    </tr>\n",
       "    <tr>\n",
       "      <th>310</th>\n",
       "      <td>NORTHERN AMERICA</td>\n",
       "      <td>0.004990</td>\n",
       "    </tr>\n",
       "    <tr>\n",
       "      <th>97</th>\n",
       "      <td>ASIA</td>\n",
       "      <td>0.003216</td>\n",
       "    </tr>\n",
       "  </tbody>\n",
       "</table>\n",
       "</div>"
      ],
      "text/plain": [
       "                                region  region_articles_by_pop\n",
       "23598                          OCEANIA                0.072583\n",
       "4973                            EUROPE                0.028684\n",
       "0                               AFRICA                0.021919\n",
       "5783   LATIN AMERICA AND THE CARIBBEAN                0.015731\n",
       "310                   NORTHERN AMERICA                0.004990\n",
       "97                                ASIA                0.003216"
      ]
     },
     "execution_count": 31,
     "metadata": {},
     "output_type": "execute_result"
    }
   ],
   "source": [
    "wp_country_df[['region', 'region_articles_by_pop']].drop_duplicates()\\\n",
    "                                                   .sort_values('region_articles_by_pop', ascending=False)"
   ]
  },
  {
   "cell_type": "markdown",
   "metadata": {},
   "source": [
    "### Table 6: Geographic regions by coverage: Ranking of geographic regions (in descending order) in terms of the relative proportion of politician articles from countries in each region that are of GA and FA-quality"
   ]
  },
  {
   "cell_type": "code",
   "execution_count": 32,
   "metadata": {},
   "outputs": [
    {
     "data": {
      "text/html": [
       "<div>\n",
       "<style scoped>\n",
       "    .dataframe tbody tr th:only-of-type {\n",
       "        vertical-align: middle;\n",
       "    }\n",
       "\n",
       "    .dataframe tbody tr th {\n",
       "        vertical-align: top;\n",
       "    }\n",
       "\n",
       "    .dataframe thead th {\n",
       "        text-align: right;\n",
       "    }\n",
       "</style>\n",
       "<table border=\"1\" class=\"dataframe\">\n",
       "  <thead>\n",
       "    <tr style=\"text-align: right;\">\n",
       "      <th></th>\n",
       "      <th>region</th>\n",
       "      <th>region_ga_fa_prop</th>\n",
       "    </tr>\n",
       "  </thead>\n",
       "  <tbody>\n",
       "    <tr>\n",
       "      <th>310</th>\n",
       "      <td>NORTHERN AMERICA</td>\n",
       "      <td>0.051536</td>\n",
       "    </tr>\n",
       "    <tr>\n",
       "      <th>97</th>\n",
       "      <td>ASIA</td>\n",
       "      <td>0.026884</td>\n",
       "    </tr>\n",
       "    <tr>\n",
       "      <th>23598</th>\n",
       "      <td>OCEANIA</td>\n",
       "      <td>0.021100</td>\n",
       "    </tr>\n",
       "    <tr>\n",
       "      <th>4973</th>\n",
       "      <td>EUROPE</td>\n",
       "      <td>0.020298</td>\n",
       "    </tr>\n",
       "    <tr>\n",
       "      <th>0</th>\n",
       "      <td>AFRICA</td>\n",
       "      <td>0.018246</td>\n",
       "    </tr>\n",
       "    <tr>\n",
       "      <th>5783</th>\n",
       "      <td>LATIN AMERICA AND THE CARIBBEAN</td>\n",
       "      <td>0.013349</td>\n",
       "    </tr>\n",
       "  </tbody>\n",
       "</table>\n",
       "</div>"
      ],
      "text/plain": [
       "                                region  region_ga_fa_prop\n",
       "310                   NORTHERN AMERICA           0.051536\n",
       "97                                ASIA           0.026884\n",
       "23598                          OCEANIA           0.021100\n",
       "4973                            EUROPE           0.020298\n",
       "0                               AFRICA           0.018246\n",
       "5783   LATIN AMERICA AND THE CARIBBEAN           0.013349"
      ]
     },
     "execution_count": 32,
     "metadata": {},
     "output_type": "execute_result"
    }
   ],
   "source": [
    "wp_country_df[['region', 'region_ga_fa_prop']].drop_duplicates()\\\n",
    "                                              .sort_values('region_ga_fa_prop', ascending=False)"
   ]
  },
  {
   "cell_type": "code",
   "execution_count": null,
   "metadata": {},
   "outputs": [],
   "source": []
  },
  {
   "cell_type": "code",
   "execution_count": null,
   "metadata": {},
   "outputs": [],
   "source": []
  },
  {
   "cell_type": "code",
   "execution_count": null,
   "metadata": {},
   "outputs": [],
   "source": []
  },
  {
   "cell_type": "markdown",
   "metadata": {},
   "source": [
    "Writeup: reflections and implications\n",
    "Write a few paragraphs, either in the README or at the end of the notebook, reflecting on what you have learned, what you found, what (if anything) surprised you about your findings, and/or what theories you have about why any biases might exist (if you find they exist). You can also include any questions this assignment raised for you about bias, Wikipedia, or machine learning.\n",
    "\n",
    "In addition to any reflections you want to share about the process of the assignment, please respond (briefly) to at least three of the questions below:\n",
    "\n",
    "- What biases did you expect to find in the data (before you started working with it), and why?\n",
    "- What (potential) sources of bias did you discover in the course of your data processing and analysis?\n",
    "- What might your results suggest about (English) Wikipedia as a data source?\n",
    "- What might your results suggest about the internet and global society in general?\n",
    "- Can you think of a realistic data science research situation where using these data (to train a model, perform a hypothesis-driven research, or make business decisions) might create biased or misleading results, due to the inherent gaps and limitations of the data?\n",
    "- Can you think of a realistic data science research situation where using these data (to train a model, perform a hypothesis-driven research, or make business decisions) might still be appropriate and useful, despite its inherent limitations and biases?\n",
    "- How might a researcher supplement or transform this dataset to potentially correct for the limitations/biases you observed?\n",
    "\n",
    "This section doesn't need to be particularly long or thorough, but we'll expect you to write at least a couple paragraphs."
   ]
  },
  {
   "cell_type": "code",
   "execution_count": null,
   "metadata": {},
   "outputs": [],
   "source": []
  },
  {
   "cell_type": "code",
   "execution_count": null,
   "metadata": {},
   "outputs": [],
   "source": []
  },
  {
   "cell_type": "markdown",
   "metadata": {},
   "source": [
    "Required deliverables\n",
    "\n",
    "A directory in your GitHub repository called data-512-a2 that contains at minimum the following files:\n",
    "\n",
    "- your two source data files and a description of each\n",
    "- 1 final data file in CSV format that contains all articles you analyzed, the corresponding country and population, and their predicted quality score.\n",
    "- 1 Jupyter notebook named hcds-a2-bias that contains all code as well as information necessary to understand each programming step, as well your findings (six tables) and your writeup (if you have not included it in the README).\n",
    "- 1 README file in .txt or .md format that contains information to reproduce the analysis, including data descriptions, attributions and provenance information, and descriptions of all relevant resources and documentation (inside and outside the repo) and hyperlinks to those resources, and your writeup (if you have not included it in the notebook). A prototype framework is included in the sample repository\n",
    "- 1 LICENSE file that contains an MIT LICENSE for your code.\n",
    "- If you created any additional process or incremental files in the course of your data processing and analysis (for example, a list of articles for which you were not able to gather ORES scores), please include these in the folder as well, and briefly describe them in the README."
   ]
  },
  {
   "cell_type": "code",
   "execution_count": null,
   "metadata": {},
   "outputs": [],
   "source": []
  },
  {
   "cell_type": "code",
   "execution_count": null,
   "metadata": {},
   "outputs": [],
   "source": []
  },
  {
   "cell_type": "markdown",
   "metadata": {},
   "source": [
    "Helpful tips\n",
    "\n",
    "- Read all instructions carefully before you begin\n",
    "- Read all API documentation carefully before you begin\n",
    "- Experiment with queries in the sandbox of the technical documentation for the API to familiarize yourself with the schema and the data\n",
    "- Explore the data a bit before starting to be sure you understand how it is structured and what it contains\n",
    "- Ask questions on Slack if you're unsure about anything. If you need more help, come to office hours or schedule a time to meet with Yihan or Jonathan.\n",
    "- When documenting/describing your project, think: \"If I found this GitHub repo, and wanted to fully reproduce the analysis, what information would I want? What information would I need?\""
   ]
  },
  {
   "cell_type": "code",
   "execution_count": null,
   "metadata": {},
   "outputs": [],
   "source": []
  }
 ],
 "metadata": {
  "kernelspec": {
   "display_name": "Python 3",
   "language": "python",
   "name": "python3"
  },
  "language_info": {
   "codemirror_mode": {
    "name": "ipython",
    "version": 3
   },
   "file_extension": ".py",
   "mimetype": "text/x-python",
   "name": "python",
   "nbconvert_exporter": "python",
   "pygments_lexer": "ipython3",
   "version": "3.7.3"
  }
 },
 "nbformat": 4,
 "nbformat_minor": 2
}
